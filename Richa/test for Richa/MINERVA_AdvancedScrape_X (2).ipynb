{
 "cells": [
  {
   "cell_type": "code",
   "execution_count": 1,
   "id": "ff4fd40d",
   "metadata": {},
   "outputs": [],
   "source": [
    "from urllib.request import urlopen  \n",
    "import json \n",
    "from tqdm import tqdm\n",
    "import requests\n",
    "from lxml import html\n",
    "import time\n",
    "from selenium import webdriver\n",
    "from selenium.webdriver.common.by import By\n",
    "from selenium.webdriver.support.ui import WebDriverWait\n",
    "from selenium.webdriver.support import expected_conditions as EC\n",
    "from selenium.webdriver.common.keys import Keys\n",
    "import pandas as pd\n",
    "from collections import Counter"
   ]
  },
  {
   "cell_type": "code",
   "execution_count": 2,
   "id": "1561bb63",
   "metadata": {},
   "outputs": [
    {
     "name": "stdout",
     "output_type": "stream",
     "text": [
      "cirogomes\n",
      "MariaGFortunato\n",
      "luanamotarj\n",
      "ricardo_gomyde\n",
      "narayamoga\n",
      "LucioXavante\n",
      "RafaelWeree\n",
      "oocCiro\n",
      "JorgeEremites\n",
      "CiroNoFlow\n",
      "ElvisCezar_ofc\n",
      "ivanirdosantos\n",
      "CEAPRJ1\n",
      "leiladovolei\n",
      "pdtrjoficial\n",
      "andersonrosavaz\n",
      "Puc_SP\n",
      "ciraodocerrado\n",
      "artedaguerracnl\n",
      "PDTGYN12\n",
      "PDTGoias12\n",
      "luizcastroam\n",
      "gnatalini\n",
      "carolbrazam\n",
      "CartunistaT\n",
      "danirabelo40\n",
      "amandagondimudi\n",
      "claudiaguerramg\n",
      "brunomirandasal\n",
      "ozirismg\n",
      "gustavomendestv\n",
      "SorayaThronicke\n",
      "Egrammertipss\n",
      "sobreteucaos\n",
      "AuschwitzMuseum\n",
      "thesigmamindset\n",
      "SeekWiser_\n",
      "arquivocurioso\n",
      "BoucherNicolas\n",
      "KimKataguiri\n",
      "time\n",
      "Forbes\n",
      "NathanealGlgz\n",
      "PremioiBest\n",
      "luizapossi\n",
      "sonar\n",
      "accessmidia\n",
      "cooltechtipz\n",
      "TommiBooks\n",
      "nespola_io\n",
      "ivanvieira_5\n",
      "tainafalcao\n",
      "cnnbrasil\n",
      "SThronickeNews\n",
      "HugoGloss\n",
      "nomelouco37\n",
      "ocrentesincero\n",
      "gmail\n",
      "tapacrentee\n",
      "Naza_Sub\n",
      "5min__crafts\n",
      "EducationalFeed\n",
      "awkwardgoogle\n",
      "cdl_concerts\n",
      "visitthecapitol\n",
      "Int_IDEA\n",
      "fdavilaoficial\n",
      "spotniks\n",
      "tvcamara\n",
      "ibgecomunica\n",
      "mises\n",
      "AtlasNetwork\n",
      "rothbard_brasil\n",
      "InstLiberal\n",
      "lucasnephelin\n",
      "brasilparalelo\n",
      "EuSouLivres\n",
      "rodrigodasilva\n",
      "melruppenthal\n",
      "bdaliberdade\n",
      "boletimdaliberdade\n",
      "AndreMarinho\n",
      "manoferreira\n",
      "FNFreiheit\n",
      "LSEPublicPolicy\n",
      "lnarloch\n",
      "atenaliberdade\n",
      "alex_borges\n",
      "o_antagonista\n",
      "revistavalete\n",
      "cnnbrasil\n",
      "jovempannews\n",
      "aridelmo_br\n",
      "OdairTramontin\n",
      "edigardinizjr\n",
      "RicardoJobim30\n",
      "gabrielabilo1\n",
      "GTMacalossi\n",
      "bandrs\n",
      "gazetadopovo\n",
      "imdemocracia\n",
      "LucasdiGrassi\n",
      "ccount:PeKelmon ; @LuisKelmon\n",
      "LeoPericlesUP\n",
      "enraizados\n",
      "dorgodj\n",
      "nuvemrec\n",
      "batalhadmorreba\n",
      "rapfalando\n",
      "gmail\n",
      "niLLSfg_\n",
      "soundfoodgang\n",
      "kaseagency\n",
      "nylmc\n",
      "NicDiasMc\n",
      "NICDIAS\n",
      "anthunesarth\n",
      "bancadigital\n",
      "gmail\n",
      "_NatyDJ_\n",
      "PinkTakumii\n",
      "mlfattorelli\n",
      "leopericlezado\n",
      "JanaSa65\n",
      "JaliciaMuricyUP\n",
      "JulieteUP80\n",
      "adrinunesup\n",
      "bellanatomy\n",
      "jornalaverdade_\n",
      "LarySampaioUP\n",
      "Renatoafjr\n",
      "DellRibeiro18\n",
      "asdaylilies\n",
      "andretrig\n",
      "nathanlopes\n",
      "primeirosnegros\n",
      "copaalemdacopa\n",
      "dias_angelo\n",
      "SueliCarneiro\n",
      "SofiaManzanoPCB\n",
      "alvarobianchi\n",
      "PoliticaUnicamp\n",
      "CesarTralli\n",
      "MagaMarcela1\n",
      "BlackpostItalia\n",
      "Cartamaior\n",
      "cabe\n",
      "mcbobeirinha\n",
      "IzmirTkp\n",
      "AliciaLiraM\n",
      "AFEPSantiago\n",
      "s\n",
      "eduguim\n",
      "SorrentinoPCdoB\n",
      "pedrosolidus\n",
      "DCM_online\n",
      "dropsdejogos\n",
      "folhademocrata\n",
      "radiogeekbr\n",
      "meteoro_br\n",
      "gmail\n",
      "minc_rj\n",
      "drummond_fer\n",
      "fabianalr_\n",
      "criticschoice\n",
      "abraccine\n",
      "cinemacao\n",
      "cinemafilia\n",
      "SputnikMundo\n",
      "almayadeen_es\n",
      "Anne_Hidalgo\n",
      "lau_patrice\n",
      "Paris\n",
      "IanBrossat\n",
      "SergioChouza\n",
      "victamilho\n",
      "EvaGMadariaga\n",
      "CJC_Media\n",
      "GarciaAstor\n",
      "_PCTE_\n",
      "ferllenaf\n",
      "lazarorosa25\n",
      "istanbul_tkp\n",
      "tkpninsesi\n",
      "raddkahn\n",
      "Eymaeloficial\n",
      "reinaldoazevedo\n",
      "diegoescosteguy\n",
      "BastidorOficial\n",
      "obastidor\n",
      "LeilaneNeubarth\n",
      "radaronline\n",
      "VEJA\n",
      "robsonboninjor\n",
      "laurojardim\n",
      "cristilobo\n",
      "GloboNews\n",
      "g1\n",
      "Ricamconsult\n",
      "camilabomfim\n",
      "globonews\n",
      "gcamarotti\n",
      "AndreiaSadi\n",
      "estudioi\n",
      "cbnoficial\n",
      "renataloprete\n",
      "JornalDaGlobo\n",
      "juliaduailibi\n",
      "ExpressoEpoca\n",
      "levyfidelix\n",
      "fellyppe21\n",
      "Derci_Vieira\n",
      "edyvaldojose\n",
      "gmail\n",
      "irenesurek\n",
      "_JessRosa\n",
      "anaprloficial\n",
      "joaobicooficial\n",
      "ACSP_oficial\n",
      "facesp\n",
      "2012jlf2012\n",
      "Tiago_A_W\n",
      "Assuncaojr44\n",
      "VizExplorer\n",
      "pauloarturchris\n",
      "jrridinger\n",
      "MarketAmerica\n",
      "shopcom\n",
      "SF_Moro\n",
      "Tsihanouskaya\n",
      "FukuyamaFrancis\n",
      "StanfordCDDRL\n",
      "hcapriles\n",
      "RenanSantosMBL\n",
      "mblivre\n",
      "RobertoElleryJr\n",
      "angela_gandra\n",
      "MXvsCORRUPCION\n",
      "JoseUgazSM\n",
      "agusantonetti\n",
      "FundLibertadRos\n",
      "FundacionFIL\n",
      "CatoInstitute\n",
      "taciolorran\n",
      "MBLivre\n",
      "GrupoLyD\n",
      "JorgePontual\n",
      "DiFrancoNews\n",
      "Estadao\n",
      "JornalOGlobo\n",
      "GazetadoPovo\n",
      "davialcolumbre\n",
      "jovempanmaringa\n",
      "YasMohammedxx\n",
      "ClarityCoaltion\n",
      "dr_chicarelli\n",
      "_MiguelAngelRE\n",
      "RosaMariaPaya\n",
      "CubaDecide\n",
      "JuventudLac\n",
      "maradiaga\n",
      "freedomhouse\n",
      "bertavalle\n",
      "DionisioGTM\n",
      "FundacionLD\n",
      "RazondeEstadoTV\n",
      "curitibacontrac\n",
      "SenTedCruz\n",
      "jdoriajr\n",
      "NatuzaNery\n",
      "gugachacra\n",
      "mariana_godoy\n",
      "calca_apertada\n",
      "CeoDeSP\n",
      "Arthurvneto\n",
      "blogdayeda\n",
      "Secundaria005\n",
      "eucarvalhogui\n",
      "psdbcomdoria\n",
      "iguinho3k\n",
      "goldenpill\n",
      "GabrielaPrioli\n",
      "racionaldsp\n",
      "WanmingYang\n",
      "GugaNoblat\n",
      "brunnosarttori\n",
      "sintetica\n",
      "moura_101\n",
      "santi_falcao\n",
      "carlaopignatari\n",
      "prefvotuporanga\n",
      "assembleiasp\n",
      "GabbardoJoao\n",
      "Boscardin\n",
      "JoeBiden\n",
      "DrBiden\n",
      "POTUS\n",
      "BiaDoriaOficial\n",
      "biadoriaarte\n",
      "PedroVenceslau3\n",
      "Reinaldo45psdb\n",
      "PatriciaEllenBr\n",
      "mandetta\n",
      "jairmearrependi\n",
      "proton\n",
      "Deisy_Ventura\n",
      "campos\n",
      "freire_roberto\n",
      "brunoreisba\n",
      "DepArthurMaia\n",
      "RubinhoNunes\n",
      "IlonaSzaboC\n",
      "igarape_org\n",
      "Folha\n",
      "NOIweala\n",
      "WTO\n",
      "pahowho\n",
      "WHO\n",
      "DrTedros\n",
      "HelenClarkNZ\n",
      "UNDP\n",
      "LucicaDitiu\n",
      "JoaoEnsina\n",
      "RealBarone\n",
      "contadojass\n",
      "moniquevansreal\n",
      "gmail\n",
      "maragabrilli\n",
      "ElzaSoares\n",
      "projetar\n",
      "manhattanc\n",
      "manhattazanas\n",
      "monicabergamo\n",
      "sandraacoutinho\n",
      "Floragil2222\n",
      "BarackObama\n",
      "felipeneto\n",
      "play9\n",
      "CaboDaciolo\n",
      "NT_Vascaino\n",
      "garotadasfotos_\n",
      "panissetaline\n",
      "rodrigoreoli007\n",
      "Linsdoceara\n",
      "linssdocear\n",
      "alscbtw\n",
      "brunoalsc\n",
      "FluminenseFC\n",
      "Primitiv90\n",
      "dudasallessx\n",
      "jhenyferbierr\n",
      "vascodagama\n",
      "laisdntas\n",
      "flxlmeidx\n",
      "aniflavs\n",
      "marii_alcz\n",
      "brokemaine\n",
      "lucas_kurz\n",
      "esteves_fae\n",
      "sheilamelgare12\n",
      "leandrolopes\n",
      "Leandro54446655\n",
      "Wallace82552501\n",
      "tabenitopodcast\n",
      "luizasalves\n",
      "Metropoles\n",
      "bragransilde\n",
      "alissonbarbozas\n",
      "MundoExtra_Ord\n",
      "irlannz\n",
      "bivaroficial\n",
      "DepFederalMoses\n",
      "celmarcosrocha\n",
      "silviomendespi\n",
      "miguelcoelhope\n",
      "rosemodestoms\n",
      "GeanLoureiro\n",
      "rigoni_felipe\n",
      "UniofOxford\n",
      "LeurLomantoJr\n",
      "jrbozzella\n",
      "PauloAzi\n",
      "DepDaniloForte\n",
      "DepJuscelino\n",
      "RafaMoraesMoura\n",
      "bsb\n",
      "juliaduailibi\n",
      "BelaMegale\n",
      "JornalOGlobo\n",
      "CBNoficial\n",
      "efraimfilho\n",
      "JulianLemosopb1\n",
      "Reguffe\n",
      "RodrigoCunhaAL\n",
      "davialcolumbre\n",
      "wilsonlimaAM\n",
      "ronaldocaiado\n",
      "acmneto_\n",
      "malugaspar\n",
      "jornaloglobo\n",
      "PryFerreiraa\n",
      "drdrauzio\n",
      "Larifernanda88\n",
      "thathahcarvalho\n",
      "socorrolx\n",
      "RaquelSenne\n",
      "Bieealves\n",
      "san_mistica\n",
      "BlueBem\n",
      "nunes_pedro\n",
      "bruloiira\n",
      "saraantuness\n",
      "gustavo_schmidt\n",
      "Linnecastilhu\n",
      "soraiaex\n",
      "diego_fuck\n",
      "VanessanBessa\n",
      "alancastro80\n",
      "CarolinaRosado\n",
      "PedroWilson_\n",
      "MariliaArraes\n",
      "raissakoshiyama\n",
      "isaamarcondes\n",
      "hericavox\n",
      "danitipiti\n",
      "ApenasRei\n",
      "ferrazdudu\n",
      "Anderson_Assiz\n",
      "delicadessen\n",
      "slipky\n",
      "RooLiebel\n",
      "BrunaNigra\n",
      "ricovianna\n",
      "ChicoRocha007\n",
      "mirllaandreia\n",
      "vitor3386\n",
      "PauloHartungES\n",
      "joaovillaverde\n",
      "MinPlanejamento\n",
      "FGV_EAESP\n",
      "matthewhaybrown\n",
      "jcesarmartins\n",
      "marciacastrorj\n",
      "gabeiracombr\n",
      "AndreRCMartins\n",
      "somosumane\n",
      "IEPSoficial\n",
      "denize_izaita\n",
      "MarceloLins68\n",
      "globonews\n",
      "GobbiGustavo\n",
      "eusoulivres\n",
      "trekbrasilis\n",
      "julianarosa_\n",
      "edulyragf\n",
      "DiFrancoNews\n",
      "Estadao\n",
      "JornalOGlobo\n",
      "GazetadoPovo\n",
      "mozartramos\n",
      "JoanaCunhaO\n",
      "eduribeironovo\n",
      "partidonovo30\n",
      "aguimaraes\n",
      "IPAM_Amazonia\n",
      "Talinascimento\n",
      "Columbia\n",
      "de_usp\n",
      "Felippe_Hermes\n",
      "Blocktrendsbr\n",
      "bfunchal\n",
      "andrehees\n",
      "leosrcastro\n",
      "gabrielbcor\n",
      "FR_BSB\n",
      "poder360\n",
      "post\n",
      "DeniseCToledo8\n",
      "denisecamposdetoledo\n",
      "FlavioDino\n",
      "harari_yuval\n",
      "giovanafagund3s\n",
      "RonnyCombate\n",
      "vinicios_betiol\n",
      "donernesto101\n",
      "Marialuiza7079\n",
      "TheFigen_\n",
      "JoaoEnsina\n",
      "HumansNoContext\n",
      "humansnocontext\n",
      "LRobertoBarroso\n",
      "SorayaThronicke\n",
      "profFelipeNunes\n",
      "quaestpesquisa\n",
      "itatiaia\n",
      "institutogalo\n",
      "OGloboPolitica\n",
      "JoaoCampos\n",
      "Carloshbfavaro\n",
      "Jaderbfilho\n",
      "nisia_trindade\n",
      "rogeriobarantes\n",
      "rede_marco\n",
      "redemarco2210\n",
      "noseconexoes\n",
      "fundacaofhc\n",
      "CanalRonnyTeles\n",
      "jorgemessiasagu\n",
      "anaclaudiabpinh\n",
      "MarinaSilva\n",
      "jazzaguiar\n",
      "izavicent\n",
      "PoliticaInteiro\n",
      "TalanoaReal\n",
      "CNNBrasil\n",
      "esportescnn\n",
      "cnnpop\n",
      "cnneconomia\n",
      "nolucrocnn\n",
      "dilmabr\n",
      "lucasleffa\n",
      "MomentsofBrazi1\n",
      "pauloteixeira13\n",
      "RenanPeixoto_\n",
      "EduardoRiedel_\n",
      "AlexSchmiit\n",
      "distopi\n",
      "obsmineracao\n",
      "unb_oficial\n",
      "paraibasoueu\n",
      "INCT_ReDem\n",
      "sportrecife\n",
      "juventudeecoar\n",
      "necofachel\n",
      "anvisa_oficial\n",
      "TCUoficial\n",
      "UNDPClimate\n",
      "MeteoredBR\n",
      "correiosBR\n",
      "inmet_\n",
      "defesacivilbr\n",
      "midregional\n",
      "govbr\n",
      "MarcoMartinsSP\n",
      "UNEP_pt\n",
      "IPCC_CH\n",
      "UN\n",
      "petrogustavo\n",
      "UNFCCC\n",
      "CMNUCC\n",
      "CCNUCC\n",
      "RKIKOON\n",
      "simonstiell\n",
      "luizatrajano\n",
      "folha\n",
      "Sheyla__Lima\n",
      "LucianaTrajano\n",
      "opiniaorenato\n",
      "realwbonner\n",
      "fbbreal\n",
      "fatimabernard\n",
      "gcamarotti\n",
      "cristilobo\n",
      "GloboNews\n",
      "g1\n",
      "mariana_godoy\n",
      "TiciPinheiro\n",
      "caioblinder\n",
      "lucasmendesc\n",
      "canalglobonews\n",
      "merdadocarai\n",
      "manhattanc\n",
      "manhattazanas\n",
      "Ricamconsult\n",
      "RobertoLJustus\n",
      "meninajana\n",
      "danielafilomeno\n",
      "parceirocpf\n",
      "eventsinparis\n",
      "tatianajerome\n",
      "foimal_atendido\n",
      "Brasilagosto\n",
      "TempoDeMulher\n",
      "telmarodriguesg\n",
      "magalu\n",
      "hootsuite\n",
      "Hootsuite_Help\n",
      "Helium_H\n",
      "GeneralMourao\n",
      "AndreiaSadi\n",
      "estudioi\n",
      "globonews\n",
      "g1\n",
      "cbnoficial\n",
      "SenadoFederal\n",
      "Rconstantino\n",
      "rogeriosmarinho\n",
      "CmdoCMS\n",
      "monicalealPP\n",
      "nikolas_dm\n",
      "Heinzeoficial\n",
      "jorgeseifjunior\n",
      "Zambelli2210\n",
      "astropontes\n",
      "PazuelloGeneral\n",
      "exercito_oficial\n",
      "ComandanteNadia\n",
      "DiegoGremio1989\n",
      "LizianeBayer\n",
      "marcelosampaio\n",
      "carlosgomesdep\n",
      "ronaldocaiado\n",
      "JessicaSeferin\n",
      "JornalDaCidadeO\n",
      "LucianoHangBr\n",
      "deputadozucco\n",
      "marcospereira04\n",
      "TerezaCrisMS\n",
      "GenPeternelli\n",
      "MHPeternelli\n",
      "onyxlorenzoni\n",
      "lafayetteandrad\n",
      "joaodamoedo\n",
      "LulaOficial\n",
      "JanjaLula\n",
      "Otaku4190\n",
      "PedroVenceslau3\n",
      "she_carvalho\n",
      "MelinaFlynn\n",
      "mariosbessa\n",
      "medleyadvisors\n",
      "Control_Risks\n",
      "business\n",
      "folha\n",
      "AgenciaEstado\n",
      "felipeseligman\n",
      "fabriciogjuliao\n",
      "Poder360\n",
      "PollsterGraph\n",
      "atlas_intel\n",
      "atlaspolitico\n",
      "centralpolitcs\n",
      "lorennrodrigues\n",
      "ae_broadcast\n",
      "estadao\n",
      "unb_oficial\n",
      "fgv\n",
      "ufpr\n",
      "caioquero\n",
      "bbcbrasil\n",
      "KingsCollegeLon\n",
      "warstudies\n",
      "profFelipeNunes\n",
      "quaestpesquisa\n",
      "itatiaia\n",
      "institutogalo\n",
      "barreiragabriel\n",
      "ludtke\n",
      "Comprova\n",
      "observatorio\n",
      "atlasdanoticia\n",
      "Abraji\n",
      "abraji\n",
      "andreshalders\n",
      "Estadao\n",
      "protonmail\n",
      "othiagopinheiro\n",
      "vonderleyen\n",
      "EU_Commission\n",
      "solenu\n",
      "DomCabral\n",
      "Fabioschaffner\n",
      "UEnoBrasil\n",
      "UEnoBrasilEmb\n",
      "seutioflip\n",
      "GuilhermeBoulos\n",
      "raquellandim\n",
      "UOL\n",
      "intrinseca\n",
      "Ze_Carlos_art\n",
      "JoaoEnsina\n",
      "rodandopelavida\n",
      "edepeSP\n",
      "SelecaoFeminina\n",
      "nisia_trindade\n",
      "KriskaCarvalho\n",
      "perpetua_acre\n",
      "AlencarBraga13\n",
      "VillaMarcovilla\n",
      "biancatavolari\n",
      "FGVdireitoSP\n",
      "CEBRAP\n",
      "MecilaCentre\n",
      "quatrocincoum\n",
      "Levynho_\n",
      "ufba\n",
      "estadao\n",
      "ecbahia\n",
      "LFC\n",
      "GUNbyGUNZ\n",
      "PlayOffTheGrid\n",
      "GunzillaGames\n",
      "diegodeabreu\n",
      "gmail\n",
      "EduardoBraga_AM\n",
      "FernandoHortaOf\n",
      "IraciHassler\n",
      "muni_stgo\n",
      "uchile\n",
      "AlcaldiaxStgo\n",
      "thainarafariapt\n",
      "jorgemessiasagu\n",
      "CamilaRDLisboa\n",
      "cesarcalejon1\n",
      "CanalRonnyTeles\n",
      "renatomarques21\n",
      "tiagocoelh\n",
      "revistapiaui\n",
      "FelipeSalto\n",
      "warrenbrasil\n",
      "uol\n",
      "LucianoHuck\n",
      "BernardoMF\n",
      "JornalOGlobo\n",
      "CBNoficial\n",
      "fsantacruz_rj\n",
      "RodrigoMaia\n",
      "FHC\n",
      "Bob_Fernandes\n",
      "antonioprata01\n",
      "jpcuenca\n",
      "gmail\n",
      "nadanovonofront\n",
      "emicida\n",
      "PauloVieiraReal\n",
      "GilDoVigor\n",
      "mynd8\n",
      "melinatavares\n",
      "GuilhermeBoulos\n",
      "poderdata_\n",
      "Poder360\n",
      "PauloHartungES\n",
      "willgomes\n",
      "ufba\n",
      "inctdd\n",
      "CNPq\n",
      "folha\n",
      "canalmeio\n",
      "metropole\n",
      "GabineteBichos\n",
      "demori\n",
      "leandrodemori\n",
      "RebeccaReCap\n",
      "HarvardHBS\n",
      "simonetebetbr\n",
      "elpais_brasil\n",
      "elenalandau2\n",
      "FNAntirracista\n",
      "JoaoCampos\n",
      "rauljustelores\n",
      "BorgesJMarcelo\n",
      "DaniloGentili\n",
      "LemosCidalemos\n",
      "BitcoinFear\n",
      "FabioHolder\n",
      "angelowhosoever\n",
      "macmasi\n",
      "afterverse\n",
      "pkxd\n",
      "playkidsbr\n",
      "macmagazine\n",
      "analumasi\n",
      "capasderevistas\n",
      "GugaNoblat\n",
      "thiagocapece\n",
      "odiariosemanal\n",
      "gongadadrag\n",
      "menavisualss\n",
      "deltanmd\n",
      "partidonovo30\n",
      "tumor_piadas\n",
      "PedrinhoPamonha\n",
      "plutaozinhobr\n",
      "renato_battista\n",
      "mblivre\n",
      "martimvasques\n",
      "samanthapearson\n",
      "wsj\n",
      "alessandrazv\n",
      "OManelAlves\n",
      "Camarotti\n",
      "forbesbr\n",
      "CrBeraldo\n",
      "good_faces_bot\n",
      "asIiceofhistory\n",
      "rodrigoct\n",
      "outrosarubo\n",
      "enaldinho\n",
      "Enaldinho\n",
      "otaviano\n",
      "falasdobatima\n",
      "joannadeassis\n",
      "elonmusk\n",
      "LeoPicon\n",
      "rodrigopacheco\n",
      "UOL\n",
      "uol\n",
      "fabiolacidral\n",
      "GeorgMarques\n",
      "mvitorodrigues\n",
      "mariosbessa\n",
      "medleyadvisors\n",
      "Control_Risks\n",
      "business\n",
      "folha\n",
      "AgenciaEstado\n",
      "pedrohen\n",
      "MacMagazine\n",
      "ctardaguila\n",
      "agencialupa\n",
      "Intrinseca\n",
      "factchecknet\n",
      "ICFJ\n",
      "portalcnm\n",
      "PauloCappelli_\n",
      "metropoles\n",
      "andrebasbaum\n",
      "BrigitteSCollet\n",
      "marchezan_\n",
      "IgnacioYbanez\n",
      "eeas\n",
      "UEnoBrasil\n",
      "UEnoBrasilEmb\n",
      "mlourenzetto\n",
      "cbnoficial\n",
      "vanessalippelt\n",
      "eclavery\n",
      "anelise_g\n",
      "fuadnoman\n",
      "lbuchaul\n",
      "conectas\n",
      "tvglobo\n",
      "vanessa_grazz\n",
      "cirogomes\n",
      "denirothenburg\n",
      "secomvc\n",
      "aguedescartoon\n",
      "rodrigo_rangel\n",
      "aldorebelo\n",
      "rangel_caico\n",
      "Wesle_souza\n",
      "AraujoSaoPaulo\n",
      "BonifacioPortal\n",
      "GenLuizRamos\n",
      "m_jackson09\n",
      "XHportugues\n",
      "globaltimesnews\n",
      "UbookApp\n",
      "marciofrancasp\n",
      "RT_com\n",
      "anacarolinazeri\n",
      "GiladAtzmon\n",
      "poetacicero\n",
      "renancalheiros\n",
      "operamundi\n",
      "MSIa_br\n",
      "Poder360\n",
      "PalmeirasTour\n",
      "TheEconomist\n",
      "RuyRoodson\n",
      "XHNews\n",
      "folha\n",
      "abolapt\n",
      "expresso\n",
      "el_pais\n",
      "SiteDivergentes\n",
      "CamiloSantanaCE\n",
      "silviolual\n",
      "de_usp\n",
      "mdhcbrasil\n",
      "padilhando\n",
      "geraldoalckmin\n",
      "PTnoSenado\n",
      "xicosa\n",
      "diarioonline\n",
      "ICLnoticias\n",
      "gmail\n",
      "uol\n",
      "padremanzotti\n",
      "gabeiracombr\n",
      "gcamarotti\n",
      "AndreiaSadi\n",
      "estudioi\n",
      "globonews\n",
      "g1\n",
      "cbnoficial\n",
      "monicabergamo\n",
      "reinaldoazevedo\n",
      "patriciapillar\n",
      "felipeneto\n",
      "play9\n",
      "ptbrasil\n",
      "EvandroLeitao\n",
      "assembleiace\n",
      "leitaocris\n",
      "Haddad_Fernando\n",
      "LulaOficial\n",
      "JanjaLula\n",
      "paulocamaraofc\n",
      "joaoazevedolins\n",
      "FlavioDino\n",
      "fatimabezerra\n",
      "belivaldochagas\n",
      "RenanFilho_\n",
      "costa_rui\n",
      "wdiaspi\n",
      "Haddad_Fernando\n",
      "ParmelinG\n",
      "_RodrigoNeves_\n",
      "canalgov\n",
      "nisia_trindade\n",
      "nsitharaman\n",
      "nsitharamanoffc\n",
      "CidaMulheres\n",
      "mindasmulheres\n",
      "edweck_rj\n",
      "gestaogovbr\n",
      "ie_ufrj\n",
      "rehventura\n",
      "Selma_Lula\n",
      "viccommie\n",
      "gavi\n",
      "JMDBarroso\n",
      "EU_Commission\n",
      "Gavi\n",
      "rodrigopacheco\n",
      "CNNBrasil\n",
      "esportescnn\n",
      "cnnpop\n",
      "cnneconomia\n",
      "nolucrocnn\n",
      "agenciabrasil\n",
      "TesouroNacional\n",
      "swgobetti1\n",
      "gleicidamasceno\n",
      "RSBarreirinhas\n",
      "govbr\n",
      "ReceitaFederal\n",
      "GloboNews\n",
      "aniellefranco\n",
      "igualracial_gov\n",
      "inst_marielle\n",
      "mariellefranco\n",
      "POTUS\n",
      "FLOTUS\n",
      "costa_rui\n",
      "andrecarv_se\n",
      "osergipense\n",
      "she_carvalho\n",
      "EmediatoLuiz\n",
      "Lucianoteo2\n",
      "MonequeRosiane\n",
      "pedroprola\n",
      "OleBergum\n",
      "MantovaniCassia\n",
      "LadoEsqLadoFort\n",
      "Lena52446081\n",
      "armenio_jr\n",
      "BrennoCarnevale\n",
      "Luizatorres1\n",
      "DudaSalabert\n",
      "deputadomarcon\n",
      "opinapri\n",
      "tiagobarbosa_\n",
      "marciaandradeg\n",
      "MarllaSabino\n",
      "JotaInfo\n",
      "jota\n",
      "monica_benicio\n",
      "gmail\n",
      "aryvanazzi\n",
      "arc_maiana\n",
      "SpacesEstaçaoL13\n",
      "HannaPacheco18\n",
      "aguilarvctr\n",
      "Luiza_RibeiroG\n",
      "Rafael_RViegas\n",
      "wdiaspi\n",
      "canalgov\n",
      "secomvc\n",
      "pretozeze\n",
      "cufario\n",
      "mynd8\n",
      "silviolual\n",
      "de_usp\n",
      "mdhcbrasil\n",
      "Emiliojoaquimjr\n",
      "sefazpi\n",
      "mdsgovbr\n",
      "PriscilaFCruz\n",
      "TodosEducacao\n",
      "Le_Bartholo\n",
      "LilianRahal\n",
      "FelipeCCamarao\n",
      "aniellefranco\n",
      "igualracial_gov\n",
      "inst_marielle\n",
      "mariellefranco\n",
      "dariobarroso12\n",
      "elanesaraujo\n",
      "franzepiaui\n",
      "drfranciscopi\n",
      "EJPinheiro\n",
      "EmidioDeSouza_\n",
      "simaopedro_SP\n",
      "andrei_nunes\n",
      "ilzysousa\n",
      "Marcoslulaofici\n",
      "Aloysio_Nunes\n",
      "RobertoRocha_MA\n",
      "MariliaArraes\n",
      "Glauber_Braga\n",
      "twibbon\n",
      "lazzaripcbr\n",
      "pcbrnacional\n",
      "falamuka\n",
      "mynd8\n",
      "tvbrasil\n",
      "vssconsultoria\n",
      "LuizGon40880822\n",
      "Anitta\n",
      "OGloboPolitica\n",
      "bnewsvideos\n",
      "bnews_oficial\n",
      "bnewsbr\n",
      "ReginaF02142134\n",
      "rosanasalturas\n",
      "annesilvacana\n",
      "romulo_aldo\n",
      "gontenrlle\n",
      "CorreaGesa\n",
      "weber_bot\n",
      "nucleojor\n",
      "ICFJ\n",
      "MargotMHorowicz\n",
      "LeoPericlesUP\n",
      "TNInstitute\n",
      "povonaruabr\n",
      "PSOLadig\n",
      "richarlison97\n",
      "SpursOfficial\n",
      "winningcomunica\n",
      "botrel\n",
      "JohnnyHooker\n",
      "johnnyhooker\n",
      "gmail\n",
      "AnarcoFino\n",
      "theinterceptbr\n",
      "Dinamam\n",
      "apiboficial\n",
      "apoinme_brasil\n",
      "profiagogomes\n",
      "tarciziosilva\n",
      "Mozilla\n",
      "ufabc\n",
      "desvelar\n",
      "ErikakHilton\n",
      "wilsonwitzel\n",
      "pablomarcal\n",
      "AlineMidlej\n",
      "GloboNews\n",
      "voguebrasil\n",
      "g1\n",
      "Equinor_BR\n",
      "randolfeap\n",
      "policiafederal\n",
      "setransrj1\n",
      "bpchoque_rj\n",
      "pmerj\n",
      "JornalOGlobo\n",
      "jornaloglobo\n",
      "SEAPOFICIAL\n",
      "CedaeRJ\n",
      "HEMORIO\n",
      "SegPresenteRJ\n",
      "ImprensaPmerj\n",
      "rj_inea\n",
      "SF_Moro\n",
      "rosangelamorosp\n",
      "marmilbr\n",
      "seiop_rj\n",
      "ambienterj\n",
      "sececrj\n",
      "SEDEGER\n",
      "ISPRJ\n",
      "wilsonlimaAM\n",
      "govbr\n",
      "presidencia_BR\n",
      "camaradeputados\n",
      "JanainaDoBrasil\n",
      "Reguffe\n",
      "AdrillesRJorge\n",
      "KarenIs45623643\n",
      "WilliamAlmeid5\n",
      "CarlosA46534147\n",
      "fernandopersob\n",
      "Carolcoelhomt\n",
      "MarcusSousaDF\n",
      "ClaudioCMaciel\n",
      "AlexAlvesBrasil\n",
      "i_mega\n",
      "cnnbrasil\n",
      "mancuello\n",
      "ThaisReguffe\n",
      "adeimal\n",
      "sila03\n",
      "LimaNeveslima\n",
      "gvgraciano\n",
      "francinaldoca18\n",
      "fredybmenezes\n",
      "RubemMauro\n",
      "Adrianosc87\n",
      "rodrigueskim\n",
      "EdGaarcia\n",
      "leituxo\n",
      "danielarvieira\n",
      "casperdiogo\n",
      "fabiolagois\n",
      "radiojornalpe\n",
      "dudaoficialdf\n",
      "valrioss\n",
      "Adrianapfranco\n",
      "esfonseca\n",
      "IcaroCardamomo\n",
      "Casagrande_ES\n",
      "luizatrajano\n",
      "ContaratoSenado\n",
      "arthurpicoli\n",
      "mmestrategiadeimagem\n",
      "Basiliarodri\n",
      "CNNBrasil\n",
      "abraji\n",
      "richarlison97\n",
      "SpursOfficial\n",
      "winningcomunica\n",
      "botrel\n",
      "CNBBNacional\n",
      "SecontES\n",
      "CamiloSantanaCE\n",
      "costa_rui\n",
      "LulaOficial\n",
      "joaoazevedolins\n",
      "FlavioDino\n",
      "Reinaldo45psdb\n",
      "belivaldochagas\n",
      "helderbarbalho\n",
      "antoniodenarium\n",
      "wdiaspi\n",
      "IbaneisOficial\n",
      "RomeuZema\n",
      "RenanFilho_\n",
      "pauloteixeira13\n",
      "wilsonlimaAM\n",
      "waldezoficial\n",
      "paulocamaraofc\n",
      "Fgandini1\n",
      "MichelTemer\n",
      "wto\n",
      "OMC_fr\n",
      "OMC_es\n",
      "WTODGAZEVEDO\n",
      "WTO\n",
      "MarinhaRauppRO\n",
      "alexandrebaldy\n",
      "agehabgoias\n",
      "guilherme_afif\n",
      "PRabello\n",
      "gmail\n",
      "sebrae\n",
      "Horacio_Cartes\n",
      "JuanManSantos\n",
      "mercosur\n",
      "mercosul\n",
      "erna_solberg\n",
      "tvcultura\n",
      "jornal_cultura\n",
      "rodaviva\n",
      "jose_neumanne\n",
      "govbr\n",
      "EmmanuelMacron\n",
      "ratinhodosbt\n",
      "desdelamoncloa\n",
      "marianorajoy\n",
      "PPopular\n",
      "MagnoMalta\n",
      "GCForum\n",
      "BofA_Business\n",
      "Gen_VillasBoas\n",
      "SenadoFederal\n",
      "mariana_godoy\n",
      "mansualmeida\n",
      "ANPgovbr\n",
      "SenadorKajuru\n",
      "caiamessina\n",
      "PedroLovisi\n",
      "folha\n",
      "grupofolha\n",
      "helenamader_\n",
      "taciolorran\n",
      "anairamatsoc\n",
      "cni_br\n",
      "metropoles\n",
      "msoaresmuniz\n",
      "JornalOGlobo\n",
      "nasrafael\n",
      "guedesmarcos\n",
      "CNNBRASIL\n",
      "missferraz\n",
      "pinymontoro\n",
      "DiraPaes\n",
      "crisgullo\n",
      "stratosfera\n",
      "leandraleal\n",
      "FHC\n",
      "AluizioAssis\n",
      "ArsenioNeiva\n",
      "valerioluiz\n",
      "SF_Moro\n",
      "rosangelamorosp\n",
      "tadeuschmidt\n",
      "senadorcidgomes\n",
      "cirogomes\n",
      "Anderso75272638\n",
      "Cruzeiro\n",
      "Eli_ptg\n",
      "PimentaWe\n",
      "lindberghfarias\n",
      "gilmarmendes\n",
      "bandnewstv\n",
      "eduaffonsoespn\n",
      "vanessaruiz\n",
      "transicaodevida\n",
      "desmentindobozo\n",
      "joaquimboficial\n",
      "ClaudeMalhuret\n",
      "Indep_Senat\n",
      "senat\n",
      "OccupyDemocrats\n",
      "ae_broadcast\n",
      "Guiguiii94\n",
      "OlivierLalane\n",
      "LettresSorbonne\n",
      "laurent_vilarem\n",
      "francemusique\n",
      "stephanegrant\n",
      "HeleneHPDV\n",
      "francetele\n",
      "Francetv\n",
      "LouisLangree\n",
      "Opera_Comique\n",
      "CincySymphony\n",
      "MozartMostly\n",
      "lauremezan\n",
      "GautierCapucon\n",
      "RadioClassique\n",
      "SophieBourdais\n",
      "Telerama\n",
      "PaulineLambertF\n",
      "radioclassique\n",
      "mezzo_tv\n",
      "talenslyriques\n",
      "DM_Rubenstein\n",
      "alok\n",
      "Stanovaya\n",
      "revistaforum\n",
      "neymarjr\n",
      "fernandobarros\n",
      "revistapiaui\n",
      "infobaeamerica\n",
      "infobae\n",
      "squadhelp\n",
      "WorksInProgMag\n",
      "stripe\n",
      "MJDuzan\n",
      "alvarodias_\n",
      "clovisvc\n",
      "sandraacoutinho\n",
      "anandaapplereal\n",
      "flaviaol\n",
      "angudegrilo\n",
      "JorgePontual\n",
      "beltraomaria\n",
      "tvglobo\n",
      "vinacordeiros\n",
      "BarbaraHammes\n",
      "BandNewsFMCtba\n",
      "leandrokarnal\n",
      "ctardaguila\n",
      "agencialupa\n",
      "Intrinseca\n",
      "factchecknet\n",
      "ICFJ\n",
      "fabiomura\n",
      "luisamartins\n",
      "CNNBrasil\n",
      "valoreconomico\n",
      "estadao\n",
      "gzhdigital\n",
      "cnnbrasil\n",
      "FlavioDino\n",
      "Metropoles\n",
      "MauroPaulino\n",
      "Rodrigo_Janot\n",
      "wevertonrocha\n",
      "EduardoGomesTO\n",
      "soudaniellapb\n",
      "beatrizbulla\n",
      "eldoradoradio\n",
      "tassojereissati\n",
      "s\n",
      "gustavouribe\n",
      "Basiliarodri\n",
      "abraji\n",
      "dep_acoutinho\n",
      "fbezerracoelho\n",
      "EduardoLeite_\n",
      "eversongui\n",
      "malugaspar\n",
      "jornaloglobo\n",
      "mrrbr\n",
      "Atlas_intel\n",
      "botafogo\n",
      "CpPolitica\n",
      "correio_dopovo\n",
      "PollsterGraph\n",
      "P_droMenezes\n",
      "ATarde\n",
      "Casimiro\n",
      "CazeTVOficial\n",
      "livemode\n",
      "marcelocaumors\n",
      "RafaelBraga15\n",
      "atlas_intel\n",
      "felipecamozzato\n",
      "partidonovo30\n",
      "andrei__roman\n",
      "marciobiolchi\n",
      "sigaonegro\n",
      "NortonSoares15\n",
      "lmeneghetti15\n",
      "ClairKuhn\n",
      "edivilsonbrum\n",
      "CarlosBurigo\n",
      "Paulinhosalerno\n",
      "Alceu_Barbosa\n",
      "_federasul\n",
      "cesarcidadedias\n",
      "joao_batistajr\n",
      "revistapiaui\n",
      "pitacodoguffo\n",
      "radiobandnewsfm\n",
      "carinabernardi\n",
      "lourdesanimais\n",
      "AndreJanonesAdv\n",
      "DiegoDiasMusic\n",
      "JackRochaes\n",
      "quaqua1313\n",
      "yurydoparedao\n",
      "malafaia_d\n",
      "depPedroLucasF\n",
      "Gabzuski\n",
      "gabzuski\n",
      "MarceloUchoa_\n",
      "uniforcomunica\n",
      "uchoaadv\n",
      "danielsoranz\n",
      "brauliobessa\n",
      "JulietaRamirezP\n",
      "ferreirinharj\n",
      "MonicaWaldvogel\n",
      "mulherqueopina\n",
      "AnneScottlin\n",
      "LuizianneLinsPT\n",
      "ptbrasil\n",
      "mimassarelli\n",
      "henriquelopessp\n",
      "RafaMoraesMoura\n",
      "bsb\n",
      "gersinioneto\n",
      "SergioMassa\n",
      "CamilaRDLisboa\n",
      "GSMA1986\n",
      "bbimbi\n",
      "carusoeliana\n",
      "bob14_oficial\n",
      "jairbolsonaro\n",
      "pablomarcal\n",
      "joaodamoedo\n",
      "hoc111\n",
      "RomeuZema\n",
      "Felippe_Hermes\n",
      "Blocktrendsbr\n",
      "fdavilaoficial\n",
      "CLP_Brasil\n",
      "jovempannews\n",
      "EconomicoRadar\n",
      "VEJA\n",
      "pedrovcgil\n",
      "JornalBSM\n",
      "o_antagonista\n",
      "deltanmd\n",
      "partidonovo30\n",
      "cirogomes\n",
      "UOLNoticias\n",
      "uol\n",
      "valoreconomico\n",
      "AndreiaSadi\n",
      "estudioi\n",
      "globonews\n",
      "g1\n",
      "cbnoficial\n",
      "POTUS\n",
      "FLOTUS\n",
      "elonmusk\n",
      "SF_Moro\n",
      "rosangelamorosp\n",
      "EstadaoEconomia\n",
      "whindersson\n",
      "gugachacra\n",
      "MinAMendonca\n",
      "folha\n",
      "peterjordan100\n",
      "einerd\n",
      "jdoriajr\n",
      "celsoportiolli\n",
      "portiolli\n",
      "Domingo_Legal\n",
      "conexaopolitica\n",
      "abilio_diniz\n",
      "Alan_Rick\n",
      "majorolimpio\n",
      "davialcolumbre\n",
      "PSL_Nacional\n",
      "mtransportes\n",
      "marmilbr\n",
      "OGloboPolitica\n",
      "laurojardim\n",
      "CBNoficial\n",
      "JanainaDoBrasil\n",
      "Marceloalvaroan\n",
      "GLCampos_\n",
      "DiretoDaAmerica\n",
      "astropontes\n",
      "TerezaCrisMS\n",
      "luciano_hang\n",
      "ernestofaraujo\n",
      "ricardovelez\n",
      "escolasempartid\n",
      "GuilhermeSchelb\n",
      "leoduarte_43\n",
      "ibfk2014\n",
      "magnitudeseg\n",
      "diegoalvesgol\n",
      "Flamengo\n",
      "oceandigital\n",
      "juanj4oficial\n",
      "Mises_Brasil\n",
      "InstLiberal\n",
      "Ilisp_org\n",
      "Desesquerdizada\n",
      "_AlessandroSE\n",
      "mdbnosenado\n",
      "DuquesaDetax\n",
      "MelinaSRocha\n",
      "Jaderbfilho\n",
      "confuciomoura\n",
      "RenanFilho_\n",
      "RicardoCappelli\n",
      "juliette\n",
      "DinoDebochado\n",
      "orlandosilva\n",
      "RealBarone\n",
      "delegadkatarina\n",
      "eduardopaes\n",
      "FlavioDino\n",
      "IzoldaCelaCe\n",
      "gabeiracombr\n",
      "DuarteJr_\n",
      "marcelamrahal\n",
      "veja\n",
      "ro_russo\n",
      "radiobandnewsfm\n",
      "MarceloGodoy000\n",
      "alvarogribel\n",
      "MarceloRib_eiro\n",
      "iditomazelli\n",
      "folha\n",
      "grupofolha\n",
      "deinhamendes\n",
      "anapaulalobato_\n",
      "DneyJustino\n",
      "raphaelviicente\n",
      "raphaelvicente\n",
      "portalvermelho\n",
      "octavio_guedes\n",
      "exercitooficial\n",
      "marmilbr\n",
      "fab_oficial\n",
      "chico_dangelo\n",
      "Meinformo18\n",
      "inst_lula\n",
      "RonildoCampos18\n",
      "arte_prima\n",
      "POTUS\n",
      "FLOTUS\n",
      "miriamleitao\n",
      "MichelleObama\n",
      "JoeBiden\n",
      "DrBiden\n",
      "JackRochaes\n",
      "todandara\n",
      "EduardoMac97837\n",
      "correio\n",
      "paulobetti3\n",
      "stedile_mst\n",
      "zeliaduncan\n",
      "florestanjr\n",
      "BacurauA\n",
      "depmarrecafilho\n",
      "angelocoronel_\n",
      "BetoFaroPT\n",
      "cleitinhotmj\n",
      "anapaulalobato_\n",
      "augustabritoce\n",
      "CamiloSantanaCE\n",
      "Alan_Rick\n",
      "DamaresAlves\n",
      "efraimfilho\n",
      "MagnoMalta\n",
      "TerezaCrisMS\n",
      "margabuzetti\n",
      "acirgurgacz\n",
      "carlosfportinho\n",
      "senadorchico\n",
      "JulioVenturaCE\n",
      "imperiodgsa\n",
      "JuniorGeraldo_\n",
      "TaniaMonteiro10\n",
      "X\n",
      "osvaldolyra\n",
      "g1economia\n",
      "EstadaoEconomia\n",
      "OGlobo_Economia\n",
      "vandson_lima\n",
      "JotaInfo\n",
      "iditomazelli\n",
      "folha\n",
      "grupofolha\n",
      "astropontes\n",
      "tvsenado\n",
      "danielsbassi\n",
      "artesbastoss\n",
      "rosangelamorosp\n",
      "delegadoramagem\n",
      "FelicioRamuth\n",
      "EduardoGomesTO\n",
      "SenadorViana\n",
      "ptibrasil\n",
      "programapanico\n",
      "RoziSNews\n",
      "taoquei1\n",
      "marciadonner4\n",
      "nelsinhotrad\n",
      "JovemPanNews\n",
      "nikolas_dm\n",
      "Na_val22\n",
      "jairbolsonaro\n",
      "NASAWebb\n",
      "NASAJPL\n",
      "joseserra_\n",
      "augustosnunes\n",
      "brunobiancoleal\n",
      "plnacional_\n",
      "pl22sp\n",
      "grupob38\n",
      "BragaNetto_gen\n",
      "verified\n",
      "Premium\n",
      "augustabritoce\n",
      "bandnewsbsb\n",
      "STJnoticias\n",
      "Terra\n",
      "JornalOGlobo\n",
      "jornaloglobo\n",
      "maragabrilli\n",
      "FlavioArns\n",
      "terezanelmaal\n",
      "mauro_bfilho\n",
      "tvsenado\n",
      "leiladovolei\n",
      "elizianegama\n",
      "SenadoMulher\n",
      "paulopaim\n",
      "ONUMulheresBR\n",
      "samiabomfim\n",
      "SenadorRogerio\n",
      "anabmoser\n",
      "camaradeputados\n",
      "IMPMariadaPenha\n",
      "meupaisceara\n",
      "tre_ceara\n",
      "trecejus\n",
      "tre\n",
      "tvceara\n",
      "folhailustrada\n",
      "katiamariaON\n",
      "ErikakHilton\n",
      "BetoFaroPT\n",
      "saramaciel\n",
      "pspcorrea\n",
      "Casimiro\n",
      "CazeTVOficial\n",
      "livemode\n",
      "PCBpartidao\n",
      "ricardogalvaosp\n",
      "MarinaSilva\n",
      "rodolfoprado\n",
      "simonetebetbr\n",
      "CFOAB\n",
      "STJnoticias\n",
      "TVBrasil\n",
      "TSEjusbr\n",
      "silviolual\n",
      "de_usp\n",
      "mdhcbrasil\n",
      "reinaldoazevedo\n",
      "sensacionalista\n",
      "gmail\n",
      "gmail\n",
      "antoniotabet\n",
      "abtcagenciamento\n",
      "demori\n",
      "leandrodemori\n",
      "AndreJanonesAdv\n",
      "jose_simao\n",
      "augustodeAB\n",
      "direitasiqueira\n",
      "FabioPorchat\n",
      "canalGNT\n",
      "mariabopp\n",
      "gduvivier\n",
      "ptbahia\n",
      "carlosfportinho\n",
      "SiteResenha\n",
      "filipebarrost\n",
      "netanyahu\n",
      "PastorMalafaia\n",
      "advecoficial\n",
      "NoticiasTavares\n",
      "carlosaviana\n",
      "nayibbukele\n",
      "MinAMendonca\n",
      "EricaGorga\n",
      "Estadao\n",
      "carteiroreaca\n",
      "LeoFariaReal\n",
      "HenriqueSoldani\n",
      "misteriouspavao\n",
      "blitzRJoficial\n",
      "DepSostenes\n",
      "Rcamorim\n",
      "BomDiaBrasil\n",
      "PortinhoJose\n",
      "StephenKanitz\n",
      "o_incensuravel\n",
      "TI_InterBr\n",
      "marciombittar\n",
      "realsardenberg\n",
      "ClaydeeRibeiro1\n",
      "carlosaviana\n",
      "TrendsDoFutebol\n",
      "elonmusk\n",
      "Fekerksa_Esp\n",
      "ZMiST_Ua\n",
      "MhmdAlissa\n",
      "IFazilaBaloch\n",
      "CelioFaria\n",
      "PLMinas22\n",
      "Mondoweiss\n",
      "cgadboficial\n",
      "caetanoveloso\n",
      "PRFBrasil\n",
      "ABasdao\n",
      "Pedro_Jobim_\n",
      "UFCBrasil\n",
      "UFCFightPassBR\n",
      "olhardigital\n",
      "SkyArte\n",
      "folha_mercado\n",
      "folha_educacao\n",
      "folha_mundo\n",
      "Baleia_Rossi\n",
      "MDB_Nacional\n",
      "norges14\n",
      "yucabyte\n",
      "paulo_mazoni\n",
      "Alemaniaparati\n",
      "circleboom\n",
      "RareButHappens\n",
      "basicsknowledge\n",
      "senadorchico\n",
      "SenadorRogerio\n",
      "MarceloCastroPI\n",
      "elizianegama\n",
      "EduardoGomesTO\n",
      "jaqueswagner\n",
      "senadorcidgomes\n",
      "RodrigoCunhaAL\n",
      "jeanpaulprates\n",
      "SenStyvenson\n",
      "zenaidern\n",
      "PlinioValerio45\n",
      "ZequinhaMarinho\n",
      "FlavioArns\n",
      "Carloshbfavaro\n",
      "InterlegisOn\n",
      "carlosfportinho\n",
      "tvcamara\n",
      "senadorgiordano\n",
      "asilveiramg\n",
      "JaymeCampos251\n",
      "sen_wellington\n",
      "senadorpaulor\n",
      "renancalheiros\n",
      "nelsinhotrad\n",
      "EduardoBraga_AM\n",
      "irajasenador\n",
      "senadorcidgomes\n",
      "SenadorKajuru\n",
      "TerezaCrisMS\n",
      "soudaniellapb\n",
      "BetoFaroPT\n",
      "_AlessandroSE\n",
      "angelocoronel_\n",
      "rodrigopacheco\n",
      "anapaulalobato_\n",
      "FlavioArns\n",
      "zenaidern\n",
      "LucasBarreto_AP\n",
      "ZequinhaMarinho\n",
      "senadorchico\n",
      "JaymeSenador\n",
      "senadorgiordano\n",
      "JuniorManoDep\n",
      "RafaelFonteles_\n",
      "augustabritoce\n",
      "Assembleia_CE\n",
      "DanielaLima_\n",
      "germanopjneto\n",
      "WolneyQueirozM\n",
      "SorayaThronicke\n",
      "DolarBipolar\n",
      "gmail\n",
      "SBPCnet\n",
      "MarinaSilva\n",
      "ciro_nogueira\n",
      "exercitooficial\n",
      "BancodoBrasil\n",
      "bndes\n",
      "govbr\n",
      "ANTT_oficial\n",
      "DNIToficial\n",
      "mtransportes\n",
      "tarcisiogdf\n",
      "mjspgov\n",
      "imprensaPR\n",
      "casacivilbr\n",
      "mintrabalhobr\n",
      "RadioeTVJustica\n",
      "TSEjusbr\n",
      "CNJ_oficial\n",
      "aluisiosampaio\n",
      "SigifroiMoreno\n",
      "DepJulioCesarPI\n",
      "STJnoticias\n",
      "STF_oficial\n",
      "SaoPauloFC\n",
      "jorgeviana\n",
      "GladsonCameli\n",
      "Eunicio\n",
      "lulaoficial\n",
      "RodrigoMaia\n",
      "cleitinhotmj\n",
      "marcosmion\n",
      "FabioPorchat\n",
      "canalGNT\n",
      "mariruybarbosa\n",
      "Tatawerneck\n",
      "o_antagonista\n",
      "CarlosBolsonaro\n",
      "FlavioBolsonaro\n",
      "bren0dias\n",
      "oJegao\n",
      "RenatoTribo\n",
      "matheeusaugusto\n",
      "BolsonaroSP\n",
      "jdoriajr\n",
      "vpnews_br\n",
      "MBLivre\n",
      "KimKataguiri\n",
      "time\n",
      "Forbes\n",
      "FernandoHoliday\n",
      "ProfMateusMG\n",
      "lucas_23o2\n",
      "Maysa_Silva10\n",
      "MarcoLuque\n",
      "rafinhabastos\n",
      "DaniloGentili\n",
      "jairbolsonaro\n",
      "Silviofr\n",
      "coronelfaria\n",
      "SoniaTerra\n",
      "robervanfaria\n",
      "pefabiodemelo\n",
      "hevertonfutebol\n",
      "confuciomoura\n",
      "JornalDaGlobo\n",
      "GenteOpiniao\n",
      "RubensSabtos\n",
      "jmdbnacional15\n",
      "MarcosUchoa_\n",
      "oportalpolitica\n",
      "rede_marco\n",
      "redemarco2210\n",
      "JotaInfo\n",
      "anapaulalobato_\n",
      "isamtngr\n",
      "ApibOficial\n",
      "Renatoafjr\n",
      "DinoDebochado\n",
      "NexoJornal\n",
      "luizmarinhopt\n",
      "wdiaspi\n",
      "aniellefranco\n",
      "igualracial_gov\n",
      "inst_marielle\n",
      "mariellefranco\n",
      "ICLNoticias\n",
      "depmauricio\n",
      "RenanFilho_\n",
      "waldezoficial\n",
      "deputadocajado\n",
      "choquei\n",
      "gmail\n",
      "fatimagavioli\n",
      "NilsonKlava\n",
      "GloboNews\n",
      "slpng_giants_pt\n",
      "DamaresAlves\n",
      "opropriofaka\n",
      "RogerioCorreia_\n",
      "PeKelmon\n",
      "Bernarditv\n",
      "NiltonLobo44\n",
      "CrisBonoro\n",
      "BrunoEnglerDM\n",
      "carlosfportinho\n",
      "elisarobsondf\n",
      "PauloChuchuSBC\n",
      "oiluiz\n",
      "cldfnoticias\n",
      "DerriteSP\n",
      "RadioCamara\n",
      "ASachsida\n",
      "silviawaiapi\n",
      "CostaNetoPL\n",
      "EconomicoRadar\n",
      "VEJA\n",
      "pedrovcgil\n",
      "marcospereira04\n",
      "Sonaira_sp\n",
      "matebe\n",
      "JovemPanNews\n",
      "dramayraoficial\n",
      "cleitinhotmj\n",
      "ianaliticanews\n",
      "cabojunioamaral\n",
      "joaquimleitemma\n",
      "PATRlOTAS\n",
      "PATRl0TA\n",
      "soudaniellapb\n",
      "julianadalpiva\n",
      "iclnoticias\n",
      "clip_AmericaLat\n",
      "NaoInviabilize\n",
      "gmail\n",
      "bpideias\n",
      "uecaiu\n",
      "manhattanc\n",
      "manhattazanas\n",
      "DinoDebochado\n",
      "irajasenador\n",
      "RobertaMiranda1\n",
      "pollyannadutra_\n",
      "JamilChade\n",
      "TomCavalcante1\n",
      "tomcavalcante\n",
      "JoaoRodolfoCav2\n",
      "r_negreiros\n",
      "PhCaldas\n",
      "angelocoronel_\n",
      "Parlatino_org\n",
      "giacopposilvia\n",
      "DoreniCaramori\n",
      "gabluiz\n",
      "ReceitaFederal\n",
      "gilbertokassab\n",
      "PSDJovem\n",
      "PSDMulher55\n",
      "PSD_55\n",
      "juliette\n",
      "eduardomacedopb\n",
      "asilveiramg\n",
      "davialcolumbre\n",
      "abdi_digital\n",
      "IsraelinBrazil\n",
      "renataagostini\n",
      "JornalOGlobo\n",
      "CBNoficial\n",
      "FelipeSalto\n",
      "warrenbrasil\n",
      "estadao\n",
      "uol\n",
      "CamaraNoticias\n",
      "KennedyAlencar\n",
      "MinAMendonca\n",
      "broadpolitico\n",
      "alexandre\n",
      "LRobertoBarroso\n",
      "rogeriosmarinho\n",
      "PriscoBezerra\n",
      "Carloshbfavaro\n",
      "senadorcidgomes\n",
      "AroldeOliveira\n",
      "zenaidern\n",
      "senadorchico\n",
      "radiobandnewsfm\n",
      "elpais_brasil\n",
      "CNNBrasil\n",
      "esportescnn\n",
      "cnnpop\n",
      "cnneconomia\n",
      "nolucrocnn\n",
      "guilherme_amado\n",
      "metropoles\n",
      "cialetras\n",
      "JSKStanford\n",
      "ICIJorg\n",
      "redescordiais\n",
      "CmdoCMO\n",
      "exercitooficial\n",
      "GenLuizRamos\n",
      "Poder360\n",
      "UOLPolitica\n",
      "drhiran_\n",
      "BrasilMedicos\n",
      "Seba_Oliveira\n",
      "delegado_waldir\n",
      "coelho_rodrigo\n",
      "fefrancischini\n",
      "elidiasborges\n",
      "_sergiosouza\n",
      "OLIVALMARQUES\n",
      "OtoniDepFederal\n",
      "MajorVitorHugo\n",
      "GiovaniFeltes\n",
      "HeitorSchuch\n",
      "zemaranhaojp\n",
      "TiaEron\n",
      "Carlos_Gaguim\n",
      "MarcusAlexan13\n",
      "soudaniellapb\n",
      "JulioCesarRib\n",
      "DepEdilazioJr\n",
      "PauloBengtson\n",
      "AfonsoFlorence\n",
      "capitao_wagner\n",
      "JFMargarida\n",
      "FabioMitidieri_\n",
      "CelioStudart\n",
      "rosemodestoms\n",
      "EduardoBraga_AM\n",
      "SimoneeSimaria\n",
      "SimariaMendes\n",
      "Simone_SeS\n",
      "markeetoo\n",
      "sistemacndl\n",
      "CDLManaus\n",
      "cdlmanaus\n",
      "CDLJovemManaus\n",
      "josiel_at\n",
      "alinne_spaiva\n",
      "zordleon\n",
      "CesarTralli\n",
      "leandrokarnal\n",
      "cortellaoficial\n",
      "rodaviva\n",
      "veramagalhaes\n",
      "LRobertoBarroso\n",
      "jullianalopes_\n",
      "cnnbrasil\n",
      "raquellandim\n",
      "UOL\n",
      "intrinseca\n",
      "marcelamrahal\n",
      "veja\n",
      "carmelonetobr\n",
      "Bruno_RMesquita\n",
      "gabrielmao_\n",
      "GreenMelry\n",
      "Imazon\n",
      "renataagostini\n",
      "JornalOGlobo\n",
      "CBNoficial\n",
      "tainafalcao\n",
      "thaisarbex\n",
      "iuripitta\n",
      "FGV_EAESP\n",
      "OficinadeCursos\n",
      "EduGiraoOficial\n",
      "_erickpaiva1\n",
      "FundLibertadRos\n",
      "schmittpaula\n",
      "972mag\n",
      "epochtimesbr\n",
      "Sebastiao_Coelh\n",
      "guikilter\n",
      "drluizovando\n",
      "CRochamonte\n",
      "JulyB_Lucille\n",
      "julianabertolozzi\n",
      "MarianaN2348\n",
      "mariana_adorno_naime\n",
      "JorgeBastosDC\n",
      "CustoCeara\n",
      "custoceara\n",
      "RubinhoNunes\n",
      "monarkbanido\n",
      "ConstaJornalist\n",
      "flaviogordon\n",
      "annamlulis\n",
      "astropontes\n",
      "SenadoFederal\n",
      "agoranoticiasbr\n",
      "pfigueiredoshow\n",
      "renataagostini\n",
      "JornalOGlobo\n",
      "CBNoficial\n",
      "josefucs\n",
      "FundacionFIL\n",
      "claudioedantas\n",
      "EduardoGomesTO\n",
      "gcamarotti\n",
      "Ancelmocom\n",
      "cristilobo\n",
      "GloboNews\n",
      "g1\n",
      "radaronline\n",
      "VEJA\n",
      "robsonboninjor\n",
      "dorakramer_\n",
      "DoraKramer\n",
      "BlogdoNoblat\n",
      "PetePizarro\n",
      "portalonorte1\n",
      "sydneyneto\n",
      "simasrodrigo\n",
      "azevedodudu\n",
      "Georgethep\n",
      "EuFernandaSouza\n",
      "fernandasouzaoficial\n",
      "freedlustosa\n",
      "senadorhumberto\n",
      "DefensoriaTO\n",
      "tantanda\n",
      "SandyLeah\n",
      "ataides_oficial\n",
      "christinaguiar\n",
      "cesarhalum\n",
      "irajasenador\n",
      "laianyaoliveira\n",
      "tcheelah\n",
      "NandoSoares33\n",
      "ladygabis\n",
      "efraimfilho\n",
      "FlavioBolsonaro\n",
      "GFiuza_Oficial\n",
      "kimpaim\n",
      "AnaPaulaVolei\n",
      "Zambelli2210\n",
      "kai_netinho\n",
      "abenildoneto\n",
      "SF_Moro\n",
      "rosangelamorosp\n",
      "Frank77689483\n",
      "IagoDua16302883\n",
      "Diegomanga9\n",
      "mariliadantaspb\n",
      "Creighton\n",
      "fipecafi\n",
      "FGV\n",
      "adiralbuquerque\n",
      "LucianoVale17\n",
      "uniaocamara44\n",
      "uniaobrasil44\n",
      "JovemPanNews\n",
      "jornalhoje\n",
      "PortalAbras\n",
      "MDB_Nacional\n",
      "mtransportes\n",
      "alexandregarcia\n",
      "CNPq_Oficial\n",
      "LRobertoBarroso\n",
      "ultimahorapb\n",
      "RobertoAquinojp\n",
      "reporterpb\n",
      "PEREIRA_JR1\n",
      "seligaparaiba\n",
      "elizianegama\n",
      "AndreJanonesAdv\n",
      "prpaulomarcelo\n",
      "Restreamio\n",
      "RestreamHelps\n",
      "Paulo64RJ\n",
      "LulaOficial\n",
      "JanjaLula\n",
      "edrenekivitz\n",
      "oficialibab\n",
      "teologolatino\n",
      "juliaduailibi\n",
      "celinaleao\n",
      "camposmello\n",
      "Folha\n",
      "Columbia\n",
      "vanessalippelt\n",
      "Basiliarodri\n",
      "CNNBrasil\n",
      "abraji\n",
      "ottoalencar\n",
      "RodrigoCunhaAL\n",
      "DefensoriaMA\n",
      "Alkorap1\n",
      "gmail\n",
      "cezarscanssette\n",
      "ChicoCesarOf\n",
      "lfmaisc\n",
      "camarotedacpi\n",
      "paoladcs\n",
      "DanielaLucio_\n",
      "didowdi\n",
      "St_v_ns\n",
      "bicmuller\n",
      "Gmail\n",
      "juliette\n",
      "leiladovolei\n",
      "brasildefato\n",
      "agenciapublica\n",
      "showdavida\n",
      "tvglobo\n",
      "rayssaleal\n",
      "esperidiaoamin_\n",
      "renatoigor\n",
      "lucianedaux\n",
      "Denisedias\n",
      "carolmacario_nd\n",
      "jeronimogoergen\n",
      "jmurilloscf\n",
      "panserajacir\n",
      "GianMadeira\n",
      "alaoralexandre\n",
      "odineicamacho\n",
      "LestedaIlha\n",
      "fischera2020\n",
      "JainaraNordio\n",
      "ednaldovt\n",
      "rudischneider\n",
      "ClemirSchmitt\n",
      "antonyosanto\n",
      "amauriprojetos\n",
      "Rodrigogomes_13\n",
      "SangyFloripa\n",
      "murillovalente\n",
      "diogcsilva\n",
      "diogocsilva\n",
      "emmonalisa\n",
      "guipontes\n",
      "sergiorubim\n",
      "feneap\n",
      "marlenefkayser\n",
      "ErnandesCabraL\n",
      "FrankMartinss\n",
      "ContaratoSenado\n",
      "GuajajaraSonia\n",
      "mpovosindigenas\n",
      "economia\n",
      "vicentenunes\n",
      "DanielWeterman\n",
      "Estadao\n",
      "silviolual\n",
      "de_usp\n",
      "mdhcbrasil\n",
      "zeca_dirceu\n",
      "dr_nesio\n",
      "ConassOficial\n",
      "nisia_trindade\n",
      "EthelMaciel\n",
      "ReutersBrasil\n",
      "Ricardo_Abreu_\n",
      "TVGlobo\n",
      "joseildoramos\n",
      "Daniel_PCdoB\n",
      "uczai\n",
      "julianopsol\n",
      "FESPSP\n",
      "psol50\n",
      "lidicedamata\n",
      "perpetua_acre\n",
      "Alice_Portugal\n",
      "depjoaodanielpt\n",
      "PauloVieiraReal\n",
      "AndreJanonesAdv\n",
      "AfonsoFlorence\n",
      "freianastaciopt\n",
      "NiltoTatto\n",
      "paulaodopt\n",
      "zeliaduncan\n",
      "DueireFernando\n",
      "pedrocampospe\n",
      "freire_roberto\n",
      "ANDREWCAMPOS10\n",
      "cunha_francisco\n",
      "MildaKruger\n",
      "adriano_oliveir\n",
      "EdmarLyra\n",
      "DiarioPE\n",
      "Jaderbfilho\n",
      "gugachacra\n",
      "BBRENNAND\n",
      "viana19_marcus\n",
      "AndreMartins81\n",
      "MarcosRogerio\n",
      "SF_Moro\n",
      "rosangelamorosp\n",
      "SenadoFederal\n",
      "ciro_nogueira\n",
      "wevertonrocha\n",
      "ottoalencar\n",
      "Heinzeoficial\n",
      "jader_barbalho\n",
      "irajasenador\n",
      "rogeriosmarinho\n",
      "LucasBarreto_AP\n",
      "OmarAzizSenador\n",
      "senadorpetecao\n",
      "PlinioValerio45\n",
      "SenadorRogerio\n",
      "FlavioArns\n",
      "darioberger\n",
      "camaradeputados\n",
      "DeputadoBacelar\n",
      "profdorinha\n",
      "REDEnoCongresso\n",
      "ProfessorBodiao\n",
      "JoeniaWapichana\n",
      "Funaioficial\n",
      "randolfeap\n",
      "rogitopereira\n",
      "ConsedBR\n",
      "undime\n",
      "TodosEducacao\n",
      "camp_educacao\n",
      "PriscilaFCruz\n",
      "DanielCara\n",
      "valoreconomico\n",
      "marina_helou\n",
      "eduardobarbosa_\n",
      "Support\n",
      "REDE_18\n",
      "AerpAssoc\n",
      "assembleia_PR\n",
      "CapStyvenson\n",
      "anaamelialemos\n",
      "simonetebetbr\n",
      "SorayaThronicke\n",
      "majorolimpio\n",
      "FlavioBolsonaro\n",
      "UHN_Plus\n",
      "karinamichelin\n",
      "villela206\n",
      "sigaporaqui\n",
      "algo_mais\n",
      "gmail\n",
      "NoticiasTavares\n",
      "FPNews_\n",
      "DerlinRod\n",
      "TradutordoBR\n",
      "marcosdgb1\n",
      "BastidorOficial\n",
      "diegoescosteguy\n",
      "EliseWilshaw\n",
      "Mi_Bolsonaro\n",
      "terceirotempo\n",
      "UOLEsporte\n",
      "BandTV\n",
      "RBandeirantes\n",
      "TerceiroTempo\n",
      "BolsonaroNegona\n",
      "_felipemelo_\n",
      "felipemelo\n",
      "fmrfcompany\n",
      "blitzRJoficial\n",
      "malugaspar\n",
      "jornaloglobo\n",
      "SERGIOJUNIOR79r\n",
      "albaaoficial\n",
      "silviawaiapi\n",
      "AntonioCGRodri\n",
      "antoniocgrodr\n",
      "Vinheteiro\n",
      "doutorjoaovitor\n",
      "viniciuscfp82\n",
      "amaliabarros\n",
      "GilvanDaFederal\n",
      "senadorgiordano\n",
      "SenadoFederal\n",
      "GloboNews\n",
      "jairbolsonaro\n",
      "presidencia_BR\n",
      "senadorhumberto\n",
      "Kari_ssantos\n",
      "guinasouza_\n",
      "monica_benicio\n",
      "gmail\n",
      "alexwheeler2201\n",
      "SergioMassa\n",
      "EstrelaComite\n",
      "SilviaPT13\n",
      "PortoConta\n",
      "PrefeitaMarciaC\n",
      "jorgemessiasagu\n",
      "edilaziofilho\n",
      "krisjuliana\n",
      "waldezoficial\n",
      "tulio_amancio\n",
      "BandJornalismo\n",
      "SantiPenap\n",
      "CazeTVOficial\n",
      "caze\n",
      "raquellyra\n",
      "ErikakHilton\n",
      "VEJA\n",
      "EmersonAnomia\n",
      "cfoab\n",
      "oabce\n",
      "UN\n",
      "noseconexoes\n",
      "vinijr\n",
      "loudgg\n",
      "DiasNirla\n",
      "RicardoCappelli\n",
      "lourenzaoba\n",
      "SergioMarone\n",
      "sergiomarone\n",
      "patricia_vasc\n",
      "sbtonline\n",
      "goldsmithsuol\n",
      "cheveningfcdo\n",
      "foreignpressUSA\n",
      "whca\n",
      "nyfestivals\n",
      "irajasenador\n",
      "ronaldodimasto\n",
      "eduscampos14777\n",
      "jaqueswagner\n",
      "renildebulhoes\n",
      "CelioMouraTO\n",
      "tiago_dimas\n",
      "ZeRobertoLula\n",
      "jairfarias_to\n",
      "IvoryLira\n",
      "issam_saado\n",
      "ZequinhaMarinho\n",
      "Vanderlan_VC\n",
      "izauracardosotv\n",
      "tassojereissati\n",
      "s\n",
      "SenadoraRose\n",
      "ottoalencar\n",
      "nelsinhotrad\n",
      "_luizdocarmo\n",
      "LucasBarreto_AP\n",
      "venezianovital\n",
      "josemaranhaopb\n",
      "jeanpaulprates\n",
      "Jarbas156\n",
      "Biakicis\n",
      "camara\n",
      "Zambelli2210\n",
      "RobertoRocha_MA\n",
      "PlinioValerio45\n",
      "senadoraivete\n",
      "folha\n",
      "GloboNews\n",
      "VEJA\n",
      "Estadao\n",
      "JornalOGlobo\n",
      "jornaloglobo\n",
      "o_antagonista\n",
      "CNNBrasil\n",
      "esportescnn\n",
      "cnnpop\n",
      "cnneconomia\n",
      "nolucrocnn\n",
      "JovemPanNews\n",
      "UOL\n",
      "uol\n",
      "infomoney\n",
      "IzalciLucas\n",
      "gov_mcti\n",
      "lucianasantos\n",
      "kobrastreetart\n",
      "CampusPartyBRA\n",
      "JovemPanNews\n",
      "AmbBrasilia\n",
      "EmbJapao\n",
      "JotaInfo\n",
      "acirgurgacz\n",
      "DNordicos\n",
      "joukoleinonen\n",
      "FinEmbBrussels\n",
      "ulkoministerio\n",
      "SwissAmbBrazil\n",
      "eda_dfae\n",
      "swissmfa\n",
      "thobiasss\n",
      "cassiuszeilmann\n",
      "bandnewstv\n",
      "doutorgutemberg\n",
      "patyparraeppgg\n",
      "Pontifex_pt\n",
      "TCUoficial\n",
      "brasil61_\n",
      "IgnacioYbanez\n",
      "eeas\n",
      "maiaepadua\n",
      "ULisboa_\n",
      "unb_oficial\n",
      "UERJ_oficial\n",
      "mariapilarpda\n",
      "jose_anibal\n",
      "MariliaMReal\n",
      "Atletico\n",
      "Bill_Bandeira\n",
      "jader_barbalho\n",
      "marciocarvalho8\n",
      "NelterQueiroz\n",
      "Jfelippeneto\n",
      "DeputadoJooji\n",
      "profluiscarlos\n",
      "QuintanilhaTO\n",
      "senador\n",
      "depantoniojulio\n",
      "drhercules\n",
      "RafaelBraga15\n",
      "Biango\n",
      "sinvalsilva\n",
      "PEcomJarbas\n",
      "raulchristiano\n",
      "depdanniel\n",
      "brunojuliomg\n",
      "iranbarbosa\n",
      "gustavoregiofer\n",
      "PedroPeloRio\n",
      "gmail\n",
      "IqueVedovato\n",
      "HermanoMorais\n",
      "cairosalim\n",
      "padilha1566\n",
      "_DanielDaudt\n",
      "walteralvesrn\n",
      "mdb_rn15\n",
      "DeputadoCaito\n",
      "jaimebagattoli\n",
      "jairbolsonaro\n",
      "CarlosBolsonaro\n",
      "BolsonaroSP\n",
      "FlavioBolsonaro\n",
      "MarcosRogerio\n",
      "drataissasousa\n",
      "SenadoFederal\n",
      "pliniormoura\n",
      "DESTR0__\n",
      "plnacional_\n",
      "jaqueswagner\n",
      "MidiaNINJA\n",
      "aniellefranco\n",
      "igualracial_gov\n",
      "inst_marielle\n",
      "mariellefranco\n",
      "minprevidencia\n",
      "MPA_Br\n",
      "AndredePaula55\n",
      "venezianovital\n",
      "jorgemessiasagu\n",
      "brasilvpr\n",
      "mpovosindigenas\n",
      "povosindigenas\n",
      "MarcioMacedoPT\n",
      "RicardoCappelli\n",
      "rodrigopacheco\n",
      "sri_presidencia\n",
      "mdascidades\n",
      "SGPresidencia\n",
      "CidaMulheres\n",
      "mindasmulheres\n",
      "silviolual\n",
      "de_usp\n",
      "mdhcbrasil\n",
      "Jaderbfilho\n",
      "BetoFaroPT\n",
      "edweck_rj\n",
      "gestaogovbr\n",
      "ie_ufrj\n",
      "luizmarinhopt\n",
      "MinPlanejamento\n",
      "mdsgovbr\n",
      "gov_mcti\n",
      "JaymeSenador\n",
      "kalil_baracat\n",
      "davialcolumbre\n",
      "anteropnb\n",
      "CesarMirandaMT\n",
      "GustavinhoMT\n",
      "SorayaThronicke\n",
      "majorolimpio\n",
      "ottoalencar\n",
      "CaboDaciolo\n",
      "janainarivamt\n",
      "RobertoRocha_MA\n",
      "FlavioArns\n",
      "RodrigoCunhaAL\n",
      "randolfeap\n",
      "venezianovital\n",
      "SenadorRogerio\n",
      "SenStyvenson\n",
      "nelsinhotrad\n",
      "SenadoraSelma\n",
      "zenaidern\n",
      "senadorpaulor\n",
      "Sen_Oriovisto\n",
      "paulopaim\n",
      "ContaratoSenado\n",
      "jaqueswagner\n",
      "jeanpaulprates\n"
     ]
    },
    {
     "data": {
      "text/plain": [
       "['cirogomes',\n",
       " 'MariaGFortunato',\n",
       " 'luanamotarj',\n",
       " 'ricardo_gomyde',\n",
       " 'narayamoga',\n",
       " 'LucioXavante',\n",
       " 'RafaelWeree',\n",
       " 'oocCiro',\n",
       " 'JorgeEremites',\n",
       " 'CiroNoFlow',\n",
       " 'ElvisCezar_ofc',\n",
       " 'ivanirdosantos',\n",
       " 'CEAPRJ1',\n",
       " 'leiladovolei',\n",
       " 'pdtrjoficial',\n",
       " 'andersonrosavaz',\n",
       " 'Puc_SP',\n",
       " 'ciraodocerrado',\n",
       " 'artedaguerracnl',\n",
       " 'PDTGYN12',\n",
       " 'PDTGoias12',\n",
       " 'luizcastroam',\n",
       " 'gnatalini',\n",
       " 'carolbrazam',\n",
       " 'CartunistaT',\n",
       " 'danirabelo40',\n",
       " 'amandagondimudi',\n",
       " 'claudiaguerramg',\n",
       " 'brunomirandasal',\n",
       " 'ozirismg',\n",
       " 'gustavomendestv',\n",
       " 'SorayaThronicke',\n",
       " 'Egrammertipss',\n",
       " 'sobreteucaos',\n",
       " 'AuschwitzMuseum',\n",
       " 'thesigmamindset',\n",
       " 'SeekWiser_',\n",
       " 'arquivocurioso',\n",
       " 'BoucherNicolas',\n",
       " 'KimKataguiri',\n",
       " 'time',\n",
       " 'Forbes',\n",
       " 'NathanealGlgz',\n",
       " 'PremioiBest',\n",
       " 'luizapossi',\n",
       " 'sonar',\n",
       " 'accessmidia',\n",
       " 'cooltechtipz',\n",
       " 'TommiBooks',\n",
       " 'nespola_io',\n",
       " 'ivanvieira_5',\n",
       " 'tainafalcao',\n",
       " 'cnnbrasil',\n",
       " 'SThronickeNews',\n",
       " 'HugoGloss',\n",
       " 'nomelouco37',\n",
       " 'ocrentesincero',\n",
       " 'gmail',\n",
       " 'tapacrentee',\n",
       " 'Naza_Sub',\n",
       " '5min__crafts',\n",
       " 'EducationalFeed',\n",
       " 'awkwardgoogle',\n",
       " 'cdl_concerts',\n",
       " 'visitthecapitol',\n",
       " 'Int_IDEA',\n",
       " 'fdavilaoficial',\n",
       " 'spotniks',\n",
       " 'tvcamara',\n",
       " 'ibgecomunica',\n",
       " 'mises',\n",
       " 'AtlasNetwork',\n",
       " 'rothbard_brasil',\n",
       " 'InstLiberal',\n",
       " 'lucasnephelin',\n",
       " 'brasilparalelo',\n",
       " 'EuSouLivres',\n",
       " 'rodrigodasilva',\n",
       " 'melruppenthal',\n",
       " 'bdaliberdade',\n",
       " 'boletimdaliberdade',\n",
       " 'AndreMarinho',\n",
       " 'manoferreira',\n",
       " 'FNFreiheit',\n",
       " 'LSEPublicPolicy',\n",
       " 'lnarloch',\n",
       " 'atenaliberdade',\n",
       " 'alex_borges',\n",
       " 'o_antagonista',\n",
       " 'revistavalete',\n",
       " 'cnnbrasil',\n",
       " 'jovempannews',\n",
       " 'aridelmo_br',\n",
       " 'OdairTramontin',\n",
       " 'edigardinizjr',\n",
       " 'RicardoJobim30',\n",
       " 'gabrielabilo1',\n",
       " 'GTMacalossi',\n",
       " 'bandrs',\n",
       " 'gazetadopovo',\n",
       " 'imdemocracia',\n",
       " 'LucasdiGrassi',\n",
       " 'ccount:PeKelmon ; @LuisKelmon',\n",
       " 'LeoPericlesUP',\n",
       " 'enraizados',\n",
       " 'dorgodj',\n",
       " 'nuvemrec',\n",
       " 'batalhadmorreba',\n",
       " 'rapfalando',\n",
       " 'gmail',\n",
       " 'niLLSfg_',\n",
       " 'soundfoodgang',\n",
       " 'kaseagency',\n",
       " 'nylmc',\n",
       " 'NicDiasMc',\n",
       " 'NICDIAS',\n",
       " 'anthunesarth',\n",
       " 'bancadigital',\n",
       " 'gmail',\n",
       " '_NatyDJ_',\n",
       " 'PinkTakumii',\n",
       " 'mlfattorelli',\n",
       " 'leopericlezado',\n",
       " 'JanaSa65',\n",
       " 'JaliciaMuricyUP',\n",
       " 'JulieteUP80',\n",
       " 'adrinunesup',\n",
       " 'bellanatomy',\n",
       " 'jornalaverdade_',\n",
       " 'LarySampaioUP',\n",
       " 'Renatoafjr',\n",
       " 'DellRibeiro18',\n",
       " 'asdaylilies',\n",
       " 'andretrig',\n",
       " 'nathanlopes',\n",
       " 'primeirosnegros',\n",
       " 'copaalemdacopa',\n",
       " 'dias_angelo',\n",
       " 'SueliCarneiro',\n",
       " 'SofiaManzanoPCB',\n",
       " 'alvarobianchi',\n",
       " 'PoliticaUnicamp',\n",
       " 'CesarTralli',\n",
       " 'MagaMarcela1',\n",
       " 'BlackpostItalia',\n",
       " 'Cartamaior',\n",
       " 'cabe',\n",
       " 'mcbobeirinha',\n",
       " 'IzmirTkp',\n",
       " 'AliciaLiraM',\n",
       " 'AFEPSantiago',\n",
       " 's',\n",
       " 'eduguim',\n",
       " 'SorrentinoPCdoB',\n",
       " 'pedrosolidus',\n",
       " 'DCM_online',\n",
       " 'dropsdejogos',\n",
       " 'folhademocrata',\n",
       " 'radiogeekbr',\n",
       " 'meteoro_br',\n",
       " 'gmail',\n",
       " 'minc_rj',\n",
       " 'drummond_fer',\n",
       " 'fabianalr_',\n",
       " 'criticschoice',\n",
       " 'abraccine',\n",
       " 'cinemacao',\n",
       " 'cinemafilia',\n",
       " 'SputnikMundo',\n",
       " 'almayadeen_es',\n",
       " 'Anne_Hidalgo',\n",
       " 'lau_patrice',\n",
       " 'Paris',\n",
       " 'IanBrossat',\n",
       " 'SergioChouza',\n",
       " 'victamilho',\n",
       " 'EvaGMadariaga',\n",
       " 'CJC_Media',\n",
       " 'GarciaAstor',\n",
       " '_PCTE_',\n",
       " 'ferllenaf',\n",
       " 'lazarorosa25',\n",
       " 'istanbul_tkp',\n",
       " 'tkpninsesi',\n",
       " 'raddkahn',\n",
       " 'Eymaeloficial',\n",
       " 'reinaldoazevedo',\n",
       " 'diegoescosteguy',\n",
       " 'BastidorOficial',\n",
       " 'obastidor',\n",
       " 'LeilaneNeubarth',\n",
       " 'radaronline',\n",
       " 'VEJA',\n",
       " 'robsonboninjor',\n",
       " 'laurojardim',\n",
       " 'cristilobo',\n",
       " 'GloboNews',\n",
       " 'g1',\n",
       " 'Ricamconsult',\n",
       " 'camilabomfim',\n",
       " 'globonews',\n",
       " 'gcamarotti',\n",
       " 'AndreiaSadi',\n",
       " 'estudioi',\n",
       " 'cbnoficial',\n",
       " 'renataloprete',\n",
       " 'JornalDaGlobo',\n",
       " 'juliaduailibi',\n",
       " 'ExpressoEpoca',\n",
       " 'levyfidelix',\n",
       " 'fellyppe21',\n",
       " 'Derci_Vieira',\n",
       " 'edyvaldojose',\n",
       " 'gmail',\n",
       " 'irenesurek',\n",
       " '_JessRosa',\n",
       " 'anaprloficial',\n",
       " 'joaobicooficial',\n",
       " 'ACSP_oficial',\n",
       " 'facesp',\n",
       " '2012jlf2012',\n",
       " 'Tiago_A_W',\n",
       " 'Assuncaojr44',\n",
       " 'VizExplorer',\n",
       " 'pauloarturchris',\n",
       " 'jrridinger',\n",
       " 'MarketAmerica',\n",
       " 'shopcom',\n",
       " 'SF_Moro',\n",
       " 'Tsihanouskaya',\n",
       " 'FukuyamaFrancis',\n",
       " 'StanfordCDDRL',\n",
       " 'hcapriles',\n",
       " 'RenanSantosMBL',\n",
       " 'mblivre',\n",
       " 'RobertoElleryJr',\n",
       " 'angela_gandra',\n",
       " 'MXvsCORRUPCION',\n",
       " 'JoseUgazSM',\n",
       " 'agusantonetti',\n",
       " 'FundLibertadRos',\n",
       " 'FundacionFIL',\n",
       " 'CatoInstitute',\n",
       " 'taciolorran',\n",
       " 'MBLivre',\n",
       " 'GrupoLyD',\n",
       " 'JorgePontual',\n",
       " 'DiFrancoNews',\n",
       " 'Estadao',\n",
       " 'JornalOGlobo',\n",
       " 'GazetadoPovo',\n",
       " 'davialcolumbre',\n",
       " 'jovempanmaringa',\n",
       " 'YasMohammedxx',\n",
       " 'ClarityCoaltion',\n",
       " 'dr_chicarelli',\n",
       " '_MiguelAngelRE',\n",
       " 'RosaMariaPaya',\n",
       " 'CubaDecide',\n",
       " 'JuventudLac',\n",
       " 'maradiaga',\n",
       " 'freedomhouse',\n",
       " 'bertavalle',\n",
       " 'DionisioGTM',\n",
       " 'FundacionLD',\n",
       " 'RazondeEstadoTV',\n",
       " 'curitibacontrac',\n",
       " 'SenTedCruz',\n",
       " 'jdoriajr',\n",
       " 'NatuzaNery',\n",
       " 'gugachacra',\n",
       " 'mariana_godoy',\n",
       " 'calca_apertada',\n",
       " 'CeoDeSP',\n",
       " 'Arthurvneto',\n",
       " 'blogdayeda',\n",
       " 'Secundaria005',\n",
       " 'eucarvalhogui',\n",
       " 'psdbcomdoria',\n",
       " 'iguinho3k',\n",
       " 'goldenpill',\n",
       " 'GabrielaPrioli',\n",
       " 'racionaldsp',\n",
       " 'WanmingYang',\n",
       " 'GugaNoblat',\n",
       " 'brunnosarttori',\n",
       " 'sintetica',\n",
       " 'moura_101',\n",
       " 'santi_falcao',\n",
       " 'carlaopignatari',\n",
       " 'prefvotuporanga',\n",
       " 'assembleiasp',\n",
       " 'GabbardoJoao',\n",
       " 'Boscardin',\n",
       " 'JoeBiden',\n",
       " 'DrBiden',\n",
       " 'POTUS',\n",
       " 'BiaDoriaOficial',\n",
       " 'biadoriaarte',\n",
       " 'PedroVenceslau3',\n",
       " 'Reinaldo45psdb',\n",
       " 'PatriciaEllenBr',\n",
       " 'mandetta',\n",
       " 'jairmearrependi',\n",
       " 'proton',\n",
       " 'Deisy_Ventura',\n",
       " 'campos',\n",
       " 'freire_roberto',\n",
       " 'brunoreisba',\n",
       " 'DepArthurMaia',\n",
       " 'RubinhoNunes',\n",
       " 'IlonaSzaboC',\n",
       " 'igarape_org',\n",
       " 'Folha',\n",
       " 'NOIweala',\n",
       " 'WTO',\n",
       " 'pahowho',\n",
       " 'WHO',\n",
       " 'DrTedros',\n",
       " 'HelenClarkNZ',\n",
       " 'UNDP',\n",
       " 'LucicaDitiu',\n",
       " 'JoaoEnsina',\n",
       " 'RealBarone',\n",
       " 'contadojass',\n",
       " 'moniquevansreal',\n",
       " 'gmail',\n",
       " 'maragabrilli',\n",
       " 'ElzaSoares',\n",
       " 'projetar',\n",
       " 'manhattanc',\n",
       " 'manhattazanas',\n",
       " 'monicabergamo',\n",
       " 'sandraacoutinho',\n",
       " 'Floragil2222',\n",
       " 'BarackObama',\n",
       " 'felipeneto',\n",
       " 'play9',\n",
       " 'CaboDaciolo',\n",
       " 'NT_Vascaino',\n",
       " 'garotadasfotos_',\n",
       " 'panissetaline',\n",
       " 'rodrigoreoli007',\n",
       " 'Linsdoceara',\n",
       " 'linssdocear',\n",
       " 'alscbtw',\n",
       " 'brunoalsc',\n",
       " 'FluminenseFC',\n",
       " 'Primitiv90',\n",
       " 'dudasallessx',\n",
       " 'jhenyferbierr',\n",
       " 'vascodagama',\n",
       " 'laisdntas',\n",
       " 'flxlmeidx',\n",
       " 'aniflavs',\n",
       " 'marii_alcz',\n",
       " 'brokemaine',\n",
       " 'lucas_kurz',\n",
       " 'esteves_fae',\n",
       " 'sheilamelgare12',\n",
       " 'leandrolopes',\n",
       " 'Leandro54446655',\n",
       " 'Wallace82552501',\n",
       " 'tabenitopodcast',\n",
       " 'luizasalves',\n",
       " 'Metropoles',\n",
       " 'bragransilde',\n",
       " 'alissonbarbozas',\n",
       " 'MundoExtra_Ord',\n",
       " 'irlannz',\n",
       " 'bivaroficial',\n",
       " 'DepFederalMoses',\n",
       " 'celmarcosrocha',\n",
       " 'silviomendespi',\n",
       " 'miguelcoelhope',\n",
       " 'rosemodestoms',\n",
       " 'GeanLoureiro',\n",
       " 'rigoni_felipe',\n",
       " 'UniofOxford',\n",
       " 'LeurLomantoJr',\n",
       " 'jrbozzella',\n",
       " 'PauloAzi',\n",
       " 'DepDaniloForte',\n",
       " 'DepJuscelino',\n",
       " 'RafaMoraesMoura',\n",
       " 'bsb',\n",
       " 'juliaduailibi',\n",
       " 'BelaMegale',\n",
       " 'JornalOGlobo',\n",
       " 'CBNoficial',\n",
       " 'efraimfilho',\n",
       " 'JulianLemosopb1',\n",
       " 'Reguffe',\n",
       " 'RodrigoCunhaAL',\n",
       " 'davialcolumbre',\n",
       " 'wilsonlimaAM',\n",
       " 'ronaldocaiado',\n",
       " 'acmneto_',\n",
       " 'malugaspar',\n",
       " 'jornaloglobo',\n",
       " 'PryFerreiraa',\n",
       " 'drdrauzio',\n",
       " 'Larifernanda88',\n",
       " 'thathahcarvalho',\n",
       " 'socorrolx',\n",
       " 'RaquelSenne',\n",
       " 'Bieealves',\n",
       " 'san_mistica',\n",
       " 'BlueBem',\n",
       " 'nunes_pedro',\n",
       " 'bruloiira',\n",
       " 'saraantuness',\n",
       " 'gustavo_schmidt',\n",
       " 'Linnecastilhu',\n",
       " 'soraiaex',\n",
       " 'diego_fuck',\n",
       " 'VanessanBessa',\n",
       " 'alancastro80',\n",
       " 'CarolinaRosado',\n",
       " 'PedroWilson_',\n",
       " 'MariliaArraes',\n",
       " 'raissakoshiyama',\n",
       " 'isaamarcondes',\n",
       " 'hericavox',\n",
       " 'danitipiti',\n",
       " 'ApenasRei',\n",
       " 'ferrazdudu',\n",
       " 'Anderson_Assiz',\n",
       " 'delicadessen',\n",
       " 'slipky',\n",
       " 'RooLiebel',\n",
       " 'BrunaNigra',\n",
       " 'ricovianna',\n",
       " 'ChicoRocha007',\n",
       " 'mirllaandreia',\n",
       " 'vitor3386',\n",
       " 'PauloHartungES',\n",
       " 'joaovillaverde',\n",
       " 'MinPlanejamento',\n",
       " 'FGV_EAESP',\n",
       " 'matthewhaybrown',\n",
       " 'jcesarmartins',\n",
       " 'marciacastrorj',\n",
       " 'gabeiracombr',\n",
       " 'AndreRCMartins',\n",
       " 'somosumane',\n",
       " 'IEPSoficial',\n",
       " 'denize_izaita',\n",
       " 'MarceloLins68',\n",
       " 'globonews',\n",
       " 'GobbiGustavo',\n",
       " 'eusoulivres',\n",
       " 'trekbrasilis',\n",
       " 'julianarosa_',\n",
       " 'edulyragf',\n",
       " 'DiFrancoNews',\n",
       " 'Estadao',\n",
       " 'JornalOGlobo',\n",
       " 'GazetadoPovo',\n",
       " 'mozartramos',\n",
       " 'JoanaCunhaO',\n",
       " 'eduribeironovo',\n",
       " 'partidonovo30',\n",
       " 'aguimaraes',\n",
       " 'IPAM_Amazonia',\n",
       " 'Talinascimento',\n",
       " 'Columbia',\n",
       " 'de_usp',\n",
       " 'Felippe_Hermes',\n",
       " 'Blocktrendsbr',\n",
       " 'bfunchal',\n",
       " 'andrehees',\n",
       " 'leosrcastro',\n",
       " 'gabrielbcor',\n",
       " 'FR_BSB',\n",
       " 'poder360',\n",
       " 'post',\n",
       " 'DeniseCToledo8',\n",
       " 'denisecamposdetoledo',\n",
       " 'FlavioDino',\n",
       " 'harari_yuval',\n",
       " 'giovanafagund3s',\n",
       " 'RonnyCombate',\n",
       " 'vinicios_betiol',\n",
       " 'donernesto101',\n",
       " 'Marialuiza7079',\n",
       " 'TheFigen_',\n",
       " 'JoaoEnsina',\n",
       " 'HumansNoContext',\n",
       " 'humansnocontext',\n",
       " 'LRobertoBarroso',\n",
       " 'SorayaThronicke',\n",
       " 'profFelipeNunes',\n",
       " 'quaestpesquisa',\n",
       " 'itatiaia',\n",
       " 'institutogalo',\n",
       " 'OGloboPolitica',\n",
       " 'JoaoCampos',\n",
       " 'Carloshbfavaro',\n",
       " 'Jaderbfilho',\n",
       " 'nisia_trindade',\n",
       " 'rogeriobarantes',\n",
       " 'rede_marco',\n",
       " 'redemarco2210',\n",
       " 'noseconexoes',\n",
       " 'fundacaofhc',\n",
       " 'CanalRonnyTeles',\n",
       " 'jorgemessiasagu',\n",
       " 'anaclaudiabpinh',\n",
       " 'MarinaSilva',\n",
       " 'jazzaguiar',\n",
       " 'izavicent',\n",
       " 'PoliticaInteiro',\n",
       " 'TalanoaReal',\n",
       " 'CNNBrasil',\n",
       " 'esportescnn',\n",
       " 'cnnpop',\n",
       " 'cnneconomia',\n",
       " 'nolucrocnn',\n",
       " 'dilmabr',\n",
       " 'lucasleffa',\n",
       " 'MomentsofBrazi1',\n",
       " 'pauloteixeira13',\n",
       " 'RenanPeixoto_',\n",
       " 'EduardoRiedel_',\n",
       " 'AlexSchmiit',\n",
       " 'distopi',\n",
       " 'obsmineracao',\n",
       " 'unb_oficial',\n",
       " 'paraibasoueu',\n",
       " 'INCT_ReDem',\n",
       " 'sportrecife',\n",
       " 'juventudeecoar',\n",
       " 'necofachel',\n",
       " 'anvisa_oficial',\n",
       " 'TCUoficial',\n",
       " 'UNDPClimate',\n",
       " 'MeteoredBR',\n",
       " 'correiosBR',\n",
       " 'inmet_',\n",
       " 'defesacivilbr',\n",
       " 'midregional',\n",
       " 'govbr',\n",
       " 'MarcoMartinsSP',\n",
       " 'UNEP_pt',\n",
       " 'IPCC_CH',\n",
       " 'UN',\n",
       " 'petrogustavo',\n",
       " 'UNFCCC',\n",
       " 'CMNUCC',\n",
       " 'CCNUCC',\n",
       " 'RKIKOON',\n",
       " 'simonstiell',\n",
       " 'luizatrajano',\n",
       " 'folha',\n",
       " 'Sheyla__Lima',\n",
       " 'LucianaTrajano',\n",
       " 'opiniaorenato',\n",
       " 'realwbonner',\n",
       " 'fbbreal',\n",
       " 'fatimabernard',\n",
       " 'gcamarotti',\n",
       " 'cristilobo',\n",
       " 'GloboNews',\n",
       " 'g1',\n",
       " 'mariana_godoy',\n",
       " 'TiciPinheiro',\n",
       " 'caioblinder',\n",
       " 'lucasmendesc',\n",
       " 'canalglobonews',\n",
       " 'merdadocarai',\n",
       " 'manhattanc',\n",
       " 'manhattazanas',\n",
       " 'Ricamconsult',\n",
       " 'RobertoLJustus',\n",
       " 'meninajana',\n",
       " 'danielafilomeno',\n",
       " 'parceirocpf',\n",
       " 'eventsinparis',\n",
       " 'tatianajerome',\n",
       " 'foimal_atendido',\n",
       " 'Brasilagosto',\n",
       " 'TempoDeMulher',\n",
       " 'telmarodriguesg',\n",
       " 'magalu',\n",
       " 'hootsuite',\n",
       " 'Hootsuite_Help',\n",
       " 'Helium_H',\n",
       " 'GeneralMourao',\n",
       " 'AndreiaSadi',\n",
       " 'estudioi',\n",
       " 'globonews',\n",
       " 'g1',\n",
       " 'cbnoficial',\n",
       " 'SenadoFederal',\n",
       " 'Rconstantino',\n",
       " 'rogeriosmarinho',\n",
       " 'CmdoCMS',\n",
       " 'monicalealPP',\n",
       " 'nikolas_dm',\n",
       " 'Heinzeoficial',\n",
       " 'jorgeseifjunior',\n",
       " 'Zambelli2210',\n",
       " 'astropontes',\n",
       " 'PazuelloGeneral',\n",
       " 'exercito_oficial',\n",
       " 'ComandanteNadia',\n",
       " 'DiegoGremio1989',\n",
       " 'LizianeBayer',\n",
       " 'marcelosampaio',\n",
       " 'carlosgomesdep',\n",
       " 'ronaldocaiado',\n",
       " 'JessicaSeferin',\n",
       " 'JornalDaCidadeO',\n",
       " 'LucianoHangBr',\n",
       " 'deputadozucco',\n",
       " 'marcospereira04',\n",
       " 'TerezaCrisMS',\n",
       " 'GenPeternelli',\n",
       " 'MHPeternelli',\n",
       " 'onyxlorenzoni',\n",
       " 'lafayetteandrad',\n",
       " 'joaodamoedo',\n",
       " 'LulaOficial',\n",
       " 'JanjaLula',\n",
       " 'Otaku4190',\n",
       " 'PedroVenceslau3',\n",
       " 'she_carvalho',\n",
       " 'MelinaFlynn',\n",
       " 'mariosbessa',\n",
       " 'medleyadvisors',\n",
       " 'Control_Risks',\n",
       " 'business',\n",
       " 'folha',\n",
       " 'AgenciaEstado',\n",
       " 'felipeseligman',\n",
       " 'fabriciogjuliao',\n",
       " 'Poder360',\n",
       " 'PollsterGraph',\n",
       " 'atlas_intel',\n",
       " 'atlaspolitico',\n",
       " 'centralpolitcs',\n",
       " 'lorennrodrigues',\n",
       " 'ae_broadcast',\n",
       " 'estadao',\n",
       " 'unb_oficial',\n",
       " 'fgv',\n",
       " 'ufpr',\n",
       " 'caioquero',\n",
       " 'bbcbrasil',\n",
       " 'KingsCollegeLon',\n",
       " 'warstudies',\n",
       " 'profFelipeNunes',\n",
       " 'quaestpesquisa',\n",
       " 'itatiaia',\n",
       " 'institutogalo',\n",
       " 'barreiragabriel',\n",
       " 'ludtke',\n",
       " 'Comprova',\n",
       " 'observatorio',\n",
       " 'atlasdanoticia',\n",
       " 'Abraji',\n",
       " 'abraji',\n",
       " 'andreshalders',\n",
       " 'Estadao',\n",
       " 'protonmail',\n",
       " 'othiagopinheiro',\n",
       " 'vonderleyen',\n",
       " 'EU_Commission',\n",
       " 'solenu',\n",
       " 'DomCabral',\n",
       " 'Fabioschaffner',\n",
       " 'UEnoBrasil',\n",
       " 'UEnoBrasilEmb',\n",
       " 'seutioflip',\n",
       " 'GuilhermeBoulos',\n",
       " 'raquellandim',\n",
       " 'UOL',\n",
       " 'intrinseca',\n",
       " 'Ze_Carlos_art',\n",
       " 'JoaoEnsina',\n",
       " 'rodandopelavida',\n",
       " 'edepeSP',\n",
       " 'SelecaoFeminina',\n",
       " 'nisia_trindade',\n",
       " 'KriskaCarvalho',\n",
       " 'perpetua_acre',\n",
       " 'AlencarBraga13',\n",
       " 'VillaMarcovilla',\n",
       " 'biancatavolari',\n",
       " 'FGVdireitoSP',\n",
       " 'CEBRAP',\n",
       " 'MecilaCentre',\n",
       " 'quatrocincoum',\n",
       " 'Levynho_',\n",
       " 'ufba',\n",
       " 'estadao',\n",
       " 'ecbahia',\n",
       " 'LFC',\n",
       " 'GUNbyGUNZ',\n",
       " 'PlayOffTheGrid',\n",
       " 'GunzillaGames',\n",
       " 'diegodeabreu',\n",
       " 'gmail',\n",
       " 'EduardoBraga_AM',\n",
       " 'FernandoHortaOf',\n",
       " 'IraciHassler',\n",
       " 'muni_stgo',\n",
       " 'uchile',\n",
       " 'AlcaldiaxStgo',\n",
       " 'thainarafariapt',\n",
       " 'jorgemessiasagu',\n",
       " 'CamilaRDLisboa',\n",
       " 'cesarcalejon1',\n",
       " 'CanalRonnyTeles',\n",
       " 'renatomarques21',\n",
       " 'tiagocoelh',\n",
       " 'revistapiaui',\n",
       " 'FelipeSalto',\n",
       " 'warrenbrasil',\n",
       " 'uol',\n",
       " 'LucianoHuck',\n",
       " 'BernardoMF',\n",
       " 'JornalOGlobo',\n",
       " 'CBNoficial',\n",
       " 'fsantacruz_rj',\n",
       " 'RodrigoMaia',\n",
       " 'FHC',\n",
       " 'Bob_Fernandes',\n",
       " 'antonioprata01',\n",
       " 'jpcuenca',\n",
       " 'gmail',\n",
       " 'nadanovonofront',\n",
       " 'emicida',\n",
       " 'PauloVieiraReal',\n",
       " 'GilDoVigor',\n",
       " 'mynd8',\n",
       " 'melinatavares',\n",
       " 'GuilhermeBoulos',\n",
       " 'poderdata_',\n",
       " 'Poder360',\n",
       " 'PauloHartungES',\n",
       " 'willgomes',\n",
       " 'ufba',\n",
       " 'inctdd',\n",
       " 'CNPq',\n",
       " 'folha',\n",
       " 'canalmeio',\n",
       " 'metropole',\n",
       " 'GabineteBichos',\n",
       " 'demori',\n",
       " 'leandrodemori',\n",
       " 'RebeccaReCap',\n",
       " 'HarvardHBS',\n",
       " 'simonetebetbr',\n",
       " 'elpais_brasil',\n",
       " 'elenalandau2',\n",
       " 'FNAntirracista',\n",
       " 'JoaoCampos',\n",
       " 'rauljustelores',\n",
       " 'BorgesJMarcelo',\n",
       " 'DaniloGentili',\n",
       " 'LemosCidalemos',\n",
       " 'BitcoinFear',\n",
       " 'FabioHolder',\n",
       " 'angelowhosoever',\n",
       " 'macmasi',\n",
       " 'afterverse',\n",
       " 'pkxd',\n",
       " 'playkidsbr',\n",
       " 'macmagazine',\n",
       " 'analumasi',\n",
       " 'capasderevistas',\n",
       " 'GugaNoblat',\n",
       " 'thiagocapece',\n",
       " 'odiariosemanal',\n",
       " 'gongadadrag',\n",
       " 'menavisualss',\n",
       " 'deltanmd',\n",
       " 'partidonovo30',\n",
       " 'tumor_piadas',\n",
       " 'PedrinhoPamonha',\n",
       " 'plutaozinhobr',\n",
       " 'renato_battista',\n",
       " 'mblivre',\n",
       " 'martimvasques',\n",
       " 'samanthapearson',\n",
       " 'wsj',\n",
       " 'alessandrazv',\n",
       " 'OManelAlves',\n",
       " 'Camarotti',\n",
       " 'forbesbr',\n",
       " 'CrBeraldo',\n",
       " 'good_faces_bot',\n",
       " 'asIiceofhistory',\n",
       " 'rodrigoct',\n",
       " 'outrosarubo',\n",
       " 'enaldinho',\n",
       " 'Enaldinho',\n",
       " 'otaviano',\n",
       " 'falasdobatima',\n",
       " 'joannadeassis',\n",
       " 'elonmusk',\n",
       " 'LeoPicon',\n",
       " 'rodrigopacheco',\n",
       " 'UOL',\n",
       " 'uol',\n",
       " 'fabiolacidral',\n",
       " 'GeorgMarques',\n",
       " 'mvitorodrigues',\n",
       " 'mariosbessa',\n",
       " 'medleyadvisors',\n",
       " 'Control_Risks',\n",
       " 'business',\n",
       " 'folha',\n",
       " 'AgenciaEstado',\n",
       " 'pedrohen',\n",
       " 'MacMagazine',\n",
       " 'ctardaguila',\n",
       " 'agencialupa',\n",
       " 'Intrinseca',\n",
       " 'factchecknet',\n",
       " 'ICFJ',\n",
       " 'portalcnm',\n",
       " 'PauloCappelli_',\n",
       " 'metropoles',\n",
       " 'andrebasbaum',\n",
       " 'BrigitteSCollet',\n",
       " 'marchezan_',\n",
       " 'IgnacioYbanez',\n",
       " 'eeas',\n",
       " 'UEnoBrasil',\n",
       " 'UEnoBrasilEmb',\n",
       " 'mlourenzetto',\n",
       " 'cbnoficial',\n",
       " 'vanessalippelt',\n",
       " 'eclavery',\n",
       " 'anelise_g',\n",
       " 'fuadnoman',\n",
       " 'lbuchaul',\n",
       " 'conectas',\n",
       " 'tvglobo',\n",
       " 'vanessa_grazz',\n",
       " 'cirogomes',\n",
       " 'denirothenburg',\n",
       " 'secomvc',\n",
       " 'aguedescartoon',\n",
       " 'rodrigo_rangel',\n",
       " 'aldorebelo',\n",
       " 'rangel_caico',\n",
       " 'Wesle_souza',\n",
       " 'AraujoSaoPaulo',\n",
       " 'BonifacioPortal',\n",
       " 'GenLuizRamos',\n",
       " 'm_jackson09',\n",
       " 'XHportugues',\n",
       " 'globaltimesnews',\n",
       " 'UbookApp',\n",
       " 'marciofrancasp',\n",
       " 'RT_com',\n",
       " 'anacarolinazeri',\n",
       " 'GiladAtzmon',\n",
       " 'poetacicero',\n",
       " 'renancalheiros',\n",
       " 'operamundi',\n",
       " 'MSIa_br',\n",
       " 'Poder360',\n",
       " 'PalmeirasTour',\n",
       " 'TheEconomist',\n",
       " 'RuyRoodson',\n",
       " 'XHNews',\n",
       " 'folha',\n",
       " 'abolapt',\n",
       " 'expresso',\n",
       " 'el_pais',\n",
       " 'SiteDivergentes',\n",
       " 'CamiloSantanaCE',\n",
       " 'silviolual',\n",
       " 'de_usp',\n",
       " 'mdhcbrasil',\n",
       " 'padilhando',\n",
       " 'geraldoalckmin',\n",
       " 'PTnoSenado',\n",
       " 'xicosa',\n",
       " 'diarioonline',\n",
       " 'ICLnoticias',\n",
       " 'gmail',\n",
       " 'uol',\n",
       " 'padremanzotti',\n",
       " 'gabeiracombr',\n",
       " 'gcamarotti',\n",
       " 'AndreiaSadi',\n",
       " 'estudioi',\n",
       " 'globonews',\n",
       " 'g1',\n",
       " 'cbnoficial',\n",
       " 'monicabergamo',\n",
       " 'reinaldoazevedo',\n",
       " 'patriciapillar',\n",
       " 'felipeneto',\n",
       " 'play9',\n",
       " 'ptbrasil',\n",
       " 'EvandroLeitao',\n",
       " 'assembleiace',\n",
       " 'leitaocris',\n",
       " 'Haddad_Fernando',\n",
       " 'LulaOficial',\n",
       " 'JanjaLula',\n",
       " 'paulocamaraofc',\n",
       " 'joaoazevedolins',\n",
       " 'FlavioDino',\n",
       " 'fatimabezerra',\n",
       " 'belivaldochagas',\n",
       " 'RenanFilho_',\n",
       " 'costa_rui',\n",
       " 'wdiaspi',\n",
       " 'Haddad_Fernando',\n",
       " 'ParmelinG',\n",
       " '_RodrigoNeves_',\n",
       " 'canalgov',\n",
       " 'nisia_trindade',\n",
       " 'nsitharaman',\n",
       " 'nsitharamanoffc',\n",
       " 'CidaMulheres',\n",
       " 'mindasmulheres',\n",
       " 'edweck_rj',\n",
       " 'gestaogovbr',\n",
       " 'ie_ufrj',\n",
       " 'rehventura',\n",
       " 'Selma_Lula',\n",
       " 'viccommie',\n",
       " 'gavi',\n",
       " 'JMDBarroso',\n",
       " 'EU_Commission',\n",
       " 'Gavi',\n",
       " 'rodrigopacheco',\n",
       " 'CNNBrasil',\n",
       " 'esportescnn',\n",
       " 'cnnpop',\n",
       " 'cnneconomia',\n",
       " 'nolucrocnn',\n",
       " 'agenciabrasil',\n",
       " 'TesouroNacional',\n",
       " 'swgobetti1',\n",
       " 'gleicidamasceno',\n",
       " 'RSBarreirinhas',\n",
       " 'govbr',\n",
       " 'ReceitaFederal',\n",
       " 'GloboNews',\n",
       " 'aniellefranco',\n",
       " 'igualracial_gov',\n",
       " 'inst_marielle',\n",
       " 'mariellefranco',\n",
       " 'POTUS',\n",
       " 'FLOTUS',\n",
       " 'costa_rui',\n",
       " 'andrecarv_se',\n",
       " 'osergipense',\n",
       " 'she_carvalho',\n",
       " 'EmediatoLuiz',\n",
       " 'Lucianoteo2',\n",
       " 'MonequeRosiane',\n",
       " 'pedroprola',\n",
       " 'OleBergum',\n",
       " 'MantovaniCassia',\n",
       " 'LadoEsqLadoFort',\n",
       " 'Lena52446081',\n",
       " 'armenio_jr',\n",
       " 'BrennoCarnevale',\n",
       " 'Luizatorres1',\n",
       " 'DudaSalabert',\n",
       " 'deputadomarcon',\n",
       " 'opinapri',\n",
       " 'tiagobarbosa_',\n",
       " 'marciaandradeg',\n",
       " 'MarllaSabino',\n",
       " 'JotaInfo',\n",
       " 'jota',\n",
       " 'monica_benicio',\n",
       " 'gmail',\n",
       " 'aryvanazzi',\n",
       " 'arc_maiana',\n",
       " 'SpacesEstaçaoL13',\n",
       " 'HannaPacheco18',\n",
       " 'aguilarvctr',\n",
       " 'Luiza_RibeiroG',\n",
       " 'Rafael_RViegas',\n",
       " 'wdiaspi',\n",
       " 'canalgov',\n",
       " 'secomvc',\n",
       " 'pretozeze',\n",
       " 'cufario',\n",
       " 'mynd8',\n",
       " 'silviolual',\n",
       " 'de_usp',\n",
       " 'mdhcbrasil',\n",
       " 'Emiliojoaquimjr',\n",
       " 'sefazpi',\n",
       " 'mdsgovbr',\n",
       " 'PriscilaFCruz',\n",
       " ...]"
      ]
     },
     "execution_count": 2,
     "metadata": {},
     "output_type": "execute_result"
    }
   ],
   "source": [
    "followers_Brazil = []\n",
    "with open('followers_Brazil.txt', 'r') as f:\n",
    "    for line in f:\n",
    "        if \"@\" in line:\n",
    "            follower = line.strip()[1:]\n",
    "            print(follower)\n",
    "            followers_Brazil.append(follower)\n",
    "f.close()\n",
    "\n",
    "followers_Brazil"
   ]
  },
  {
   "cell_type": "code",
   "execution_count": 3,
   "id": "7ef62a8c",
   "metadata": {},
   "outputs": [
    {
     "data": {
      "text/plain": [
       "['cirogomes',\n",
       " 'leiladovolei',\n",
       " 'SorayaThronicke',\n",
       " 'cnnbrasil',\n",
       " 'gmail',\n",
       " 'o_antagonista',\n",
       " 's',\n",
       " 'reinaldoazevedo',\n",
       " 'VEJA',\n",
       " 'cristilobo',\n",
       " 'GloboNews',\n",
       " 'g1',\n",
       " 'globonews',\n",
       " 'gcamarotti',\n",
       " 'AndreiaSadi',\n",
       " 'estudioi',\n",
       " 'cbnoficial',\n",
       " 'juliaduailibi',\n",
       " 'SF_Moro',\n",
       " 'Estadao',\n",
       " 'JornalOGlobo',\n",
       " 'davialcolumbre',\n",
       " 'jdoriajr',\n",
       " 'gugachacra',\n",
       " 'mariana_godoy',\n",
       " 'POTUS',\n",
       " 'JoaoEnsina',\n",
       " 'manhattanc',\n",
       " 'manhattazanas',\n",
       " 'CBNoficial',\n",
       " 'efraimfilho',\n",
       " 'RodrigoCunhaAL',\n",
       " 'wilsonlimaAM',\n",
       " 'malugaspar',\n",
       " 'jornaloglobo',\n",
       " 'gabeiracombr',\n",
       " 'partidonovo30',\n",
       " 'de_usp',\n",
       " 'FlavioDino',\n",
       " 'LRobertoBarroso',\n",
       " 'OGloboPolitica',\n",
       " 'Carloshbfavaro',\n",
       " 'Jaderbfilho',\n",
       " 'nisia_trindade',\n",
       " 'jorgemessiasagu',\n",
       " 'MarinaSilva',\n",
       " 'CNNBrasil',\n",
       " 'esportescnn',\n",
       " 'cnnpop',\n",
       " 'cnneconomia',\n",
       " 'nolucrocnn',\n",
       " 'unb_oficial',\n",
       " 'govbr',\n",
       " 'folha',\n",
       " 'SenadoFederal',\n",
       " 'rogeriosmarinho',\n",
       " 'Zambelli2210',\n",
       " 'astropontes',\n",
       " 'TerezaCrisMS',\n",
       " 'LulaOficial',\n",
       " 'JanjaLula',\n",
       " 'Poder360',\n",
       " 'estadao',\n",
       " 'abraji',\n",
       " 'UOL',\n",
       " 'EduardoBraga_AM',\n",
       " 'revistapiaui',\n",
       " 'uol',\n",
       " 'mynd8',\n",
       " 'simonetebetbr',\n",
       " 'elonmusk',\n",
       " 'rodrigopacheco',\n",
       " 'ICFJ',\n",
       " 'metropoles',\n",
       " 'tvglobo',\n",
       " 'CamiloSantanaCE',\n",
       " 'silviolual',\n",
       " 'mdhcbrasil',\n",
       " 'RenanFilho_',\n",
       " 'costa_rui',\n",
       " 'wdiaspi',\n",
       " 'aniellefranco',\n",
       " 'igualracial_gov',\n",
       " 'inst_marielle',\n",
       " 'mariellefranco',\n",
       " 'FLOTUS',\n",
       " 'JotaInfo',\n",
       " 'RobertoRocha_MA',\n",
       " 'ErikakHilton',\n",
       " 'randolfeap',\n",
       " 'rosangelamorosp',\n",
       " 'marmilbr',\n",
       " 'camaradeputados',\n",
       " 'ContaratoSenado',\n",
       " 'Basiliarodri',\n",
       " 'waldezoficial',\n",
       " 'grupofolha',\n",
       " 'senadorcidgomes',\n",
       " 'valoreconomico',\n",
       " 'EduardoGomesTO',\n",
       " 'soudaniellapb',\n",
       " 'CazeTVOficial',\n",
       " 'radiobandnewsfm',\n",
       " 'AndreJanonesAdv',\n",
       " 'jairbolsonaro',\n",
       " 'MinAMendonca',\n",
       " 'majorolimpio',\n",
       " 'mtransportes',\n",
       " 'RicardoCappelli',\n",
       " 'juliette',\n",
       " 'DinoDebochado',\n",
       " 'anapaulalobato_',\n",
       " 'exercitooficial',\n",
       " 'angelocoronel_',\n",
       " 'BetoFaroPT',\n",
       " 'cleitinhotmj',\n",
       " 'augustabritoce',\n",
       " 'carlosfportinho',\n",
       " 'senadorchico',\n",
       " 'nelsinhotrad',\n",
       " 'JovemPanNews',\n",
       " 'STJnoticias',\n",
       " 'FlavioArns',\n",
       " 'elizianegama',\n",
       " 'SenadorRogerio',\n",
       " 'jaqueswagner',\n",
       " 'jeanpaulprates',\n",
       " 'zenaidern',\n",
       " 'PlinioValerio45',\n",
       " 'ZequinhaMarinho',\n",
       " 'senadorgiordano',\n",
       " 'irajasenador',\n",
       " 'LucasBarreto_AP',\n",
       " 'FlavioBolsonaro',\n",
       " 'renataagostini',\n",
       " 'ottoalencar',\n",
       " 'venezianovital']"
      ]
     },
     "execution_count": 3,
     "metadata": {},
     "output_type": "execute_result"
    }
   ],
   "source": [
    "count = Counter(followers_Brazil)\n",
    "\n",
    "followers_Brazil = []\n",
    "\n",
    "for key, value in count.items():\n",
    "    if value > 2:\n",
    "        followers_Brazil.append(key)\n",
    "        \n",
    "followers_Brazil"
   ]
  },
  {
   "cell_type": "code",
   "execution_count": null,
   "id": "ffa299e0",
   "metadata": {},
   "outputs": [],
   "source": []
  },
  {
   "cell_type": "code",
   "execution_count": 4,
   "id": "fd990abf",
   "metadata": {},
   "outputs": [],
   "source": [
    "tweets_dict = {}"
   ]
  },
  {
   "cell_type": "code",
   "execution_count": 5,
   "id": "cde51d2f",
   "metadata": {},
   "outputs": [],
   "source": [
    "driver = webdriver.Chrome()\n",
    "driver.get('https://twitter.com/i/flow/login')\n",
    "wait = WebDriverWait(driver, 10)\n"
   ]
  },
  {
   "cell_type": "code",
   "execution_count": 6,
   "id": "75f8f4a0",
   "metadata": {},
   "outputs": [],
   "source": [
    "### Log in\n",
    "\n",
    "# Username\n",
    "username = wait.until(\n",
    "    EC.presence_of_element_located((By.CSS_SELECTOR, 'input[autocomplete=username]'))\n",
    ")\n",
    "username.send_keys(\"rigautam@udel.edu\")\n",
    "time.sleep(3)\n",
    "login_button = wait.until(\n",
    "    EC.presence_of_element_located((By.CSS_SELECTOR, '[role=button].r-13qz1uu'))\n",
    ")\n",
    "login_button.click()\n",
    "time.sleep(3)\n",
    "\n",
    "try: \n",
    "    # Password\n",
    "    password = wait.until(\n",
    "        EC.presence_of_element_located((By.CSS_SELECTOR, '[type=password]'))\n",
    "    )\n",
    "    password.send_keys(\"Sus1234!\")\n",
    "    time.sleep(3)\n",
    "    login_button = wait.until(\n",
    "        EC.presence_of_element_located((By.CSS_SELECTOR, '[data-testid*=Login_Button]'))\n",
    "    )\n",
    "    login_button.click()\n",
    "    time.sleep(3)\n",
    "    \n",
    "except: # if we get an error\n",
    "    username = wait.until(\n",
    "        EC.presence_of_element_located((By.CSS_SELECTOR, \"[data-testid*=ocfEnterTextTextInput]\"))\n",
    "    )\n",
    "    username.send_keys(\"RichaGotem\")\n",
    "    time.sleep(3)\n",
    "    \n",
    "    next_button = wait.until(\n",
    "        EC.presence_of_element_located((By.CSS_SELECTOR, \"[data-testid*=ocfEnterTextNextButton]\"))\n",
    "    )\n",
    "    next_button.click()\n",
    "    time.sleep(3)\n",
    "    \n",
    "    password = wait.until(\n",
    "        EC.presence_of_element_located((By.CSS_SELECTOR, \"[name*=password]\"))\n",
    "    )\n",
    "    password.send_keys(\"Sus1234!\")\n",
    "    time.sleep(3)\n",
    "    \n",
    "    login_button = wait.until(\n",
    "        EC.presence_of_element_located((By.CSS_SELECTOR, \"[data-testid*=LoginForm_Login_Button]\"))\n",
    "    )\n",
    "    login_button.click()\n",
    "    time.sleep(3)\n",
    "    "
   ]
  },
  {
   "cell_type": "code",
   "execution_count": 7,
   "id": "50e3d8e5",
   "metadata": {},
   "outputs": [
    {
     "name": "stderr",
     "output_type": "stream",
     "text": [
      "\r",
      "  0%|                                                   | 0/137 [00:00<?, ?it/s]"
     ]
    },
    {
     "name": "stdout",
     "output_type": "stream",
     "text": [
      "cirogomes\n"
     ]
    },
    {
     "name": "stderr",
     "output_type": "stream",
     "text": [
      "\r",
      "  1%|▎                                        | 1/137 [00:49<1:51:33, 49.22s/it]"
     ]
    },
    {
     "name": "stdout",
     "output_type": "stream",
     "text": [
      "leiladovolei\n"
     ]
    },
    {
     "name": "stderr",
     "output_type": "stream",
     "text": [
      "\r",
      "  1%|▌                                        | 2/137 [01:13<1:18:22, 34.83s/it]"
     ]
    },
    {
     "name": "stdout",
     "output_type": "stream",
     "text": [
      "SorayaThronicke\n"
     ]
    },
    {
     "name": "stderr",
     "output_type": "stream",
     "text": [
      "\r",
      "  2%|▉                                        | 3/137 [01:38<1:07:32, 30.24s/it]"
     ]
    },
    {
     "name": "stdout",
     "output_type": "stream",
     "text": [
      "cnnbrasil\n"
     ]
    },
    {
     "name": "stderr",
     "output_type": "stream",
     "text": [
      "\r",
      "  3%|█▎                                         | 4/137 [01:57<56:54, 25.68s/it]"
     ]
    },
    {
     "name": "stdout",
     "output_type": "stream",
     "text": [
      "gmail\n"
     ]
    },
    {
     "name": "stderr",
     "output_type": "stream",
     "text": [
      "\r",
      "  4%|█▌                                         | 5/137 [02:19<53:17, 24.22s/it]"
     ]
    },
    {
     "name": "stdout",
     "output_type": "stream",
     "text": [
      "o_antagonista\n"
     ]
    },
    {
     "name": "stderr",
     "output_type": "stream",
     "text": [
      "\r",
      "  4%|█▉                                         | 6/137 [02:40<51:00, 23.37s/it]"
     ]
    },
    {
     "name": "stdout",
     "output_type": "stream",
     "text": [
      "s\n"
     ]
    },
    {
     "name": "stderr",
     "output_type": "stream",
     "text": [
      "\r",
      "  5%|██▏                                        | 7/137 [02:59<47:15, 21.81s/it]"
     ]
    },
    {
     "name": "stdout",
     "output_type": "stream",
     "text": [
      "reinaldoazevedo\n"
     ]
    },
    {
     "name": "stderr",
     "output_type": "stream",
     "text": [
      "\r",
      "  6%|██▍                                      | 8/137 [03:57<1:11:58, 33.47s/it]"
     ]
    },
    {
     "name": "stdout",
     "output_type": "stream",
     "text": [
      "VEJA\n"
     ]
    },
    {
     "name": "stderr",
     "output_type": "stream",
     "text": [
      "\r",
      "  7%|██▋                                      | 9/137 [04:16<1:01:31, 28.84s/it]"
     ]
    },
    {
     "name": "stdout",
     "output_type": "stream",
     "text": [
      "cristilobo\n"
     ]
    },
    {
     "name": "stderr",
     "output_type": "stream",
     "text": [
      "\r",
      "  7%|███                                       | 10/137 [04:35<54:30, 25.75s/it]"
     ]
    },
    {
     "name": "stdout",
     "output_type": "stream",
     "text": [
      "GloboNews\n"
     ]
    },
    {
     "name": "stderr",
     "output_type": "stream",
     "text": [
      "\r",
      "  8%|███▎                                      | 11/137 [04:53<49:30, 23.58s/it]"
     ]
    },
    {
     "name": "stdout",
     "output_type": "stream",
     "text": [
      "g1\n"
     ]
    },
    {
     "name": "stderr",
     "output_type": "stream",
     "text": [
      "\r",
      "  9%|███▋                                      | 12/137 [05:12<45:59, 22.07s/it]"
     ]
    },
    {
     "name": "stdout",
     "output_type": "stream",
     "text": [
      "globonews\n"
     ]
    },
    {
     "name": "stderr",
     "output_type": "stream",
     "text": [
      "\r",
      "  9%|███▉                                      | 13/137 [05:31<43:28, 21.04s/it]"
     ]
    },
    {
     "name": "stdout",
     "output_type": "stream",
     "text": [
      "gcamarotti\n"
     ]
    },
    {
     "name": "stderr",
     "output_type": "stream",
     "text": [
      "\r",
      " 10%|████▎                                     | 14/137 [05:52<43:30, 21.23s/it]"
     ]
    },
    {
     "name": "stdout",
     "output_type": "stream",
     "text": [
      "AndreiaSadi\n"
     ]
    },
    {
     "name": "stderr",
     "output_type": "stream",
     "text": [
      "\r",
      " 11%|████▌                                     | 15/137 [06:17<45:19, 22.29s/it]"
     ]
    },
    {
     "name": "stdout",
     "output_type": "stream",
     "text": [
      "estudioi\n"
     ]
    },
    {
     "name": "stderr",
     "output_type": "stream",
     "text": [
      "\r",
      " 12%|████▉                                     | 16/137 [06:36<42:45, 21.20s/it]"
     ]
    },
    {
     "name": "stdout",
     "output_type": "stream",
     "text": [
      "cbnoficial\n"
     ]
    },
    {
     "name": "stderr",
     "output_type": "stream",
     "text": [
      "\r",
      " 12%|█████▏                                    | 17/137 [06:54<40:50, 20.42s/it]"
     ]
    },
    {
     "name": "stdout",
     "output_type": "stream",
     "text": [
      "juliaduailibi\n"
     ]
    },
    {
     "name": "stderr",
     "output_type": "stream",
     "text": [
      "\r",
      " 13%|█████▌                                    | 18/137 [07:13<39:25, 19.88s/it]"
     ]
    },
    {
     "name": "stdout",
     "output_type": "stream",
     "text": [
      "SF_Moro\n"
     ]
    },
    {
     "name": "stderr",
     "output_type": "stream",
     "text": [
      "\r",
      " 14%|█████▊                                    | 19/137 [07:32<38:21, 19.50s/it]"
     ]
    },
    {
     "name": "stdout",
     "output_type": "stream",
     "text": [
      "Estadao\n"
     ]
    },
    {
     "name": "stderr",
     "output_type": "stream",
     "text": [
      "\r",
      " 15%|██████▏                                   | 20/137 [07:50<37:30, 19.23s/it]"
     ]
    },
    {
     "name": "stdout",
     "output_type": "stream",
     "text": [
      "JornalOGlobo\n"
     ]
    },
    {
     "name": "stderr",
     "output_type": "stream",
     "text": [
      "\r",
      " 15%|██████▍                                   | 21/137 [08:09<36:50, 19.06s/it]"
     ]
    },
    {
     "name": "stdout",
     "output_type": "stream",
     "text": [
      "davialcolumbre\n"
     ]
    },
    {
     "name": "stderr",
     "output_type": "stream",
     "text": [
      "\r",
      " 16%|██████▋                                   | 22/137 [08:28<36:16, 18.93s/it]"
     ]
    },
    {
     "name": "stdout",
     "output_type": "stream",
     "text": [
      "jdoriajr\n"
     ]
    },
    {
     "name": "stderr",
     "output_type": "stream",
     "text": [
      "\r",
      " 17%|███████                                   | 23/137 [08:46<35:47, 18.84s/it]"
     ]
    },
    {
     "name": "stdout",
     "output_type": "stream",
     "text": [
      "gugachacra\n"
     ]
    },
    {
     "name": "stderr",
     "output_type": "stream",
     "text": [
      "\r",
      " 18%|███████▎                                  | 24/137 [09:05<35:22, 18.78s/it]"
     ]
    },
    {
     "name": "stdout",
     "output_type": "stream",
     "text": [
      "mariana_godoy\n"
     ]
    },
    {
     "name": "stderr",
     "output_type": "stream",
     "text": [
      "\r",
      " 18%|███████▋                                  | 25/137 [09:24<34:59, 18.74s/it]"
     ]
    },
    {
     "name": "stdout",
     "output_type": "stream",
     "text": [
      "POTUS\n"
     ]
    },
    {
     "name": "stderr",
     "output_type": "stream",
     "text": [
      "\r",
      " 19%|███████▉                                  | 26/137 [09:42<34:36, 18.70s/it]"
     ]
    },
    {
     "name": "stdout",
     "output_type": "stream",
     "text": [
      "JoaoEnsina\n"
     ]
    },
    {
     "name": "stderr",
     "output_type": "stream",
     "text": [
      "\r",
      " 20%|████████▎                                 | 27/137 [10:01<34:16, 18.69s/it]"
     ]
    },
    {
     "name": "stdout",
     "output_type": "stream",
     "text": [
      "manhattanc\n"
     ]
    },
    {
     "name": "stderr",
     "output_type": "stream",
     "text": [
      "\r",
      " 20%|████████▌                                 | 28/137 [10:19<33:54, 18.67s/it]"
     ]
    },
    {
     "name": "stdout",
     "output_type": "stream",
     "text": [
      "manhattazanas\n"
     ]
    },
    {
     "name": "stderr",
     "output_type": "stream",
     "text": [
      "\r",
      " 21%|████████▉                                 | 29/137 [10:38<33:35, 18.67s/it]"
     ]
    },
    {
     "name": "stdout",
     "output_type": "stream",
     "text": [
      "CBNoficial\n"
     ]
    },
    {
     "name": "stderr",
     "output_type": "stream",
     "text": [
      "\r",
      " 22%|█████████▏                                | 30/137 [10:57<33:16, 18.66s/it]"
     ]
    },
    {
     "name": "stdout",
     "output_type": "stream",
     "text": [
      "efraimfilho\n"
     ]
    },
    {
     "name": "stderr",
     "output_type": "stream",
     "text": [
      "\r",
      " 23%|█████████▌                                | 31/137 [11:15<32:56, 18.64s/it]"
     ]
    },
    {
     "name": "stdout",
     "output_type": "stream",
     "text": [
      "RodrigoCunhaAL\n"
     ]
    },
    {
     "name": "stderr",
     "output_type": "stream",
     "text": [
      "\r",
      " 23%|█████████▊                                | 32/137 [11:34<32:38, 18.65s/it]"
     ]
    },
    {
     "name": "stdout",
     "output_type": "stream",
     "text": [
      "wilsonlimaAM\n"
     ]
    },
    {
     "name": "stderr",
     "output_type": "stream",
     "text": [
      "\r",
      " 24%|██████████                                | 33/137 [11:53<32:19, 18.65s/it]"
     ]
    },
    {
     "name": "stdout",
     "output_type": "stream",
     "text": [
      "malugaspar\n"
     ]
    },
    {
     "name": "stderr",
     "output_type": "stream",
     "text": [
      "\r",
      " 25%|██████████▍                               | 34/137 [12:11<32:00, 18.64s/it]"
     ]
    },
    {
     "name": "stdout",
     "output_type": "stream",
     "text": [
      "jornaloglobo\n"
     ]
    },
    {
     "name": "stderr",
     "output_type": "stream",
     "text": [
      "\r",
      " 26%|██████████▋                               | 35/137 [12:30<31:41, 18.64s/it]"
     ]
    },
    {
     "name": "stdout",
     "output_type": "stream",
     "text": [
      "gabeiracombr\n"
     ]
    },
    {
     "name": "stderr",
     "output_type": "stream",
     "text": [
      "\r",
      " 26%|███████████                               | 36/137 [12:49<31:22, 18.64s/it]"
     ]
    },
    {
     "name": "stdout",
     "output_type": "stream",
     "text": [
      "partidonovo30\n"
     ]
    },
    {
     "name": "stderr",
     "output_type": "stream",
     "text": [
      "\r",
      " 27%|███████████▎                              | 37/137 [13:07<31:05, 18.66s/it]"
     ]
    },
    {
     "name": "stdout",
     "output_type": "stream",
     "text": [
      "de_usp\n"
     ]
    },
    {
     "name": "stderr",
     "output_type": "stream",
     "text": [
      "\r",
      " 28%|███████████▋                              | 38/137 [13:26<30:46, 18.65s/it]"
     ]
    },
    {
     "name": "stdout",
     "output_type": "stream",
     "text": [
      "FlavioDino\n"
     ]
    },
    {
     "name": "stderr",
     "output_type": "stream",
     "text": [
      "\r",
      " 28%|███████████▉                              | 39/137 [13:45<30:27, 18.65s/it]"
     ]
    },
    {
     "name": "stdout",
     "output_type": "stream",
     "text": [
      "LRobertoBarroso\n"
     ]
    },
    {
     "name": "stderr",
     "output_type": "stream",
     "text": [
      "\r",
      " 29%|████████████▎                             | 40/137 [14:03<30:09, 18.65s/it]"
     ]
    },
    {
     "name": "stdout",
     "output_type": "stream",
     "text": [
      "OGloboPolitica\n"
     ]
    },
    {
     "name": "stderr",
     "output_type": "stream",
     "text": [
      "\r",
      " 30%|████████████▌                             | 41/137 [14:22<29:50, 18.66s/it]"
     ]
    },
    {
     "name": "stdout",
     "output_type": "stream",
     "text": [
      "Carloshbfavaro\n"
     ]
    },
    {
     "name": "stderr",
     "output_type": "stream",
     "text": [
      "\r",
      " 31%|████████████▉                             | 42/137 [14:41<29:33, 18.66s/it]"
     ]
    },
    {
     "name": "stdout",
     "output_type": "stream",
     "text": [
      "Jaderbfilho\n"
     ]
    },
    {
     "name": "stderr",
     "output_type": "stream",
     "text": [
      "\r",
      " 31%|█████████████▏                            | 43/137 [14:59<29:13, 18.66s/it]"
     ]
    },
    {
     "name": "stdout",
     "output_type": "stream",
     "text": [
      "nisia_trindade\n"
     ]
    },
    {
     "name": "stderr",
     "output_type": "stream",
     "text": [
      "\r",
      " 32%|█████████████▍                            | 44/137 [15:21<30:18, 19.56s/it]"
     ]
    },
    {
     "name": "stdout",
     "output_type": "stream",
     "text": [
      "jorgemessiasagu\n"
     ]
    },
    {
     "name": "stderr",
     "output_type": "stream",
     "text": [
      "\r",
      " 33%|█████████████▊                            | 45/137 [15:39<29:34, 19.29s/it]"
     ]
    },
    {
     "name": "stdout",
     "output_type": "stream",
     "text": [
      "MarinaSilva\n"
     ]
    },
    {
     "name": "stderr",
     "output_type": "stream",
     "text": [
      "\r",
      " 34%|██████████████                            | 46/137 [16:13<35:54, 23.68s/it]"
     ]
    },
    {
     "name": "stdout",
     "output_type": "stream",
     "text": [
      "CNNBrasil\n"
     ]
    },
    {
     "name": "stderr",
     "output_type": "stream",
     "text": [
      "\r",
      " 34%|██████████████▍                           | 47/137 [16:32<33:16, 22.18s/it]"
     ]
    },
    {
     "name": "stdout",
     "output_type": "stream",
     "text": [
      "esportescnn\n"
     ]
    },
    {
     "name": "stderr",
     "output_type": "stream",
     "text": [
      "\r",
      " 35%|██████████████▋                           | 48/137 [16:51<31:20, 21.12s/it]"
     ]
    },
    {
     "name": "stdout",
     "output_type": "stream",
     "text": [
      "cnnpop\n"
     ]
    },
    {
     "name": "stderr",
     "output_type": "stream",
     "text": [
      "\r",
      " 36%|███████████████                           | 49/137 [17:09<29:53, 20.38s/it]"
     ]
    },
    {
     "name": "stdout",
     "output_type": "stream",
     "text": [
      "cnneconomia\n"
     ]
    },
    {
     "name": "stderr",
     "output_type": "stream",
     "text": [
      "\r",
      " 36%|███████████████▎                          | 50/137 [17:28<28:47, 19.86s/it]"
     ]
    },
    {
     "name": "stdout",
     "output_type": "stream",
     "text": [
      "nolucrocnn\n"
     ]
    },
    {
     "name": "stderr",
     "output_type": "stream",
     "text": [
      "\r",
      " 37%|███████████████▋                          | 51/137 [17:47<27:56, 19.49s/it]"
     ]
    },
    {
     "name": "stdout",
     "output_type": "stream",
     "text": [
      "unb_oficial\n"
     ]
    },
    {
     "name": "stderr",
     "output_type": "stream",
     "text": [
      "\r",
      " 38%|███████████████▉                          | 52/137 [18:08<28:31, 20.13s/it]"
     ]
    },
    {
     "name": "stdout",
     "output_type": "stream",
     "text": [
      "govbr\n"
     ]
    },
    {
     "name": "stderr",
     "output_type": "stream",
     "text": [
      "\r",
      " 39%|████████████████▏                         | 53/137 [18:30<28:50, 20.60s/it]"
     ]
    },
    {
     "name": "stdout",
     "output_type": "stream",
     "text": [
      "folha\n"
     ]
    },
    {
     "name": "stderr",
     "output_type": "stream",
     "text": [
      "\r",
      " 39%|████████████████▌                         | 54/137 [18:52<28:56, 20.92s/it]"
     ]
    },
    {
     "name": "stdout",
     "output_type": "stream",
     "text": [
      "SenadoFederal\n"
     ]
    },
    {
     "name": "stderr",
     "output_type": "stream",
     "text": [
      "\r",
      " 40%|████████████████▊                         | 55/137 [19:13<28:54, 21.15s/it]"
     ]
    },
    {
     "name": "stdout",
     "output_type": "stream",
     "text": [
      "rogeriosmarinho\n"
     ]
    },
    {
     "name": "stderr",
     "output_type": "stream",
     "text": [
      "\r",
      " 41%|█████████████████▏                        | 56/137 [19:38<30:01, 22.24s/it]"
     ]
    },
    {
     "name": "stdout",
     "output_type": "stream",
     "text": [
      "Zambelli2210\n"
     ]
    },
    {
     "name": "stderr",
     "output_type": "stream",
     "text": [
      "\r",
      " 42%|█████████████████▍                        | 57/137 [20:09<33:04, 24.81s/it]"
     ]
    },
    {
     "name": "stdout",
     "output_type": "stream",
     "text": [
      "astropontes\n"
     ]
    },
    {
     "name": "stderr",
     "output_type": "stream",
     "text": [
      "\r",
      " 42%|█████████████████▊                        | 58/137 [20:31<31:25, 23.86s/it]"
     ]
    },
    {
     "name": "stdout",
     "output_type": "stream",
     "text": [
      "TerezaCrisMS\n"
     ]
    },
    {
     "name": "stderr",
     "output_type": "stream",
     "text": [
      "\r",
      " 43%|██████████████████                        | 59/137 [20:52<30:09, 23.20s/it]"
     ]
    },
    {
     "name": "stdout",
     "output_type": "stream",
     "text": [
      "LulaOficial\n"
     ]
    },
    {
     "name": "stderr",
     "output_type": "stream",
     "text": [
      "\r",
      " 44%|██████████████████▍                       | 60/137 [21:57<45:43, 35.63s/it]"
     ]
    },
    {
     "name": "stdout",
     "output_type": "stream",
     "text": [
      "JanjaLula\n"
     ]
    },
    {
     "name": "stderr",
     "output_type": "stream",
     "text": [
      "\r",
      " 45%|██████████████████▋                       | 61/137 [22:16<38:40, 30.53s/it]"
     ]
    },
    {
     "name": "stdout",
     "output_type": "stream",
     "text": [
      "Poder360\n"
     ]
    },
    {
     "name": "stderr",
     "output_type": "stream",
     "text": [
      "\r",
      " 45%|███████████████████                       | 62/137 [22:34<33:42, 26.97s/it]"
     ]
    },
    {
     "name": "stdout",
     "output_type": "stream",
     "text": [
      "estadao\n"
     ]
    },
    {
     "name": "stderr",
     "output_type": "stream",
     "text": [
      "\r",
      " 46%|███████████████████▎                      | 63/137 [22:53<30:11, 24.48s/it]"
     ]
    },
    {
     "name": "stdout",
     "output_type": "stream",
     "text": [
      "abraji\n"
     ]
    },
    {
     "name": "stderr",
     "output_type": "stream",
     "text": [
      "\r",
      " 47%|███████████████████▌                      | 64/137 [23:11<27:38, 22.71s/it]"
     ]
    },
    {
     "name": "stdout",
     "output_type": "stream",
     "text": [
      "UOL\n"
     ]
    },
    {
     "name": "stderr",
     "output_type": "stream",
     "text": [
      "\r",
      " 47%|███████████████████▉                      | 65/137 [23:30<25:48, 21.50s/it]"
     ]
    },
    {
     "name": "stdout",
     "output_type": "stream",
     "text": [
      "EduardoBraga_AM\n"
     ]
    },
    {
     "name": "stderr",
     "output_type": "stream",
     "text": [
      "\r",
      " 48%|████████████████████▏                     | 66/137 [23:49<24:25, 20.64s/it]"
     ]
    },
    {
     "name": "stdout",
     "output_type": "stream",
     "text": [
      "revistapiaui\n"
     ]
    },
    {
     "name": "stderr",
     "output_type": "stream",
     "text": [
      "\r",
      " 49%|████████████████████▌                     | 67/137 [24:07<23:22, 20.04s/it]"
     ]
    },
    {
     "name": "stdout",
     "output_type": "stream",
     "text": [
      "uol\n"
     ]
    },
    {
     "name": "stderr",
     "output_type": "stream",
     "text": [
      "\r",
      " 50%|████████████████████▊                     | 68/137 [24:26<22:33, 19.61s/it]"
     ]
    },
    {
     "name": "stdout",
     "output_type": "stream",
     "text": [
      "mynd8\n"
     ]
    },
    {
     "name": "stderr",
     "output_type": "stream",
     "text": [
      "\r",
      " 50%|█████████████████████▏                    | 69/137 [24:45<21:52, 19.31s/it]"
     ]
    },
    {
     "name": "stdout",
     "output_type": "stream",
     "text": [
      "simonetebetbr\n"
     ]
    },
    {
     "name": "stderr",
     "output_type": "stream",
     "text": [
      "\r",
      " 51%|█████████████████████▍                    | 70/137 [25:03<21:21, 19.12s/it]"
     ]
    },
    {
     "name": "stdout",
     "output_type": "stream",
     "text": [
      "elonmusk\n"
     ]
    },
    {
     "name": "stderr",
     "output_type": "stream",
     "text": [
      "\r",
      " 52%|█████████████████████▊                    | 71/137 [25:22<20:52, 18.97s/it]"
     ]
    },
    {
     "name": "stdout",
     "output_type": "stream",
     "text": [
      "rodrigopacheco\n"
     ]
    },
    {
     "name": "stderr",
     "output_type": "stream",
     "text": [
      "\r",
      " 53%|██████████████████████                    | 72/137 [25:41<20:26, 18.87s/it]"
     ]
    },
    {
     "name": "stdout",
     "output_type": "stream",
     "text": [
      "ICFJ\n"
     ]
    },
    {
     "name": "stderr",
     "output_type": "stream",
     "text": [
      "\r",
      " 53%|██████████████████████▍                   | 73/137 [25:59<20:02, 18.79s/it]"
     ]
    },
    {
     "name": "stdout",
     "output_type": "stream",
     "text": [
      "metropoles\n"
     ]
    },
    {
     "name": "stderr",
     "output_type": "stream",
     "text": [
      "\r",
      " 54%|██████████████████████▋                   | 74/137 [26:18<19:40, 18.74s/it]"
     ]
    },
    {
     "name": "stdout",
     "output_type": "stream",
     "text": [
      "tvglobo\n"
     ]
    },
    {
     "name": "stderr",
     "output_type": "stream",
     "text": [
      "\r",
      " 55%|██████████████████████▉                   | 75/137 [26:36<19:20, 18.72s/it]"
     ]
    },
    {
     "name": "stdout",
     "output_type": "stream",
     "text": [
      "CamiloSantanaCE\n"
     ]
    },
    {
     "name": "stderr",
     "output_type": "stream",
     "text": [
      "\r",
      " 55%|███████████████████████▎                  | 76/137 [26:55<19:00, 18.70s/it]"
     ]
    },
    {
     "name": "stdout",
     "output_type": "stream",
     "text": [
      "silviolual\n"
     ]
    },
    {
     "name": "stderr",
     "output_type": "stream",
     "text": [
      "\r",
      " 56%|███████████████████████▌                  | 77/137 [27:14<18:40, 18.68s/it]"
     ]
    },
    {
     "name": "stdout",
     "output_type": "stream",
     "text": [
      "mdhcbrasil\n"
     ]
    },
    {
     "name": "stderr",
     "output_type": "stream",
     "text": [
      "\r",
      " 57%|███████████████████████▉                  | 78/137 [27:32<18:21, 18.67s/it]"
     ]
    },
    {
     "name": "stdout",
     "output_type": "stream",
     "text": [
      "RenanFilho_\n"
     ]
    },
    {
     "name": "stderr",
     "output_type": "stream",
     "text": [
      "\r",
      " 58%|████████████████████████▏                 | 79/137 [27:51<18:01, 18.65s/it]"
     ]
    },
    {
     "name": "stdout",
     "output_type": "stream",
     "text": [
      "costa_rui\n"
     ]
    },
    {
     "name": "stderr",
     "output_type": "stream",
     "text": [
      "\r",
      " 58%|████████████████████████▌                 | 80/137 [28:10<17:42, 18.63s/it]"
     ]
    },
    {
     "name": "stdout",
     "output_type": "stream",
     "text": [
      "wdiaspi\n"
     ]
    },
    {
     "name": "stderr",
     "output_type": "stream",
     "text": [
      "\r",
      " 59%|████████████████████████▊                 | 81/137 [28:28<17:22, 18.62s/it]"
     ]
    },
    {
     "name": "stdout",
     "output_type": "stream",
     "text": [
      "aniellefranco\n"
     ]
    },
    {
     "name": "stderr",
     "output_type": "stream",
     "text": [
      "\r",
      " 60%|█████████████████████████▏                | 82/137 [28:47<17:04, 18.63s/it]"
     ]
    },
    {
     "name": "stdout",
     "output_type": "stream",
     "text": [
      "igualracial_gov\n"
     ]
    },
    {
     "name": "stderr",
     "output_type": "stream",
     "text": [
      "\r",
      " 61%|█████████████████████████▍                | 83/137 [29:05<16:46, 18.63s/it]"
     ]
    },
    {
     "name": "stdout",
     "output_type": "stream",
     "text": [
      "inst_marielle\n"
     ]
    },
    {
     "name": "stderr",
     "output_type": "stream",
     "text": [
      "\r",
      " 61%|█████████████████████████▊                | 84/137 [29:24<16:27, 18.63s/it]"
     ]
    },
    {
     "name": "stdout",
     "output_type": "stream",
     "text": [
      "mariellefranco\n"
     ]
    },
    {
     "name": "stderr",
     "output_type": "stream",
     "text": [
      "\r",
      " 62%|██████████████████████████                | 85/137 [29:43<16:08, 18.63s/it]"
     ]
    },
    {
     "name": "stdout",
     "output_type": "stream",
     "text": [
      "FLOTUS\n"
     ]
    },
    {
     "name": "stderr",
     "output_type": "stream",
     "text": [
      "\r",
      " 63%|██████████████████████████▎               | 86/137 [30:01<15:49, 18.62s/it]"
     ]
    },
    {
     "name": "stdout",
     "output_type": "stream",
     "text": [
      "JotaInfo\n"
     ]
    },
    {
     "name": "stderr",
     "output_type": "stream",
     "text": [
      "\r",
      " 64%|██████████████████████████▋               | 87/137 [30:23<16:16, 19.54s/it]"
     ]
    },
    {
     "name": "stdout",
     "output_type": "stream",
     "text": [
      "RobertoRocha_MA\n"
     ]
    },
    {
     "name": "stderr",
     "output_type": "stream",
     "text": [
      "\r",
      " 64%|██████████████████████████▉               | 88/137 [30:45<16:28, 20.18s/it]"
     ]
    },
    {
     "name": "stdout",
     "output_type": "stream",
     "text": [
      "ErikakHilton\n"
     ]
    },
    {
     "name": "stderr",
     "output_type": "stream",
     "text": [
      "\r",
      " 65%|███████████████████████████▎              | 89/137 [31:40<24:32, 30.69s/it]"
     ]
    },
    {
     "name": "stdout",
     "output_type": "stream",
     "text": [
      "randolfeap\n"
     ]
    },
    {
     "name": "stderr",
     "output_type": "stream",
     "text": [
      "\r",
      " 66%|███████████████████████████▌              | 90/137 [32:44<31:59, 40.83s/it]"
     ]
    },
    {
     "name": "stdout",
     "output_type": "stream",
     "text": [
      "rosangelamorosp\n"
     ]
    },
    {
     "name": "stderr",
     "output_type": "stream",
     "text": [
      "\r",
      " 66%|███████████████████████████▉              | 91/137 [33:09<27:36, 36.02s/it]"
     ]
    },
    {
     "name": "stdout",
     "output_type": "stream",
     "text": [
      "marmilbr\n"
     ]
    },
    {
     "name": "stderr",
     "output_type": "stream",
     "text": [
      "\r",
      " 67%|████████████████████████████▏             | 92/137 [33:31<23:46, 31.71s/it]"
     ]
    },
    {
     "name": "stdout",
     "output_type": "stream",
     "text": [
      "camaradeputados\n"
     ]
    },
    {
     "name": "stderr",
     "output_type": "stream",
     "text": [
      "\r",
      " 68%|████████████████████████████▌             | 93/137 [33:52<21:02, 28.69s/it]"
     ]
    },
    {
     "name": "stdout",
     "output_type": "stream",
     "text": [
      "ContaratoSenado\n"
     ]
    },
    {
     "name": "stderr",
     "output_type": "stream",
     "text": [
      "\r",
      " 69%|████████████████████████████▊             | 94/137 [34:17<19:42, 27.50s/it]"
     ]
    },
    {
     "name": "stdout",
     "output_type": "stream",
     "text": [
      "Basiliarodri\n"
     ]
    },
    {
     "name": "stderr",
     "output_type": "stream",
     "text": [
      "\r",
      " 69%|█████████████████████████████             | 95/137 [34:42<18:42, 26.73s/it]"
     ]
    },
    {
     "name": "stdout",
     "output_type": "stream",
     "text": [
      "waldezoficial\n"
     ]
    },
    {
     "name": "stderr",
     "output_type": "stream",
     "text": [
      "\r",
      " 70%|█████████████████████████████▍            | 96/137 [35:04<17:13, 25.21s/it]"
     ]
    },
    {
     "name": "stdout",
     "output_type": "stream",
     "text": [
      "grupofolha\n"
     ]
    },
    {
     "name": "stderr",
     "output_type": "stream",
     "text": [
      "\r",
      " 71%|█████████████████████████████▋            | 97/137 [35:22<15:29, 23.23s/it]"
     ]
    },
    {
     "name": "stdout",
     "output_type": "stream",
     "text": [
      "senadorcidgomes\n"
     ]
    },
    {
     "name": "stderr",
     "output_type": "stream",
     "text": [
      "\r",
      " 72%|██████████████████████████████            | 98/137 [35:44<14:48, 22.77s/it]"
     ]
    },
    {
     "name": "stdout",
     "output_type": "stream",
     "text": [
      "valoreconomico\n"
     ]
    },
    {
     "name": "stderr",
     "output_type": "stream",
     "text": [
      "\r",
      " 72%|██████████████████████████████▎           | 99/137 [36:03<13:38, 21.53s/it]"
     ]
    },
    {
     "name": "stdout",
     "output_type": "stream",
     "text": [
      "EduardoGomesTO\n"
     ]
    },
    {
     "name": "stderr",
     "output_type": "stream",
     "text": [
      "\r",
      " 73%|█████████████████████████████▉           | 100/137 [36:21<12:44, 20.66s/it]"
     ]
    },
    {
     "name": "stdout",
     "output_type": "stream",
     "text": [
      "soudaniellapb\n"
     ]
    },
    {
     "name": "stderr",
     "output_type": "stream",
     "text": [
      "\r",
      " 74%|██████████████████████████████▏          | 101/137 [36:40<12:01, 20.05s/it]"
     ]
    },
    {
     "name": "stdout",
     "output_type": "stream",
     "text": [
      "CazeTVOficial\n"
     ]
    },
    {
     "name": "stderr",
     "output_type": "stream",
     "text": [
      "\r",
      " 74%|██████████████████████████████▌          | 102/137 [36:59<11:27, 19.63s/it]"
     ]
    },
    {
     "name": "stdout",
     "output_type": "stream",
     "text": [
      "radiobandnewsfm\n"
     ]
    },
    {
     "name": "stderr",
     "output_type": "stream",
     "text": [
      "\r",
      " 75%|██████████████████████████████▊          | 103/137 [37:17<10:57, 19.34s/it]"
     ]
    },
    {
     "name": "stdout",
     "output_type": "stream",
     "text": [
      "AndreJanonesAdv\n"
     ]
    },
    {
     "name": "stderr",
     "output_type": "stream",
     "text": [
      "\r",
      " 76%|███████████████████████████████          | 104/137 [37:36<10:31, 19.13s/it]"
     ]
    },
    {
     "name": "stdout",
     "output_type": "stream",
     "text": [
      "jairbolsonaro\n"
     ]
    },
    {
     "name": "stderr",
     "output_type": "stream",
     "text": [
      "\r",
      " 77%|███████████████████████████████▍         | 105/137 [37:55<10:07, 18.98s/it]"
     ]
    },
    {
     "name": "stdout",
     "output_type": "stream",
     "text": [
      "MinAMendonca\n"
     ]
    },
    {
     "name": "stderr",
     "output_type": "stream",
     "text": [
      "\r",
      " 77%|███████████████████████████████▋         | 106/137 [38:13<09:45, 18.87s/it]"
     ]
    },
    {
     "name": "stdout",
     "output_type": "stream",
     "text": [
      "majorolimpio\n"
     ]
    },
    {
     "name": "stderr",
     "output_type": "stream",
     "text": [
      "\r",
      " 78%|████████████████████████████████         | 107/137 [38:32<09:23, 18.80s/it]"
     ]
    },
    {
     "name": "stdout",
     "output_type": "stream",
     "text": [
      "mtransportes\n"
     ]
    },
    {
     "name": "stderr",
     "output_type": "stream",
     "text": [
      "\r",
      " 79%|████████████████████████████████▎        | 108/137 [38:50<09:03, 18.75s/it]"
     ]
    },
    {
     "name": "stdout",
     "output_type": "stream",
     "text": [
      "RicardoCappelli\n"
     ]
    },
    {
     "name": "stderr",
     "output_type": "stream",
     "text": [
      "\r",
      " 80%|████████████████████████████████▌        | 109/137 [39:09<08:43, 18.71s/it]"
     ]
    },
    {
     "name": "stdout",
     "output_type": "stream",
     "text": [
      "juliette\n"
     ]
    },
    {
     "name": "stderr",
     "output_type": "stream",
     "text": [
      "\r",
      " 80%|████████████████████████████████▉        | 110/137 [39:28<08:24, 18.69s/it]"
     ]
    },
    {
     "name": "stdout",
     "output_type": "stream",
     "text": [
      "DinoDebochado\n"
     ]
    },
    {
     "name": "stderr",
     "output_type": "stream",
     "text": [
      "\r",
      " 81%|█████████████████████████████████▏       | 111/137 [39:46<08:05, 18.67s/it]"
     ]
    },
    {
     "name": "stdout",
     "output_type": "stream",
     "text": [
      "anapaulalobato_\n"
     ]
    },
    {
     "name": "stderr",
     "output_type": "stream",
     "text": [
      "\r",
      " 82%|█████████████████████████████████▌       | 112/137 [40:05<07:46, 18.66s/it]"
     ]
    },
    {
     "name": "stdout",
     "output_type": "stream",
     "text": [
      "exercitooficial\n"
     ]
    },
    {
     "name": "stderr",
     "output_type": "stream",
     "text": [
      "\r",
      " 82%|█████████████████████████████████▊       | 113/137 [40:24<07:27, 18.65s/it]"
     ]
    },
    {
     "name": "stdout",
     "output_type": "stream",
     "text": [
      "angelocoronel_\n"
     ]
    },
    {
     "name": "stderr",
     "output_type": "stream",
     "text": [
      "\r",
      " 83%|██████████████████████████████████       | 114/137 [40:42<07:09, 18.65s/it]"
     ]
    },
    {
     "name": "stdout",
     "output_type": "stream",
     "text": [
      "BetoFaroPT\n"
     ]
    },
    {
     "name": "stderr",
     "output_type": "stream",
     "text": [
      "\r",
      " 84%|██████████████████████████████████▍      | 115/137 [41:01<06:50, 18.65s/it]"
     ]
    },
    {
     "name": "stdout",
     "output_type": "stream",
     "text": [
      "cleitinhotmj\n"
     ]
    },
    {
     "name": "stderr",
     "output_type": "stream",
     "text": [
      "\r",
      " 85%|██████████████████████████████████▋      | 116/137 [41:20<06:31, 18.64s/it]"
     ]
    },
    {
     "name": "stdout",
     "output_type": "stream",
     "text": [
      "augustabritoce\n"
     ]
    },
    {
     "name": "stderr",
     "output_type": "stream",
     "text": [
      "\r",
      " 85%|███████████████████████████████████      | 117/137 [41:38<06:12, 18.64s/it]"
     ]
    },
    {
     "name": "stdout",
     "output_type": "stream",
     "text": [
      "carlosfportinho\n"
     ]
    },
    {
     "name": "stderr",
     "output_type": "stream",
     "text": [
      "\r",
      " 86%|███████████████████████████████████▎     | 118/137 [41:57<05:54, 18.64s/it]"
     ]
    },
    {
     "name": "stdout",
     "output_type": "stream",
     "text": [
      "senadorchico\n"
     ]
    },
    {
     "name": "stderr",
     "output_type": "stream",
     "text": [
      "\r",
      " 87%|███████████████████████████████████▌     | 119/137 [42:16<05:36, 18.68s/it]"
     ]
    },
    {
     "name": "stdout",
     "output_type": "stream",
     "text": [
      "nelsinhotrad\n"
     ]
    },
    {
     "name": "stderr",
     "output_type": "stream",
     "text": [
      "\r",
      " 88%|███████████████████████████████████▉     | 120/137 [42:34<05:17, 18.66s/it]"
     ]
    },
    {
     "name": "stdout",
     "output_type": "stream",
     "text": [
      "JovemPanNews\n"
     ]
    },
    {
     "name": "stderr",
     "output_type": "stream",
     "text": [
      "\r",
      " 88%|████████████████████████████████████▏    | 121/137 [42:53<04:58, 18.65s/it]"
     ]
    },
    {
     "name": "stdout",
     "output_type": "stream",
     "text": [
      "STJnoticias\n"
     ]
    },
    {
     "name": "stderr",
     "output_type": "stream",
     "text": [
      "\r",
      " 89%|████████████████████████████████████▌    | 122/137 [43:11<04:39, 18.65s/it]"
     ]
    },
    {
     "name": "stdout",
     "output_type": "stream",
     "text": [
      "FlavioArns\n"
     ]
    },
    {
     "name": "stderr",
     "output_type": "stream",
     "text": [
      "\r",
      " 90%|████████████████████████████████████▊    | 123/137 [43:30<04:21, 18.66s/it]"
     ]
    },
    {
     "name": "stdout",
     "output_type": "stream",
     "text": [
      "elizianegama\n"
     ]
    },
    {
     "name": "stderr",
     "output_type": "stream",
     "text": [
      "\r",
      " 91%|█████████████████████████████████████    | 124/137 [43:49<04:02, 18.65s/it]"
     ]
    },
    {
     "name": "stdout",
     "output_type": "stream",
     "text": [
      "SenadorRogerio\n"
     ]
    },
    {
     "name": "stderr",
     "output_type": "stream",
     "text": [
      "\r",
      " 91%|█████████████████████████████████████▍   | 125/137 [44:07<03:43, 18.65s/it]"
     ]
    },
    {
     "name": "stdout",
     "output_type": "stream",
     "text": [
      "jaqueswagner\n"
     ]
    },
    {
     "name": "stderr",
     "output_type": "stream",
     "text": [
      "\r",
      " 92%|█████████████████████████████████████▋   | 126/137 [44:26<03:25, 18.64s/it]"
     ]
    },
    {
     "name": "stdout",
     "output_type": "stream",
     "text": [
      "jeanpaulprates\n"
     ]
    },
    {
     "name": "stderr",
     "output_type": "stream",
     "text": [
      "\r",
      " 93%|██████████████████████████████████████   | 127/137 [44:45<03:06, 18.63s/it]"
     ]
    },
    {
     "name": "stdout",
     "output_type": "stream",
     "text": [
      "zenaidern\n"
     ]
    },
    {
     "name": "stderr",
     "output_type": "stream",
     "text": [
      "\r",
      " 93%|██████████████████████████████████████▎  | 128/137 [45:03<02:47, 18.64s/it]"
     ]
    },
    {
     "name": "stdout",
     "output_type": "stream",
     "text": [
      "PlinioValerio45\n"
     ]
    },
    {
     "name": "stderr",
     "output_type": "stream",
     "text": [
      "\r",
      " 94%|██████████████████████████████████████▌  | 129/137 [45:25<02:36, 19.55s/it]"
     ]
    },
    {
     "name": "stdout",
     "output_type": "stream",
     "text": [
      "ZequinhaMarinho\n"
     ]
    },
    {
     "name": "stderr",
     "output_type": "stream",
     "text": [
      "\r",
      " 95%|██████████████████████████████████████▉  | 130/137 [45:44<02:14, 19.28s/it]"
     ]
    },
    {
     "name": "stdout",
     "output_type": "stream",
     "text": [
      "senadorgiordano\n"
     ]
    },
    {
     "name": "stderr",
     "output_type": "stream",
     "text": [
      "\r",
      " 96%|███████████████████████████████████████▏ | 131/137 [46:02<01:54, 19.08s/it]"
     ]
    },
    {
     "name": "stdout",
     "output_type": "stream",
     "text": [
      "irajasenador\n"
     ]
    },
    {
     "name": "stderr",
     "output_type": "stream",
     "text": [
      "\r",
      " 96%|███████████████████████████████████████▌ | 132/137 [46:21<01:34, 18.95s/it]"
     ]
    },
    {
     "name": "stdout",
     "output_type": "stream",
     "text": [
      "LucasBarreto_AP\n"
     ]
    },
    {
     "name": "stderr",
     "output_type": "stream",
     "text": [
      "\r",
      " 97%|███████████████████████████████████████▊ | 133/137 [46:40<01:15, 18.86s/it]"
     ]
    },
    {
     "name": "stdout",
     "output_type": "stream",
     "text": [
      "FlavioBolsonaro\n"
     ]
    },
    {
     "name": "stderr",
     "output_type": "stream",
     "text": [
      "\r",
      " 98%|████████████████████████████████████████ | 134/137 [47:13<01:10, 23.38s/it]"
     ]
    },
    {
     "name": "stdout",
     "output_type": "stream",
     "text": [
      "renataagostini\n"
     ]
    },
    {
     "name": "stderr",
     "output_type": "stream",
     "text": [
      "\r",
      " 99%|████████████████████████████████████████▍| 135/137 [47:38<00:47, 23.78s/it]"
     ]
    },
    {
     "name": "stdout",
     "output_type": "stream",
     "text": [
      "ottoalencar\n"
     ]
    },
    {
     "name": "stderr",
     "output_type": "stream",
     "text": [
      "\r",
      " 99%|████████████████████████████████████████▋| 136/137 [48:00<00:23, 23.17s/it]"
     ]
    },
    {
     "name": "stdout",
     "output_type": "stream",
     "text": [
      "venezianovital\n"
     ]
    },
    {
     "name": "stderr",
     "output_type": "stream",
     "text": [
      "100%|█████████████████████████████████████████| 137/137 [48:22<00:00, 21.18s/it]\n"
     ]
    }
   ],
   "source": [
    " for profile in tqdm(followers_Brazil):\n",
    "    \n",
    "    if profile not in tweets_dict.keys():\n",
    "        print(profile)\n",
    "\n",
    "        tweets_dict[profile] = []\n",
    "\n",
    "        ### Begin scrape\n",
    "        time.sleep(3)\n",
    "\n",
    "        # Search\n",
    "        search_button = wait.until(\n",
    "            EC.presence_of_element_located((By.CSS_SELECTOR, '[aria-label=\"Search and explore\"]'))\n",
    "        )\n",
    "        search_button.click()\n",
    "        time.sleep(3)\n",
    "\n",
    "        search_bar = wait.until(\n",
    "            EC.presence_of_element_located((By.CSS_SELECTOR, '[aria-label=\"Search\"]'))\n",
    "        )\n",
    "        search_bar.click()\n",
    "        time.sleep(3)\n",
    "\n",
    "        search_query = wait.until(\n",
    "            EC.presence_of_element_located((By.CSS_SELECTOR, '[aria-label=\"Search query\"]'))\n",
    "        )\n",
    "        # Advanced search query\n",
    "        search_query.send_keys(f'(from:{profile}) min_faves:100 until:2023-01-31 since:2022-06-01 -filter:links -filter:replies')\n",
    "        search_query.send_keys(Keys.RETURN)\n",
    "        time.sleep(6)\n",
    "        \n",
    "        # Scroll until you cannot scroll anymore\n",
    "        reached_page_end = False\n",
    "        last_height = driver.execute_script(\"return document.body.scrollHeight\")\n",
    "\n",
    "        while not reached_page_end:\n",
    "            driver.execute_script(\"window.scrollTo(0, document.body.scrollHeight)\")   \n",
    "            time.sleep(3)\n",
    "            new_height = driver.execute_script(\"return document.body.scrollHeight\")\n",
    "            if last_height == new_height:\n",
    "                reached_page_end = True\n",
    "            else:\n",
    "                last_height = new_height\n",
    "        try:\n",
    "            # Select the home timeline div\n",
    "            search_results = driver.find_element(By.CSS_SELECTOR, '[aria-label=\"Timeline: Search timeline\"]')\n",
    "            # Just get all the HTML, will parse later\n",
    "            tweets_listed = search_results.get_attribute('innerHTML')\n",
    "            time.sleep(3)\n",
    "\n",
    "            # Append to dict\n",
    "            tweets_dict[profile].append(tweets_listed)\n",
    "        except:\n",
    "            pass\n",
    "\n"
   ]
  },
  {
   "cell_type": "code",
   "execution_count": 8,
   "id": "f8f08b8b",
   "metadata": {},
   "outputs": [],
   "source": [
    "driver.quit()"
   ]
  },
  {
   "cell_type": "code",
   "execution_count": 9,
   "id": "3977cbd4",
   "metadata": {},
   "outputs": [],
   "source": [
    "with open(\"Brazil_tweets.json\", 'w') as file:\n",
    "    json.dump(tweets_dict, file)"
   ]
  },
  {
   "cell_type": "code",
   "execution_count": null,
   "id": "734358b5",
   "metadata": {},
   "outputs": [],
   "source": []
  },
  {
   "cell_type": "code",
   "execution_count": 19,
   "id": "40ed88b9",
   "metadata": {},
   "outputs": [
    {
     "name": "stdout",
     "output_type": "stream",
     "text": [
      "HoweDefendsUSA\n",
      "LoriWescott\n",
      "richsignorelli\n",
      "harvard_law\n",
      "KiraResistance\n",
      "CYA1959\n",
      "Victor_Asal\n",
      "UAlbany\n",
      "victorasal\n",
      "juliettekayyem\n",
      "Kennedy_School\n",
      "CNN\n",
      "TheAtlantic\n",
      "DHSgov\n",
      "Lawrenc00642407\n",
      "WAPO\n",
      "Brandonontheup\n",
      "HeathWatchman\n",
      "C8tetate\n",
      "mcford77\n",
      "RobertoBelen5\n",
      "CoffeeWoodwork\n",
      "DishCommish\n",
      "JohnCena\n",
      "bjwinnerdavis\n",
      "winnerbrittany\n",
      "LadySewage\n",
      "ewwerner181\n",
      "TrumpThief\n",
      "sandybalduf\n",
      "ndnfox\n",
      "CordeliaRae1\n",
      "jeffrielongjr\n",
      "aaronlrizzo\n",
      "_____Heather_\n",
      "amyklobuchar\n",
      "ericbop\n",
      "newyorker\n",
      "NYTMag\n",
      "mcsweeneys\n",
      "awl\n",
      "Slate\n",
      "TheAtlantic\n",
      "jdforward\n",
      "anneslowey\n",
      "DesignerTi\n",
      "followcrave\n",
      "IlanaKowarski\n",
      "mlexclusive\n",
      "usnews\n",
      "columbiajourn\n",
      "uchicago\n",
      "michaelbastian\n",
      "RussellChaddock\n",
      "ArkDems\n",
      "WhelanJill\n",
      "henryzwartz\n",
      "ABCNews\n",
      "SBSNews\n",
      "UNSWADA\n",
      "DTPHumanRights\n",
      "smh\n",
      "KarenNewsOrg\n",
      "KELOReneeOrtiz\n",
      "symonemsnbc\n",
      "jackienpadilla\n",
      "POLITICO\n",
      "NAHJDC\n",
      "cronkite_asu\n",
      "haleychising\n",
      "FoxNews\n",
      "COMatBU\n",
      "LauraAGillen\n",
      "HofstraU\n",
      "DCNewsNow\n",
      "NXSTMediaGroup\n",
      "MelissaFleming\n",
      "UN\n",
      "CroweJam\n",
      "aldotcom\n",
      "crowetoons\n",
      "jdcrowepix\n",
      "EUAmbUS\n",
      "EUintheUS\n",
      "MichaelCurtisEU\n",
      "liz_elkind\n",
      "foxnews\n",
      "fox\n",
      "RichReadReports\n",
      "KhushitaVasant\n",
      "WSJ\n",
      "DowJones\n",
      "revrubendiaz\n",
      "DanSchrack\n",
      "13WHAM\n",
      "WENYTV\n",
      "news4buffalo\n",
      "sbgtv\n",
      "elizabethcrisp\n",
      "TheHill\n",
      "WHCA\n",
      "newsweek\n",
      "nolanews\n",
      "stltoday\n",
      "clarionledger\n",
      "usatoday\n",
      "AndrewYang\n",
      "ShamsCharania\n",
      "Mtclai\n",
      "MinervaUni\n",
      "Harvard\n",
      "yjlconductor\n",
      "ensemble212\n",
      "PointsTrident\n",
      "RossMoRock\n",
      "RunforSomething\n",
      "RFSCivics\n",
      "ForOurFuture\n",
      "ArcInitiatives\n",
      "JulianCastro\n",
      "JessLivMo\n",
      "aibm_org\n",
      "RepJohnCurtis\n",
      "CurtisUT\n",
      "TamerSpotlight\n",
      "myspotlightnews\n",
      "tarapalmeri\n",
      "pucknews\n",
      "ringer\n",
      "puck\n",
      "OrionSeven\n",
      "AskJack_io\n",
      "_InfosecMonitor\n",
      "MaggieG603\n",
      "IsTimGrady\n",
      "Fwd_Ohio\n",
      "April4Congress\n",
      "HugoMaldonado\n",
      "RepRaskin\n",
      "OversightDems\n",
      "RepDonBeyer\n",
      "JECDems\n",
      "WaysMeansCmte\n",
      "CaucusOnClimate\n",
      "StevenACohen2\n",
      "prafdhar\n",
      "OpenAI\n",
      "MIT\n",
      "theSamPadilla\n",
      "Eidon_AI\n",
      "ATXDAO\n",
      "inter4pod\n",
      "Google\n",
      "Arnold_Ventures\n",
      "DanRayfield\n",
      "iamjamesrhee\n",
      "FSBarry\n",
      "hoodcandidate\n",
      "kbg_1989\n",
      "ccjrc1\n",
      "quincylsb\n",
      "PastorOilsheen\n",
      "KeneAkers\n",
      "SP_704ess\n",
      "NRSC\n",
      "KorbelGeorgie\n",
      "RichLowry\n",
      "gmail\n",
      "PauletteEJordan\n",
      "K_JeanPierre\n",
      "PressSec\n",
      "wolfblitzer\n",
      "CNNSitRoom\n",
      "AnaCabrera\n",
      "MSNBC\n",
      "MurrowCollege\n",
      "Acosta\n",
      "brianstelter\n",
      "VanityFair\n",
      "snapstream\n",
      "TheMorningShow\n",
      "kaitlancollins\n",
      "CNN\n",
      "jimsciutto\n",
      "BlackWomenViews\n",
      "ReecieColbert\n",
      "SiriusXM\n",
      "amitrippingame\n",
      "KeishaBottoms\n",
      "mkraju\n",
      "Bakari_Sellers\n",
      "StromLaw\n",
      "abbydphillip\n",
      "GainesKash\n",
      "illinoispolicy\n",
      "SgtCaruso\n",
      "DAMIADENUGA\n",
      "motownbelle\n",
      "Ashakinpink\n",
      "ADOSAF\n",
      "dlh86tweet\n",
      "MbuyeLisette\n",
      "Demi_Sha009\n",
      "cgreene517\n",
      "TINYTOWNCA\n",
      "williams_pagel\n",
      "Pastor_Shirelle\n",
      "TylerJaysWife\n",
      "rgibson1987\n",
      "MarburyBlanco\n",
      "Phreshstart1\n",
      "HeyYallDetroit\n",
      "ThePhantom693\n",
      "TaylorVerdena\n",
      "DetEvictDefense\n",
      "WiRgarrard8\n",
      "LTerry691\n",
      "jalynnsimmons12\n",
      "indymusicandwellness\n",
      "QueenChauncee\n",
      "GreatDiivine\n",
      "Neallyo22\n",
      "PRbyTyler\n",
      "HewinsPam\n",
      "SoulFulQueenB\n",
      "MsChrisg\n",
      "miraclewashmob1\n",
      "LisaHar38098497\n",
      "Lindsey42267843\n",
      "VoteVohra\n",
      "KarlRove\n",
      "BarackObama\n",
      "glennbeck\n",
      "GovMikeHuckabee\n",
      "PressSec45\n",
      "PressSec44\n",
      "thehill\n",
      "SenJohnMcCain\n",
      "McCainInstitute\n",
      "SarahPalinUSA\n",
      "sarahpalin97\n",
      "SuzanneMalveaux\n",
      "MikeBloomberg\n",
      "ShashiTharoor\n",
      "ProfCong\n",
      "UN\n",
      "JoeNBC\n",
      "CoryBooker\n",
      "seanhannity\n",
      "KeithOlbermann\n",
      "HouseFloor\n",
      "GovTop\n",
      "SenateFloor\n",
      "TenthAmendment\n",
      "LPFlorida\n",
      "BethesdActually\n",
      "NCPA\n",
      "HouseGOP\n",
      "EmperorInvictus\n",
      "AnnettePrestia\n",
      "JR_Newswire\n",
      "UtrFeed\n",
      "joeldavisx\n",
      "amandaknox\n",
      "manunderbridge\n",
      "TheAtlantic\n",
      "LATimes\n",
      "Independent\n",
      "TheFP\n",
      "arthurkwonlee\n",
      "SydneyLWatson\n",
      "ThePublicaNow\n",
      "IvanRaiklin\n",
      "kennedyhall\n",
      "lucymarionbrown\n",
      "highiqgf\n",
      "mindyeee9\n",
      "maryarchived\n",
      "timcast\n",
      "valorascult\n",
      "patrickshaheen\n",
      "KeithGrossFL\n",
      "GOP\n",
      "NHGOP\n",
      "AFP_NH\n",
      "usedgov\n",
      "RealRossU\n",
      "JMilei\n",
      "mishkaivana\n",
      "BVMConsolatrix\n",
      "culturaldrop\n",
      "BenFrancis1992\n",
      "Gymshark\n",
      "benfrancis\n",
      "TCNetwork\n",
      "banalplay\n",
      "GarbageHuman24\n",
      "ChivalryGuild\n",
      "stoic_sith\n",
      "Confederate186\n",
      "BarbaraBellar\n",
      "ILfamilyaction\n",
      "ewarren\n",
      "CFPB\n",
      "MorningsMaria\n",
      "MariaBartiromo\n",
      "FoxBusiness\n",
      "KellyannePolls\n",
      "USSupremeCourt\n",
      "GovTop\n",
      "NatGeoTV\n",
      "hulu\n",
      "DisneyPlus\n",
      "MeetThePress\n",
      "kwelkernbc\n",
      "USANEWS007\n",
      "WWF\n",
      "FBI\n",
      "ILGOPHispanics\n",
      "CookCountyGOP\n",
      "SeanMMorrison\n",
      "SenWarren\n",
      "Mike_Pence\n",
      "SundayFutures\n",
      "FoxNews\n",
      "DonaldJTrumpJr\n",
      "HouseFloor\n",
      "SenateFloor\n",
      "USHouseNews\n",
      "SenateNews\n",
      "VP45\n",
      "LouDobbs\n",
      "MayoClinic\n",
      "IvankaTrump\n",
      "FLOTUS45\n",
      "SenSanders\n",
      "BernieSanders\n",
      "BarackObama\n",
      "BernieSanders\n",
      "Booker4KY\n",
      "HoodtotheHoller\n",
      "RishiDesaiMD\n",
      "OsmosisMed\n",
      "CDCgov\n",
      "osmosis\n",
      "SEIUPres\n",
      "SEIU\n",
      "JayInslee\n",
      "dwallacewells\n",
      "nytopinion\n",
      "NYTmag\n",
      "VarshPrakash\n",
      "SunriseMvmt\n",
      "AnnClan\n",
      "ChokweALumumba\n",
      "MaketheRoadAct\n",
      "EmgageAction\n",
      "harinef\n",
      "TheBarbaraSmith\n",
      "Chirlane\n",
      "chirlane\n",
      "JillianDURM\n",
      "MovementVote\n",
      "LocalProgress\n",
      "GroundswellFund\n",
      "SouthernVision_\n",
      "CityofDurhamNC\n",
      "portugaltheman\n",
      "afscme3299\n",
      "Mindi4NHEmt\n",
      "NHScienceHealth\n",
      "NHSafeWaterA\n",
      "thestrokes\n",
      "alberthammondjr\n",
      "Casablancas_J\n",
      "N_Fraiture\n",
      "CynthiaNixon\n",
      "zerohourmvmt\n",
      "Dreamdefenders\n",
      "RepLindaSanchez\n",
      "WaysMeansCmte\n",
      "Dodgers\n",
      "AndruVolinsky\n",
      "alaw202\n",
      "ssworks\n",
      "weactradio\n",
      "TimRobbins1\n",
      "BetoORourke\n",
      "brotherjones_\n",
      "MalloryMcMorrow\n",
      "NotreDame\n",
      "raywert\n",
      "KnowaWasTaken\n",
      "JoeBiden\n",
      "KamalaHarris\n",
      "VOTGeorgia\n",
      "gmail\n",
      "AHammoudMI\n",
      "SergioMarBel\n",
      "NPR\n",
      "michiganstateu\n",
      "npr\n",
      "KrishVignarajah\n",
      "GlobalRefuge\n",
      "OMaraForDE\n",
      "JasperRMartus\n",
      "jmcmsu\n",
      "billmaher\n",
      "MattWelch\n",
      "Reason\n",
      "wethefifth\n",
      "YaelSchacher\n",
      "RefugeesIntl\n",
      "RealTimers\n",
      "BillMaher\n",
      "HBO\n",
      "StreamOnMax\n",
      "SethMacFarlane\n",
      "GarciaReports\n",
      "ABC\n",
      "ColumbiaJourn\n",
      "calpoly\n",
      "AriMSawyer\n",
      "HRW\n",
      "USATODAY\n",
      "ellengilmer\n",
      "bgov\n",
      "guildatBIG\n",
      "bloomberg\n",
      "LASimmonsTX146\n",
      "gable_pat\n",
      "Acyn\n",
      "SnapStream\n",
      "dan_restrepo\n",
      "amprog\n",
      "latintrade\n",
      "NSC44\n",
      "HouseForeign\n",
      "pennlaw\n",
      "UVA\n",
      "GonzagaGoodNews\n",
      "matthewschmitz\n",
      "compactmag_\n",
      "amconmag\n",
      "PabloReports\n",
      "TheToddSchulte\n",
      "StevieVanZandt\n",
      "JesussdelaTorre\n",
      "HopeBorder\n",
      "FulbrightSpain\n",
      "USFMIMS\n",
      "anatosaurus\n",
      "wordstowinby\n",
      "BilldeBlasio\n",
      "davidhogg111\n",
      "gmail\n",
      "RosemaryBoeglin\n",
      "thedemocrats\n",
      "senmarkey\n",
      "joebiden\n",
      "berniesanders\n",
      "amyvalentine555\n",
      "futureof_school\n",
      "CMAmandaFarias\n",
      "nyccouncil\n",
      "CMShaunAbreu\n",
      "ShaunAbreu\n",
      "NYCCouncil\n",
      "AmandaFariasNYC\n",
      "crystalrhudson\n",
      "alexaforcouncil\n",
      "CMAlexaAviles\n",
      "CMShahanaHanif\n",
      "ShahanaFromBK\n",
      "NYCProgressives\n",
      "CMRestler\n",
      "CMKevinCRiley\n",
      "CMPiSanchez\n",
      "CMNantashaW\n",
      "CMFarahLouis\n",
      "AdrienneToYou\n",
      "NYCcouncil\n",
      "NYCSpeakerAdams\n",
      "NYCCouncilAyala\n",
      "CnDelarosa\n",
      "CMCrystalHudson\n",
      "DianaAyalaNYC\n",
      "Salamancajr80\n",
      "CMSalamancaJr\n",
      "CMMercedesCD46\n",
      "JimGennaro\n",
      "JoeBorelliNYC\n",
      "MarkLevineNYC\n",
      "GovBillWeld\n",
      "treehouse\n",
      "cooljeanius\n",
      "stuartpstevens\n",
      "thehill\n",
      "TeamCavuto\n",
      "FoxBusiness\n",
      "FoxNews\n",
      "steinhauserNH1\n",
      "ConMonitorNews\n",
      "NHTodayShow\n",
      "ThePulseofNH\n",
      "JulieMasonShow1\n",
      "cspanwj\n",
      "CNNPolitics\n",
      "vermontgmg\n",
      "aspencyber\n",
      "WIRED\n",
      "PoliticoMag\n",
      "washingtonian\n",
      "Isikoff\n",
      "SkullduggeryPod\n",
      "dklaidman\n",
      "CBSNews\n",
      "isikoff\n",
      "twelvebooks\n",
      "YahooFinance\n",
      "Newsweek\n",
      "AC360\n",
      "CNN\n",
      "AndersonCooper\n",
      "SykesCharlie\n",
      "gmail\n",
      "BillKristol\n",
      "alexanderburns\n",
      "POLITICO\n",
      "HarvardIOP\n",
      "GlennThrush\n",
      "jheil\n",
      "PuckNews\n",
      "SHO_TheCircus\n",
      "chrislhayes\n",
      "kateashaw1\n",
      "allinwithchris\n",
      "brianstelter\n",
      "VanityFair\n",
      "snapstream\n",
      "TheMorningShow\n",
      "AriMelber\n",
      "CapehartJ\n",
      "PostLive\n",
      "WeekendCapehart\n",
      "NewsHour\n",
      "alexwagner\n",
      "WagnerTonight\n",
      "msnbc\n",
      "OneWorldLit\n",
      "NewEngCollege\n",
      "BEllisonSaysHi\n",
      "UPLibertarians\n",
      "jasondweinman\n",
      "WedgeSquared\n",
      "Mr_Zach_Foster\n",
      "matt_kohrs\n",
      "LPMCOfficial\n",
      "TradesTrey\n",
      "wallstreetbets\n",
      "the_ironsheik\n",
      "johnnylemuria\n",
      "Johnnylemuria\n",
      "mindly\n",
      "AOC\n",
      "WSBChairman\n",
      "RepMeijer\n",
      "KillerMike\n",
      "GuySquiggs\n",
      "mtaibbi\n",
      "tmorello\n",
      "alex_pilkington\n",
      "LibertarianRed1\n",
      "TacistT\n",
      "perlmutations\n",
      "EasyStreetBook\n",
      "fellonknee\n",
      "starchildsf\n",
      "Sethrogen\n",
      "BenjaminPDixon\n",
      "AmashMichigan\n",
      "BNicholsLiberty\n",
      "BrianCarrollASP\n",
      "MarkPJonesTX\n",
      "RabihAbiHanna\n",
      "AmSolidarity\n",
      "29Sonski\n",
      "EWTN\n",
      "BishopBarron\n",
      "WordOnFire\n",
      "CardinalDolan\n",
      "JMTalbot\n",
      "SolidarityWonk\n",
      "jadesimmons\n",
      "ProhibitionUS\n",
      "fairvote\n",
      "prolifesf\n",
      "LifeNewsHQ\n",
      "SocialistGreens\n",
      "americamag\n",
      "Sojourners\n",
      "SojoAction\n",
      "FrankAvilaLaw\n",
      "MelissaMoore77\n",
      "redeemedmonkey1\n",
      "Topher_T_Hunt\n",
      "louiegiglio\n",
      "MattChandler74\n",
      "laurenchandler\n",
      "villagechurchtx\n",
      "Acts29\n",
      "desiringGod\n",
      "TGC\n",
      "between2worlds\n",
      "TrevinWax\n",
      "NAMB_SBC\n",
      "brockpierce\n",
      "frizztacular\n",
      "SebastianLoaysa\n",
      "Companions_NFT\n",
      "NFCsummit\n",
      "MEMECON_lol\n",
      "OrdinalsLisbon\n",
      "aiFilmAcademy\n",
      "The1_MrAnderson\n",
      "jackjayio\n",
      "PersistVentures\n",
      "LibertarianLars\n",
      "rainerhosch\n",
      "Humanityprot\n",
      "wallstreetbets\n",
      "BradSherman\n",
      "mong_coin\n",
      "Coachkcrypto\n",
      "natfriedman\n",
      "jessicabukele\n",
      "De3ngineer\n",
      "0xPolygon\n",
      "davidhnichols\n",
      "terranaomi\n",
      "UNFKearth\n",
      "xprize\n",
      "negrospritzer\n",
      "Coinstelegram1\n",
      "binance\n",
      "coinmarketcap\n",
      "fulloa51\n",
      "RodolfoBits\n",
      "JedlickaVit\n",
      "Legend\n",
      "SixP_\n",
      "_d3f4ult\n",
      "ApolloAlgo\n",
      "Wikileaks\n",
      "Bybit_Official\n",
      "MartinShkreli\n",
      "CherundaFox\n",
      "konstructivizm\n",
      "MLReadingHub\n",
      "id_communism\n",
      "communistsusa\n",
      "communists_US\n",
      "jakbtestbot\n",
      "serwer\n",
      "SolarHam\n",
      "yourgirlroom\n",
      "NStarAdventures\n",
      "GLAHsolarmax\n",
      "AuroraDora_com\n",
      "NightLights_AM\n",
      "_SpaceWeather_\n",
      "LiveAuroraNetw1\n",
      "Aurora_ireland\n",
      "AuroraHunter\n",
      "YukonAurora\n",
      "AuroraJAnderson\n",
      "IOMAurora\n",
      "NoDDAC_cameras\n",
      "AuroraVillage\n",
      "cogie_s\n",
      "Aurora_Zone\n",
      "aurorawatch\n",
      "chris4ed\n",
      "heymsrebecca\n",
      "smallsnokillin\n",
      "ProfEmilyOster\n",
      "BrownUniversity\n",
      "RobertWhite_DC\n",
      "ANCJonah\n",
      "abqsmith\n",
      "PerryStein\n",
      "MsLBVMI\n",
      "DupeeforDC\n",
      "dcmowpi\n",
      "ANC7E\n",
      "GWtweets\n",
      "GWpublichealth\n",
      "UMSL\n",
      "TeachForAmerica\n",
      "STLCoro\n",
      "brandongreennow\n",
      "lukeburgis\n",
      "AllisterChang\n",
      "CarleneDReid\n",
      "dcsboe\n",
      "creidsboe\n",
      "LaJoyLaw1\n",
      "LaJoyforWard8\n",
      "raviperry\n",
      "howardpolitics\n",
      "howardu\n",
      "A4ethnicstudies\n",
      "DCVote\n",
      "CLASPChildCare\n",
      "CLASP_DC\n",
      "BASISDC\n",
      "DCCollaborative\n",
      "EdReformNowDC\n",
      "EdReformNowUSA\n",
      "educationustdc\n",
      "Ward1EdCouncil\n",
      "ArtEducationDC\n",
      "CityBridgeEdu\n",
      "EdCounselDC\n",
      "DMEforDC\n",
      "FullStriedAhead\n",
      "KTwaronite_EY\n",
      "JennMatthews57\n",
      "SavannahRudicel\n",
      "NicoleMenner\n",
      "NBC10\n",
      "fox11news\n",
      "2_nitwhits\n",
      "CarolineMaggs\n",
      "flagstar\n",
      "Chase\n",
      "ChaseSupport\n",
      "TruistNews\n",
      "RegionsBank\n",
      "FifthThird\n",
      "AlexHoganTV\n",
      "foxnews\n",
      "69News\n",
      "WTAJnews\n",
      "CentreCountyRep\n",
      "BloombergTV\n",
      "NBCwashington\n",
      "checkwithchels\n",
      "waff48\n",
      "NadiaGundert\n",
      "TheLisaEvans\n",
      "play107yeg\n",
      "963cruzfm\n",
      "SIRIUSXM\n",
      "70son7\n",
      "GHLawFirm\n",
      "cjonescowboys\n",
      "DallasCowboys\n",
      "Kaitlin_Knapp1\n",
      "fox4now\n",
      "kxly4news\n",
      "KAPPKVEW\n",
      "8NewsNow\n",
      "amywegmann\n",
      "KatieWallsTV\n",
      "alishahayes_x\n",
      "NOAA\n",
      "CommerceGov\n",
      "Catherine_Price\n",
      "CarlyBooth92\n",
      "hotmail\n",
      "supreme_cbd\n",
      "Lindsay_Warner\n",
      "1stGirlPres\n",
      "CNNPolitics\n",
      "newtgingrich\n",
      "MittRomney\n",
      "SenatorRomney\n",
      "JoelOsteen\n",
      "RandPaul\n",
      "SenTedCruz\n",
      "tedcruz\n",
      "heidiscruz\n",
      "foxandfriends\n",
      "Reince\n",
      "MichaelBestLaw\n",
      "ABC\n",
      "WSB_Speakers\n",
      "GOP\n",
      "realDonaldTrump\n",
      "SpeakerRyan\n",
      "JohnKasich\n",
      "NBCNews\n",
      "CNBC\n",
      "MSNBC\n",
      "BPC_Bipartisan\n",
      "BudgetHawks\n",
      "MeadowsInst\n",
      "megynkelly\n",
      "AnnCoulter\n",
      "PressSec45\n",
      "JebBush\n",
      "ExcelinEd\n",
      "BillOReilly\n",
      "NoSpinNews\n",
      "seanhannity\n",
      "RealBenCarson\n",
      "marcorubio\n",
      "IvankaTrump\n",
      "TeamTrump\n",
      "KellyannePolls\n",
      "EricTrump\n",
      "Trump\n",
      "LaraLeaTrump\n",
      "StJude\n",
      "TrumpWinery\n",
      "DonaldJTrumpJr\n",
      "cliftonroberts\n",
      "MikeDzoga\n",
      "michellebstout\n",
      "PGelsinger\n",
      "intel\n",
      "feraldata\n",
      "ANUcybernetics\n",
      "ANUcecc\n",
      "SacBizEditor\n",
      "sfallender\n",
      "JeffRittener\n",
      "itsjhk\n",
      "DukeAlumni\n",
      "DukeCyberPolicy\n",
      "CooperBSA\n",
      "BSAnews\n",
      "RhonnieF\n",
      "joebiden\n",
      "AmitElazari\n",
      "UCBerkeley\n",
      "BerkeleyISchool\n",
      "ReichmanUni\n",
      "lisaimalloy\n",
      "IntelAI\n",
      "luizachsavage\n",
      "POLITICO\n",
      "ZacharyGrajeda\n",
      "trish_damkroger\n",
      "writerchik0\n",
      "healthydata4all\n",
      "thederekwaxman\n",
      "Intel\n",
      "IntelPolicy\n",
      "KumarAGarg\n",
      "WHOSTP44\n",
      "EricSchmidt\n",
      "RenPhil21\n",
      "theanimalvoters\n",
      "vfar\n",
      "techcomplaw\n",
      "JoFrederiks\n",
      "CLGammon\n",
      "AuthorAnnSnyder\n",
      "JeffreyPerren\n",
      "1045TheZone\n",
      "Titans\n",
      "Vol_Sports\n",
      "NashvilleSC\n",
      "RamonKaylaWill\n",
      "BuckReising\n",
      "bbishop23\n",
      "3HL1045\n",
      "KIngramSports\n",
      "TheRamonFoster\n",
      "KaylaAndersonTV\n",
      "will_boling\n",
      "FrankWycheck1\n",
      "Neyland_Stadium\n",
      "UTKnoxville\n",
      "Vol_Football\n",
      "LindaJNance\n",
      "AlbertNance\n",
      "AnthonyPaull\n",
      "MarCarring\n",
      "Ron_Glick\n",
      "BlakelyBennett\n",
      "MyPenNameOnly\n",
      "MichaelSteele\n",
      "steele_podcast\n",
      "eUSLiBs\n",
      "CarlaHowell\n",
      "CoryBooker\n",
      "MondaireJones\n",
      "USCCRgov\n",
      "MalloryMcMorrow\n",
      "NotreDame\n",
      "raywert\n",
      "RobMenendez4NJ\n",
      "RepMenendez\n",
      "NJGov\n",
      "sguyenet\n",
      "NewarkThrives\n",
      "aisha_glover\n",
      "Audible_com\n",
      "CityofNewarkNJ\n",
      "NewarkAlliance_\n",
      "BklynNavyYard\n",
      "BaruchCollege\n",
      "newark_arts\n",
      "TAPintoNewark\n",
      "ParlayHouse\n",
      "bringafriendpod\n",
      "Cannonfor58\n",
      "GAHouseDems\n",
      "UNUMFund\n",
      "HMHBGeorgia\n",
      "SisterSong_WOC\n",
      "withlovecleo\n",
      "alliepet16\n",
      "ThirdWayNatSec\n",
      "UN\n",
      "InclusvSecurity\n",
      "LC_WINS\n",
      "ArkadyKoshka\n",
      "Rosie_Wardle\n",
      "peggybaileydc\n",
      "PeggyBaileyDC\n",
      "CenterOnBudget\n",
      "HUDgov\n",
      "CSHinfo\n",
      "naehomelessness\n",
      "burnsideashley1\n",
      "CLASP_DC\n",
      "HungerCenter\n",
      "HRC\n",
      "SecYellen\n",
      "SecDef\n",
      "TheAmandaGorman\n",
      "AlexPadilla4CA\n",
      "MIT\n",
      "RJThacker1\n",
      "FeinbergSarah\n",
      "stevebullockmt\n",
      "GovernorBullock\n",
      "DanForTexas\n",
      "PaulyShore\n",
      "SilverSpookGuy\n",
      "thetechfaerie\n",
      "system76\n",
      "CoopNSeethe\n",
      "bobking4texas21\n",
      "bklewis201\n",
      "LPRadicals\n",
      "AxelWinter6\n",
      "AnarchoDarling\n",
      "creatrix_ttv\n",
      "marklevinshow\n",
      "apokerplayer\n",
      "avensobrien\n",
      "advancedmyco\n",
      "ladylibertyaus\n",
      "starchildsf\n",
      "TUXEDOComputers\n",
      "Truth_InMedia\n",
      "ncgyles\n",
      "WTSmith17\n",
      "gmail\n",
      "NostalgiaFolder\n",
      "VermaManish23\n",
      "BeesLittleRanch\n",
      "Jaybefaunt\n",
      "RevBlackNetwork\n",
      "_Jaybefaunt\n",
      "thisisthecoin\n",
      "MonkeDAO\n",
      "JohnBLiveFree\n",
      "718_radio\n",
      "dc_mma\n",
      "dewaynezinkin\n",
      "HonVictorHugo\n",
      "therealtwixxx\n",
      "DrDavidAbbasi\n",
      "UpwardNewsHQ\n",
      "SubmissionRadio\n",
      "ChaelSonnen\n",
      "tomzmich2020\n",
      "Flatbushpower\n",
      "gmail\n",
      "realrentreform\n",
      "Met_Council\n",
      "housing4allNY\n",
      "TenantPowerNY\n",
      "KGforNYC\n",
      "NYCSanitation\n",
      "peter_plaut\n",
      "voteleber\n",
      "akattorney\n",
      "NationalDebt\n",
      "Lorance54804\n",
      "tenantneighbor\n",
      "Justice4AllQns\n",
      "ceaweaver\n",
      "housing4allny\n",
      "nycdsa\n",
      "FDNY\n",
      "PaperboyPrince\n",
      "BrandonStraka\n",
      "RealWalkAway\n",
      "brandonstraka\n",
      "DarcyRichardson\n",
      "Visit_Jax\n",
      "Urbanmark2014\n",
      "ManateeHerald\n",
      "stephendare\n",
      "centristforum\n",
      "JackAboutJax\n",
      "MayorLevine\n",
      "TUmarkwoods\n",
      "GwenGraham\n",
      "matthewjdowd\n",
      "bonnieupright\n",
      "EvilZorac\n",
      "MathisKb\n",
      "WyllieForGov\n",
      "Scott_Maxwell\n",
      "editormarilyn\n",
      "gbennettpost\n",
      "learyreports\n",
      "WSJ\n",
      "MattGalnor\n",
      "JaxChamber\n",
      "AndyParas\n",
      "fox55fortwayne\n",
      "mycbs4\n",
      "abcnews4\n",
      "postandcourier\n",
      "ballstate\n",
      "wfft\n",
      "scontorno\n",
      "CNN\n",
      "SteveSchmidtSES\n",
      "garytmills\n",
      "jaxdotcom\n",
      "AbelHarding\n",
      "FirstHorizonBnk\n",
      "JAXChamber\n",
      "CummerMuseum\n",
      "caseyayers\n",
      "Pluralsight\n",
      "casey\n",
      "CitizenCohn\n",
      "HuffPost\n",
      "FordSchool\n",
      "WDBONews\n",
      "DevalPatrick\n",
      "KendalleOC\n",
      "MassBio\n",
      "BosBizJournal\n",
      "ACSNewEngland\n",
      "massbioed\n",
      "CityOfBoston\n",
      "CWF_Boston\n",
      "TracyPalandjian\n",
      "NPRKelly\n",
      "NPR\n",
      "bostonmarathon\n",
      "BAA\n",
      "Justinjpearson\n",
      "brotherjones_\n",
      "public_lee\n",
      "GBHNews\n",
      "WNYC\n",
      "CPRNews\n",
      "HowardU\n",
      "BlkEconAlliance\n",
      "mpdillon\n",
      "jomalleydillon\n",
      "ObamaWhiteHouse\n",
      "Georgetown\n",
      "GUPolitics\n",
      "KateCook5\n",
      "MassGovernor\n",
      "MassLtGov\n",
      "giselefetterman\n",
      "BostonNewsMan\n",
      "boston25\n",
      "tianarochon\n",
      "BostonGlobe\n",
      "blackprintatx\n",
      "LatoyNBCBoston\n",
      "RepPressley\n",
      "FSCDems\n",
      "OversightDems\n",
      "lizzwalker1\n",
      "askimari\n",
      "AskImari\n",
      "EmbraceBOS\n",
      "MsLaToshaBrown\n",
      "BlackVotersMtr\n",
      "bishoplp\n",
      "MbahCouncilor\n",
      "MarianRyanDA\n",
      "EmmanuelCollege\n",
      "USPresidentLowe\n",
      "BetoORourke\n",
      "coasttocoastam\n",
      "TheOnion\n",
      "NewYorker\n",
      "nytimes\n",
      "washingtonpost\n",
      "andrerieu\n",
      "TIME\n",
      "DailyCaller\n",
      "TheMaeMartin\n",
      "katyperry\n",
      "Oprah\n",
      "MichelleObama\n",
      "HillaryClinton\n",
      "parscale\n",
      "campnucleus\n",
      "VanessaPengKCCI\n",
      "KCCINews\n",
      "realDonaldTrump\n",
      "DonaldJTrumpJr\n",
      "Jim_Jordan\n",
      "JudiciaryGOP\n",
      "Weaponization\n",
      "DiamondandSilk\n",
      "seanhannity\n",
      "IvankaTrump\n",
      "TuckerCarlson\n",
      "IngrahamAngle\n",
      "FoxNews\n",
      "JudgeJeanine\n",
      "kimguilfoyle\n",
      "EricTrump\n",
      "Trump\n",
      "LaraLeaTrump\n",
      "StJude\n",
      "TrumpWinery\n",
      "MELANIATRUMP\n",
      "DanScavino\n",
      "LouDobbs\n",
      "Mike_Pence\n",
      "BillOReilly\n",
      "NoSpinNews\n",
      "TiffanyATrump\n",
      "DonBlankenship\n",
      "mccuskeyforwv\n",
      "BradMcElhinny\n",
      "WVMetroNews\n",
      "CharleyWest\n",
      "HoppyKercheval\n",
      "SenCapito\n",
      "SenateGOP\n",
      "EPWGOP\n",
      "Sen_JoeManchin\n",
      "EnergyDems\n",
      "WVGovernor\n",
      "gregthomaswv\n",
      "RileyMooreWV\n",
      "jacquebland\n",
      "wvsenate\n",
      "WVSenClerk\n",
      "AskAnnAli\n",
      "wvhouse\n",
      "ByrdsFinger\n",
      "WOWK13News\n",
      "wowktv\n",
      "StormTracker13\n",
      "WOWK13Sports\n",
      "WVTonight\n",
      "LarryPack\n",
      "WVGOP\n",
      "GOP\n",
      "MorriseyWV\n",
      "Upson4WV\n",
      "WVHHOMA\n",
      "WVHouse\n",
      "MySummitBank\n",
      "GSBlackDiamond\n",
      "Vote4Edie_2016\n",
      "OregonSOS\n",
      "OregonArchives\n",
      "OregonAudits\n",
      "OregonCorp\n",
      "OregonElections\n",
      "sos\n",
      "OreCoastBeaches\n",
      "Franklin_Graham\n",
      "WhiteHouse45\n",
      "ObamaWhiteHouse\n",
      "BBCBreaking\n",
      "BBCWorld\n",
      "BBCNews\n",
      "BBCSport\n",
      "cnnbrk\n",
      "cnn\n",
      "OCEvents\n",
      "gmail\n",
      "ocregister\n",
      "megynkelly\n",
      "IngrahamAngle\n",
      "FoxNews\n",
      "BillOReilly\n",
      "NoSpinNews\n",
      "foxandfriends\n",
      "foxnation\n",
      "foxnewspolitics\n",
      "FoxNewsOpinion\n",
      "iElijahManley\n",
      "eric_knowles\n",
      "AnnaForFlorida\n",
      "UCF\n",
      "CarlosGSmith\n",
      "anthonyvclark20\n",
      "Jaybefaunt\n",
      "RevBlackNetwork\n",
      "_Jaybefaunt\n",
      "EricShapiro3\n",
      "PeterGHager\n",
      "benigma2017\n",
      "AngieNixon\n",
      "MoxieGirlComics\n",
      "UF\n",
      "micheleforfl\n",
      "CallForCongress\n",
      "EclecticRadical\n",
      "TheEclecticRad\n",
      "eclecticradic\n",
      "SavageJoyMarie1\n",
      "ShevrinJones\n",
      "FAMU_1887\n",
      "apa1906NETwork\n",
      "TinaDesireeBerg\n",
      "34thpod\n",
      "statuscoup\n",
      "dailydot\n",
      "tinadesireeberg\n",
      "federated\n",
      "futuresdoors\n",
      "ewarren\n",
      "ReverendWarnock\n",
      "Morehouse\n",
      "TeamWarnock\n",
      "SenWarren\n",
      "davidhogg111\n",
      "gmail\n",
      "katieporteroc\n",
      "TheDemocrats\n",
      "staceyabrams\n",
      "RewiringAmerica\n",
      "AyannaPressley\n",
      "PramilaJayapal\n",
      "SenateDems\n",
      "HouseDemocrats\n",
      "RepPeteAguilar\n",
      "RepTedLieu\n",
      "JulianCastro\n",
      "julianforthefuture\n",
      "maura_healey\n",
      "AlyssaMastro44\n",
      "AdyBarkan\n",
      "BeAHero\n",
      "rachael_scar\n",
      "FoodBankWMA\n",
      "GBLCBoston\n",
      "BorrellEric\n",
      "Stokastic_Com\n",
      "kellyinvegas\n",
      "wagertalk\n",
      "kellymurrayshow\n",
      "westgatevegas\n",
      "splashsports_\n",
      "outkick\n",
      "pikkitsports\n",
      "IvankaTrump\n",
      "EricTrump\n",
      "Trump\n",
      "LaraLeaTrump\n",
      "StJude\n",
      "TrumpWinery\n",
      "DonaldJTrumpJr\n",
      "FLOTUS45\n",
      "BarackObama\n",
      "POTUS45\n",
      "realDonaldTrump\n",
      "KellyAyotte\n",
      "bglasson\n",
      "WMU_Football\n",
      "wmu_football\n",
      "LisaForSenate\n",
      "SenatorEnzi\n",
      "SenatorRisch\n",
      "SenatorKirk\n",
      "ericswalwell\n",
      "RepSwalwell\n",
      "HouseJudiciary\n",
      "HomelandDems\n",
      "joncoopertweets\n",
      "RepAdamSchiff\n",
      "AdamKinzinger\n",
      "AirNatlGuard\n",
      "country_f1rst\n",
      "nafo\n",
      "RepJeffries\n",
      "HouseDemocrats\n",
      "MeidasTouch\n",
      "TheRickWilson\n",
      "tedlieu\n",
      "RepRaskin\n",
      "OversightDems\n",
      "JoyceWhiteVance\n",
      "UALawSchool\n",
      "MSNBC\n",
      "NBCNews\n",
      "tribelaw\n",
      "marceelias\n",
      "DemocracyDocket\n",
      "EliasLawGroup\n",
      "donwinslow\n",
      "WinslowBookClub\n",
      "duty2warn\n",
      "AVindman\n",
      "natsechobbyist\n",
      "votevets\n",
      "AdamParkhomenko\n",
      "FrankScurlock2\n",
      "StephenHandwerk\n",
      "demstateparties\n",
      "LADemos\n",
      "otforus\n",
      "KevinAllman\n",
      "The_Gambit\n",
      "EdgarAwards\n",
      "latimes\n",
      "washingtonpost\n",
      "helenheller\n",
      "FletcherWDSU\n",
      "WDSU\n",
      "the_gambit\n",
      "TraversWDSU\n",
      "Olympics\n",
      "Loyola_Nola\n",
      "paytonmalonewx\n",
      "WWLTV\n",
      "gmail\n",
      "WDSUMorgan\n",
      "OkayCharisse\n",
      "jdfromthe504\n",
      "Cassiewdsu\n",
      "snowlikejonn\n",
      "voteeugenegreen\n",
      "lesliharris\n",
      "TulaneLaw\n",
      "saints\n",
      "NOCityPark\n",
      "cityofno\n",
      "CityWorkersNOLA\n",
      "CityofNOLA\n",
      "FredericEsq\n",
      "mmpadellan\n",
      "ReallyAmerican1\n",
      "itsJeffTiedrich\n",
      "RBReich\n",
      "InequalityMedia\n",
      "rbreich\n",
      "BlackKnight10k\n",
      "PardonPod\n",
      "cooltxchick\n",
      "caroledwine\n",
      "taradublinrocks\n",
      "ColinDMcIntosh\n",
      "RepSwalwell\n",
      "HouseJudiciary\n",
      "HomelandDems\n",
      "TristanSnell\n",
      "JohnFeal2\n",
      "johnfeal2\n",
      "JonStewart\n",
      "johnfeal9117\n",
      "mehdirhasan\n",
      "zeteo_news\n",
      "fred_guttenberg\n",
      "7Veritas4\n",
      "jackesmith22\n",
      "JoyAnnReid\n",
      "MalcolmNance\n",
      "PalmerReport\n",
      "TheDemocrats\n",
      "ericgarland\n",
      "covie_93\n",
      "SwingGary2\n",
      "James4Peace_\n",
      "LPCO\n",
      "proudsocialist9\n",
      "RomelloRivers\n",
      "EliyahuNeiman\n",
      "FreeandEqual\n",
      "Jovita4Colorado\n",
      "RTupa4Congress\n",
      "RFKJrsBrainWorm\n",
      "RevolutionLove\n",
      "StatesMarching\n",
      "Jesesrox\n",
      "RedBeretsM4All\n",
      "TheDillononX\n",
      "TeamJillStein\n",
      "LongmontGreens\n",
      "jordarooski\n",
      "Media_Outsiders\n",
      "LibertarianPol\n",
      "MassEquality\n",
      "gadflypod\n",
      "DocMellyMel\n",
      "votefiorino\n",
      "GroendykGidget\n",
      "joncoopertweets\n",
      "ProjectLincoln\n",
      "kylegriffin1\n",
      "TheWeekendMSNBC\n",
      "griffinkyle\n",
      "gtconway3d\n",
      "TheAtlantic\n",
      "chkbal\n",
      "RepSwalwell\n",
      "HouseJudiciary\n",
      "HomelandDems\n",
      "tedlieu\n",
      "RBReich\n",
      "InequalityMedia\n",
      "rbreich\n",
      "MISenDems\n",
      "NewYorkStateAG\n",
      "TheDemocrats\n",
      "GovWhitmer\n",
      "PattyMurray\n",
      "SenateApprops\n",
      "WinnieBrinks\n",
      "JocelynBenson\n",
      "RepSpeier\n",
      "ananavarro\n",
      "CNN\n",
      "TheView\n",
      "GloriaLaRiva\n",
      "pslnational\n",
      "SpiritofHo\n",
      "geopoliticsha\n",
      "catcontentonly\n",
      "BTnewsroom\n",
      "vijayprashad\n",
      "tri_continental\n",
      "LeftwordBooks\n",
      "inkanibooks\n",
      "KawsachunNews\n",
      "ajamubaraka\n",
      "blacks4peace\n",
      "manolo_realengo\n",
      "peoplesforumnyc\n",
      "Tri_continental\n",
      "peoplesassembl_\n",
      "1804Books\n",
      "ComradeKimDawn\n",
      "Liberation_Blk\n",
      "OllieVargas79\n",
      "MidwesternMarx\n",
      "EugenePuryear\n",
      "PSLnational\n",
      "NatalieRevolts\n",
      "DefendKorea\n",
      "agent_of_change\n",
      "socialist_china\n",
      "BrianBeckerDC\n",
      "answercoalition\n",
      "pslweb\n",
      "TheSocProgram\n",
      "plbmagazine\n",
      "iskrabooks\n",
      "HowieHawkins\n",
      "briebriejoy\n",
      "BadFaithPod\n",
      "RisingTheHill\n",
      "theintercept\n",
      "ProudSocialist\n",
      "AmpedUpPodcast\n",
      "carterforva\n",
      "anthonyzenkus\n",
      "DrJillStein\n",
      "cmkshama\n",
      "OnStrikeShow\n",
      "ajamubaraka\n",
      "blacks4peace\n",
      "LeeCamp\n",
      "JordanChariton\n",
      "StatusCoup\n",
      "PeoplesParty_US\n",
      "HumanistReport\n",
      "ShahidForChange\n",
      "sheeyahshee\n",
      "medeabenjamin\n",
      "OurRevolution\n",
      "RalphNader\n",
      "WaywardWinifred\n",
      "HuhnkieLee2024\n",
      "qanonshack13\n",
      "dreamybullxxx\n",
      "iSchlakman\n",
      "SarcasmStardust\n",
      "action_4assange\n",
      "PrimoRadical\n",
      "SabbySabs2\n",
      "RevBlackNetwork\n",
      "freedomrideblog\n",
      "blkagendareport\n",
      "0rf\n",
      "ComptonMadeMe\n",
      "RBNInlandEmpire\n",
      "MutualAid4ever\n",
      "cmkshama\n",
      "OnStrikeShow\n",
      "yopasta\n",
      "theconvocouch\n",
      "benigma2017\n",
      "SlowNewsDayShow\n",
      "AMwakeup\n",
      "uotuw\n",
      "ThiaBallerina\n",
      "PeoplesParty_US\n",
      "dpgcook\n",
      "PatTheSocialist\n",
      "PunchUpPod\n",
      "anyaparampil\n",
      "TheGrayzoneNews\n",
      "PaulSorrentino3\n",
      "JacobforLiberty\n",
      "LPMisesCaucus\n",
      "scotthortonshow\n",
      "FreemansMind96\n",
      "angela4LNCChair\n",
      "lpnational\n",
      "ThomasEWoods\n",
      "BobMurphyEcon\n",
      "infineogroup\n",
      "ToddHagopian\n",
      "LPNH\n",
      "checkmatestate\n",
      "HannahDCox\n",
      "whitecoatwaste\n",
      "ShaneTHazel\n",
      "Swan\n",
      "jeffdeist\n",
      "Monetary_Metals\n",
      "mises\n",
      "ronpaul\n",
      "MisesChair\n",
      "PerBylund\n",
      "okstate\n",
      "Ratio_Institute\n",
      "LPTN1776\n",
      "FreeStateNH\n",
      "TenthAmendment\n",
      "jadesimmons\n",
      "lecrae\n",
      "BradCelmainis\n",
      "HSatterley\n",
      "thespeakersmag\n",
      "pamperry\n",
      "TGFMradio\n",
      "NRBConvention\n",
      "theSpeakersMag\n",
      "crystalfreie\n",
      "SeekWisdomPCW\n",
      "pjtorresdiaz\n",
      "RISMediaUpdates\n",
      "NimkoAli\n",
      "TheFiveFound\n",
      "TBP_agency\n",
      "ORSurgeryNurse\n",
      "ericries\n",
      "PivotPod\n",
      "NYmag\n",
      "profgalloway\n",
      "karaswisher\n",
      "BHHSpartners\n",
      "MrJamesJeromeB2\n",
      "JayInslee\n",
      "GovInslee\n",
      "PattyMurray\n",
      "SenateApprops\n",
      "wsdot\n",
      "seattletimes\n",
      "KING5Seattle\n",
      "king5\n",
      "komonews\n",
      "SenatorCantwell\n",
      "commercedems\n",
      "KIRO7Seattle\n",
      "SeattlePD\n",
      "MurrayCampaign\n",
      "AGOWA\n",
      "ericacbarnett\n",
      "publicola\n",
      "BobFergusonAG\n",
      "westseattleblog\n",
      "SeattleFire\n",
      "kcexec\n",
      "JeromeSegal\n",
      "Nasaaeaoa\n",
      "greeleycrat\n",
      "greeleydos\n",
      "AmbDennisRoss\n",
      "WinstonColin\n",
      "carpets\n",
      "AmandaW45456845\n",
      "B1Coyle\n",
      "CNLiberalism\n",
      "Best4Liberty\n",
      "airinfebiyanti\n",
      "hnnhgskllalso\n",
      "hnnhgskll\n",
      "baltsun\n",
      "BachtyBaron\n",
      "imcool247\n",
      "VonnieMarry\n",
      "ravikum91199089\n",
      "Tiffany59409574\n",
      "BILELKASTRO\n",
      "SharonD37208880\n",
      "JoeBiden\n",
      "POTUS\n",
      "FLOTUS\n",
      "MichelleObama\n",
      "WhiteHouse\n",
      "PeteButtigieg\n",
      "SecretaryPete\n",
      "HillaryClinton\n",
      "KamalaHarris\n",
      "VP\n",
      "TheDemocrats\n",
      "DouglasEmhoff\n",
      "SecondGentleman\n",
      "DNCWarRoom\n",
      "chrissyteigen\n",
      "teachcardona\n",
      "SecCardona\n",
      "AliMayorkas\n",
      "ABlinken\n",
      "SecBlinken\n",
      "SecYellen\n",
      "neeratanden\n",
      "XavierBecerra\n",
      "SecBecerra\n",
      "votejoemchugh\n",
      "RepThomasMassie\n",
      "justinamash\n",
      "LPNational\n",
      "RealSpikeCohen\n",
      "YATPOfficial\n",
      "beinlibertarian\n",
      "LPMisesCaucus\n",
      "brad_polumbo\n",
      "DCExaminer\n",
      "NYPost\n",
      "Newsweek\n",
      "angela4LNCChair\n",
      "lpnational\n",
      "ShaneTHazel\n",
      "Swan\n",
      "ComicDaveSmith\n",
      "gmail\n",
      "HannahDCox\n",
      "whitecoatwaste\n",
      "DeTocqueville14\n",
      "LPNH\n",
      "IDJoe4Idaho\n",
      "ToddHagopian\n",
      "LPCO\n",
      "JoeSestak\n",
      "JoshShapiroPA\n",
      "GovernorShapiro\n",
      "SenBobCasey\n",
      "SenateAging\n",
      "RyanDeto\n",
      "TribLive\n",
      "triblive\n",
      "baseballot\n",
      "FiveThirtyEight\n",
      "Bob_Casey\n",
      "PhillyInquirer\n",
      "seungminkim\n",
      "AP\n",
      "CNN\n",
      "washingtonpost\n",
      "politico\n",
      "frankthorp\n",
      "ap\n",
      "DrewSav\n",
      "adambonin\n",
      "BritCrampsie\n",
      "BrendanMcP\n",
      "JohnFetterman\n",
      "HelenGymPHL\n",
      "JoeBiden\n",
      "PeteButtigieg\n",
      "dccc\n",
      "RobSandIA\n",
      "iastateauditor\n",
      "Atrios\n",
      "ConorLambPA\n",
      "Duqklinelaw\n",
      "MikeSchlossberg\n",
      "WalshFreedom\n",
      "AdamKinzinger\n",
      "AirNatlGuard\n",
      "country_f1rst\n",
      "nafo\n",
      "TheRickWilson\n",
      "RpsAgainstTrump\n",
      "donwinslow\n",
      "WinslowBookClub\n",
      "BillKristol\n",
      "SteveSchmidtSES\n",
      "natsechobbyist\n",
      "theswppod\n",
      "funder\n",
      "TheDemCoalition\n",
      "DworkinReport\n",
      "DworkinWeekly\n",
      "RadioFreeTom\n",
      "TheAtlantic\n",
      "Liz_Cheney\n",
      "glennkirschner2\n",
      "NBCNews\n",
      "MSNBC\n",
      "FPWellman\n",
      "OnDemocracyPod\n",
      "MeidasTouch\n",
      "ericswalwell\n",
      "clairecmc\n",
      "AntiToxicPeople\n",
      "libradunn\n",
      "DefendersPAC\n",
      "officialmcafee\n",
      "theemrsmcafee\n",
      "rogerkver\n",
      "ToneVays\n",
      "FinSummit\n",
      "Unconfiscatable\n",
      "UnderstandBit\n",
      "CharlieShrem\n",
      "BTCFoundation\n",
      "DruidVentures\n",
      "ByteFederal\n",
      "InvestorPlace\n",
      "panamaXBT\n",
      "cryptomocho\n",
      "FrogtownCapital\n",
      "LandM_Marius\n",
      "BitcoinTAF\n",
      "CryptoChihiro\n",
      "CryptoDale\n",
      "__MrAnderson___\n",
      "bensemchee\n",
      "haydentiff\n",
      "CryptoYoda1338\n",
      "McAfeeMemorial\n",
      "vergecurrency\n",
      "PieceOfThePy\n",
      "JohnDelaney\n",
      "BrookeELierman\n",
      "arunamiller\n",
      "mkorman\n",
      "pwoodreporter\n",
      "baltimorebanner\n",
      "capgaznews\n",
      "thebaltimorebanner\n",
      "Charles63989449\n",
      "brownsugar7878\n",
      "NatGeo\n",
      "BillAckman\n",
      "PershingSqFdn\n",
      "GraceDe71045487\n",
      "JosephPolitano\n",
      "gunsnrosesgirl3\n",
      "pika_labs\n",
      "ChunkGroundhog\n",
      "seanmg\n",
      "EconCharlie\n",
      "Arnold_Ventures\n",
      "WhiteHouse\n",
      "WHCOVIDResponse\n",
      "SenatorBennet\n",
      "USTreasury\n",
      "xai\n",
      "Hickenlooper\n",
      "GovofCO\n",
      "KyleClark\n",
      "NextOn9NEWS\n",
      "SenatorBennet\n",
      "9NEWS\n",
      "jaredpolis\n",
      "DenverChannel\n",
      "denver7\n",
      "denverpost\n",
      "pettersen4co\n",
      "RepPettersen\n",
      "JenaGriswold\n",
      "CBSNewsColorado\n",
      "JoeNeguse\n",
      "DenverZoo\n",
      "Bretontheradio\n",
      "wardsutton\n",
      "pweiser\n",
      "TGreenDenver\n",
      "DENAirport\n",
      "ElectMonds\n",
      "LPNational\n",
      "RealSpikeCohen\n",
      "YATPOfficial\n",
      "beinlibertarian\n",
      "LPMisesCaucus\n",
      "ComicDaveSmith\n",
      "gmail\n",
      "ToddHagopian\n",
      "angela4LNCChair\n",
      "lpnational\n",
      "reason\n",
      "ReasonFdn\n",
      "JoForLiberty\n",
      "people4liberty\n",
      "scotthortonshow\n",
      "FreemansMind96\n",
      "LPNH\n",
      "checkmatestate\n",
      "Graham4GA\n",
      "StateOfAtlanta\n",
      "DanForTexas\n",
      "LPTN1776\n",
      "ShaneTHazel\n",
      "Swan\n",
      "JohnSchiess1\n",
      "MohaveCountyGOP\n",
      "TuckerCarlson\n",
      "BasedMikeLee\n",
      "chrisdmowrey\n",
      "dpeiser\n",
      "SDClimateNetwrk\n",
      "Greenliness\n",
      "sbecorotary\n",
      "ClickVote\n",
      "JoForLiberty\n",
      "LPNational\n",
      "RealSpikeCohen\n",
      "YATPOfficial\n",
      "justinamash\n",
      "beinlibertarian\n",
      "ToddHagopian\n",
      "HannahDCox\n",
      "whitecoatwaste\n",
      "angela4LNCChair\n",
      "lpnational\n",
      "checkmatestate\n",
      "LPTN1776\n",
      "reason\n",
      "ReasonFdn\n",
      "ShaneTHazel\n",
      "Swan\n",
      "brad_polumbo\n",
      "DCExaminer\n",
      "NYPost\n",
      "Newsweek\n",
      "ChaseForLiberty\n",
      "BuenoForMiami\n",
      "AccidentLiberty\n",
      "JoshEakle\n",
      "ProjectLiberal\n",
      "SFLiberty\n",
      "jkishore\n",
      "DavidNorthWSWS\n",
      "EricLondonSEP\n",
      "Andre__Damon\n",
      "CarterWSWS\n",
      "johnpilger\n",
      "WillforUAWpres\n",
      "ProudSocialist\n",
      "AmpedUpPodcast\n",
      "EvanBlake17\n",
      "claraweiss_wsws\n",
      "IYSSE_US\n",
      "WSWS_Updates\n",
      "posteo\n",
      "anthonyzenkus\n",
      "josephscalice\n",
      "hkbaptistu\n",
      "CornellPress\n",
      "JudeJack\n",
      "ErikSchreiber5\n",
      "erikschreiber\n",
      "mastodon\n",
      "Sandy_English\n",
      "wsws_updates\n",
      "niles_niemuth\n",
      "MackamanThomas\n",
      "JohricmyeJ\n",
      "MinneryJim\n",
      "jibaritapr38\n",
      "davideastmanjr\n",
      "ActiVoteUS\n",
      "slutdotna\n",
      "JeffLandfield\n",
      "alaskalandmine\n",
      "Midnight_Sun_ak\n",
      "AlaskaCurrent\n",
      "dbongino\n",
      "ElectionWiz\n",
      "TreibertJames\n",
      "3rdpartywatch\n",
      "libbybakalar\n",
      "RA_Dillon\n",
      "raineycenter\n",
      "MarkSpringer\n",
      "wl7bct\n",
      "mastodon\n",
      "markspringer\n",
      "bsky\n",
      "FAIRImmigration\n",
      "MichiganHemp\n",
      "hemplifeglobal\n",
      "JulianCastro\n",
      "JoaquinCastrotx\n",
      "GregCasar\n",
      "Ron_Nirenberg\n",
      "jamestalarico\n",
      "DiegoBernalTX\n",
      "RepEscobar\n",
      "HouseDPCC\n",
      "MariaTeresa\n",
      "votolatino\n",
      "MSNBC\n",
      "RockBrosFund\n",
      "rfk\n",
      "StevenMadden\n",
      "EmilysList\n",
      "raj_devex\n",
      "texasdemocrats\n",
      "PuroSanAntonio\n",
      "purosanantonio\n",
      "COSAGOV\n",
      "SanAntonio311\n",
      "wendydavis\n",
      "PuroPincheSA\n",
      "latinovictoryus\n",
      "EvaLongoria\n",
      "HenryRMunozIII\n",
      "NBCLatino\n",
      "NBCNews\n",
      "SandraLilley\n",
      "SuzGamboa\n",
      "Nicolemarie_A\n",
      "theloserteacher\n",
      "justinamash\n",
      "LPNational\n",
      "RealSpikeCohen\n",
      "YATPOfficial\n",
      "LPMisesCaucus\n",
      "ToddHagopian\n",
      "scotthortonshow\n",
      "FreemansMind96\n",
      "angela4LNCChair\n",
      "lpnational\n",
      "HannahDCox\n",
      "whitecoatwaste\n",
      "reason\n",
      "ReasonFdn\n",
      "ThomasEWoods\n",
      "brad_polumbo\n",
      "DCExaminer\n",
      "NYPost\n",
      "Newsweek\n",
      "AP4Liberty\n",
      "JoForLiberty\n",
      "people4liberty\n",
      "checkmatestate\n",
      "LPTN1776\n",
      "BobMurphyEcon\n",
      "infineogroup\n",
      "ChaseForLiberty\n",
      "KamalaHarris\n",
      "JoeBiden\n",
      "DrBiden\n",
      "POTUS\n",
      "MichelleObama\n",
      "VP\n",
      "SecondGentleman\n",
      "WhiteHouse\n",
      "SpeakerPelosi\n",
      "ewarren\n",
      "CFPB\n",
      "HillaryClinton\n",
      "RepSwalwell\n",
      "HouseJudiciary\n",
      "HomelandDems\n",
      "SenWarren\n",
      "SenSchumer\n",
      "ananavarro\n",
      "CNN\n",
      "TheView\n",
      "amyklobuchar\n",
      "alfranken\n",
      "BillClinton\n",
      "ClintonFdn\n",
      "JoyAnnReid\n",
      "GavinNewsom\n",
      "JenSiebelNewsom\n",
      "politickinpod\n",
      "Kdunham4peace\n",
      "justinamash\n",
      "RealSpikeCohen\n",
      "YATPOfficial\n",
      "beinlibertarian\n",
      "LPMisesCaucus\n",
      "LibertyLockPod\n",
      "scotthortonshow\n",
      "FreemansMind96\n",
      "LPNH\n",
      "ShaneTHazel\n",
      "Swan\n",
      "Stella_Assange\n",
      "UniOfOxford\n",
      "SOAS\n",
      "angela4LNCChair\n",
      "lpnational\n",
      "BuenoForMiami\n",
      "SarcasmStardust\n",
      "action_4assange\n",
      "DefendAssange\n",
      "HannahDCox\n",
      "whitecoatwaste\n",
      "carynannharlos\n",
      "AP4Liberty\n",
      "Davenport4POTUS\n",
      "FeliciaCombsTWC\n",
      "UCF\n",
      "msstate\n",
      "DCMOCA\n",
      "SecretaryofDC\n",
      "UNCYoungDems\n",
      "UNC\n",
      "CNN\n",
      "CNNBRK\n",
      "VP\n",
      "SecondGentleman\n",
      "POTUS\n",
      "FLOTUS\n",
      "SecDef\n",
      "POTUS45\n",
      "babydoll_toni\n",
      "DrBiden\n",
      "JoeBiden\n",
      "KamalaHarris\n",
      "DouglasEmhoff\n",
      "WhiteHouse\n",
      "MayorBowser\n",
      "LibertyCowboyKB\n",
      "LPNational\n",
      "RealSpikeCohen\n",
      "YATPOfficial\n",
      "justinamash\n",
      "RepThomasMassie\n",
      "beinlibertarian\n",
      "ToddHagopian\n",
      "OklahomaLP\n",
      "ZubyMusic\n",
      "RandPaul\n",
      "LPTN1776\n",
      "ComicDaveSmith\n",
      "gmail\n",
      "ChaseForLiberty\n",
      "RobSchneider\n",
      "HannahDCox\n",
      "whitecoatwaste\n",
      "ShaneTHazel\n",
      "Swan\n",
      "carynannharlos\n",
      "SenGillibrand\n",
      "GovKathyHochul\n",
      "maziehirono\n",
      "emilyfavreau\n",
      "SenFeinstein\n",
      "KathyHochul\n",
      "AlyssaMastro44\n",
      "BarbaraBoxer\n",
      "gillibrandny\n",
      "RepPaulTonko\n",
      "BHigginsBflo\n",
      "liuba4congress\n",
      "VoteMamaPAC\n",
      "VoteMamaFdn\n",
      "NYGov\n",
      "just_jenkins\n",
      "CaptMarkKelly\n",
      "EmmyA2\n",
      "GavinNewsom\n",
      "hillaryclinton\n",
      "ppact\n",
      "barackobama\n",
      "BilldeBlasio\n",
      "samraforsenate\n",
      "SenatorBrouk\n",
      "KyleKopitke\n",
      "theloniouszen\n",
      "RealCandaceO\n",
      "realcandaceo\n",
      "JasNuss\n",
      "luciejessicaa\n",
      "Andrew_2786\n",
      "freenationtoday\n",
      "ellisdee4u\n",
      "Yaya64693290\n",
      "Alex_on_A14\n",
      "CcMikein\n",
      "RJPilkington\n",
      "LAMINNJ77975421\n",
      "NMoonitz\n",
      "RT_com\n",
      "Stephen17286147\n",
      "JosephFordCotto\n",
      "figward\n",
      "brithume\n",
      "greggutfeld\n",
      "yesnicksearcy\n",
      "RedState\n",
      "PolitiBunny\n",
      "TwitchyTeam\n",
      "karol\n",
      "nypost\n",
      "foxnews\n",
      "iheartradio\n",
      "ElenaCardone\n",
      "BarnettforAZ\n",
      "mrddmia\n",
      "Article3Project\n",
      "The_IAP\n",
      "UnsilencedOrg\n",
      "eloneagleman\n",
      "maxwelltani\n",
      "semafor\n",
      "natlie_workman\n",
      "GingerLGaetz\n",
      "WarClandestine\n",
      "lisa_dunnAn\n",
      "jfx888\n",
      "LincolnChafee\n",
      "TedNesi\n",
      "wpri12\n",
      "RIPBSWeekly\n",
      "Wheaton\n",
      "KimKalunian\n",
      "IanDon\n",
      "ThePublicsRadio\n",
      "ProvPhoenix\n",
      "ripr\n",
      "DanMcGowan\n",
      "BostonGlobe\n",
      "globe\n",
      "GovDanMcKee\n",
      "JimLangevin\n",
      "kathyprojo\n",
      "FitzProv\n",
      "projo\n",
      "FiveFreedoms\n",
      "NewhouseSU\n",
      "SenJackReed\n",
      "RIHouseofReps\n",
      "nsarwark\n",
      "LibertarianPol\n",
      "WedgeSquared\n",
      "LPNational\n",
      "tednesi\n",
      "wpri\n",
      "TaraGranahan\n",
      "foxnews\n",
      "thegracies\n",
      "RIKidsCount\n",
      "JamesDiossa\n",
      "RITreasury\n",
      "marwilliamson\n",
      "KyleKulinski\n",
      "davidsirota\n",
      "LeverNews\n",
      "EmilyforCO\n",
      "briebriejoy\n",
      "BadFaithPod\n",
      "RisingTheHill\n",
      "theintercept\n",
      "krystalball\n",
      "krystalmball\n",
      "ProudSocialist\n",
      "AmpedUpPodcast\n",
      "SocialistMMA\n",
      "RevBlackNetwork\n",
      "EmmaVigeland\n",
      "majorityfm\n",
      "ESVNShow\n",
      "JordanChariton\n",
      "StatusCoup\n",
      "GunnelsWarren\n",
      "SenSanders\n",
      "realNDWalsch\n",
      "NathanJRobinson\n",
      "CurAffairs\n",
      "guardian\n",
      "HumanistReport\n",
      "PeoplesParty_US\n",
      "RalphNader\n",
      "DrDooleyMD\n",
      "BernieSanders\n",
      "ShahidForChange\n",
      "sheeyahshee\n",
      "wirelesshogan\n",
      "stewartdantec\n",
      "blueflowerarts\n",
      "BrianZahnd\n",
      "WOLC\n",
      "ShaneClaiborne\n",
      "esaumccaulley\n",
      "wheatoncollege\n",
      "NYTimes\n",
      "dioceseofC4SO\n",
      "CarlosHappyNPO\n",
      "tweetraychang\n",
      "aachristcollab\n",
      "JemarTisby\n",
      "scky_1879\n",
      "JoashPThomas\n",
      "IJMCanada\n",
      "BrazosPress\n",
      "JoLuehmann\n",
      "sista_theology\n",
      "TruthsTable\n",
      "DavidDark\n",
      "nashvillescene\n",
      "pastemagazine\n",
      "rns\n",
      "pitchfork\n",
      "utexaspress\n",
      "austinchanning\n",
      "SamObiWon\n",
      "DallasSeminary\n",
      "UMich\n",
      "samobiwon77\n",
      "brianmclaren\n",
      "brianmclaren\n",
      "mastodon\n",
      "DrCEdmondson\n",
      "MarlenaGraves\n",
      "MarkSanford\n",
      "DavidAFrench\n",
      "lipscomb\n",
      "NancyAFrench\n",
      "JohnKasich\n",
      "NBCNews\n",
      "CNBC\n",
      "MSNBC\n",
      "BPC_Bipartisan\n",
      "BudgetHawks\n",
      "MeadowsInst\n",
      "amandacarpenter\n",
      "protctdemocracy\n",
      "SpeakerBoehner\n",
      "MaayanSchechter\n",
      "SCPublicRadio\n",
      "scpublicradio\n",
      "thestate\n",
      "greenvillenews\n",
      "aikenstandard\n",
      "SEisbergWCIV\n",
      "postandcourier\n",
      "SCEMD\n",
      "jackhunter74\n",
      "dcexaminer\n",
      "rstatecraft\n",
      "spectator\n",
      "JeffFlake\n",
      "MegKinnardAP\n",
      "AP\n",
      "NationalJournal\n",
      "GeorgetownSFS\n",
      "UNC\n",
      "Lincoln_Party_\n",
      "RepJeffDuncan\n",
      "wis10\n",
      "wisfirstalert\n",
      "WLTX\n",
      "hayesbrown\n",
      "HayesBrown\n",
      "buzzfeednews\n",
      "Stewart4Liberty\n",
      "bdomenech\n",
      "TheSpectator\n",
      "FoxNews\n",
      "TheTransom\n",
      "KatiePavlich\n",
      "_ShannonMiller\n",
      "NBCConnecticut\n",
      "CondoleezzaRice\n",
      "HooverInst\n",
      "streiffredstate\n",
      "BurgessOwens\n",
      "KennedyNation\n",
      "HARRISFAULKNER\n",
      "FaulknerFocus\n",
      "OutnumberedFNC\n",
      "michaeljknowles\n",
      "FrankBruni\n",
      "nytimes\n",
      "nsarwark\n",
      "LibertarianPol\n",
      "WedgeSquared\n",
      "LPNational\n",
      "benshapiro\n",
      "benshapiroshow\n",
      "DavidJHarrisJr\n",
      "schechtj\n",
      "MikeBloomberg\n",
      "adamkokesh\n",
      "wkxlnh\n",
      "Matern2020\n",
      "BarbMcQuade\n",
      "UMichLaw\n",
      "NicolleDWallace\n",
      "RonSteslow\n",
      "PoliticologyPod\n",
      "NHJennifer\n",
      "nhjennifer\n",
      "madrid_mike\n",
      "TheLatino_vote\n",
      "reedgalen\n",
      "jointheunion\n",
      "SteveSchmidtSES\n",
      "ProjectLincoln\n",
      "JoyceWhiteVance\n",
      "UALawSchool\n",
      "MSNBC\n",
      "NBCNews\n",
      "gtconway3d\n",
      "TheAtlantic\n",
      "chkbal\n",
      "DanSnyderTV\n",
      "CBSPhiladelphia\n",
      "TempleUniv\n",
      "okcfox\n",
      "johnsonjakep\n",
      "commondreams\n",
      "BySajaHindi\n",
      "coloradotrust\n",
      "denverpost\n",
      "coloradoan\n",
      "Rossputin\n",
      "KOAColorado\n",
      "foxnewsradio\n",
      "FoxNews\n",
      "foxheadlines\n",
      "foxnews\n",
      "RepAbramson\n",
      "LPNational\n",
      "RepThomasMassie\n",
      "justinamash\n",
      "RandPaul\n",
      "TRHLofficial\n",
      "SpacesWithJosie\n",
      "Timcast\n",
      "checkmatestate\n",
      "Timcastnews\n",
      "watchTENETnow\n",
      "LPMisesCaucus\n",
      "ZubyMusic\n",
      "beinlibertarian\n",
      "MattWalshBlog\n",
      "SallyMayweather\n",
      "ComicDaveSmith\n",
      "gmail\n",
      "ggreenwald\n",
      "SystemUpdate_\n",
      "Folha\n",
      "TheInterceptBr\n",
      "theintercept\n",
      "abrigo_hope\n",
      "FreedomofPress\n",
      "idm_org\n",
      "Cernovich\n",
      "ToddHagopian\n",
      "MichaelBennet\n",
      "KyleClark\n",
      "NextOn9NEWS\n",
      "jaredpolis\n",
      "JenaGriswold\n",
      "denverpost\n",
      "JoeNeguse\n",
      "Bretontheradio\n",
      "wardsutton\n",
      "ericmbudd\n",
      "MayorHancock\n",
      "colo_politics\n",
      "csgazette\n",
      "caitlynkim\n",
      "CPRNews\n",
      "NPR\n",
      "NPRWeekend\n",
      "EmmaMorgayne\n",
      "Bob_Casey\n",
      "SenatorBennet\n",
      "Maggie_Hassan\n",
      "UNC\n",
      "JoeForCO\n",
      "SenatorTester\n",
      "JuliaBess\n",
      "smotus\n",
      "DouglasEmhoff\n",
      "KamalaHarris\n",
      "SecondGentleman\n",
      "MikeBloomberg\n",
      "mikebarnicle\n",
      "NYCMayorsOffice\n",
      "NYCMayor\n",
      "stuloeser\n",
      "senschumer\n",
      "mikebloomberg\n",
      "jessloeser\n",
      "BloombergDotOrg\n",
      "drkellyhenning\n",
      "JamesAnderson\n",
      "VitalStrat\n",
      "Bloomberg\n",
      "EllenJMacKenzie\n",
      "JohnsHopkinsSPH\n",
      "JHU_BDPs\n",
      "BloombergCities\n",
      "PattiHarris\n",
      "TechAtBloomberg\n",
      "larson_kelly\n",
      "bloomergdotorg\n",
      "Keir_Starmer\n",
      "Orioles\n",
      "BreatheCities\n",
      "CleanAirFund\n",
      "c40cities\n",
      "bloomberg\n",
      "drmikekatz\n",
      "Spotlight302\n",
      "JoAnnLChateau\n",
      "TheDebcc\n",
      "malcolmlocs\n",
      "DIAA_Delaware\n",
      "AuksAthletics\n",
      "archmereacademy\n",
      "UAwilmington\n",
      "hillerssports\n",
      "ArchmereAcademy\n",
      "TatnallSchool\n",
      "WilmFriends\n",
      "IngrahamAngle\n",
      "FoxNews\n",
      "WilliamsJa29998\n",
      "CollegeDems_DSU\n",
      "RobertKennedyJr\n",
      "WPDPIO\n",
      "Lev4president\n",
      "sethmeyers\n",
      "KatyTurNBC\n",
      "2pm\n",
      "msnbc\n",
      "KingJames\n",
      "LizKreutzNews\n",
      "abc7newsbayarea\n",
      "abc10tv\n",
      "abc\n",
      "nbcuni\n",
      "ABC\n",
      "Medium\n",
      "medium\n",
      "BarackObama\n",
      "TB_Times\n",
      "washingtonpost\n",
      "politico\n",
      "politicongress\n",
      "politicomag\n",
      "jimmyfallon\n",
      "VSPC\n",
      "FOX13News\n",
      "TBLightning\n",
      "ezraklein\n",
      "NYTOpinion\n",
      "POTUS45\n",
      "mbpuskar\n",
      "ResisterChic\n",
      "ShitzN_Giggles\n",
      "ThisPost\n",
      "Fuk_ELm0\n",
      "Jane_with_a_y\n",
      "OccupyDemocrats\n",
      "donwinslow\n",
      "NancySinatra\n",
      "joncoopertweets\n",
      "mmpadellan\n",
      "funder\n",
      "glennkirschner2\n",
      "jaynesc\n",
      "VoteBlueIn2020\n",
      "DarlaStephen2\n",
      "JhendersonJames\n",
      "77SunnyAndClear\n",
      "factandrumor\n",
      "SugarDonaghy\n",
      "CynthiaHarless1\n",
      "morgfair\n",
      "7Veritas4\n",
      "MarkHamill\n",
      "Miti_Blue\n",
      "4HumanUnity\n",
      "avenaim\n",
      "JohnDWestbrook\n",
      "TonyHQ1985\n",
      "Alt1Tony\n",
      "bkaydw\n",
      "Paij4President\n",
      "PeteButtigieg\n",
      "ProjectLincoln\n",
      "robreiner\n",
      "SpeakerPelosi\n",
      "RepAdamSchiff\n",
      "ReverendWarnock\n",
      "Morehouse\n",
      "TeamWarnock\n",
      "ewarren\n",
      "CFPB\n",
      "TheRickWilson\n",
      "MeidasTouch\n",
      "FLOTUS\n",
      "POTUS\n",
      "RepSwalwell\n",
      "HouseJudiciary\n",
      "HomelandDems\n",
      "JohnFetterman\n",
      "GiseleFetterman\n",
      "jrpsaki\n",
      "InsideWithPsaki\n",
      "MSNBC\n",
      "tedlieu\n",
      "amyklobuchar\n",
      "RepRaskin\n",
      "OversightDems\n",
      "marceelias\n",
      "DemocracyDocket\n",
      "EliasLawGroup\n",
      "PhilCollinsWI\n",
      "LifeNewsHQ\n",
      "DanProft\n",
      "SafeSuburbsUSA\n",
      "publicpolicyman\n",
      "IllinoisReview\n",
      "ILfamilyaction\n",
      "ProFamilyIFI\n",
      "MorningAnswer\n",
      "AmyJacobson\n",
      "AM560TheAnswer\n",
      "ChicagoGOP\n",
      "ProFamilyIL\n",
      "JackLombardi\n",
      "ProLifeWI\n",
      "greenbay_GOP\n",
      "Neal_Wisinski\n",
      "4PhilWI\n",
      "mmadrianne42\n",
      "boddieforga\n",
      "bluestein\n",
      "AJC\n",
      "nbcnews\n",
      "msnbc\n",
      "politicallyga\n",
      "wabenews\n",
      "SenatorWarnock\n",
      "BeeForGeorgia\n",
      "senatorwarnock\n",
      "ossoff\n",
      "staceyabrams\n",
      "RewiringAmerica\n",
      "AuforGA\n",
      "GeorgiaDemocrat\n",
      "KeishaBottoms\n",
      "MsLaToshaBrown\n",
      "BlackVotersMtr\n",
      "SenOssoff\n",
      "stphnfwlr\n",
      "npr\n",
      "nprpolitics\n",
      "jasonesteves\n",
      "PhilForGeorgia\n",
      "NextGenATL\n",
      "PeaceCorps\n",
      "iMajorWish\n",
      "QondiNtini\n",
      "VP\n",
      "TeamWarnock\n",
      "ReverendWarnock\n",
      "SlaveryEnds2024\n",
      "Ojeda4America\n",
      "SimaNoori1\n",
      "kaylayoungforwv\n",
      "wvhouse\n",
      "Jale_Akbari\n",
      "WVUFLU\n",
      "JesseP4Florida\n",
      "ImagineMoreShow\n",
      "Narges_Muradi\n",
      "RasikhMahdi\n",
      "HazaraVoice\n",
      "PhilKabler\n",
      "wvgazette\n",
      "hdmediallc\n",
      "BradMcElhinny\n",
      "WVMetroNews\n",
      "CharleyWest\n",
      "pushkinforhouse\n",
      "officialdaniwv\n",
      "DaniforWv\n",
      "ajarts4you\n",
      "Mahdi12469015\n",
      "OLearySW\n",
      "WVCBP\n",
      "Lisa_Asillie\n",
      "RobertArdini\n",
      "gardenhistories\n",
      "AmericanRoseSoc\n",
      "Meilland_Roses\n",
      "BullMoosePoli\n",
      "BullMoosePolitics\n",
      "MEGSJayCook\n",
      "gentXray\n",
      "jackdoserey\n",
      "SassyGirlBoss\n",
      "playboy\n",
      "soulprovider915\n",
      "Loudobbs\n",
      "GenFlynn\n",
      "RitaCosby\n",
      "RealDrGina\n",
      "Lucy24Smith\n",
      "sowingHK\n",
      "MVGosnoldFarmer\n",
      "JSmithpolitics1\n",
      "thegaf\n",
      "JimDelRey\n",
      "Paramotor_Flyer\n",
      "debclay5153\n",
      "rmcgeeUShouseSC\n",
      "OccupyDemocrats\n",
      "TheWeek\n",
      "SeditionHunters\n",
      "seditionhunters\n",
      "KeithOlbermann\n",
      "SteveKornacki\n",
      "realJohnACastro\n",
      "BennieGThompson\n",
      "HomelandDems\n",
      "benniegthompson\n",
      "Liz_Cheney\n",
      "CheriBeasleyNC\n",
      "AKASorority1908\n",
      "elonmusk\n",
      "Idocki1\n",
      "joerogan\n",
      "AnnCoulter\n",
      "BlueMeanieBWO\n",
      "MindOfTheMeanie\n",
      "DanCrenshawTX\n",
      "ginacarano\n",
      "JoinRocky\n",
      "ReformParty\n",
      "LPTexas\n",
      "michaelhackmer\n",
      "USLeadershipPAC\n",
      "lpky\n",
      "lpnevada\n",
      "DrWillieWilson\n",
      "Graham4GA\n",
      "StateOfAtlanta\n",
      "tjohara2012\n",
      "SpaceX\n",
      "NASA\n",
      "Tesla\n",
      "MiamiPD\n",
      "AlliancePartyVA\n",
      "AlliancePTYUT\n",
      "AlliancePartyWR\n",
      "AlliancePTY\n",
      "2020_polling\n",
      "voteforsamsloan\n",
      "bobhardt\n",
      "NY1\n",
      "washingtonpost\n",
      "EspaillatNY\n",
      "RepEspaillat\n",
      "Sen_A_Espaillat\n",
      "Newsweek\n",
      "HeartYN\n",
      "BronxDefenders\n",
      "CWalkerNews12\n",
      "News12BK\n",
      "Azi\n",
      "cbrangel\n",
      "juangon68\n",
      "NYDNPolitics\n",
      "NYDailyNews\n",
      "BoycotStarbucks\n",
      "revrubendiaz\n",
      "rubendiazjr\n",
      "TheBronxTourism\n",
      "skcmcurry\n",
      "ninaturner\n",
      "RacePowerPolicy\n",
      "ProudSocialist\n",
      "AmpedUpPodcast\n",
      "wikileaks\n",
      "jimmy_dore\n",
      "RonPlacone\n",
      "AZGreenParty\n",
      "PrimoRadical\n",
      "GreenPartyUS\n",
      "SocialistMMA\n",
      "RevBlackNetwork\n",
      "LeeCamp\n",
      "KyleKulinski\n",
      "MatthewPHoh\n",
      "MediaEisenhower\n",
      "briebriejoy\n",
      "BadFaithPod\n",
      "RisingTheHill\n",
      "theintercept\n",
      "BreeNewsome\n",
      "SCCGreens\n",
      "SDonziger\n",
      "sethmoulton\n",
      "MAGovArchive\n",
      "maura_healey\n",
      "MassGovernor\n",
      "JLydgate\n",
      "AGHealeyArchive\n",
      "MassAGO\n",
      "RepMcGovern\n",
      "RulesDemocrats\n",
      "TLhumanrights\n",
      "CECCgov\n",
      "RepLoriTrahan\n",
      "HouseDPCC\n",
      "EnergyCommerce\n",
      "KimDriscollMA\n",
      "Maura_Healey\n",
      "lisakashinsky\n",
      "POLITICO\n",
      "bostonherald\n",
      "politico\n",
      "RepAuchincloss\n",
      "TransportDems\n",
      "CmteOnCCPDems\n",
      "katielannan\n",
      "gbhnews\n",
      "statehousenews\n",
      "lowellsun\n",
      "AJCampbellMA\n",
      "JayAshMACP\n",
      "GBHNews\n",
      "deehan\n",
      "Axios\n",
      "gmail\n",
      "jimbraude\n",
      "bospublicradio\n",
      "jimbraude1\n",
      "RepMoulton\n",
      "HASCDemocrats\n",
      "SammTittle\n",
      "weldonnoahhord\n",
      "Jaspercatrules\n",
      "Blueliberals\n",
      "nlltrt\n",
      "1JaySC\n",
      "DavidblogerICBW\n",
      "jgindel\n",
      "marlene4719\n",
      "JamesOKeefeIII\n",
      "okeefemedia\n",
      "gregkellyusa\n",
      "TedNugent\n",
      "EricTrump\n",
      "Trump\n",
      "LaraLeaTrump\n",
      "StJude\n",
      "TrumpWinery\n",
      "KariLakeWarRoom\n",
      "KariLake\n",
      "mtgreenee\n",
      "tracybeanz\n",
      "UncoverDC\n",
      "RobSchneider\n",
      "wrhammons\n",
      "bhammy15\n",
      "RoaringRiot\n",
      "smerconish\n",
      "DSArrows\n",
      "tccannon124\n",
      "JesseAPaul\n",
      "ColoradoSun\n",
      "denverpost\n",
      "LockePayday\n",
      "kristenwnichols\n",
      "hempindustrydaily\n",
      "MGoodland\n",
      "colo_politics\n",
      "csgazette\n",
      "DenverPressClub\n",
      "ByJohnFrank\n",
      "Axios\n",
      "coloradosun\n",
      "UNCHussman\n",
      "BenteBirkeland\n",
      "CPRNews\n",
      "cpr\n",
      "nprpolitics\n",
      "Vern_Miller_\n",
      "mimiabuisnaineh\n",
      "AgathaRaeAuthor\n",
      "chrismahlNY\n",
      "viennamusings\n",
      "4yourcountry\n",
      "GovJVentura\n",
      "briebriejoy\n",
      "BadFaithPod\n",
      "RisingTheHill\n",
      "theintercept\n",
      "LeeCamp\n",
      "SabbySabs2\n",
      "RevBlackNetwork\n",
      "ajamubaraka\n",
      "blacks4peace\n",
      "DrJillStein\n",
      "PeoplesParty_US\n",
      "PatTheSocialist\n",
      "PunchUpPod\n",
      "JakeSnakeDDT\n",
      "jakethesnakeroberts\n",
      "AbbyMartin\n",
      "EmpireFiles\n",
      "RalphNader\n",
      "kthalps\n",
      "ChrisLynnHedges\n",
      "chrishedgesch\n",
      "PeterGHager\n",
      "kgosztola\n",
      "ChadHartmanShow\n",
      "vanguard_pod\n",
      "TomHoefling\n",
      "SlowToWrite\n",
      "paulwasher\n",
      "HeartCryMission\n",
      "DavidAFrench\n",
      "lipscomb\n",
      "NancyAFrench\n",
      "DrStevenJLawson\n",
      "1Passion\n",
      "ExpositorMag\n",
      "Ligonier\n",
      "MastersSeminary\n",
      "TrinityBibleDallas\n",
      "JenniferEValent\n",
      "rcsprouljr\n",
      "DankAboMemes\n",
      "Atticus59914029\n",
      "dailyspurgeon\n",
      "BamaStephen\n",
      "Montanabeef\n",
      "mister_myron\n",
      "IAbolitionist\n",
      "girdley\n",
      "RJK416\n",
      "5pt_belardd\n",
      "KeithMcCormic\n",
      "Pilestedt\n",
      "RocketLab\n",
      "futharkvillage\n",
      "Ukraine\n",
      "KelloggCompany\n",
      "KelloggsUS\n",
      "DnDBeyond\n",
      "AudieCornish\n",
      "NPR\n",
      "CNN\n",
      "audieoffmic\n",
      "robcorddry\n",
      "EWRoddenberry\n",
      "planet4589\n",
      "mikexingchen\n",
      "yousuckMZ\n",
      "SpaceX\n",
      "dearMoonProject\n",
      "yousuck2020\n",
      "PaganHomestead\n",
      "jonstewart\n",
      "VP\n",
      "SecondGentleman\n",
      "justicedems\n",
      "ninaturner\n",
      "RacePowerPolicy\n",
      "KyleKulinski\n",
      "davidsirota\n",
      "LeverNews\n",
      "EmilyforCO\n",
      "cenkuygur\n",
      "TheYoungTurks\n",
      "TYT\n",
      "RoKhanna\n",
      "johniadarola\n",
      "thedamagereport\n",
      "theyoungturks\n",
      "briebriejoy\n",
      "BadFaithPod\n",
      "RisingTheHill\n",
      "theintercept\n",
      "krystalball\n",
      "krystalmball\n",
      "RepRashida\n",
      "EmmaVigeland\n",
      "majorityfm\n",
      "ESVNShow\n",
      "People4Bernie\n",
      "JamaalBowmanNY\n",
      "AnaKasparian\n",
      "BenjaminPDixon\n",
      "GunnelsWarren\n",
      "SenSanders\n",
      "JordanChariton\n",
      "StatusCoup\n",
      "ProjectLincoln\n",
      "gtconway3d\n",
      "TheAtlantic\n",
      "chkbal\n",
      "itsJeffTiedrich\n",
      "robreiner\n",
      "TheRickWilson\n",
      "MeidasTouch\n",
      "AdamKinzinger\n",
      "AirNatlGuard\n",
      "country_f1rst\n",
      "nafo\n",
      "joncoopertweets\n",
      "RepAdamSchiff\n",
      "MuellerSheWrote\n",
      "muellershewro\n",
      "RonFilipkowski\n",
      "MaryLTrump\n",
      "MaryTrumpMedia\n",
      "RepSwalwell\n",
      "HouseJudiciary\n",
      "HomelandDems\n",
      "PeteButtigieg\n",
      "SecretaryPete\n",
      "DanRather\n",
      "marceelias\n",
      "DemocracyDocket\n",
      "EliasLawGroup\n",
      "tedlieu\n",
      "TPUSA\n",
      "charliekirk11\n",
      "BreitbartNews\n",
      "BrandonStraka\n",
      "RealWalkAway\n",
      "brandonstraka\n",
      "RepAndyBiggsAZ\n",
      "JudiciaryGOP\n",
      "GOPoversight\n",
      "JudicialWatch\n",
      "DailyCaller\n",
      "prageru\n",
      "kimguilfoyle\n",
      "GrahamAllen_1\n",
      "alexbruesewitz\n",
      "XStrategiesLLC\n",
      "EliseStefanik\n",
      "robsmithonline\n",
      "thecjpearson\n",
      "GOP\n",
      "WatchChad\n",
      "theblaze\n",
      "LeeMZeldin\n",
      "RepLeeZeldin\n",
      "BillCassidy\n",
      "SenBillCassidy\n",
      "LouisianaGov\n",
      "FirstLadyofLA\n",
      "JacquesDoucet\n",
      "wafb\n",
      "RedRockAndBlue\n",
      "FOX8NOLA\n",
      "AGLizMurrill\n",
      "wdsu\n",
      "WAFB\n",
      "LouisianaLtGov\n",
      "BillyNungesser\n",
      "theadvocatebr\n",
      "SpeakerJohnson\n",
      "samkarlin\n",
      "NOLAnews\n",
      "theadvocate\n",
      "manshipschool\n",
      "JohnKennedyLA\n",
      "MelindaDeslatte\n",
      "PARLouisiana\n",
      "AP\n",
      "LSU\n",
      "UofMaryland\n",
      "lsu\n",
      "MitchRabalais\n",
      "LaPoliticsNow\n",
      "DavidJacobs225\n",
      "NYTimes\n",
      "GovernorXanJohn\n",
      "realstewpeters\n",
      "julie_kelly2\n",
      "XanJohn3\n",
      "XanJohnForGov23\n",
      "XanJohn1776\n",
      "XanJohnforLA\n",
      "XanJohnGovernor\n",
      "Stella_Assange\n",
      "UniOfOxford\n",
      "SOAS\n",
      "ReWojtyla\n",
      "MELsols\n",
      "DefiantLs\n",
      "Christinegracex\n",
      "KariLake\n",
      "bennyjohnson\n",
      "mrmgauvin\n",
      "lastwords333\n",
      "WayneJohnson4GA\n",
      "insidegapol\n",
      "insidegeorgiapolitics\n",
      "NEWSMAX\n",
      "MartinRSullivan\n",
      "Nestli_Indigo\n",
      "StudentLoanJus1\n",
      "mstratford\n",
      "Politico\n",
      "politico\n",
      "stphnfwlr\n",
      "npr\n",
      "nprpolitics\n",
      "markniesse\n",
      "ajc\n",
      "CrozerWilliam\n",
      "UVA\n",
      "UGA\n",
      "whitehouse45\n",
      "waynestruck\n",
      "ajconwashington\n",
      "tiareports\n",
      "NRCC\n",
      "PoliticallyGa\n",
      "MurphyAJC\n",
      "AJC\n",
      "dailybeast\n",
      "rollcall\n",
      "gardenandgun\n",
      "bluestein\n",
      "nbcnews\n",
      "msnbc\n",
      "politicallyga\n",
      "wabenews\n",
      "nesbit_ok\n",
      "RankTheVoteOK\n",
      "rankthevoteok\n",
      "choctawnationOK\n",
      "NEWS9\n",
      "RBReich\n",
      "InequalityMedia\n",
      "rbreich\n",
      "UnitedForOK\n",
      "pivotokla\n",
      "LeahDudley17\n",
      "SenAngusKing\n",
      "JimInhofe\n",
      "AOC\n",
      "abbybroyles\n",
      "davidfholt\n",
      "OCULAW\n",
      "usmayors\n",
      "TIME\n",
      "TulsaTeresa\n",
      "TheLostOgle\n",
      "OKCPatrick\n",
      "LouisFowler\n",
      "thelostogle\n",
      "ForrestBennett\n",
      "MickeyDollens\n",
      "EmilyVirginOK\n",
      "HRFK_ORG\n",
      "CathJSweeney\n",
      "WPLN\n",
      "mynameisJabee\n",
      "gmail\n",
      "jospacebear\n",
      "jacobrosecrants\n",
      "OKCTalk\n",
      "OklahomaMatters\n",
      "okprogressnow\n",
      "DGoforth918\n",
      "readfrontier\n",
      "TulsaPressClub\n",
      "FCTulsa\n",
      "liberalokie23\n",
      "reesejgorman\n",
      "NOTUSreports\n",
      "aji\n",
      "protonmail\n",
      "TxReason\n",
      "evanasmith\n",
      "emcollective\n",
      "theatlantic\n",
      "thelbjschool\n",
      "overheardpbs\n",
      "uvademocracy\n",
      "austinfilm\n",
      "lbjfoundation\n",
      "texastribune\n",
      "texasmonthly\n",
      "wilco\n",
      "PatrickSvitek\n",
      "WashingtonPost\n",
      "TexasTribune\n",
      "HoustonChron\n",
      "washpost\n",
      "texasdemocrats\n",
      "JennieLouLeeder\n",
      "txst\n",
      "ohiou\n",
      "JasmineForUS\n",
      "scottbraddock\n",
      "QuorumReport\n",
      "politico\n",
      "TexasMonthly\n",
      "tx19dems\n",
      "DanielJJonesUS\n",
      "TeachforAmerica\n",
      "FBI\n",
      "CarrCenter\n",
      "ibramxk\n",
      "AntiracismCtr\n",
      "WoodlandsDems\n",
      "BayAreaNewDems\n",
      "MeyerDems\n",
      "FrancesDeviney\n",
      "dlavine\n",
      "everytexan\n",
      "AKEdwardsTX\n",
      "PerkinsforLA\n",
      "LouisianaGov\n",
      "FirstLadyofLA\n",
      "GaryChambersJr\n",
      "gmail\n",
      "RTMannJr\n",
      "NOLAnews\n",
      "votelandry\n",
      "LaDemos\n",
      "mayorcantrell\n",
      "311nola\n",
      "HelenaMorenoLA\n",
      "NOLACityCouncil\n",
      "stephgracela\n",
      "theadvocatebr\n",
      "MichaelDTubbs\n",
      "GregHilburn1\n",
      "USAToday\n",
      "JSODonoghue\n",
      "illuminatorLA\n",
      "stlpublicradio\n",
      "NOLANews\n",
      "MedillSchool\n",
      "macalester\n",
      "capitals\n",
      "DLCC\n",
      "ColinAllredTX\n",
      "CEStephens\n",
      "BartellforGov\n",
      "ballotpedia\n",
      "Poynter\n",
      "poynter\n",
      "mcclatchy\n",
      "AllOnGeorgiaAOG\n",
      "votv\n",
      "GaFarmBureau\n",
      "indie_voting\n",
      "VAVetBiz\n",
      "SmallBizCmteGOP\n",
      "SenJoniErnst\n",
      "PeoplesParty_US\n",
      "GreenPartyUS\n",
      "DrJillStein\n",
      "CLouise92088341\n",
      "politico\n",
      "politicongress\n",
      "politicomag\n",
      "NPR\n",
      "AP\n",
      "Nomoretweedles\n",
      "m_boehmer1\n",
      "BuzzPatterson\n",
      "RedState\n",
      "Deets928\n",
      "shahd98800779\n",
      "muadmzaki\n",
      "amecrdEn\n",
      "stopvaccinating\n",
      "RogerJStoneJr\n",
      "QPATRIOTMLO1\n",
      "diana92287\n",
      "samst_ab\n",
      "chicagoredstars\n",
      "teamavsports\n",
      "RobertBilder91\n",
      "lmajno1\n",
      "Skid5150\n",
      "ArizonaLady7\n",
      "BarbaraOneillAU\n",
      "TMayer90922\n",
      "AlishaKShelton\n",
      "NebraskaMegan\n",
      "Adam_Morfeld\n",
      "NELegalAction\n",
      "NebraskaMJ\n",
      "kohenari\n",
      "janekleeb\n",
      "ChrisDunkerLJS\n",
      "JournalStarNews\n",
      "janetherevelatr\n",
      "JohnforNE\n",
      "RileyInOmaha\n",
      "CreightonLaw\n",
      "MOREinOmaha\n",
      "ACLUofNE\n",
      "usairforce\n",
      "NEHumaneSociety\n",
      "NHSCats\n",
      "SeeingRedNE\n",
      "asanderford\n",
      "NE_Examiner\n",
      "senatorblood\n",
      "Educ8Nebraska\n",
      "SenMcKinneyLD11\n",
      "vince_powers\n",
      "DennisPCrawford\n",
      "MadamPres1\n",
      "vaELECT\n",
      "SpeakerJohnson\n",
      "CumberlandMSPTO\n",
      "DrJRaley\n",
      "lisacoons10\n",
      "carolmswain\n",
      "AnnaJemmx1982\n",
      "SarahEHarris2\n",
      "MsGresham_CMS\n",
      "WendyTillett\n",
      "ChickenMeChanga\n",
      "pnjaban\n",
      "Dhillonlaw\n",
      "liberty_ctr\n",
      "mattshupepr\n",
      "Milken\n",
      "RobinSw60380165\n",
      "TNvet71\n",
      "airrover911\n",
      "BuckleyForGA\n",
      "BobRME\n",
      "TRKlavohn\n",
      "TGowdySC\n",
      "RandPaul\n",
      "LPNational\n",
      "GovGaryJohnson\n",
      "kbwingfield\n",
      "gppf\n",
      "ajc\n",
      "WSJopinion\n",
      "AP\n",
      "UGAGrady\n",
      "FootballUGA\n",
      "Braves\n",
      "bluestein\n",
      "AJC\n",
      "nbcnews\n",
      "msnbc\n",
      "politicallyga\n",
      "wabenews\n",
      "peachpundit\n",
      "LPGeorgia\n",
      "CatoInstitute\n",
      "MurphyAJC\n",
      "dailybeast\n",
      "rollcall\n",
      "gardenandgun\n",
      "VikingGutter\n",
      "aarongilmer\n",
      "CherokeeGALP\n",
      "CharlieBHarper\n",
      "AllenWatersUSA\n",
      "RepThomasMassie\n",
      "TheStonesEG\n",
      "XAVIAERD\n",
      "PragerU\n",
      "gmail\n",
      "Nicoletta0602\n",
      "StephenM\n",
      "LPNational\n",
      "JudiciaryGOP\n",
      "Jim_Jordan\n",
      "DeAngelisCorey\n",
      "SchoolChoiceNow\n",
      "HooverInst\n",
      "EF_Institute\n",
      "LJCenter\n",
      "NiyokaRi\n",
      "JonathanTurley\n",
      "jeffcharlesjr\n",
      "RedState\n",
      "DailyCaller\n",
      "NewsweekOpinion\n",
      "TedNesi\n",
      "wpri12\n",
      "RIPBSWeekly\n",
      "Wheaton\n",
      "KimKalunian\n",
      "joeecollins3\n",
      "TheFP\n",
      "thehonestlypod\n",
      "DominicanxJJ\n",
      "ByronYork\n",
      "Whitt4WV\n",
      "Upson4WV\n",
      "WVHHOMA\n",
      "WVHouse\n",
      "MySummitBank\n",
      "GSBlackDiamond\n",
      "HoppyKercheval\n",
      "DailyCaller\n",
      "MorriseyWV\n",
      "RepAlexMooney\n",
      "financialcmte\n",
      "TomRoten\n",
      "ACTforAmerica\n",
      "pritt4thepeople\n",
      "AskAnnAli\n",
      "wvhouse\n",
      "BarryHolstein\n",
      "DelegateIhle\n",
      "DelPaulEspinosa\n",
      "DelegateRiley\n",
      "EpochTV\n",
      "EpochTimes\n",
      "JanJekielek\n",
      "AmThoughtLeader\n",
      "JoshJPhilipp\n",
      "Crossroads_josh\n",
      "AKEdwardsTX\n",
      "LinaHidalgoTX\n",
      "HarrisCoJudge\n",
      "JasmineForUS\n",
      "HoustonChron\n",
      "jen_rice_\n",
      "SylvesterTurner\n",
      "GeneforTexas\n",
      "MiyaShay\n",
      "scottbraddock\n",
      "QuorumReport\n",
      "politico\n",
      "TexasMonthly\n",
      "evan7257\n",
      "PatrickSvitek\n",
      "WashingtonPost\n",
      "TexasTribune\n",
      "washpost\n",
      "RepWalle\n",
      "UHouston\n",
      "UHLAW\n",
      "UHpres\n",
      "RodneyEllis\n",
      "hcpct1\n",
      "evanasmith\n",
      "emcollective\n",
      "theatlantic\n",
      "thelbjschool\n",
      "overheardpbs\n",
      "uvademocracy\n",
      "austinfilm\n",
      "lbjfoundation\n",
      "texastribune\n",
      "texasmonthly\n",
      "wilco\n",
      "miyashay\n",
      "AdrianGarciaHTX\n",
      "HarrisCoPct2\n",
      "allynwest\n",
      "EDFaction\n",
      "EnvDefenseFund\n",
      "AmyColter\n",
      "ezralevant\n",
      "jonvoight\n",
      "joerogan\n",
      "ginacarano\n",
      "MauraBarrettNBC\n",
      "nbcnews\n",
      "comatbu\n",
      "Peoples_Pundit\n",
      "BIGDATAPOLL\n",
      "LauraBaris\n",
      "Jim_Jordan\n",
      "JudiciaryGOP\n",
      "Weaponization\n",
      "IvankaTrump\n",
      "Marvel\n",
      "SamuelLJackson\n",
      "MarkRuffalo\n",
      "prattprattpratt\n",
      "RealHughJackman\n",
      "VancityReynolds\n",
      "aviationgin\n",
      "MintMobile\n",
      "maximumeffort\n",
      "Wrexham_AFC\n",
      "RobertDowneyJr\n",
      "MZHemingway\n",
      "FDRLST\n",
      "Hillsdale\n",
      "AmyMcGrathKY\n",
      "RepSwalwell\n",
      "HouseJudiciary\n",
      "HomelandDems\n",
      "AVindman\n",
      "natsechobbyist\n",
      "votevets\n",
      "funder\n",
      "TheDemCoalition\n",
      "DworkinReport\n",
      "DworkinWeekly\n",
      "theswppod\n",
      "fred_guttenberg\n",
      "BidensWins\n",
      "harrisonjaime\n",
      "TheDemocrats\n",
      "Marvel\n",
      "Lakers\n",
      "WWE\n",
      "ericswalwell\n",
      "StevenBeschloss\n",
      "steven_beschl\n",
      "clairecmc\n",
      "NBCNews\n",
      "MSNBC\n",
      "BarbMcQuade\n",
      "UMichLaw\n",
      "BrianKarem\n",
      "jatqpodcast\n",
      "JillWineBanks\n",
      "WHCOS\n",
      "JRubinBlogger\n",
      "WashingtonPost\n",
      "danielsgoldman\n",
      "RepDanGoldman\n",
      "AndrewRomanoff\n",
      "KyleClark\n",
      "NextOn9NEWS\n",
      "GovofCO\n",
      "GunnelsWarren\n",
      "SenSanders\n",
      "cprwarner\n",
      "ColoradoMatters\n",
      "oddryhepburn\n",
      "SteveStaeger\n",
      "9News\n",
      "9news\n",
      "VicVela1\n",
      "NMPBS\n",
      "jaredpolis\n",
      "rebeccaeparson\n",
      "chrisvanderveen\n",
      "NPPA\n",
      "mitchellbyars\n",
      "dailycamera\n",
      "WaywardWinifred\n",
      "OurRevolution\n",
      "pweiser\n",
      "ConorMichael28\n",
      "BriannaForCO\n",
      "BriannaTitone\n",
      "RepDianaDeGette\n",
      "AndyMartinUSA\n",
      "AngieForNe\n",
      "NebraskaMegan\n",
      "Adam_Morfeld\n",
      "NELegalAction\n",
      "NebraskaMJ\n",
      "kohenari\n",
      "janekleeb\n",
      "SeeingRedNE\n",
      "paulhammelNE\n",
      "PaulHammelNE\n",
      "asanderford\n",
      "NE_Examiner\n",
      "DennisPCrawford\n",
      "TFitz_Esquire\n",
      "Orioles\n",
      "senatormachaela\n",
      "wehavethepeople\n",
      "senatorblood\n",
      "SenMcKinneyLD11\n",
      "GinBurger\n",
      "ACLUofNE\n",
      "NebraskaSower\n",
      "AnnetteDavisJa2\n",
      "Blake_Hall\n",
      "Robert_B_Bowes\n",
      "BoSnerdley\n",
      "joshkern\n",
      "OtisSallid\n",
      "IncSeadog\n",
      "benshapiro\n",
      "benshapiroshow\n",
      "DcEnquirer\n",
      "realbrandongill\n",
      "sterling_mosley\n",
      "kayleighmcenany\n",
      "OutnumberedFNC\n",
      "RealFredHammond\n",
      "gmail\n",
      "marvinsapp\n",
      "jamalhbryant\n",
      "Franklin_Graham\n",
      "JeffBezos\n",
      "DineshDSouza\n",
      "TheLeoTerrell\n",
      "foxnews\n",
      "AnnieMamaGarcia\n",
      "RexChapman\n",
      "wmeagency\n",
      "AOC\n",
      "kylegriffin1\n",
      "TheWeekendMSNBC\n",
      "griffinkyle\n",
      "MaryLTrump\n",
      "MaryTrumpMedia\n",
      "joncoopertweets\n",
      "shannonrwatts\n",
      "MomsDemand\n",
      "Everytown\n",
      "emergeamerica\n",
      "DanRather\n",
      "johnpavlovitz\n",
      "SecCardona\n",
      "juanlozano70\n",
      "ap\n",
      "emilytgreen\n",
      "vicenews\n",
      "sfchronicle\n",
      "_DominicAnthony\n",
      "houstonpubmedia\n",
      "tprnews\n",
      "aspenpubradio\n",
      "ChengYilun\n",
      "HoustonChron\n",
      "DispatchAlerts\n",
      "Report4America\n",
      "Slate\n",
      "WashingtonPost\n",
      "chron\n",
      "TexasTribune\n",
      "PoojaSalhotra\n",
      "yale\n",
      "nyu_journalism\n",
      "CNN\n",
      "NPR\n",
      "Chalkbeat\n",
      "CoryMcCord\n",
      "ArnoldforAL\n",
      "willainsworthAL\n",
      "GovernorKayIvey\n",
      "toddcstacy\n",
      "CapitolJournal\n",
      "APTV\n",
      "1819News\n",
      "jeff_poor\n",
      "fmtalk1065\n",
      "LagniappeMobile\n",
      "BreitbartNews\n",
      "Braves\n",
      "SenShelby\n",
      "SenTuberville\n",
      "yhn\n",
      "MattSimpson\n",
      "spann\n",
      "SenatorAOrr\n",
      "MarySellQuillen\n",
      "RepBarryMoore\n",
      "JohnHMerrill\n",
      "Bryan1819News\n",
      "mattmurphyshow\n",
      "AtulGoelRaleigh\n",
      "Quantanamo\n",
      "MarketWatch\n",
      "DowJones\n",
      "WSJ\n",
      "BarbaraBollier\n",
      "GovLauraKelly\n",
      "RepDavids\n",
      "sharicedavids\n",
      "RuiXuKS\n",
      "LauraKellyKS\n",
      "Davis_Hammet\n",
      "Loud_Light\n",
      "Equality_House\n",
      "cindy4kansas\n",
      "SSCJoCoKs\n",
      "KansasDems\n",
      "loud_light\n",
      "ethancorson\n",
      "Lindsay4KS22\n",
      "thebrettparker\n",
      "dinah_sykes\n",
      "kssenatedems\n",
      "MattCalcara\n",
      "BWhippleKS\n",
      "CityofWichita\n",
      "WhiteHouse\n",
      "SenatorLujan\n",
      "GovMLG\n",
      "SenatorHeinrich\n",
      "Rep_Stansbury\n",
      "Gabe_NM\n",
      "RepTeresaLF\n",
      "koat7news\n",
      "KOB4\n",
      "MayorKeller\n",
      "krqe\n",
      "MelanieforNM\n",
      "granttosterudwx\n",
      "OUsom\n",
      "UNMLOBOS\n",
      "NewMexico\n",
      "ABQJournal\n",
      "NMDEMS\n",
      "inezrussell\n",
      "TeamSasse\n",
      "HuskerFootball\n",
      "OWHnews\n",
      "Huskers\n",
      "DonJBacon\n",
      "HuskerVB\n",
      "rosichanw\n",
      "NRCC\n",
      "UNL_CRs\n",
      "ScottGoodspeed\n",
      "yrnational\n",
      "KansasYR\n",
      "yrnf\n",
      "usphant0m\n",
      "JaneyLauren\n",
      "YRFAL\n",
      "1stLiberty\n",
      "johannkalt\n",
      "KyleMartinsen_\n",
      "DaveMcCormickPA\n",
      "FoxOnTheRun_7\n",
      "BennieJSmith1\n",
      "mmpadellan\n",
      "ReallyAmerican1\n",
      "joncoopertweets\n",
      "AdamParkhomenko\n",
      "RBReich\n",
      "InequalityMedia\n",
      "rbreich\n",
      "SpeakerPelosi\n",
      "StephenKing\n",
      "RexChapman\n",
      "wmeagency\n",
      "itsJeffTiedrich\n",
      "kylegriffin1\n",
      "TheWeekendMSNBC\n",
      "griffinkyle\n",
      "atrupar\n",
      "SnapStream\n",
      "PalmerReport\n",
      "OccupyDemocrats\n",
      "VP\n",
      "SecondGentleman\n",
      "MeidasTouch\n",
      "tedlieu\n",
      "GovAndyBeshear\n",
      "ccount:SenatorHagerty; @BillHagertyTN\n",
      "HamiltonforKS\n",
      "PeteMundo\n",
      "KCMOTalkRadio\n",
      "VillanovaU\n",
      "Heartland_CS\n",
      "kmbc\n",
      "jflanagain\n",
      "meaccoleman\n",
      "WHATITISJAACKIE\n",
      "EliseStefanik\n",
      "parscale\n",
      "campnucleus\n",
      "TeamTrump\n",
      "TrumpWarRoom\n",
      "RonnaMcDaniel\n",
      "HooserReason\n",
      "NickGosnell11\n",
      "DonaldJTrumpJr\n",
      "KrisKetzKMBC\n",
      "KMBC\n",
      "Hearst\n",
      "sagaftra\n",
      "EmmyMidAm\n",
      "AlecGartner\n",
      "koamfox14\n",
      "bobwalshsf\n",
      "drsimonegold\n",
      "AFLDSorg\n",
      "GoldCare\n",
      "LPMisesCaucus\n",
      "justinamash\n",
      "RonPaul\n",
      "JacobforLiberty\n",
      "SenatorHeinrich\n",
      "UPP_Polls\n",
      "UPP_Penn\n",
      "RealSpikeCohen\n",
      "YATPOfficial\n",
      "GRRMspeaking\n",
      "JoForLiberty\n",
      "people4liberty\n",
      "DanForTexas\n",
      "RandPaul\n",
      "frontlinepbs\n",
      "PBS\n",
      "TRHLofficial\n",
      "SpacesWithJosie\n",
      "Timcast\n",
      "LibertarianRed1\n",
      "fermatslibrary\n",
      "barron_ky\n",
      "justinamash\n",
      "RealSpikeCohen\n",
      "YATPOfficial\n",
      "LPNational\n",
      "beinlibertarian\n",
      "LPMisesCaucus\n",
      "ToddHagopian\n",
      "ChaseForLiberty\n",
      "angela4LNCChair\n",
      "lpnational\n",
      "JoForLiberty\n",
      "people4liberty\n",
      "LPTN1776\n",
      "BuenoForMiami\n",
      "ShaneTHazel\n",
      "Swan\n",
      "LPNH\n",
      "lpky\n",
      "DanForTexas\n",
      "LPCO\n",
      "BradleyByrne\n",
      "GovernorKayIvey\n",
      "SenShelby\n",
      "aldotcom\n",
      "willainsworthAL\n",
      "RepMikeRogersAL\n",
      "toddcstacy\n",
      "CapitolJournal\n",
      "APTV\n",
      "yhn\n",
      "CLewandowski_\n",
      "jeff_poor\n",
      "1819News\n",
      "fmtalk1065\n",
      "LagniappeMobile\n",
      "BreitbartNews\n",
      "Braves\n",
      "abc3340\n",
      "TheDaleJackson\n",
      "USRepGaryPalmer\n",
      "GOPpolicy\n",
      "HouseCommerce\n",
      "GOPoversight\n",
      "mynbc15\n",
      "ALReporter\n",
      "ChairmanLathan\n",
      "KansasBrian\n",
      "ninaturner\n",
      "RacePowerPolicy\n",
      "davidsirota\n",
      "LeverNews\n",
      "EmilyforCO\n",
      "KyleKulinski\n",
      "briebriejoy\n",
      "BadFaithPod\n",
      "RisingTheHill\n",
      "theintercept\n",
      "carterforva\n",
      "SocialistMMA\n",
      "RevBlackNetwork\n",
      "ProudSocialist\n",
      "AmpedUpPodcast\n",
      "Jaybefaunt\n",
      "_Jaybefaunt\n",
      "krystalball\n",
      "krystalmball\n",
      "herosnvrdie69\n",
      "leftflankvets\n",
      "PatTheSocialist\n",
      "PunchUpPod\n",
      "johniadarola\n",
      "thedamagereport\n",
      "theyoungturks\n",
      "RoKhanna\n",
      "SarcasmStardust\n",
      "action_4assange\n",
      "mrs_socialista\n",
      "EclecticRadical\n",
      "TheEclecticRad\n",
      "eclecticradic\n",
      "ccount:voteslowinski; @SlowinskiThirds\n",
      "cwesleymorgan\n",
      "JackPosobiec\n",
      "HumanEvents\n",
      "Jim_Jordan\n",
      "JudiciaryGOP\n",
      "Weaponization\n",
      "TomFitton\n",
      "charliekirk11\n",
      "TPUSA\n",
      "RandPaul\n",
      "marklevinshow\n",
      "DC_Draino\n",
      "RepMattGaetz\n",
      "SebGorka\n",
      "mattgaetz\n",
      "RichardGrenell\n",
      "GenFlynn\n",
      "TomiLahren\n",
      "tlisfearless\n",
      "Outkick\n",
      "foxnews\n",
      "foxnewsradio\n",
      "RudyGiuliani\n",
      "SaraCarterDC\n",
      "FoxNews\n",
      "RonPaul\n",
      "CalforNC\n",
      "harrisonjaime\n",
      "TheDemocrats\n",
      "Marvel\n",
      "Lakers\n",
      "WWE\n",
      "AmyMcGrathKY\n",
      "NC_Governor\n",
      "JeffJacksonNC\n",
      "JoshStein_\n",
      "RepAdams\n",
      "BMHCaucus\n",
      "HBCUCaucus\n",
      "RaleighReporter\n",
      "wunc\n",
      "businessnc\n",
      "ncinsider\n",
      "newsobserver\n",
      "NCAGO\n",
      "NCDemParty\n",
      "RoyCooperNC\n",
      "NidaAllam\n",
      "CWAUnion\n",
      "juliefornc\n",
      "jennawadsworth\n",
      "NLC\n",
      "NCSSM\n",
      "NatalieforNC\n",
      "ameliakfox\n",
      "emilyslist\n",
      "cheribeasleync\n",
      "ppi\n",
      "JonahGarsonNC\n",
      "CaseySenate\n",
      "Booker4KY\n",
      "GovAndyBeshear\n",
      "JamaalBowmanNY\n",
      "AndyBeshearKY\n",
      "joesonka\n",
      "LouPublicMedia\n",
      "wkupublicradio\n",
      "wkms\n",
      "889WEKU\n",
      "KyDems\n",
      "MorganMcGarvey\n",
      "AmyJeanTyler\n",
      "PeterGHager\n",
      "JohnYarmuth\n",
      "BGPolitics\n",
      "heraldleader\n",
      "_AustinHorn\n",
      "TessaDuvall\n",
      "AcquistoA\n",
      "silasdhouse\n",
      "LtGovColeman\n",
      "nema\n",
      "Joe_Gerth\n",
      "HeraldLeader\n",
      "502eire\n",
      "ccc4senate\n",
      "ravenradio\n",
      "NPR\n",
      "CoastAlaska\n",
      "AKNativeNews\n",
      "AKEnergyDesk\n",
      "KTOOpubmedia\n",
      "akpublicnews\n",
      "KUCBNews\n",
      "KYUKNews\n",
      "TongassNF\n",
      "JuneauEmpire\n",
      "juneauempire\n",
      "alaskapublic\n",
      "AKpublicnews\n",
      "coastalaska\n",
      "FiveThirtyEight\n",
      "ABC\n",
      "coconutandmommy\n",
      "cumings_tonya\n",
      "sandiowens15\n",
      "Ivyrose2017\n",
      "CharlotteCuming\n",
      "repdonyoung\n",
      "anchoragepress\n",
      "KRBDRadio\n",
      "CJSenate2020\n",
      "RepSwalwell\n",
      "HouseJudiciary\n",
      "HomelandDems\n",
      "JoyceWhiteVance\n",
      "UALawSchool\n",
      "MSNBC\n",
      "NBCNews\n",
      "tedlieu\n",
      "amyklobuchar\n",
      "AdamParkhomenko\n",
      "fred_guttenberg\n",
      "Angry_Staffer\n",
      "shannonrwatts\n",
      "MomsDemand\n",
      "Everytown\n",
      "emergeamerica\n",
      "DevinCow\n",
      "CREWcrew\n",
      "glennkirschner2\n",
      "cmclymer\n",
      "lynnjohnstonlit\n",
      "GUPolitics\n",
      "gmail\n",
      "ericswalwell\n",
      "johnpavlovitz\n",
      "DavidCornDC\n",
      "NebraskaMegan\n",
      "ccount:ChrisCoons; @ChrisCoonsforDE\n",
      "ccount:SenHydeSmith; @cindyhydesmith\n",
      "corkymessner\n",
      "GovChrisSununu\n",
      "JoeSweeneyNH\n",
      "NewHampJournal\n",
      "jsolomonReports\n",
      "VernonForGA\n",
      "WMUR9\n",
      "johncardillo\n",
      "SaraCarterDC\n",
      "FoxNews\n",
      "ChrisMaidmentNH\n",
      "Ross_Berry\n",
      "KlandriganUL\n",
      "NHGOP\n",
      "AdamSextonWMUR\n",
      "603Amanda\n",
      "49ers\n",
      "Mariners\n",
      "seanmdav\n",
      "FDRLST\n",
      "ChrisSununu\n",
      "RonnaMcDaniel\n",
      "ccount:SenBooker; @CoryBooker\n",
      "CoryGardner\n",
      "KBBColorado\n",
      "AdvanceColorado\n",
      "ColoGOP\n",
      "okmaher\n",
      "CBSNewsColorado\n",
      "MichaelBrownUSA\n",
      "LoganDobson\n",
      "TargetedVictory\n",
      "NRSC\n",
      "SenCoryGardner\n",
      "TarranceGroup\n",
      "EmilyTDobson\n",
      "ColoSenGOP\n",
      "SpkrMcNulty\n",
      "SenatorBrophy\n",
      "jessemallory\n",
      "AFPColorado\n",
      "AFPFColorado\n",
      "COHouseGOP\n",
      "mhillman\n",
      "DustinZvonek\n",
      "yacenter\n",
      "cologop\n",
      "parkerpoling\n",
      "CUToddSaliman\n",
      "JessAnderson2\n",
      "sentinelaction\n",
      "cristinanextgen\n",
      "GregCasar\n",
      "JasmineForUS\n",
      "TexasTribune\n",
      "evanasmith\n",
      "emcollective\n",
      "theatlantic\n",
      "thelbjschool\n",
      "overheardpbs\n",
      "uvademocracy\n",
      "austinfilm\n",
      "lbjfoundation\n",
      "texastribune\n",
      "texasmonthly\n",
      "wilco\n",
      "NextGenAmerica\n",
      "PatrickSvitek\n",
      "WashingtonPost\n",
      "HoustonChron\n",
      "washpost\n",
      "jen_rice_\n",
      "GinaForAustin\n",
      "UTAustin\n",
      "GWLaw\n",
      "AustinISD\n",
      "CeliaIsrael\n",
      "TexasObserver\n",
      "CharlieKBonner\n",
      "ACLUTx\n",
      "DiegoBernalTX\n",
      "ColinAllredTX\n",
      "votolatino\n",
      "ChuckRocha\n",
      "solidarityllc\n",
      "solidaritystrategies\n",
      "NA\n",
      "JohnFlutter\n",
      "ScottChoppin\n",
      "TheRundownAI\n",
      "rowancheung\n",
      "minchoi\n",
      "JWurzak\n",
      "zillowgonewild\n",
      "BRICSinfo\n",
      "PastryEth\n",
      "kieralwellness\n",
      "SkiTownRE\n",
      "MichaelHaichin\n",
      "Psyched_Alpha\n",
      "psypharmacists\n",
      "romanyam\n",
      "DrJoeDispenza\n",
      "EM_RESUS\n",
      "BryceForVice\n",
      "MAPS\n",
      "uwnoDDS\n",
      "ccount:SenLummis; @CynthiaMLummis\n",
      "ahlers_dan\n",
      "bad_hand_editor\n",
      "bad_hand_books\n",
      "MikeHenriksen\n",
      "DakotaStandard\n",
      "sdduba\n",
      "MountainFiain\n",
      "ShannonFreshour\n",
      "Ajzionts\n",
      "KFFHealthNews\n",
      "SDPBNews\n",
      "RCJournal\n",
      "nogalesnews\n",
      "keloland\n",
      "ReynoldNesiba\n",
      "KevinWoster\n",
      "KaySch10\n",
      "coralhei\n",
      "SoDakTruth\n",
      "Tiffany61662071\n",
      "JillCallison\n",
      "ACLUSouthDakota\n",
      "ccount:SenDanSullivan; @DanSullivan_AK\n",
      "DemandDanielAZ\n",
      "mccarthyism2024\n",
      "ThatParentP4P\n",
      "iVoteArizona\n",
      "DonaldTeel\n",
      "iVoteAmerica\n",
      "National_RU\n",
      "UofA_GOP\n",
      "janet_delear\n",
      "MBDMCrypto\n",
      "WokePreacherTV\n",
      "RealCraigSawyer\n",
      "Redistrict\n",
      "CookPolitical\n",
      "AmyEWalter\n",
      "AnnCoulter\n",
      "Keith_ology\n",
      "MatteaMerta\n",
      "DonnieDarkened\n",
      "cboesib\n",
      "emily_s_mcc\n",
      "Covid_1984_\n",
      "PatriotPartyNV\n",
      "danielcburke\n",
      "REVMAXXING\n",
      "RTSGtm\n",
      "InfraHaz\n",
      "upholdreality\n",
      "Ezra_EX\n",
      "JohnnyWarlord\n",
      "Talonsight\n",
      "angeloinchina\n",
      "scriabinist\n",
      "FORTRESSMAXXING\n",
      "apocalypseos\n",
      "FoxGGreen\n",
      "spacecommune\n",
      "nyenergyallies\n",
      "BrianJBerletic\n",
      "americas_putin\n",
      "MechaOrvo\n",
      "Henny_the_plug\n",
      "khrachvik\n",
      "DannySkellyUSA\n",
      "ColoradoLeads\n",
      "jmaxmann\n",
      "Poppiesandthist\n",
      "DarkistB4Dawn\n",
      "ModerateDem_\n",
      "DiggityDogDo\n",
      "DavidafromVegas\n",
      "ThisOldNerd\n",
      "PA_Indep_Voter\n",
      "ivn\n",
      "BostonNorth\n",
      "pdicaprioFP911\n",
      "Jimloyd2\n",
      "Dallasfanindc1\n",
      "IndepndntVotr\n",
      "WarriorCrypto08\n",
      "DavidPerdueGA\n",
      "KLoeffler\n",
      "GreaterGeorgia\n",
      "RallyRightUSA\n",
      "OfficialPSQ\n",
      "BrianKempGA\n",
      "RepDougCollins\n",
      "AmyKremer\n",
      "GAGOP\n",
      "america1stwomen\n",
      "womenfortrump\n",
      "votetimscott\n",
      "DavidShafer\n",
      "BorisEP\n",
      "newsweek\n",
      "GaRepublicans\n",
      "JoshMcKoon\n",
      "JustinRice18\n",
      "burtjonesforga\n",
      "VoteMarsha\n",
      "TylerHarperGA\n",
      "jfradioshow\n",
      "RealAmVoice\n",
      "GeoffDuncanGA\n",
      "CNN\n",
      "ScottforFlorida\n",
      "CodyHallGA\n",
      "teamascentmedia\n",
      "AmericaNewsroom\n",
      "dbcgreentx\n",
      "caitoz\n",
      "DrJillStein\n",
      "LeeCamp\n",
      "SarcasmStardust\n",
      "action_4assange\n",
      "briebriejoy\n",
      "BadFaithPod\n",
      "RisingTheHill\n",
      "theintercept\n",
      "SocialistMMA\n",
      "RevBlackNetwork\n",
      "ProudSocialist\n",
      "AmpedUpPodcast\n",
      "SabbySabs2\n",
      "anthonyzenkus\n",
      "jimmy_dore\n",
      "SDonziger\n",
      "richimedhurst\n",
      "gmail\n",
      "ajamubaraka\n",
      "blacks4peace\n",
      "blackintheempir\n",
      "SAVoltolin\n",
      "ClareDalyMEP\n",
      "claredalymep\n",
      "SCHUSTERCAMPAI1\n",
      "jsolomonReports\n",
      "RepTimBurchett\n",
      "TomFitton\n",
      "LindseyGrahamSC\n",
      "LeaderMcConnell\n",
      "McConnellPress\n",
      "SRCC\n",
      "seanhannity\n",
      "realDonaldTrump\n",
      "DonaldJTrumpJr\n",
      "dbongino\n",
      "SpeakerMcCarthy\n",
      "SenTedCruz\n",
      "LeeMZeldin\n",
      "RepLeeZeldin\n",
      "EricTrump\n",
      "Trump\n",
      "LaraLeaTrump\n",
      "StJude\n",
      "TrumpWinery\n",
      "jasoninthehouse\n",
      "greggutfeld\n",
      "GovMikeHuckabee\n",
      "MayorDAJackson\n",
      "ReverendWarnock\n",
      "Morehouse\n",
      "TeamWarnock\n",
      "staceyabrams\n",
      "RewiringAmerica\n",
      "boddieforga\n",
      "ajc\n",
      "ATLNewsFirst\n",
      "wsbtv\n",
      "ucmayorvince\n",
      "NUSL_CPIAC\n",
      "rgspencer\n",
      "BlackTwittaNews\n",
      "NUSL\n",
      "CRRJ_NUSL\n",
      "saundradavispc\n",
      "Cubby4Stncrest\n",
      "StuckeyStop\n",
      "Yamiche\n",
      "NBCNews\n",
      "nbcuni\n",
      "D_EdwardsLA\n",
      "LouisianaGov\n",
      "FirstLadyofLA\n",
      "GumboPac\n",
      "theadvocatebr\n",
      "camjordan94\n",
      "rko\n",
      "thomasmorstead\n",
      "WAFB\n",
      "CoachDavidShaw\n",
      "mayorcantrell\n",
      "311nola\n",
      "JoeBiden\n",
      "DrBiden\n",
      "POTUS\n",
      "LesterHoltNBC\n",
      "NBCNightlyNews\n",
      "datelinenbc\n",
      "RobinRoberts\n",
      "1luckycharms1\n",
      "BillyNungesser\n",
      "louisianaltgov\n",
      "richardacarbo\n",
      "JohnBelEdwards\n",
      "LSU\n",
      "wil_lutz5\n",
      "demario__davis\n",
      "tamelagilldavis\n",
      "willraymondpr\n",
      "ccount:GraysonForGA; @tmotofga\n",
      "GenDonBolduc\n",
      "kleavittnh\n",
      "TheCalvinCooli1\n",
      "AdamLaxalt\n",
      "GovChrisSununu\n",
      "WMUR9\n",
      "Roughriders1776\n",
      "NewHampJournal\n",
      "myWinnipesaukee\n",
      "JoeSweeneyNH\n",
      "ChrisMaidmentNH\n",
      "NHGOP\n",
      "HowieCarrShow\n",
      "BostonHerald\n",
      "KlandriganUL\n",
      "michaelgwaltz\n",
      "Lily4Liberty\n",
      "ChrisSununu\n",
      "DonnaForWyoming\n",
      "GunOwners\n",
      "WYOBA\n",
      "kgabradio\n",
      "SweetwaterNOW\n",
      "JacksonHoleNews\n",
      "sbaprolife\n",
      "MarjorieSBA\n",
      "lozierinstitute\n",
      "nrlc\n",
      "CarolTobias1\n",
      "WYPublicRadio\n",
      "NPR\n",
      "Rocket_Miner\n",
      "iamtylerjohnson\n",
      "PowellTribune\n",
      "foxnation\n",
      "NRA\n",
      "BreitbartNews\n",
      "GroverNorquist\n",
      "WyLiberty\n",
      "wyoathletics\n",
      "CollinsforGA\n",
      "VernonForGA\n",
      "toddstarnes\n",
      "BernardKerik\n",
      "RepDougCollins\n",
      "mschlapp\n",
      "mercedesschlapp\n",
      "cpac\n",
      "BrianKempGA\n",
      "RepScottPerry\n",
      "GovKemp\n",
      "RepJimBanks\n",
      "CHIZMAGA\n",
      "AmyKremer\n",
      "GAGOP\n",
      "america1stwomen\n",
      "womenfortrump\n",
      "RepBrianMast\n",
      "jasoninthehouse\n",
      "DavidShafer\n",
      "CodyHallGA\n",
      "teamascentmedia\n",
      "SteveGuest\n",
      "TedCruz\n",
      "GOP\n",
      "UCLA\n",
      "chapter13mich\n",
      "Browns\n",
      "BrownSpiderCLE\n",
      "KenCarman\n",
      "923TheFan\n",
      "fox8news\n",
      "FOX8FNTD\n",
      "InfSportsNet\n",
      "audacy\n",
      "camijustice\n",
      "WEWS\n",
      "David_Njoku80\n",
      "joethomas73\n",
      "BrownsHuddle\n",
      "YardDawgsPod\n",
      "Network_216\n",
      "karnsies817\n",
      "BarkingBrowns24\n",
      "TheBrownieElf1\n",
      "NathanZegura\n",
      "Browns_Daily\n",
      "kailaelizabeth\n",
      "BernieKosarQB\n",
      "SprayRelief\n",
      "ApexDawgNC\n",
      "BrownsFanGurl\n",
      "NEOSportsInside\n",
      "CLEVELAND_WINS\n",
      "BrandonLittleBL\n",
      "AtoZSportsNFL\n",
      "gmail\n",
      "thatMGOBLUEgirl\n",
      "DougJonesHQ\n",
      "brianschatz\n",
      "DougJones\n",
      "randallwoodfin\n",
      "WarOnDumb\n",
      "aldotcom\n",
      "RepTerriSewell\n",
      "benwikler\n",
      "WisDems\n",
      "bshelburne\n",
      "ByCasagrande\n",
      "dscc\n",
      "JohnArchibald\n",
      "Niemanfdn\n",
      "RepEngland70\n",
      "lyman_brian\n",
      "ALReflector\n",
      "BecomingLincoln\n",
      "k_crutchfield\n",
      "antirecords\n",
      "ShonnaTucker\n",
      "TheKWCBlog\n",
      "DukeforCongress\n",
      "PolitiBunny\n",
      "TwitchyTeam\n",
      "TheBabylonBee\n",
      "shellenberger\n",
      "UAustinOrg\n",
      "bariweiss\n",
      "thefp\n",
      "thehonestlypod\n",
      "nelliebowles\n",
      "mtaibbi\n",
      "RuthlessPodcast\n",
      "ComfortablySmug\n",
      "HolmesJosh\n",
      "MichaelDuncan\n",
      "JohnAshbrook\n",
      "ruthlesspodcast\n",
      "ScStateSigmas\n",
      "SCBlackChamber\n",
      "votepond4d15\n",
      "THE_CRC_USA\n",
      "ThomasJ52334867\n",
      "henrymcmaster\n",
      "BurrisCommaBen\n",
      "AlchemyComedy\n",
      "AudaciousPundit\n",
      "SaltySeaFl\n",
      "Toole67\n",
      "DwayneStovall\n",
      "WatchChad\n",
      "TheTexianDM\n",
      "TexasNatMov\n",
      "KennethRWebster\n",
      "waltonnjohnson\n",
      "CurrentRevolt\n",
      "currentrevolt\n",
      "TenthAmendment\n",
      "SarahisCensored\n",
      "coalitiontexas\n",
      "ThePublicaNow\n",
      "BrettRogersTX\n",
      "ThomasEWoods\n",
      "JohnBasham\n",
      "USArmy\n",
      "AmThoughtLeader\n",
      "SeanHannity\n",
      "FBI\n",
      "MemesByTim\n",
      "MillerForTexas\n",
      "BobMurphyEcon\n",
      "infineogroup\n",
      "scotthortonshow\n",
      "FreemansMind96\n",
      "jeffdeist\n",
      "Monetary_Metals\n",
      "mises\n",
      "ronpaul\n",
      "TexasChance\n",
      "bradleywpierce\n",
      "AATXnow\n",
      "AbolitionistFAA\n",
      "heritagedefense\n",
      "edtarverga\n",
      "tedlieu\n",
      "glennkirschner2\n",
      "NBCNews\n",
      "MSNBC\n",
      "tribelaw\n",
      "ossoff\n",
      "JoyceWhiteVance\n",
      "UALawSchool\n",
      "RepKatiePorter\n",
      "SenWarren\n",
      "TheDemocrats\n",
      "harrisonjaime\n",
      "Marvel\n",
      "Lakers\n",
      "WWE\n",
      "bluestein\n",
      "AJC\n",
      "nbcnews\n",
      "msnbc\n",
      "politicallyga\n",
      "wabenews\n",
      "Booker4KY\n",
      "HoodtotheHoller\n",
      "PalmerReport\n",
      "soledadobrien\n",
      "Ilhan\n",
      "USProgressives\n",
      "BarbMcQuade\n",
      "UMichLaw\n",
      "JoyAnnReid\n",
      "eddiejmauro\n",
      "DevinCow\n",
      "AmyMcGrathKY\n",
      "NickKnudsenUS\n",
      "DemCastUSA\n",
      "SubstackInc\n",
      "HuffPost\n",
      "FrankenforIowa\n",
      "RobSandIA\n",
      "iastateauditor\n",
      "NunesAlt\n",
      "nunesalt\n",
      "LauraRBelin\n",
      "SenClaireCelsi\n",
      "Rushthewriter\n",
      "IAStartingLine\n",
      "IABJOfficial\n",
      "SarahforIowa\n",
      "IowaSenate\n",
      "RayBake\n",
      "RandyOnEd\n",
      "ZachWahls\n",
      "ChloeAngyal\n",
      "TheNext50US\n",
      "Packers\n",
      "IowaWBB\n",
      "UIowa\n",
      "PrincetonSPIA\n",
      "MurphyKeith\n",
      "WHOhd\n",
      "SoundOFF13\n",
      "Murph_Andy\n",
      "jaylencavil\n",
      "EdgarUSSenate\n",
      "Vote\n",
      "VoteUSA1\n",
      "alaskapublic\n",
      "AKpublicnews\n",
      "alaskapressclub\n",
      "AKBusinessMonth\n",
      "lottsfeldt\n",
      "BillWalkerAk\n",
      "NadyaZhexembay\n",
      "INSEAD\n",
      "MITSloan\n",
      "BerkeleyHaas\n",
      "LandsEnd\n",
      "AskLandsEnd\n",
      "Columbia_Biz\n",
      "LBS\n",
      "StanfordGSB\n",
      "Wharton\n",
      "Penn\n",
      "HarvardHBS\n",
      "ccount:EdMarkey; @SenMarkey\n",
      "elisa1121\n",
      "BrettRyderMusic\n",
      "Rach_IC\n",
      "ArizonaSunTimes\n",
      "AngryMomUSA\n",
      "ElectJayCBlock\n",
      "Rez_Lizard\n",
      "RepBlock\n",
      "PinonPost\n",
      "NewMexicoGOP\n",
      "Pearce4NM\n",
      "gwschmedes\n",
      "MrsGenX2\n",
      "AbeWarRoom\n",
      "abrahamhamadeh\n",
      "nmlinguaphile\n",
      "Lord4NM\n",
      "progunwomen\n",
      "AudreyT4NM\n",
      "RonnieLuceroNM\n",
      "azaustinsmith\n",
      "AZHouseGOP\n",
      "AZFreedomCaucus\n",
      "TPAction_\n",
      "azamysmith\n",
      "ccount:BetsySweetME; @BetsySweetMaine\n",
      "EricRothmuller\n",
      "AndrewYang\n",
      "fwd_party\n",
      "humanityforward\n",
      "venture4america\n",
      "scottsantens\n",
      "ITSAfoundation\n",
      "KyleKulinski\n",
      "Artosis\n",
      "AFKCreators\n",
      "RoKhanna\n",
      "krystalball\n",
      "krystalmball\n",
      "HeidiBriones\n",
      "democracynow\n",
      "Ellars\n",
      "buddywheatleyky\n",
      "PiattPatti\n",
      "MotherJones\n",
      "People4Bernie\n",
      "CallMeTasteless\n",
      "gmail\n",
      "appodlachia\n",
      "ChuckCorra\n",
      "bigjohnisner\n",
      "BlueKentuckyGal\n",
      "EricaforUS\n",
      "NC_Governor\n",
      "ForwardCarolina\n",
      "RepAdams\n",
      "BMHCaucus\n",
      "HBCUCaucus\n",
      "JoshStein_\n",
      "sara__pequeno\n",
      "USATODAY\n",
      "newsobserver\n",
      "indyweek\n",
      "UNCHussman\n",
      "NidaAllam\n",
      "CWAUnion\n",
      "CheriBeasleyNC\n",
      "AKASorority1908\n",
      "abreezeclayton\n",
      "NCDemParty\n",
      "CallForCongress\n",
      "PeterGHager\n",
      "jennawadsworth\n",
      "NLC\n",
      "NCSSM\n",
      "DonDavisNC\n",
      "RaleighReporter\n",
      "wunc\n",
      "businessnc\n",
      "ncinsider\n",
      "NatalieforNC\n",
      "FousheeforNC\n",
      "GaryLyndonDye\n",
      "Elex_Michaelson\n",
      "foxla\n",
      "OwenGregorian\n",
      "scottadamssays\n",
      "RepThomasMassie\n",
      "RandPaul\n",
      "TuckerCarlson\n",
      "NFTterrorist123\n",
      "POTUS45\n",
      "realDonaldTrump\n",
      "elonmusk\n",
      "ccount:SenGaryPeters; @GaryPeters\n",
      "DrGavinClarkson\n",
      "charliekirk11\n",
      "TPUSA\n",
      "SebGorka\n",
      "BuckSexton\n",
      "clayandbuck\n",
      "iheartradio\n",
      "BreitbartNews\n",
      "RepAndyBiggsAZ\n",
      "JudiciaryGOP\n",
      "GOPoversight\n",
      "DailyCaller\n",
      "SenTedCruz\n",
      "SenJohnKennedy\n",
      "RepBlock\n",
      "PinonPost\n",
      "NikkiHaley\n",
      "HudsonInstitute\n",
      "NewMexicoGOP\n",
      "Pearce4NM\n",
      "TomCottonAR\n",
      "SenTomCotton\n",
      "Lord4NM\n",
      "progunwomen\n",
      "LifeNewsHQ\n",
      "ElectJayCBlock\n",
      "AnnCoulter\n",
      "GaylonKent\n",
      "OTBaseballPhoto\n",
      "LSUFBEquipment\n",
      "nytimesbooks\n",
      "nytimes\n",
      "parisreview\n",
      "WALLCPA\n",
      "cpa4it_ca\n",
      "mcsweeneys\n",
      "illustoria\n",
      "believermag\n",
      "Sarahrorbach\n",
      "burtbulos\n",
      "philmscribe\n",
      "BevHillsHotel\n",
      "dorchestercollection\n",
      "BBBaumgartner\n",
      "RudyDAranda\n",
      "Zoho\n",
      "ZohoCares\n",
      "pdeblassieiii\n",
      "MsJoseline\n",
      "ZohoSocial\n",
      "gsiadek\n",
      "TuckerToday\n",
      "foxnation\n",
      "SenatorSlama\n",
      "JulieSlama1\n",
      "nancy__davis\n",
      "TuckerCarlson\n",
      "BluejayMBB\n",
      "BIGEAST\n",
      "cucoachmac\n",
      "ThomasSowell\n",
      "tsowellquotes\n",
      "benshapiro\n",
      "benshapiroshow\n",
      "TheBabylonBee\n",
      "NebraskaMJ\n",
      "TulsiGabbard\n",
      "Siadek4Liberty\n",
      "elonmusk\n",
      "NextRevFNC\n",
      "SteveHiltonx\n",
      "FoxNews\n",
      "GoldenTogether\n",
      "SteveHiltonShow\n",
      "Crowdpac\n",
      "gbminds\n",
      "JoForLiberty\n",
      "people4liberty\n",
      "justinamash\n",
      "GeorgeFlinn\n",
      "memgrizz\n",
      "ilovememphis\n",
      "JBirchWMC\n",
      "WMCActionNews5\n",
      "ActionNews5\n",
      "3onyourside\n",
      "DavidAFrench\n",
      "lipscomb\n",
      "NancyAFrench\n",
      "MemphisChamber\n",
      "memphismoves\n",
      "randyboyd\n",
      "UT_President\n",
      "TNECD\n",
      "tnAchieves\n",
      "choose901\n",
      "schelzig\n",
      "stateaffairs\n",
      "ForrestBH\n",
      "ABC24Memphis\n",
      "FOX13Memphis\n",
      "VoteMarsha\n",
      "Restreamio\n",
      "RestreamHelps\n",
      "BerlinBoyd\n",
      "GerardBeloin\n",
      "RealJamesWoods\n",
      "DineshDSouza\n",
      "ScottPresler\n",
      "EarlyVoteAction\n",
      "ACTBrigitte\n",
      "ACTforAmerica\n",
      "charliekirk11\n",
      "TPUSA\n",
      "RepMattGaetz\n",
      "BoSnerdley\n",
      "RandPaul\n",
      "KariLake\n",
      "TomFitton\n",
      "WayneDupreeShow\n",
      "MsAvaArmstrong\n",
      "EagleEyeFlyer\n",
      "laralogan\n",
      "gatewaypundit\n",
      "thegatewaypundit\n",
      "lsferguson\n",
      "AmyMek\n",
      "GlenNeal8\n",
      "TimRunsHisMouth\n",
      "alexspencerusa\n",
      "timyoung\n",
      "ProudElephantUS\n",
      "lavern_spicer\n",
      "ACTBrigitte\n",
      "ACTforAmerica\n",
      "johnrich\n",
      "bigandrich\n",
      "redneckriviera\n",
      "oldglorybank\n",
      "rnrbarnash\n",
      "foldsofhonor\n",
      "stjude\n",
      "ScottPresler\n",
      "EarlyVoteAction\n",
      "miles_commodore\n",
      "NickAdamsinUSA\n",
      "FLAGUSA1776\n",
      "A1Policy\n",
      "alexbruesewitz\n",
      "XStrategiesLLC\n",
      "RepAndyBiggsAZ\n",
      "JudiciaryGOP\n",
      "GOPoversight\n",
      "pnjaban\n",
      "Dhillonlaw\n",
      "liberty_ctr\n",
      "mattshupepr\n",
      "sayitnspinit\n",
      "KariLakeWarRoom\n",
      "KariLake\n",
      "RonnyJacksonTX\n",
      "KamVTV\n",
      "TexasScorecard\n",
      "a1policy\n",
      "SebGorka\n",
      "HirshSingh\n",
      "MikeCrispiNJ\n",
      "rumblevideo\n",
      "theiacrl\n",
      "jeffcharlesjr\n",
      "RedState\n",
      "DailyCaller\n",
      "NewsweekOpinion\n",
      "BernardKerik\n",
      "BillSpadea\n",
      "NJ1015\n",
      "foxtv\n",
      "MattRooneyNJ\n",
      "SaveJersey\n",
      "1210WPHT\n",
      "CoryBooker\n",
      "rebelEducator\n",
      "VanHipp\n",
      "stillgray\n",
      "dom_lucre\n",
      "xai\n",
      "Aikens_Josh\n",
      "TexasLindsay_\n",
      "Weaponization\n",
      "Jim_Jordan\n",
      "OKeefeMedia\n",
      "VivekGRamaswamy\n",
      "WarClandestine\n",
      "Ibra_Taher\n",
      "RepThomasMassie\n",
      "ggreenwald\n",
      "SystemUpdate_\n",
      "Folha\n",
      "TheInterceptBr\n",
      "theintercept\n",
      "abrigo_hope\n",
      "FreedomofPress\n",
      "idm_org\n",
      "jimmy_dore\n",
      "michaelmalice\n",
      "caitoz\n",
      "DrJBhattacharya\n",
      "justinamash\n",
      "mtracey\n",
      "protonmail\n",
      "RonPaul\n",
      "LibertyLockPod\n",
      "scotthortonshow\n",
      "FreemansMind96\n",
      "_whitneywebb\n",
      "ComicDaveSmith\n",
      "gmail\n",
      "MartinKulldorff\n",
      "gbdeclaration\n",
      "AcadSciFreedom\n",
      "NatlParentsOrg\n",
      "AlanRMacLeod\n",
      "MintPressNews\n",
      "Spiro_Ghost\n",
      "JackDanielFost1\n",
      "TheEconomist\n",
      "small1ldy1\n",
      "bluesky\n",
      "RitaMacMom\n",
      "LouGarza86\n",
      "brandyhenicke\n",
      "allanjohnsonmn1\n",
      "MaryHamm\n",
      "SadieMaeTN\n",
      "Wiggledoc\n",
      "fxl\n",
      "bradw_w\n",
      "HalleP23\n",
      "JoyceElmore2\n",
      "CCooperRE\n",
      "RpsAgainstTrump\n",
      "fortune500mg1\n",
      "harrisonjaime\n",
      "ReverendWarnock\n",
      "Morehouse\n",
      "TeamWarnock\n",
      "RepJeffries\n",
      "HouseDemocrats\n",
      "RepSwalwell\n",
      "HouseJudiciary\n",
      "HomelandDems\n",
      "marceelias\n",
      "DemocracyDocket\n",
      "EliasLawGroup\n",
      "tedlieu\n",
      "JoyceWhiteVance\n",
      "UALawSchool\n",
      "MSNBC\n",
      "NBCNews\n",
      "RepRaskin\n",
      "OversightDems\n",
      "SenSchumer\n",
      "amyklobuchar\n",
      "SteveSchmidtSES\n",
      "funder\n",
      "TheDemCoalition\n",
      "DworkinReport\n",
      "DworkinWeekly\n",
      "TeamPelosi\n",
      "fred_guttenberg\n",
      "ossoff\n",
      "ericswalwell\n",
      "clairecmc\n",
      "JimDeMartino\n",
      "RNCResearch\n",
      "TeamTrump\n",
      "stefenwiz61\n",
      "Richardson4Sen\n",
      "BrianDiSab\n",
      "ediscompany\n",
      "CalebJHull\n",
      "GOATGolfTrips\n",
      "IAPolls2022\n",
      "SeanGreeneWDEL\n",
      "PlungeDE\n",
      "ChrisKennyDE\n",
      "BarstoolPhilly\n",
      "barstoolsports\n",
      "RandyDascher\n",
      "Murray4DE\n",
      "DelawareGOP\n",
      "GovernorVA\n",
      "DelawareYRs\n",
      "ScottWRasmussen\n",
      "RMG_Research\n",
      "RasmussenShow\n",
      "MeritStreet\n",
      "Ballotpedia\n",
      "ballotpedia\n",
      "SenDanSullivan\n",
      "James_Mackler\n",
      "TheTNHoller\n",
      "VoteGloriaJ\n",
      "bradbatt\n",
      "ColMoeDavis\n",
      "JRClemmons\n",
      "TNDemocrats\n",
      "clemlawfirm\n",
      "MetroSchools\n",
      "NC5PhilWilliams\n",
      "NC5\n",
      "Kanew\n",
      "Campbell4TN\n",
      "tndp\n",
      "RepCohen\n",
      "brotherjones_\n",
      "chrisjollyhale\n",
      "KnoxvilleHoller\n",
      "Gmail\n",
      "DougJones\n",
      "yarbro\n",
      "tcyarbro\n",
      "TNSenateDems\n",
      "JBuckley2020\n",
      "elonmusk\n",
      "MrBeast\n",
      "DanForTexas\n",
      "justinamash\n",
      "LPNational\n",
      "RealSpikeCohen\n",
      "YATPOfficial\n",
      "JoForLiberty\n",
      "people4liberty\n",
      "ccount:SenatorShaheen; @JeanneShaheen\n",
      "ccount:SenJeffMerkley; @JeffMerkley\n",
      "jeffsessions\n",
      "AmMomentOrg\n",
      "RepTerriCollins\n",
      "MattSimpson\n",
      "MannyRamirez_TX\n",
      "FWPOA\n",
      "TCU\n",
      "TXDMV\n",
      "RyanCFowler\n",
      "TheGAMEon1009\n",
      "SiriusXMPatriot\n",
      "leeroop\n",
      "aldotcom\n",
      "PCBSNews19\n",
      "CoryPippinTV\n",
      "UofSouthAlabama\n",
      "jmart\n",
      "politico\n",
      "IMAO_\n",
      "EWErickson\n",
      "AllumBokhari\n",
      "FFO_Freedom\n",
      "realtalk995\n",
      "colincahill13\n",
      "PronceyHouse7\n",
      "Proncey\n",
      "JeffreyGrunau\n",
      "MehdiHasanShow\n",
      "MSNBC\n",
      "mehdirhasan\n",
      "zeteo_news\n",
      "M10\n",
      "S04\n",
      "WerderBremen\n",
      "RealMadrid\n",
      "Arsenal\n",
      "Fenerbahce\n",
      "ibfk2014\n",
      "StephenAtHome\n",
      "RichardHaass\n",
      "briantylercohen\n",
      "NoLieWithBTC\n",
      "thecyrusjanssen\n",
      "oertel_janka\n",
      "ecfr\n",
      "ECFRAsia\n",
      "morninggloria\n",
      "FixUSorg\n",
      "IlhanMN\n",
      "AOC\n",
      "BernieSanders\n",
      "karoun\n",
      "nytimes\n",
      "WaPo\n",
      "ewarren\n",
      "CFPB\n",
      "BarackObama\n",
      "BohrenJensen\n",
      "ninaturner\n",
      "RacePowerPolicy\n",
      "RBReich\n",
      "InequalityMedia\n",
      "rbreich\n",
      "JohnFetterman\n",
      "GiseleFetterman\n",
      "ashtonpittman\n",
      "MSFreePress\n",
      "mississippifreepress\n",
      "SenWarren\n",
      "ewarren\n",
      "CFPB\n",
      "davidhogg111\n",
      "gmail\n",
      "krassenstein\n",
      "KrassenCast\n",
      "EdKrassen\n",
      "MarshallRamsey\n",
      "MSTODAYnews\n",
      "MPBonline\n",
      "OurRevolution\n",
      "DonnerKay\n",
      "msfreepress\n",
      "jxnfreepress\n",
      "msyouthmedia\n",
      "CoriBush\n",
      "OccupyDemocrats\n",
      "BernieSanders\n",
      "KyleKulinski\n",
      "TeaPainUSA\n",
      "JessforDelaware\n",
      "davidsirota\n",
      "LeverNews\n",
      "EmilyforCO\n",
      "carterforva\n",
      "GunnelsWarren\n",
      "SenSanders\n",
      "People4Bernie\n",
      "WalkerBragman\n",
      "OptOutNews\n",
      "walkerbragman\n",
      "bsky\n",
      "gmail\n",
      "JordanChariton\n",
      "StatusCoup\n",
      "MattLech\n",
      "LeftReckoning\n",
      "lithangover\n",
      "majorityfm\n",
      "tmbsfm\n",
      "anthonyvclark20\n",
      "cmkshama\n",
      "OnStrikeShow\n",
      "ddayen\n",
      "TheProspect\n",
      "rebeccaeparson\n",
      "PeterGHager\n",
      "LukewSavage\n",
      "daviddoel\n",
      "HumanistReport\n",
      "EricShapiro3\n",
      "inhofeforsenate\n",
      "LukeHollandOK\n",
      "realDonaldTrump\n",
      "ccount:SenatorRisch; @Risch4Idaho\n",
      "votevandermaas\n",
      "LindaSkitka\n",
      "lindaskitka\n",
      "RepSwalwell\n",
      "HouseJudiciary\n",
      "HomelandDems\n",
      "RepAdamSchiff\n",
      "robreiner\n",
      "ProjectLincoln\n",
      "RonFilipkowski\n",
      "MeidasTouch\n",
      "joncoopertweets\n",
      "RepJeffries\n",
      "HouseDemocrats\n",
      "RBReich\n",
      "InequalityMedia\n",
      "rbreich\n",
      "kylegriffin1\n",
      "TheWeekendMSNBC\n",
      "griffinkyle\n",
      "TheRickWilson\n",
      "TristanSnell\n",
      "gtconway3d\n",
      "TheAtlantic\n",
      "chkbal\n",
      "glennkirschner2\n",
      "NBCNews\n",
      "MSNBC\n",
      "ewarren\n",
      "CFPB\n",
      "jimmy4ky\n",
      "BlueGrassCanna\n",
      "duty2warn\n",
      "itsJeffTiedrich\n",
      "robreiner\n",
      "MuellerSheWrote\n",
      "muellershewro\n",
      "mmpadellan\n",
      "ReallyAmerican1\n",
      "JoJoFromJerz\n",
      "ProjectLincoln\n",
      "joncoopertweets\n",
      "RonFilipkowski\n",
      "CalltoActivism\n",
      "rachelgoodstein\n",
      "AggiePride85\n",
      "PriceDoug\n",
      "progress_kentucky\n",
      "KitUnbridled\n",
      "progress_ky\n",
      "KyYoungDems\n",
      "JjStitt\n",
      "JAverhart24\n",
      "RepEngland70\n",
      "ALHouseDems\n",
      "I_AM_MikeMike\n",
      "DemsAbroad\n",
      "PhyllisDHHall\n",
      "VoteForChanges\n",
      "DavidSyner\n",
      "drdia\n",
      "ALdemwomen\n",
      "LauraCaseyALPSC\n",
      "rural_united\n",
      "aldemocrats\n",
      "SEPolitical\n",
      "OHStudentsforGL\n",
      "blartophone\n",
      "annajanejoyner\n",
      "goodenergystory\n",
      "nplhpodcast\n",
      "RickCollins08\n",
      "KianiGardner\n",
      "Josh_Moon\n",
      "DougJones\n",
      "randallwoodfin\n",
      "ossoff\n",
      "RepTerriSewell\n",
      "WarOnDumb\n",
      "aldotcom\n",
      "TheDemocrats\n",
      "TabithaK\n",
      "harrisonjaime\n",
      "Marvel\n",
      "Lakers\n",
      "WWE\n",
      "RepEngland70\n",
      "lyman_brian\n",
      "ALReflector\n",
      "BecomingLincoln\n",
      "RitchieTorres\n",
      "RepRitchie\n",
      "RitchieTorresNY\n",
      "JohnArchibald\n",
      "Niemanfdn\n",
      "SunnySouthAL\n",
      "AP\n",
      "UPI\n",
      "nytimes\n",
      "washingtonpost\n",
      "latimes\n",
      "HoustonChron\n",
      "dallasnews\n",
      "MiamiHerald\n",
      "ajc\n",
      "Tennessean\n",
      "willboydforAL\n",
      "PhyllisDHHall\n",
      "NickKnudsenUS\n",
      "DemCastUSA\n",
      "SubstackInc\n",
      "HuffPost\n",
      "JonahTillman6\n",
      "GrinnellCollege\n",
      "Josh_Moon\n",
      "TabithaK\n",
      "DougJones\n",
      "RepTerriSewell\n",
      "KansasGOPSlayer\n",
      "ABlackPolitical\n",
      "TeamPelosi\n",
      "Sites4Congress\n",
      "WarOnDumb\n",
      "aldotcom\n",
      "l78lancer\n",
      "randallwoodfin\n",
      "bshelburne\n",
      "SamforOhio\n",
      "HellBentVet\n",
      "olenate2020\n",
      "KatieSowers\n",
      "harrywalker\n",
      "actblue\n",
      "AUdebm\n",
      "ShannonRitenour\n",
      "TuscaloosaDems\n",
      "For_Cripes_Sake\n",
      "andylassner\n",
      "JHudShow\n",
      "ellendegeneres\n",
      "eturner303\n",
      "HallieJackson\n",
      "nbcnightlynews\n",
      "NBCNews\n",
      "NBCNewsNow\n",
      "alivitali\n",
      "nbcnews\n",
      "msnbc\n",
      "nbcnewsnow\n",
      "snakekitty\n",
      "VaughnHillyard\n",
      "PhilArballo\n",
      "VikingMarie\n",
      "DemocraticLuntz\n",
      "BhanJawn\n",
      "bhanjawn\n",
      "VoteNeighbors\n",
      "ReverendWarnock\n",
      "Morehouse\n",
      "TeamWarnock\n",
      "Josh_Moon\n",
      "AdamParkhomenko\n",
      "TristanSnell\n",
      "TheDemocrats\n",
      "morethanmySLE\n",
      "AppropsDems\n",
      "OversightDems\n",
      "EnergyCommerce\n",
      "funder\n",
      "TheDemCoalition\n",
      "DworkinReport\n",
      "DworkinWeekly\n",
      "DougJones\n",
      "TabithaK\n",
      "RepEngland70\n",
      "RepTerriSewell\n",
      "PalmerReport\n",
      "willboydforAL\n",
      "randallwoodfin\n",
      "SRuhle\n",
      "11thhour\n",
      "msnbc\n",
      "nbcnews\n",
      "Bloombergtv\n",
      "lisaward4senate\n",
      "ccount:Sewell4Congress; @RepTerriSewell\n",
      "drdia\n",
      "jemelehill\n",
      "BerniceKing\n",
      "ninaturner\n",
      "RacePowerPolicy\n",
      "MsLaToshaBrown\n",
      "BlackVotersMtr\n",
      "nhannahjones\n",
      "nytmag\n",
      "IBWellsSociety\n",
      "c4jdhowardu\n",
      "howardu\n",
      "JoyAnnReid\n",
      "soledadobrien\n",
      "RepTerriSewell\n",
      "marclamonthill\n",
      "BET\n",
      "AJUpFront\n",
      "UncleBobbies\n",
      "Booker4KY\n",
      "HoodtotheHoller\n",
      "AyannaPressley\n",
      "thereidout\n",
      "MSNBC\n",
      "Bakari_Sellers\n",
      "CNN\n",
      "StromLaw\n",
      "MrChuckD\n",
      "randallwoodfin\n",
      "MatthewACherry\n",
      "ccount:CongAderholt; @Robert_Aderholt\n",
      "RepMoBrooks\n",
      "VernonForGA\n",
      "CortesSteve\n",
      "RepGosar\n",
      "realLizUSA\n",
      "kelliwardaz\n",
      "jimmythemole001\n",
      "AnthonySabatini\n",
      "LakeGOP\n",
      "UF\n",
      "ClaremontInst\n",
      "toddstarnes\n",
      "christina_bobb\n",
      "Lancegooden\n",
      "CawthornforNC\n",
      "mrddmia\n",
      "Article3Project\n",
      "The_IAP\n",
      "UnsilencedOrg\n",
      "BernardKerik\n",
      "joekent16jan19\n",
      "KenPaxtonTX\n",
      "TXAG\n",
      "RealAmVoice\n",
      "SeanParnellUSA\n",
      "ccount:CarlForAlabama; @RepJerryCarl\n",
      "JefffColeman\n",
      "TroyTrojansFB\n",
      "toddcstacy\n",
      "CapitolJournal\n",
      "APTV\n",
      "CoachJonSumrall\n",
      "brentjones4\n",
      "TroyAthletics\n",
      "AlabamaFTBL\n",
      "UA_Athletics\n",
      "AuburnFootball\n",
      "aldotcom\n",
      "DothanAreaChamb\n",
      "dothaneagle\n",
      "WDHN\n",
      "BCAToday\n",
      "sealaworks\n",
      "wccdothan\n",
      "UACoachMurphy\n",
      "WTVYNews4\n",
      "ccount:TerriforAL02; @THasdorff\n",
      "LewisforAL\n",
      "seanhannity\n",
      "NIMHgov\n",
      "MentalHealthAm\n",
      "dopplerneal\n",
      "TTuberville\n",
      "SenTuberville\n",
      "AmericanIndians\n",
      "AutismSpeaksAL\n",
      "autismspeaks\n",
      "endalzal\n",
      "alzheimerssoc\n",
      "alzassociation\n",
      "Robert_Aderholt\n",
      "HouseAppropsGOP\n",
      "ShoalsArea\n",
      "RepByrne\n",
      "BradleyByrne\n",
      "ShoalsScholars\n",
      "RepBarryMoore\n",
      "RepDonaldsPress\n",
      "FinancialCmte\n",
      "GOPoversight\n",
      "RepTroyNehls\n",
      "freedomcaucus\n",
      "JudiciaryGOP\n",
      "TransportGOP\n",
      "RepChipRoy\n",
      "RepGosar\n",
      "Jim_Jordan\n",
      "RepDanBishop\n",
      "SteveScalise\n",
      "RepBobGood\n",
      "EdWorkforceCmte\n",
      "HouseBudgetGOP\n",
      "FreedomCaucus\n",
      "AnthonySabatini\n",
      "LakeGOP\n",
      "UF\n",
      "ClaremontInst\n",
      "RepMaryMiller\n",
      "HouseAgGOP\n",
      "RepScottPerry\n",
      "SenRickScott\n",
      "Lancegooden\n",
      "RepRosendale\n",
      "repdarrellissa\n",
      "BasedMikeLee\n",
      "USRepGaryPalmer\n",
      "GovernorKayIvey\n",
      "spann\n",
      "RepScottPerry\n",
      "SenTuberville\n",
      "SenShelby\n",
      "RepMikeRogersAL\n",
      "RepMarkGreen\n",
      "HomelandGOP\n",
      "RepJimBanks\n",
      "mattmurphyshow\n",
      "aldotcom\n",
      "1819News\n",
      "SenKatieBritt\n",
      "RepDLesko\n",
      "HouseCommerce\n",
      "RepPatFallon\n",
      "RepAshleyHinson\n",
      "RepBenCline\n",
      "freedomcaucus\n",
      "JudiciaryGOP\n",
      "HouseAppropsGOP\n",
      "committeeonccp\n",
      "housebudgetGOP\n",
      "PringleforAL01\n",
      "willainsworthAL\n",
      "GovernorKayIvey\n",
      "toddcstacy\n",
      "CapitolJournal\n",
      "APTV\n",
      "jeff_poor\n",
      "1819News\n",
      "fmtalk1065\n",
      "LagniappeMobile\n",
      "BreitbartNews\n",
      "Braves\n",
      "MattSimpson\n",
      "SenShelby\n",
      "yhn\n",
      "Josh_Moon\n",
      "aldotcom\n",
      "DannyGarrett44\n",
      "RepTerriSewell\n",
      "TheDaleJackson\n",
      "JohnHMerrill\n",
      "RepEngland70\n",
      "RepMikeRogersAL\n",
      "ccount:MikeRogersCamp; @RepMikeRogersAL\n",
      "RepMikeRogersAL\n",
      "RepJimBanks\n",
      "RepMarkGreen\n",
      "HomelandGOP\n",
      "SenTuberville\n",
      "GovernorKayIvey\n",
      "CoryMillsFL\n",
      "repmillspress\n",
      "RepRosendale\n",
      "SenShelby\n",
      "RepPatFallon\n",
      "RepAshleyHinson\n",
      "RepKatCammack\n",
      "HouseCommerce\n",
      "HouseAgGOP\n",
      "Weaponization\n",
      "SenKatieBritt\n",
      "SenatorLankford\n",
      "RepDLesko\n",
      "aldotcom\n",
      "willainsworthAL\n",
      "yhn\n",
      "JessicaTaylorAL\n",
      "ComfortablySmug\n",
      "heckyessica\n",
      "theblaze\n",
      "ARmastrangelo\n",
      "BreitbartNews\n",
      "CatalinaLauf\n",
      "JohnJamesMI\n",
      "RepJames\n",
      "MatthewFoldi\n",
      "TheSpectator\n",
      "RockvilleVFD\n",
      "Speech_First\n",
      "Telegraph\n",
      "Newsmax\n",
      "AmyKremer\n",
      "GAGOP\n",
      "america1stwomen\n",
      "womenfortrump\n",
      "GovernorKayIvey\n",
      "mattdizwhitlock\n",
      "NRSC\n",
      "SenOrrinHatch\n",
      "SenMikeLee\n",
      "kleavittnh\n",
      "SenTuberville\n",
      "willainsworthAL\n",
      "HolmesJosh\n",
      "Cavalry\n",
      "ruthlesspodcast\n",
      "yhn\n",
      "RepMikeRogersAL\n",
      "BrilynHollyhand\n",
      "GOP\n",
      "RCVAlabama\n",
      "Josh_Moon\n",
      "JoyceWhiteVance\n",
      "UALawSchool\n",
      "MSNBC\n",
      "NBCNews\n",
      "bshelburne\n",
      "DougJones\n",
      "randallwoodfin\n",
      "WarOnDumb\n",
      "aldotcom\n",
      "JohnArchibald\n",
      "Niemanfdn\n",
      "spann\n",
      "kaitlancollins\n",
      "CNN\n",
      "RepTerriSewell\n",
      "UROCKlive1\n",
      "girlsreallyrule\n",
      "SunnySouthAL\n",
      "AP\n",
      "UPI\n",
      "nytimes\n",
      "washingtonpost\n",
      "latimes\n",
      "HoustonChron\n",
      "dallasnews\n",
      "MiamiHerald\n",
      "ajc\n",
      "Tennessean\n",
      "TabithaK\n",
      "RepEngland70\n",
      "JPage4Congress\n",
      "thirdpartyus\n",
      "muhpolitix\n",
      "YeetTheFed\n",
      "rebeljeffrey\n",
      "ShawnHoward2024\n",
      "DiversReady\n",
      "jmkmdk2007\n",
      "TimmTexan\n",
      "Watson_Gary\n",
      "ArchiesDogHouse\n",
      "gvmelbrty_\n",
      "LibertyApex\n",
      "colekutz316\n",
      "JohnFox99654871\n",
      "AlabamaLp\n",
      "Official_LPAWR\n"
     ]
    },
    {
     "data": {
      "text/plain": [
       "['HoweDefendsUSA',\n",
       " 'LoriWescott',\n",
       " 'richsignorelli',\n",
       " 'harvard_law',\n",
       " 'KiraResistance',\n",
       " 'CYA1959',\n",
       " 'Victor_Asal',\n",
       " 'UAlbany',\n",
       " 'victorasal',\n",
       " 'juliettekayyem',\n",
       " 'Kennedy_School',\n",
       " 'CNN',\n",
       " 'TheAtlantic',\n",
       " 'DHSgov',\n",
       " 'Lawrenc00642407',\n",
       " 'WAPO',\n",
       " 'Brandonontheup',\n",
       " 'HeathWatchman',\n",
       " 'C8tetate',\n",
       " 'mcford77',\n",
       " 'RobertoBelen5',\n",
       " 'CoffeeWoodwork',\n",
       " 'DishCommish',\n",
       " 'JohnCena',\n",
       " 'bjwinnerdavis',\n",
       " 'winnerbrittany',\n",
       " 'LadySewage',\n",
       " 'ewwerner181',\n",
       " 'TrumpThief',\n",
       " 'sandybalduf',\n",
       " 'ndnfox',\n",
       " 'CordeliaRae1',\n",
       " 'jeffrielongjr',\n",
       " 'aaronlrizzo',\n",
       " '_____Heather_',\n",
       " 'amyklobuchar',\n",
       " 'ericbop',\n",
       " 'newyorker',\n",
       " 'NYTMag',\n",
       " 'mcsweeneys',\n",
       " 'awl',\n",
       " 'Slate',\n",
       " 'TheAtlantic',\n",
       " 'jdforward',\n",
       " 'anneslowey',\n",
       " 'DesignerTi',\n",
       " 'followcrave',\n",
       " 'IlanaKowarski',\n",
       " 'mlexclusive',\n",
       " 'usnews',\n",
       " 'columbiajourn',\n",
       " 'uchicago',\n",
       " 'michaelbastian',\n",
       " 'RussellChaddock',\n",
       " 'ArkDems',\n",
       " 'WhelanJill',\n",
       " 'henryzwartz',\n",
       " 'ABCNews',\n",
       " 'SBSNews',\n",
       " 'UNSWADA',\n",
       " 'DTPHumanRights',\n",
       " 'smh',\n",
       " 'KarenNewsOrg',\n",
       " 'KELOReneeOrtiz',\n",
       " 'symonemsnbc',\n",
       " 'jackienpadilla',\n",
       " 'POLITICO',\n",
       " 'NAHJDC',\n",
       " 'cronkite_asu',\n",
       " 'haleychising',\n",
       " 'FoxNews',\n",
       " 'COMatBU',\n",
       " 'LauraAGillen',\n",
       " 'HofstraU',\n",
       " 'DCNewsNow',\n",
       " 'NXSTMediaGroup',\n",
       " 'MelissaFleming',\n",
       " 'UN',\n",
       " 'CroweJam',\n",
       " 'aldotcom',\n",
       " 'crowetoons',\n",
       " 'jdcrowepix',\n",
       " 'EUAmbUS',\n",
       " 'EUintheUS',\n",
       " 'MichaelCurtisEU',\n",
       " 'liz_elkind',\n",
       " 'foxnews',\n",
       " 'fox',\n",
       " 'RichReadReports',\n",
       " 'KhushitaVasant',\n",
       " 'WSJ',\n",
       " 'DowJones',\n",
       " 'revrubendiaz',\n",
       " 'DanSchrack',\n",
       " '13WHAM',\n",
       " 'WENYTV',\n",
       " 'news4buffalo',\n",
       " 'sbgtv',\n",
       " 'elizabethcrisp',\n",
       " 'TheHill',\n",
       " 'WHCA',\n",
       " 'newsweek',\n",
       " 'nolanews',\n",
       " 'stltoday',\n",
       " 'clarionledger',\n",
       " 'usatoday',\n",
       " 'AndrewYang',\n",
       " 'ShamsCharania',\n",
       " 'Mtclai',\n",
       " 'MinervaUni',\n",
       " 'Harvard',\n",
       " 'yjlconductor',\n",
       " 'ensemble212',\n",
       " 'PointsTrident',\n",
       " 'RossMoRock',\n",
       " 'RunforSomething',\n",
       " 'RFSCivics',\n",
       " 'ForOurFuture',\n",
       " 'ArcInitiatives',\n",
       " 'JulianCastro',\n",
       " 'JessLivMo',\n",
       " 'aibm_org',\n",
       " 'RepJohnCurtis',\n",
       " 'CurtisUT',\n",
       " 'TamerSpotlight',\n",
       " 'myspotlightnews',\n",
       " 'tarapalmeri',\n",
       " 'pucknews',\n",
       " 'ringer',\n",
       " 'puck',\n",
       " 'OrionSeven',\n",
       " 'AskJack_io',\n",
       " '_InfosecMonitor',\n",
       " 'MaggieG603',\n",
       " 'IsTimGrady',\n",
       " 'Fwd_Ohio',\n",
       " 'April4Congress',\n",
       " 'HugoMaldonado',\n",
       " 'RepRaskin',\n",
       " 'OversightDems',\n",
       " 'RepDonBeyer',\n",
       " 'JECDems',\n",
       " 'WaysMeansCmte',\n",
       " 'CaucusOnClimate',\n",
       " 'StevenACohen2',\n",
       " 'prafdhar',\n",
       " 'OpenAI',\n",
       " 'MIT',\n",
       " 'theSamPadilla',\n",
       " 'Eidon_AI',\n",
       " 'ATXDAO',\n",
       " 'inter4pod',\n",
       " 'Google',\n",
       " 'Arnold_Ventures',\n",
       " 'DanRayfield',\n",
       " 'iamjamesrhee',\n",
       " 'FSBarry',\n",
       " 'hoodcandidate',\n",
       " 'kbg_1989',\n",
       " 'ccjrc1',\n",
       " 'quincylsb',\n",
       " 'PastorOilsheen',\n",
       " 'KeneAkers',\n",
       " 'SP_704ess',\n",
       " 'NRSC',\n",
       " 'KorbelGeorgie',\n",
       " 'RichLowry',\n",
       " 'gmail',\n",
       " 'PauletteEJordan',\n",
       " 'K_JeanPierre',\n",
       " 'PressSec',\n",
       " 'wolfblitzer',\n",
       " 'CNNSitRoom',\n",
       " 'AnaCabrera',\n",
       " 'MSNBC',\n",
       " 'MurrowCollege',\n",
       " 'Acosta',\n",
       " 'brianstelter',\n",
       " 'VanityFair',\n",
       " 'snapstream',\n",
       " 'TheMorningShow',\n",
       " 'kaitlancollins',\n",
       " 'CNN',\n",
       " 'jimsciutto',\n",
       " 'BlackWomenViews',\n",
       " 'ReecieColbert',\n",
       " 'SiriusXM',\n",
       " 'amitrippingame',\n",
       " 'KeishaBottoms',\n",
       " 'mkraju',\n",
       " 'Bakari_Sellers',\n",
       " 'StromLaw',\n",
       " 'abbydphillip',\n",
       " 'GainesKash',\n",
       " 'illinoispolicy',\n",
       " 'SgtCaruso',\n",
       " 'DAMIADENUGA',\n",
       " 'motownbelle',\n",
       " 'Ashakinpink',\n",
       " 'ADOSAF',\n",
       " 'dlh86tweet',\n",
       " 'MbuyeLisette',\n",
       " 'Demi_Sha009',\n",
       " 'cgreene517',\n",
       " 'TINYTOWNCA',\n",
       " 'williams_pagel',\n",
       " 'Pastor_Shirelle',\n",
       " 'TylerJaysWife',\n",
       " 'rgibson1987',\n",
       " 'MarburyBlanco',\n",
       " 'Phreshstart1',\n",
       " 'HeyYallDetroit',\n",
       " 'ThePhantom693',\n",
       " 'TaylorVerdena',\n",
       " 'DetEvictDefense',\n",
       " 'WiRgarrard8',\n",
       " 'LTerry691',\n",
       " 'jalynnsimmons12',\n",
       " 'indymusicandwellness',\n",
       " 'QueenChauncee',\n",
       " 'GreatDiivine',\n",
       " 'Neallyo22',\n",
       " 'PRbyTyler',\n",
       " 'HewinsPam',\n",
       " 'SoulFulQueenB',\n",
       " 'MsChrisg',\n",
       " 'miraclewashmob1',\n",
       " 'LisaHar38098497',\n",
       " 'Lindsey42267843',\n",
       " 'VoteVohra',\n",
       " 'KarlRove',\n",
       " 'BarackObama',\n",
       " 'glennbeck',\n",
       " 'GovMikeHuckabee',\n",
       " 'PressSec45',\n",
       " 'PressSec44',\n",
       " 'thehill',\n",
       " 'SenJohnMcCain',\n",
       " 'McCainInstitute',\n",
       " 'SarahPalinUSA',\n",
       " 'sarahpalin97',\n",
       " 'SuzanneMalveaux',\n",
       " 'MikeBloomberg',\n",
       " 'ShashiTharoor',\n",
       " 'ProfCong',\n",
       " 'UN',\n",
       " 'JoeNBC',\n",
       " 'CoryBooker',\n",
       " 'seanhannity',\n",
       " 'KeithOlbermann',\n",
       " 'HouseFloor',\n",
       " 'GovTop',\n",
       " 'SenateFloor',\n",
       " 'TenthAmendment',\n",
       " 'LPFlorida',\n",
       " 'BethesdActually',\n",
       " 'NCPA',\n",
       " 'HouseGOP',\n",
       " 'EmperorInvictus',\n",
       " 'AnnettePrestia',\n",
       " 'JR_Newswire',\n",
       " 'UtrFeed',\n",
       " 'joeldavisx',\n",
       " 'amandaknox',\n",
       " 'manunderbridge',\n",
       " 'TheAtlantic',\n",
       " 'LATimes',\n",
       " 'Independent',\n",
       " 'TheFP',\n",
       " 'arthurkwonlee',\n",
       " 'SydneyLWatson',\n",
       " 'ThePublicaNow',\n",
       " 'IvanRaiklin',\n",
       " 'kennedyhall',\n",
       " 'lucymarionbrown',\n",
       " 'highiqgf',\n",
       " 'mindyeee9',\n",
       " 'maryarchived',\n",
       " 'timcast',\n",
       " 'valorascult',\n",
       " 'patrickshaheen',\n",
       " 'KeithGrossFL',\n",
       " 'GOP',\n",
       " 'NHGOP',\n",
       " 'AFP_NH',\n",
       " 'usedgov',\n",
       " 'RealRossU',\n",
       " 'JMilei',\n",
       " 'mishkaivana',\n",
       " 'BVMConsolatrix',\n",
       " 'culturaldrop',\n",
       " 'BenFrancis1992',\n",
       " 'Gymshark',\n",
       " 'benfrancis',\n",
       " 'TCNetwork',\n",
       " 'banalplay',\n",
       " 'GarbageHuman24',\n",
       " 'ChivalryGuild',\n",
       " 'stoic_sith',\n",
       " 'Confederate186',\n",
       " 'BarbaraBellar',\n",
       " 'ILfamilyaction',\n",
       " 'ewarren',\n",
       " 'CFPB',\n",
       " 'MorningsMaria',\n",
       " 'MariaBartiromo',\n",
       " 'FoxBusiness',\n",
       " 'KellyannePolls',\n",
       " 'USSupremeCourt',\n",
       " 'GovTop',\n",
       " 'NatGeoTV',\n",
       " 'hulu',\n",
       " 'DisneyPlus',\n",
       " 'MeetThePress',\n",
       " 'kwelkernbc',\n",
       " 'USANEWS007',\n",
       " 'WWF',\n",
       " 'FBI',\n",
       " 'ILGOPHispanics',\n",
       " 'CookCountyGOP',\n",
       " 'SeanMMorrison',\n",
       " 'SenWarren',\n",
       " 'Mike_Pence',\n",
       " 'SundayFutures',\n",
       " 'FoxNews',\n",
       " 'DonaldJTrumpJr',\n",
       " 'HouseFloor',\n",
       " 'SenateFloor',\n",
       " 'USHouseNews',\n",
       " 'SenateNews',\n",
       " 'VP45',\n",
       " 'LouDobbs',\n",
       " 'MayoClinic',\n",
       " 'IvankaTrump',\n",
       " 'FLOTUS45',\n",
       " 'SenSanders',\n",
       " 'BernieSanders',\n",
       " 'BarackObama',\n",
       " 'BernieSanders',\n",
       " 'Booker4KY',\n",
       " 'HoodtotheHoller',\n",
       " 'RishiDesaiMD',\n",
       " 'OsmosisMed',\n",
       " 'CDCgov',\n",
       " 'osmosis',\n",
       " 'SEIUPres',\n",
       " 'SEIU',\n",
       " 'JayInslee',\n",
       " 'dwallacewells',\n",
       " 'nytopinion',\n",
       " 'NYTmag',\n",
       " 'VarshPrakash',\n",
       " 'SunriseMvmt',\n",
       " 'AnnClan',\n",
       " 'ChokweALumumba',\n",
       " 'MaketheRoadAct',\n",
       " 'EmgageAction',\n",
       " 'harinef',\n",
       " 'TheBarbaraSmith',\n",
       " 'Chirlane',\n",
       " 'chirlane',\n",
       " 'JillianDURM',\n",
       " 'MovementVote',\n",
       " 'LocalProgress',\n",
       " 'GroundswellFund',\n",
       " 'SouthernVision_',\n",
       " 'CityofDurhamNC',\n",
       " 'portugaltheman',\n",
       " 'afscme3299',\n",
       " 'Mindi4NHEmt',\n",
       " 'NHScienceHealth',\n",
       " 'NHSafeWaterA',\n",
       " 'thestrokes',\n",
       " 'alberthammondjr',\n",
       " 'Casablancas_J',\n",
       " 'N_Fraiture',\n",
       " 'CynthiaNixon',\n",
       " 'zerohourmvmt',\n",
       " 'Dreamdefenders',\n",
       " 'RepLindaSanchez',\n",
       " 'WaysMeansCmte',\n",
       " 'Dodgers',\n",
       " 'AndruVolinsky',\n",
       " 'alaw202',\n",
       " 'ssworks',\n",
       " 'weactradio',\n",
       " 'TimRobbins1',\n",
       " 'BetoORourke',\n",
       " 'brotherjones_',\n",
       " 'MalloryMcMorrow',\n",
       " 'NotreDame',\n",
       " 'raywert',\n",
       " 'KnowaWasTaken',\n",
       " 'JoeBiden',\n",
       " 'KamalaHarris',\n",
       " 'VOTGeorgia',\n",
       " 'gmail',\n",
       " 'AHammoudMI',\n",
       " 'SergioMarBel',\n",
       " 'NPR',\n",
       " 'michiganstateu',\n",
       " 'npr',\n",
       " 'KrishVignarajah',\n",
       " 'GlobalRefuge',\n",
       " 'OMaraForDE',\n",
       " 'JasperRMartus',\n",
       " 'jmcmsu',\n",
       " 'billmaher',\n",
       " 'MattWelch',\n",
       " 'Reason',\n",
       " 'wethefifth',\n",
       " 'YaelSchacher',\n",
       " 'RefugeesIntl',\n",
       " 'RealTimers',\n",
       " 'BillMaher',\n",
       " 'HBO',\n",
       " 'StreamOnMax',\n",
       " 'SethMacFarlane',\n",
       " 'GarciaReports',\n",
       " 'ABC',\n",
       " 'ColumbiaJourn',\n",
       " 'calpoly',\n",
       " 'AriMSawyer',\n",
       " 'HRW',\n",
       " 'USATODAY',\n",
       " 'ellengilmer',\n",
       " 'bgov',\n",
       " 'guildatBIG',\n",
       " 'bloomberg',\n",
       " 'LASimmonsTX146',\n",
       " 'gable_pat',\n",
       " 'Acyn',\n",
       " 'SnapStream',\n",
       " 'dan_restrepo',\n",
       " 'amprog',\n",
       " 'latintrade',\n",
       " 'NSC44',\n",
       " 'HouseForeign',\n",
       " 'pennlaw',\n",
       " 'UVA',\n",
       " 'GonzagaGoodNews',\n",
       " 'matthewschmitz',\n",
       " 'compactmag_',\n",
       " 'amconmag',\n",
       " 'PabloReports',\n",
       " 'TheToddSchulte',\n",
       " 'StevieVanZandt',\n",
       " 'JesussdelaTorre',\n",
       " 'HopeBorder',\n",
       " 'FulbrightSpain',\n",
       " 'USFMIMS',\n",
       " 'anatosaurus',\n",
       " 'wordstowinby',\n",
       " 'BilldeBlasio',\n",
       " 'davidhogg111',\n",
       " 'gmail',\n",
       " 'RosemaryBoeglin',\n",
       " 'thedemocrats',\n",
       " 'senmarkey',\n",
       " 'joebiden',\n",
       " 'berniesanders',\n",
       " 'amyvalentine555',\n",
       " 'futureof_school',\n",
       " 'CMAmandaFarias',\n",
       " 'nyccouncil',\n",
       " 'CMShaunAbreu',\n",
       " 'ShaunAbreu',\n",
       " 'NYCCouncil',\n",
       " 'AmandaFariasNYC',\n",
       " 'crystalrhudson',\n",
       " 'alexaforcouncil',\n",
       " 'CMAlexaAviles',\n",
       " 'CMShahanaHanif',\n",
       " 'ShahanaFromBK',\n",
       " 'NYCProgressives',\n",
       " 'CMRestler',\n",
       " 'CMKevinCRiley',\n",
       " 'CMPiSanchez',\n",
       " 'CMNantashaW',\n",
       " 'CMFarahLouis',\n",
       " 'AdrienneToYou',\n",
       " 'NYCcouncil',\n",
       " 'NYCSpeakerAdams',\n",
       " 'NYCCouncilAyala',\n",
       " 'CnDelarosa',\n",
       " 'CMCrystalHudson',\n",
       " 'DianaAyalaNYC',\n",
       " 'Salamancajr80',\n",
       " 'CMSalamancaJr',\n",
       " 'CMMercedesCD46',\n",
       " 'JimGennaro',\n",
       " 'JoeBorelliNYC',\n",
       " 'MarkLevineNYC',\n",
       " 'GovBillWeld',\n",
       " 'treehouse',\n",
       " 'cooljeanius',\n",
       " 'stuartpstevens',\n",
       " 'thehill',\n",
       " 'TeamCavuto',\n",
       " 'FoxBusiness',\n",
       " 'FoxNews',\n",
       " 'steinhauserNH1',\n",
       " 'ConMonitorNews',\n",
       " 'NHTodayShow',\n",
       " 'ThePulseofNH',\n",
       " 'JulieMasonShow1',\n",
       " 'cspanwj',\n",
       " 'CNNPolitics',\n",
       " 'vermontgmg',\n",
       " 'aspencyber',\n",
       " 'WIRED',\n",
       " 'PoliticoMag',\n",
       " 'washingtonian',\n",
       " 'Isikoff',\n",
       " 'SkullduggeryPod',\n",
       " 'dklaidman',\n",
       " 'CBSNews',\n",
       " 'isikoff',\n",
       " 'twelvebooks',\n",
       " 'YahooFinance',\n",
       " 'Newsweek',\n",
       " 'AC360',\n",
       " 'CNN',\n",
       " 'AndersonCooper',\n",
       " 'SykesCharlie',\n",
       " 'gmail',\n",
       " 'BillKristol',\n",
       " 'alexanderburns',\n",
       " 'POLITICO',\n",
       " 'HarvardIOP',\n",
       " 'GlennThrush',\n",
       " 'jheil',\n",
       " 'PuckNews',\n",
       " 'SHO_TheCircus',\n",
       " 'chrislhayes',\n",
       " 'kateashaw1',\n",
       " 'allinwithchris',\n",
       " 'brianstelter',\n",
       " 'VanityFair',\n",
       " 'snapstream',\n",
       " 'TheMorningShow',\n",
       " 'AriMelber',\n",
       " 'CapehartJ',\n",
       " 'PostLive',\n",
       " 'WeekendCapehart',\n",
       " 'NewsHour',\n",
       " 'alexwagner',\n",
       " 'WagnerTonight',\n",
       " 'msnbc',\n",
       " 'OneWorldLit',\n",
       " 'NewEngCollege',\n",
       " 'BEllisonSaysHi',\n",
       " 'UPLibertarians',\n",
       " 'jasondweinman',\n",
       " 'WedgeSquared',\n",
       " 'Mr_Zach_Foster',\n",
       " 'matt_kohrs',\n",
       " 'LPMCOfficial',\n",
       " 'TradesTrey',\n",
       " 'wallstreetbets',\n",
       " 'the_ironsheik',\n",
       " 'johnnylemuria',\n",
       " 'Johnnylemuria',\n",
       " 'mindly',\n",
       " 'AOC',\n",
       " 'WSBChairman',\n",
       " 'RepMeijer',\n",
       " 'KillerMike',\n",
       " 'GuySquiggs',\n",
       " 'mtaibbi',\n",
       " 'tmorello',\n",
       " 'alex_pilkington',\n",
       " 'LibertarianRed1',\n",
       " 'TacistT',\n",
       " 'perlmutations',\n",
       " 'EasyStreetBook',\n",
       " 'fellonknee',\n",
       " 'starchildsf',\n",
       " 'Sethrogen',\n",
       " 'BenjaminPDixon',\n",
       " 'AmashMichigan',\n",
       " 'BNicholsLiberty',\n",
       " 'BrianCarrollASP',\n",
       " 'MarkPJonesTX',\n",
       " 'RabihAbiHanna',\n",
       " 'AmSolidarity',\n",
       " '29Sonski',\n",
       " 'EWTN',\n",
       " 'BishopBarron',\n",
       " 'WordOnFire',\n",
       " 'CardinalDolan',\n",
       " 'JMTalbot',\n",
       " 'SolidarityWonk',\n",
       " 'jadesimmons',\n",
       " 'ProhibitionUS',\n",
       " 'fairvote',\n",
       " 'prolifesf',\n",
       " 'LifeNewsHQ',\n",
       " 'SocialistGreens',\n",
       " 'americamag',\n",
       " 'Sojourners',\n",
       " 'SojoAction',\n",
       " 'FrankAvilaLaw',\n",
       " 'MelissaMoore77',\n",
       " 'redeemedmonkey1',\n",
       " 'Topher_T_Hunt',\n",
       " 'louiegiglio',\n",
       " 'MattChandler74',\n",
       " 'laurenchandler',\n",
       " 'villagechurchtx',\n",
       " 'Acts29',\n",
       " 'desiringGod',\n",
       " 'TGC',\n",
       " 'between2worlds',\n",
       " 'TrevinWax',\n",
       " 'NAMB_SBC',\n",
       " 'brockpierce',\n",
       " 'frizztacular',\n",
       " 'SebastianLoaysa',\n",
       " 'Companions_NFT',\n",
       " 'NFCsummit',\n",
       " 'MEMECON_lol',\n",
       " 'OrdinalsLisbon',\n",
       " 'aiFilmAcademy',\n",
       " 'The1_MrAnderson',\n",
       " 'jackjayio',\n",
       " 'PersistVentures',\n",
       " 'LibertarianLars',\n",
       " 'rainerhosch',\n",
       " 'Humanityprot',\n",
       " 'wallstreetbets',\n",
       " 'BradSherman',\n",
       " 'mong_coin',\n",
       " 'Coachkcrypto',\n",
       " 'natfriedman',\n",
       " 'jessicabukele',\n",
       " 'De3ngineer',\n",
       " '0xPolygon',\n",
       " 'davidhnichols',\n",
       " 'terranaomi',\n",
       " 'UNFKearth',\n",
       " 'xprize',\n",
       " 'negrospritzer',\n",
       " 'Coinstelegram1',\n",
       " 'binance',\n",
       " 'coinmarketcap',\n",
       " 'fulloa51',\n",
       " 'RodolfoBits',\n",
       " 'JedlickaVit',\n",
       " 'Legend',\n",
       " 'SixP_',\n",
       " '_d3f4ult',\n",
       " 'ApolloAlgo',\n",
       " 'Wikileaks',\n",
       " 'Bybit_Official',\n",
       " 'MartinShkreli',\n",
       " 'CherundaFox',\n",
       " 'konstructivizm',\n",
       " 'MLReadingHub',\n",
       " 'id_communism',\n",
       " 'communistsusa',\n",
       " 'communists_US',\n",
       " 'jakbtestbot',\n",
       " 'serwer',\n",
       " 'SolarHam',\n",
       " 'yourgirlroom',\n",
       " 'NStarAdventures',\n",
       " 'GLAHsolarmax',\n",
       " 'AuroraDora_com',\n",
       " 'NightLights_AM',\n",
       " '_SpaceWeather_',\n",
       " 'LiveAuroraNetw1',\n",
       " 'Aurora_ireland',\n",
       " 'AuroraHunter',\n",
       " 'YukonAurora',\n",
       " 'AuroraJAnderson',\n",
       " 'IOMAurora',\n",
       " 'NoDDAC_cameras',\n",
       " 'AuroraVillage',\n",
       " 'cogie_s',\n",
       " 'Aurora_Zone',\n",
       " 'aurorawatch',\n",
       " 'chris4ed',\n",
       " 'heymsrebecca',\n",
       " 'smallsnokillin',\n",
       " 'ProfEmilyOster',\n",
       " 'BrownUniversity',\n",
       " 'RobertWhite_DC',\n",
       " 'ANCJonah',\n",
       " 'abqsmith',\n",
       " 'PerryStein',\n",
       " 'MsLBVMI',\n",
       " 'DupeeforDC',\n",
       " 'dcmowpi',\n",
       " 'ANC7E',\n",
       " 'GWtweets',\n",
       " 'GWpublichealth',\n",
       " 'UMSL',\n",
       " 'TeachForAmerica',\n",
       " 'STLCoro',\n",
       " 'brandongreennow',\n",
       " 'lukeburgis',\n",
       " 'AllisterChang',\n",
       " 'CarleneDReid',\n",
       " 'dcsboe',\n",
       " 'creidsboe',\n",
       " 'LaJoyLaw1',\n",
       " 'LaJoyforWard8',\n",
       " 'raviperry',\n",
       " 'howardpolitics',\n",
       " 'howardu',\n",
       " 'A4ethnicstudies',\n",
       " 'DCVote',\n",
       " 'CLASPChildCare',\n",
       " 'CLASP_DC',\n",
       " 'BASISDC',\n",
       " 'DCCollaborative',\n",
       " 'EdReformNowDC',\n",
       " 'EdReformNowUSA',\n",
       " 'educationustdc',\n",
       " 'Ward1EdCouncil',\n",
       " 'ArtEducationDC',\n",
       " 'CityBridgeEdu',\n",
       " 'EdCounselDC',\n",
       " 'DMEforDC',\n",
       " 'FullStriedAhead',\n",
       " 'KTwaronite_EY',\n",
       " 'JennMatthews57',\n",
       " 'SavannahRudicel',\n",
       " 'NicoleMenner',\n",
       " 'NBC10',\n",
       " 'fox11news',\n",
       " '2_nitwhits',\n",
       " 'CarolineMaggs',\n",
       " 'flagstar',\n",
       " 'Chase',\n",
       " 'ChaseSupport',\n",
       " 'TruistNews',\n",
       " 'RegionsBank',\n",
       " 'FifthThird',\n",
       " 'AlexHoganTV',\n",
       " 'foxnews',\n",
       " '69News',\n",
       " 'WTAJnews',\n",
       " 'CentreCountyRep',\n",
       " 'BloombergTV',\n",
       " 'NBCwashington',\n",
       " 'checkwithchels',\n",
       " 'waff48',\n",
       " 'NadiaGundert',\n",
       " 'TheLisaEvans',\n",
       " 'play107yeg',\n",
       " '963cruzfm',\n",
       " 'SIRIUSXM',\n",
       " '70son7',\n",
       " 'GHLawFirm',\n",
       " 'cjonescowboys',\n",
       " 'DallasCowboys',\n",
       " 'Kaitlin_Knapp1',\n",
       " 'fox4now',\n",
       " 'kxly4news',\n",
       " 'KAPPKVEW',\n",
       " '8NewsNow',\n",
       " 'amywegmann',\n",
       " 'KatieWallsTV',\n",
       " 'alishahayes_x',\n",
       " 'NOAA',\n",
       " 'CommerceGov',\n",
       " 'Catherine_Price',\n",
       " 'CarlyBooth92',\n",
       " 'hotmail',\n",
       " 'supreme_cbd',\n",
       " 'Lindsay_Warner',\n",
       " '1stGirlPres',\n",
       " 'CNNPolitics',\n",
       " 'newtgingrich',\n",
       " 'MittRomney',\n",
       " 'SenatorRomney',\n",
       " 'JoelOsteen',\n",
       " 'RandPaul',\n",
       " 'SenTedCruz',\n",
       " 'tedcruz',\n",
       " 'heidiscruz',\n",
       " 'foxandfriends',\n",
       " 'Reince',\n",
       " 'MichaelBestLaw',\n",
       " 'ABC',\n",
       " 'WSB_Speakers',\n",
       " 'GOP',\n",
       " 'realDonaldTrump',\n",
       " 'SpeakerRyan',\n",
       " 'JohnKasich',\n",
       " 'NBCNews',\n",
       " 'CNBC',\n",
       " 'MSNBC',\n",
       " 'BPC_Bipartisan',\n",
       " 'BudgetHawks',\n",
       " 'MeadowsInst',\n",
       " 'megynkelly',\n",
       " 'AnnCoulter',\n",
       " 'PressSec45',\n",
       " 'JebBush',\n",
       " 'ExcelinEd',\n",
       " 'BillOReilly',\n",
       " 'NoSpinNews',\n",
       " 'seanhannity',\n",
       " 'RealBenCarson',\n",
       " 'marcorubio',\n",
       " 'IvankaTrump',\n",
       " 'TeamTrump',\n",
       " 'KellyannePolls',\n",
       " 'EricTrump',\n",
       " 'Trump',\n",
       " 'LaraLeaTrump',\n",
       " 'StJude',\n",
       " 'TrumpWinery',\n",
       " 'DonaldJTrumpJr',\n",
       " 'cliftonroberts',\n",
       " 'MikeDzoga',\n",
       " 'michellebstout',\n",
       " 'PGelsinger',\n",
       " 'intel',\n",
       " 'feraldata',\n",
       " 'ANUcybernetics',\n",
       " 'ANUcecc',\n",
       " 'SacBizEditor',\n",
       " 'sfallender',\n",
       " 'JeffRittener',\n",
       " 'itsjhk',\n",
       " 'DukeAlumni',\n",
       " 'DukeCyberPolicy',\n",
       " 'CooperBSA',\n",
       " 'BSAnews',\n",
       " 'RhonnieF',\n",
       " 'joebiden',\n",
       " 'AmitElazari',\n",
       " 'UCBerkeley',\n",
       " 'BerkeleyISchool',\n",
       " 'ReichmanUni',\n",
       " 'lisaimalloy',\n",
       " 'IntelAI',\n",
       " 'luizachsavage',\n",
       " 'POLITICO',\n",
       " 'ZacharyGrajeda',\n",
       " 'trish_damkroger',\n",
       " 'writerchik0',\n",
       " 'healthydata4all',\n",
       " 'thederekwaxman',\n",
       " 'Intel',\n",
       " 'IntelPolicy',\n",
       " 'KumarAGarg',\n",
       " 'WHOSTP44',\n",
       " 'EricSchmidt',\n",
       " 'RenPhil21',\n",
       " 'theanimalvoters',\n",
       " 'vfar',\n",
       " 'techcomplaw',\n",
       " 'JoFrederiks',\n",
       " 'CLGammon',\n",
       " 'AuthorAnnSnyder',\n",
       " 'JeffreyPerren',\n",
       " '1045TheZone',\n",
       " 'Titans',\n",
       " 'Vol_Sports',\n",
       " 'NashvilleSC',\n",
       " 'RamonKaylaWill',\n",
       " 'BuckReising',\n",
       " 'bbishop23',\n",
       " '3HL1045',\n",
       " 'KIngramSports',\n",
       " 'TheRamonFoster',\n",
       " 'KaylaAndersonTV',\n",
       " 'will_boling',\n",
       " 'FrankWycheck1',\n",
       " 'Neyland_Stadium',\n",
       " 'UTKnoxville',\n",
       " 'Vol_Football',\n",
       " 'LindaJNance',\n",
       " 'AlbertNance',\n",
       " 'AnthonyPaull',\n",
       " 'MarCarring',\n",
       " 'Ron_Glick',\n",
       " 'BlakelyBennett',\n",
       " 'MyPenNameOnly',\n",
       " 'MichaelSteele',\n",
       " 'steele_podcast',\n",
       " 'eUSLiBs',\n",
       " 'CarlaHowell',\n",
       " 'CoryBooker',\n",
       " 'MondaireJones',\n",
       " 'USCCRgov',\n",
       " 'MalloryMcMorrow',\n",
       " 'NotreDame',\n",
       " 'raywert',\n",
       " 'RobMenendez4NJ',\n",
       " 'RepMenendez',\n",
       " 'NJGov',\n",
       " 'sguyenet',\n",
       " 'NewarkThrives',\n",
       " 'aisha_glover',\n",
       " 'Audible_com',\n",
       " 'CityofNewarkNJ',\n",
       " 'NewarkAlliance_',\n",
       " 'BklynNavyYard',\n",
       " 'BaruchCollege',\n",
       " 'newark_arts',\n",
       " 'TAPintoNewark',\n",
       " 'ParlayHouse',\n",
       " 'bringafriendpod',\n",
       " 'Cannonfor58',\n",
       " 'GAHouseDems',\n",
       " 'UNUMFund',\n",
       " 'HMHBGeorgia',\n",
       " 'SisterSong_WOC',\n",
       " 'withlovecleo',\n",
       " 'alliepet16',\n",
       " 'ThirdWayNatSec',\n",
       " 'UN',\n",
       " 'InclusvSecurity',\n",
       " 'LC_WINS',\n",
       " 'ArkadyKoshka',\n",
       " 'Rosie_Wardle',\n",
       " 'peggybaileydc',\n",
       " 'PeggyBaileyDC',\n",
       " 'CenterOnBudget',\n",
       " 'HUDgov',\n",
       " 'CSHinfo',\n",
       " 'naehomelessness',\n",
       " 'burnsideashley1',\n",
       " 'CLASP_DC',\n",
       " 'HungerCenter',\n",
       " 'HRC',\n",
       " 'SecYellen',\n",
       " 'SecDef',\n",
       " 'TheAmandaGorman',\n",
       " 'AlexPadilla4CA',\n",
       " 'MIT',\n",
       " 'RJThacker1',\n",
       " 'FeinbergSarah',\n",
       " 'stevebullockmt',\n",
       " 'GovernorBullock',\n",
       " 'DanForTexas',\n",
       " 'PaulyShore',\n",
       " 'SilverSpookGuy',\n",
       " 'thetechfaerie',\n",
       " 'system76',\n",
       " 'CoopNSeethe',\n",
       " 'bobking4texas21',\n",
       " 'bklewis201',\n",
       " 'LPRadicals',\n",
       " 'AxelWinter6',\n",
       " 'AnarchoDarling',\n",
       " 'creatrix_ttv',\n",
       " 'marklevinshow',\n",
       " 'apokerplayer',\n",
       " 'avensobrien',\n",
       " 'advancedmyco',\n",
       " 'ladylibertyaus',\n",
       " 'starchildsf',\n",
       " 'TUXEDOComputers',\n",
       " 'Truth_InMedia',\n",
       " 'ncgyles',\n",
       " 'WTSmith17',\n",
       " 'gmail',\n",
       " 'NostalgiaFolder',\n",
       " 'VermaManish23',\n",
       " 'BeesLittleRanch',\n",
       " 'Jaybefaunt',\n",
       " 'RevBlackNetwork',\n",
       " '_Jaybefaunt',\n",
       " 'thisisthecoin',\n",
       " 'MonkeDAO',\n",
       " 'JohnBLiveFree',\n",
       " '718_radio',\n",
       " 'dc_mma',\n",
       " 'dewaynezinkin',\n",
       " 'HonVictorHugo',\n",
       " 'therealtwixxx',\n",
       " 'DrDavidAbbasi',\n",
       " 'UpwardNewsHQ',\n",
       " 'SubmissionRadio',\n",
       " 'ChaelSonnen',\n",
       " 'tomzmich2020',\n",
       " 'Flatbushpower',\n",
       " 'gmail',\n",
       " 'realrentreform',\n",
       " 'Met_Council',\n",
       " 'housing4allNY',\n",
       " 'TenantPowerNY',\n",
       " 'KGforNYC',\n",
       " 'NYCSanitation',\n",
       " 'peter_plaut',\n",
       " 'voteleber',\n",
       " 'akattorney',\n",
       " 'NationalDebt',\n",
       " 'Lorance54804',\n",
       " 'tenantneighbor',\n",
       " 'Justice4AllQns',\n",
       " 'ceaweaver',\n",
       " 'housing4allny',\n",
       " ...]"
      ]
     },
     "execution_count": 19,
     "metadata": {},
     "output_type": "execute_result"
    }
   ],
   "source": [
    "followers_US = []\n",
    "with open('followers_US.txt', 'r') as f:\n",
    "    for line in f:\n",
    "        if \"@\" in line:\n",
    "            follower = line.strip()[1:]\n",
    "            print(follower)\n",
    "            followers_US.append(follower)\n",
    "f.close()\n",
    "\n",
    "followers_US"
   ]
  },
  {
   "cell_type": "code",
   "execution_count": 21,
   "id": "1150ec91",
   "metadata": {},
   "outputs": [
    {
     "data": {
      "text/plain": [
       "['CNN',\n",
       " 'TheAtlantic',\n",
       " 'amyklobuchar',\n",
       " 'POLITICO',\n",
       " 'FoxNews',\n",
       " 'UN',\n",
       " 'aldotcom',\n",
       " 'foxnews',\n",
       " 'WSJ',\n",
       " 'JulianCastro',\n",
       " 'RepRaskin',\n",
       " 'OversightDems',\n",
       " 'NRSC',\n",
       " 'gmail',\n",
       " 'MSNBC',\n",
       " 'BarackObama',\n",
       " 'MikeBloomberg',\n",
       " 'CoryBooker',\n",
       " 'seanhannity',\n",
       " 'TenthAmendment',\n",
       " 'GOP',\n",
       " 'NHGOP',\n",
       " 'ewarren',\n",
       " 'CFPB',\n",
       " 'FBI',\n",
       " 'SenWarren',\n",
       " 'DonaldJTrumpJr',\n",
       " 'IvankaTrump',\n",
       " 'SenSanders',\n",
       " 'BernieSanders',\n",
       " 'Booker4KY',\n",
       " 'HoodtotheHoller',\n",
       " 'brotherjones_',\n",
       " 'JoeBiden',\n",
       " 'KamalaHarris',\n",
       " 'NPR',\n",
       " 'npr',\n",
       " 'ABC',\n",
       " 'davidhogg111',\n",
       " 'Newsweek',\n",
       " 'msnbc',\n",
       " 'WedgeSquared',\n",
       " 'AOC',\n",
       " 'LifeNewsHQ',\n",
       " 'RandPaul',\n",
       " 'SenTedCruz',\n",
       " 'realDonaldTrump',\n",
       " 'NBCNews',\n",
       " 'AnnCoulter',\n",
       " 'BillOReilly',\n",
       " 'NoSpinNews',\n",
       " 'TeamTrump',\n",
       " 'EricTrump',\n",
       " 'Trump',\n",
       " 'LaraLeaTrump',\n",
       " 'StJude',\n",
       " 'TrumpWinery',\n",
       " 'DanForTexas',\n",
       " 'Jaybefaunt',\n",
       " 'RevBlackNetwork',\n",
       " '_Jaybefaunt',\n",
       " 'SteveSchmidtSES',\n",
       " 'HuffPost',\n",
       " 'CPRNews',\n",
       " 'MsLaToshaBrown',\n",
       " 'BlackVotersMtr',\n",
       " 'nytimes',\n",
       " 'washingtonpost',\n",
       " 'DailyCaller',\n",
       " 'MichelleObama',\n",
       " 'HillaryClinton',\n",
       " 'Jim_Jordan',\n",
       " 'JudiciaryGOP',\n",
       " 'Weaponization',\n",
       " 'TuckerCarlson',\n",
       " 'IngrahamAngle',\n",
       " 'wvhouse',\n",
       " 'foxnation',\n",
       " 'PeterGHager',\n",
       " 'UF',\n",
       " 'ReverendWarnock',\n",
       " 'Morehouse',\n",
       " 'TeamWarnock',\n",
       " 'TheDemocrats',\n",
       " 'staceyabrams',\n",
       " 'RewiringAmerica',\n",
       " 'HouseDemocrats',\n",
       " 'POTUS45',\n",
       " 'ericswalwell',\n",
       " 'RepSwalwell',\n",
       " 'HouseJudiciary',\n",
       " 'HomelandDems',\n",
       " 'joncoopertweets',\n",
       " 'RepAdamSchiff',\n",
       " 'AdamKinzinger',\n",
       " 'AirNatlGuard',\n",
       " 'country_f1rst',\n",
       " 'nafo',\n",
       " 'RepJeffries',\n",
       " 'MeidasTouch',\n",
       " 'TheRickWilson',\n",
       " 'tedlieu',\n",
       " 'JoyceWhiteVance',\n",
       " 'UALawSchool',\n",
       " 'marceelias',\n",
       " 'DemocracyDocket',\n",
       " 'EliasLawGroup',\n",
       " 'donwinslow',\n",
       " 'natsechobbyist',\n",
       " 'AdamParkhomenko',\n",
       " 'latimes',\n",
       " 'mmpadellan',\n",
       " 'ReallyAmerican1',\n",
       " 'itsJeffTiedrich',\n",
       " 'RBReich',\n",
       " 'InequalityMedia',\n",
       " 'rbreich',\n",
       " 'TristanSnell',\n",
       " 'fred_guttenberg',\n",
       " 'JoyAnnReid',\n",
       " 'PalmerReport',\n",
       " 'LPCO',\n",
       " 'LibertarianPol',\n",
       " 'ProjectLincoln',\n",
       " 'kylegriffin1',\n",
       " 'TheWeekendMSNBC',\n",
       " 'griffinkyle',\n",
       " 'gtconway3d',\n",
       " 'chkbal',\n",
       " 'ajamubaraka',\n",
       " 'blacks4peace',\n",
       " 'briebriejoy',\n",
       " 'BadFaithPod',\n",
       " 'RisingTheHill',\n",
       " 'theintercept',\n",
       " 'ProudSocialist',\n",
       " 'AmpedUpPodcast',\n",
       " 'carterforva',\n",
       " 'anthonyzenkus',\n",
       " 'DrJillStein',\n",
       " 'cmkshama',\n",
       " 'OnStrikeShow',\n",
       " 'LeeCamp',\n",
       " 'JordanChariton',\n",
       " 'StatusCoup',\n",
       " 'PeoplesParty_US',\n",
       " 'HumanistReport',\n",
       " 'OurRevolution',\n",
       " 'RalphNader',\n",
       " 'SarcasmStardust',\n",
       " 'action_4assange',\n",
       " 'SabbySabs2',\n",
       " 'PatTheSocialist',\n",
       " 'PunchUpPod',\n",
       " 'LPMisesCaucus',\n",
       " 'scotthortonshow',\n",
       " 'FreemansMind96',\n",
       " 'angela4LNCChair',\n",
       " 'lpnational',\n",
       " 'ThomasEWoods',\n",
       " 'BobMurphyEcon',\n",
       " 'infineogroup',\n",
       " 'ToddHagopian',\n",
       " 'LPNH',\n",
       " 'checkmatestate',\n",
       " 'HannahDCox',\n",
       " 'whitecoatwaste',\n",
       " 'ShaneTHazel',\n",
       " 'Swan',\n",
       " 'LPTN1776',\n",
       " 'POTUS',\n",
       " 'FLOTUS',\n",
       " 'WhiteHouse',\n",
       " 'PeteButtigieg',\n",
       " 'VP',\n",
       " 'DouglasEmhoff',\n",
       " 'SecondGentleman',\n",
       " 'RepThomasMassie',\n",
       " 'justinamash',\n",
       " 'LPNational',\n",
       " 'RealSpikeCohen',\n",
       " 'YATPOfficial',\n",
       " 'beinlibertarian',\n",
       " 'brad_polumbo',\n",
       " 'DCExaminer',\n",
       " 'NYPost',\n",
       " 'ComicDaveSmith',\n",
       " 'AP',\n",
       " 'politico',\n",
       " 'JohnFetterman',\n",
       " 'funder',\n",
       " 'TheDemCoalition',\n",
       " 'DworkinReport',\n",
       " 'DworkinWeekly',\n",
       " 'glennkirschner2',\n",
       " 'clairecmc',\n",
       " 'SenatorBennet',\n",
       " 'KyleClark',\n",
       " 'NextOn9NEWS',\n",
       " 'jaredpolis',\n",
       " 'denverpost',\n",
       " 'reason',\n",
       " 'ReasonFdn',\n",
       " 'JoForLiberty',\n",
       " 'people4liberty',\n",
       " 'ChaseForLiberty',\n",
       " 'BuenoForMiami',\n",
       " 'mastodon',\n",
       " 'DrBiden',\n",
       " 'SpeakerPelosi',\n",
       " 'UNC',\n",
       " 'RedState',\n",
       " 'KyleKulinski',\n",
       " 'davidsirota',\n",
       " 'LeverNews',\n",
       " 'EmilyforCO',\n",
       " 'krystalball',\n",
       " 'krystalmball',\n",
       " 'SocialistMMA',\n",
       " 'majorityfm',\n",
       " 'GunnelsWarren',\n",
       " 'DavidAFrench',\n",
       " 'lipscomb',\n",
       " 'NancyAFrench',\n",
       " 'benshapiro',\n",
       " 'benshapiroshow',\n",
       " 'BarbMcQuade',\n",
       " 'UMichLaw',\n",
       " 'OccupyDemocrats',\n",
       " 'robreiner',\n",
       " 'bluestein',\n",
       " 'AJC',\n",
       " 'nbcnews',\n",
       " 'politicallyga',\n",
       " 'wabenews',\n",
       " 'ossoff',\n",
       " 'nprpolitics',\n",
       " 'elonmusk',\n",
       " 'ninaturner',\n",
       " 'RacePowerPolicy',\n",
       " 'jimmy_dore',\n",
       " 'KariLake',\n",
       " 'RoKhanna',\n",
       " 'People4Bernie',\n",
       " 'RonFilipkowski',\n",
       " 'TPUSA',\n",
       " 'charliekirk11',\n",
       " 'BreitbartNews',\n",
       " 'RepAndyBiggsAZ',\n",
       " 'GOPoversight',\n",
       " 'LouisianaGov',\n",
       " 'FirstLadyofLA',\n",
       " 'theadvocatebr',\n",
       " 'ajc',\n",
       " 'evanasmith',\n",
       " 'emcollective',\n",
       " 'theatlantic',\n",
       " 'thelbjschool',\n",
       " 'overheardpbs',\n",
       " 'uvademocracy',\n",
       " 'austinfilm',\n",
       " 'lbjfoundation',\n",
       " 'texastribune',\n",
       " 'texasmonthly',\n",
       " 'wilco',\n",
       " 'PatrickSvitek',\n",
       " 'WashingtonPost',\n",
       " 'TexasTribune',\n",
       " 'HoustonChron',\n",
       " 'washpost',\n",
       " 'JasmineForUS',\n",
       " 'NebraskaMegan',\n",
       " 'NebraskaMJ',\n",
       " 'Braves',\n",
       " 'ACTforAmerica',\n",
       " 'Marvel',\n",
       " 'AmyMcGrathKY',\n",
       " 'harrisonjaime',\n",
       " 'Lakers',\n",
       " 'WWE',\n",
       " 'willainsworthAL',\n",
       " 'GovernorKayIvey',\n",
       " 'toddcstacy',\n",
       " 'CapitolJournal',\n",
       " 'APTV',\n",
       " '1819News',\n",
       " 'jeff_poor',\n",
       " 'fmtalk1065',\n",
       " 'LagniappeMobile',\n",
       " 'SenShelby',\n",
       " 'SenTuberville',\n",
       " 'yhn',\n",
       " 'MattSimpson',\n",
       " 'spann',\n",
       " 'RonPaul',\n",
       " 'RepMikeRogersAL',\n",
       " 'HouseCommerce',\n",
       " 'TomFitton',\n",
       " 'SebGorka',\n",
       " 'VernonForGA',\n",
       " 'AmyKremer',\n",
       " 'GAGOP',\n",
       " 'america1stwomen',\n",
       " 'womenfortrump',\n",
       " 'BernardKerik',\n",
       " 'RepScottPerry',\n",
       " 'RepJimBanks',\n",
       " 'DougJones',\n",
       " 'randallwoodfin',\n",
       " 'WarOnDumb',\n",
       " 'RepTerriSewell',\n",
       " 'bshelburne',\n",
       " 'JohnArchibald',\n",
       " 'Niemanfdn',\n",
       " 'RepEngland70',\n",
       " 'Josh_Moon',\n",
       " 'TabithaK']"
      ]
     },
     "execution_count": 21,
     "metadata": {},
     "output_type": "execute_result"
    }
   ],
   "source": [
    "count = Counter(followers_US)\n",
    "\n",
    "followers_US = []\n",
    "\n",
    "for key, value in count.items():\n",
    "    if value > 2:\n",
    "        followers_US.append(key)\n",
    "        \n",
    "followers_US"
   ]
  },
  {
   "cell_type": "code",
   "execution_count": 27,
   "id": "f51ae072",
   "metadata": {},
   "outputs": [],
   "source": [
    "tweets_dict = {}"
   ]
  },
  {
   "cell_type": "code",
   "execution_count": 28,
   "id": "3565ce3b",
   "metadata": {},
   "outputs": [],
   "source": [
    "driver = webdriver.Chrome()\n",
    "driver.get('https://twitter.com/i/flow/login')\n",
    "wait = WebDriverWait(driver, 10)\n"
   ]
  },
  {
   "cell_type": "code",
   "execution_count": 29,
   "id": "1c11ae3f",
   "metadata": {},
   "outputs": [],
   "source": [
    "### Log in\n",
    "\n",
    "# Username\n",
    "username = wait.until(\n",
    "    EC.presence_of_element_located((By.CSS_SELECTOR, 'input[autocomplete=username]'))\n",
    ")\n",
    "username.send_keys(\"rigautam@udel.edu\")\n",
    "time.sleep(3)\n",
    "login_button = wait.until(\n",
    "    EC.presence_of_element_located((By.CSS_SELECTOR, '[role=button].r-13qz1uu'))\n",
    ")\n",
    "login_button.click()\n",
    "time.sleep(3)\n",
    "\n",
    "try: \n",
    "    # Password\n",
    "    password = wait.until(\n",
    "        EC.presence_of_element_located((By.CSS_SELECTOR, '[type=password]'))\n",
    "    )\n",
    "    password.send_keys(\"Sus1234!\")\n",
    "    time.sleep(3)\n",
    "    login_button = wait.until(\n",
    "        EC.presence_of_element_located((By.CSS_SELECTOR, '[data-testid*=Login_Button]'))\n",
    "    )\n",
    "    login_button.click()\n",
    "    time.sleep(3)\n",
    "    \n",
    "except: # if we get an error\n",
    "    username = wait.until(\n",
    "        EC.presence_of_element_located((By.CSS_SELECTOR, \"[data-testid*=ocfEnterTextTextInput]\"))\n",
    "    )\n",
    "    username.send_keys(\"RichaGotem\")\n",
    "    time.sleep(3)\n",
    "    \n",
    "    next_button = wait.until(\n",
    "        EC.presence_of_element_located((By.CSS_SELECTOR, \"[data-testid*=ocfEnterTextNextButton]\"))\n",
    "    )\n",
    "    next_button.click()\n",
    "    time.sleep(3)\n",
    "    \n",
    "    password = wait.until(\n",
    "        EC.presence_of_element_located((By.CSS_SELECTOR, \"[name*=password]\"))\n",
    "    )\n",
    "    password.send_keys(\"Sus1234!\")\n",
    "    time.sleep(3)\n",
    "    \n",
    "    login_button = wait.until(\n",
    "        EC.presence_of_element_located((By.CSS_SELECTOR, \"[data-testid*=LoginForm_Login_Button]\"))\n",
    "    )\n",
    "    login_button.click()\n",
    "    time.sleep(3)\n",
    "    "
   ]
  },
  {
   "cell_type": "code",
   "execution_count": 30,
   "id": "6f177a2f",
   "metadata": {},
   "outputs": [
    {
     "name": "stderr",
     "output_type": "stream",
     "text": [
      "\r",
      "  0%|                                                   | 0/317 [00:00<?, ?it/s]"
     ]
    },
    {
     "name": "stdout",
     "output_type": "stream",
     "text": [
      "CNN\n"
     ]
    },
    {
     "name": "stderr",
     "output_type": "stream",
     "text": [
      "\r",
      "  0%|▏                                        | 1/317 [00:18<1:37:59, 18.61s/it]"
     ]
    },
    {
     "name": "stdout",
     "output_type": "stream",
     "text": [
      "TheAtlantic\n"
     ]
    },
    {
     "name": "stderr",
     "output_type": "stream",
     "text": [
      "\r",
      "  1%|▎                                        | 2/317 [00:40<1:46:59, 20.38s/it]"
     ]
    },
    {
     "name": "stdout",
     "output_type": "stream",
     "text": [
      "amyklobuchar\n"
     ]
    },
    {
     "name": "stderr",
     "output_type": "stream",
     "text": [
      "\r",
      "  1%|▍                                        | 3/317 [01:20<2:33:31, 29.34s/it]"
     ]
    },
    {
     "name": "stdout",
     "output_type": "stream",
     "text": [
      "POLITICO\n"
     ]
    },
    {
     "name": "stderr",
     "output_type": "stream",
     "text": [
      "\r",
      "  1%|▌                                        | 4/317 [01:41<2:17:14, 26.31s/it]"
     ]
    },
    {
     "name": "stdout",
     "output_type": "stream",
     "text": [
      "FoxNews\n"
     ]
    },
    {
     "name": "stderr",
     "output_type": "stream",
     "text": [
      "\r",
      "  2%|▋                                        | 5/317 [02:03<2:08:02, 24.62s/it]"
     ]
    },
    {
     "name": "stdout",
     "output_type": "stream",
     "text": [
      "UN\n"
     ]
    },
    {
     "name": "stderr",
     "output_type": "stream",
     "text": [
      "\r",
      "  2%|▊                                        | 6/317 [02:22<1:57:02, 22.58s/it]"
     ]
    },
    {
     "name": "stdout",
     "output_type": "stream",
     "text": [
      "aldotcom\n"
     ]
    },
    {
     "name": "stderr",
     "output_type": "stream",
     "text": [
      "\r",
      "  2%|▉                                        | 7/317 [02:40<1:49:58, 21.29s/it]"
     ]
    },
    {
     "name": "stdout",
     "output_type": "stream",
     "text": [
      "foxnews\n"
     ]
    },
    {
     "name": "stderr",
     "output_type": "stream",
     "text": [
      "\r",
      "  3%|█                                        | 8/317 [03:02<1:50:12, 21.40s/it]"
     ]
    },
    {
     "name": "stdout",
     "output_type": "stream",
     "text": [
      "WSJ\n"
     ]
    },
    {
     "name": "stderr",
     "output_type": "stream",
     "text": [
      "\r",
      "  3%|█▏                                       | 9/317 [03:24<1:50:15, 21.48s/it]"
     ]
    },
    {
     "name": "stdout",
     "output_type": "stream",
     "text": [
      "JulianCastro\n"
     ]
    },
    {
     "name": "stderr",
     "output_type": "stream",
     "text": [
      "\r",
      "  3%|█▎                                      | 10/317 [03:51<1:59:51, 23.43s/it]"
     ]
    },
    {
     "name": "stdout",
     "output_type": "stream",
     "text": [
      "RepRaskin\n"
     ]
    },
    {
     "name": "stderr",
     "output_type": "stream",
     "text": [
      "\r",
      "  3%|█▍                                      | 11/317 [04:13<1:56:44, 22.89s/it]"
     ]
    },
    {
     "name": "stdout",
     "output_type": "stream",
     "text": [
      "OversightDems\n"
     ]
    },
    {
     "name": "stderr",
     "output_type": "stream",
     "text": [
      "\r",
      "  4%|█▌                                      | 12/317 [04:35<1:54:32, 22.53s/it]"
     ]
    },
    {
     "name": "stdout",
     "output_type": "stream",
     "text": [
      "NRSC\n"
     ]
    },
    {
     "name": "stderr",
     "output_type": "stream",
     "text": [
      "\r",
      "  4%|█▋                                      | 13/317 [04:57<1:53:07, 22.33s/it]"
     ]
    },
    {
     "name": "stdout",
     "output_type": "stream",
     "text": [
      "gmail\n"
     ]
    },
    {
     "name": "stderr",
     "output_type": "stream",
     "text": [
      "\r",
      "  4%|█▊                                      | 14/317 [05:15<1:47:05, 21.21s/it]"
     ]
    },
    {
     "name": "stdout",
     "output_type": "stream",
     "text": [
      "MSNBC\n"
     ]
    },
    {
     "name": "stderr",
     "output_type": "stream",
     "text": [
      "\r",
      "  5%|█▉                                      | 15/317 [05:43<1:56:34, 23.16s/it]"
     ]
    },
    {
     "name": "stdout",
     "output_type": "stream",
     "text": [
      "BarackObama\n"
     ]
    },
    {
     "name": "stderr",
     "output_type": "stream",
     "text": [
      "\r",
      "  5%|██                                      | 16/317 [06:05<1:54:02, 22.73s/it]"
     ]
    },
    {
     "name": "stdout",
     "output_type": "stream",
     "text": [
      "MikeBloomberg\n"
     ]
    },
    {
     "name": "stderr",
     "output_type": "stream",
     "text": [
      "\r",
      "  5%|██▏                                     | 17/317 [06:29<1:56:42, 23.34s/it]"
     ]
    },
    {
     "name": "stdout",
     "output_type": "stream",
     "text": [
      "CoryBooker\n"
     ]
    },
    {
     "name": "stderr",
     "output_type": "stream",
     "text": [
      "\r",
      "  6%|██▎                                     | 18/317 [06:51<1:53:51, 22.85s/it]"
     ]
    },
    {
     "name": "stdout",
     "output_type": "stream",
     "text": [
      "seanhannity\n"
     ]
    },
    {
     "name": "stderr",
     "output_type": "stream",
     "text": [
      "\r",
      "  6%|██▍                                     | 19/317 [07:10<1:47:12, 21.59s/it]"
     ]
    },
    {
     "name": "stdout",
     "output_type": "stream",
     "text": [
      "TenthAmendment\n"
     ]
    },
    {
     "name": "stderr",
     "output_type": "stream",
     "text": [
      "\r",
      "  6%|██▌                                     | 20/317 [07:28<1:42:30, 20.71s/it]"
     ]
    },
    {
     "name": "stdout",
     "output_type": "stream",
     "text": [
      "GOP\n"
     ]
    },
    {
     "name": "stderr",
     "output_type": "stream",
     "text": [
      "\r",
      "  7%|██▋                                     | 21/317 [07:47<1:39:03, 20.08s/it]"
     ]
    },
    {
     "name": "stdout",
     "output_type": "stream",
     "text": [
      "NHGOP\n"
     ]
    },
    {
     "name": "stderr",
     "output_type": "stream",
     "text": [
      "\r",
      "  7%|██▊                                     | 22/317 [08:06<1:36:36, 19.65s/it]"
     ]
    },
    {
     "name": "stdout",
     "output_type": "stream",
     "text": [
      "ewarren\n"
     ]
    },
    {
     "name": "stderr",
     "output_type": "stream",
     "text": [
      "\r",
      "  7%|██▉                                     | 23/317 [08:24<1:34:48, 19.35s/it]"
     ]
    },
    {
     "name": "stdout",
     "output_type": "stream",
     "text": [
      "CFPB\n"
     ]
    },
    {
     "name": "stderr",
     "output_type": "stream",
     "text": [
      "\r",
      "  8%|███                                     | 24/317 [08:43<1:33:26, 19.13s/it]"
     ]
    },
    {
     "name": "stdout",
     "output_type": "stream",
     "text": [
      "FBI\n"
     ]
    },
    {
     "name": "stderr",
     "output_type": "stream",
     "text": [
      "\r",
      "  8%|███▏                                    | 25/317 [09:02<1:32:24, 18.99s/it]"
     ]
    },
    {
     "name": "stdout",
     "output_type": "stream",
     "text": [
      "SenWarren\n"
     ]
    },
    {
     "name": "stderr",
     "output_type": "stream",
     "text": [
      "\r",
      "  8%|███▎                                    | 26/317 [09:20<1:31:34, 18.88s/it]"
     ]
    },
    {
     "name": "stdout",
     "output_type": "stream",
     "text": [
      "DonaldJTrumpJr\n"
     ]
    },
    {
     "name": "stderr",
     "output_type": "stream",
     "text": [
      "\r",
      "  9%|███▍                                    | 27/317 [09:39<1:30:53, 18.81s/it]"
     ]
    },
    {
     "name": "stdout",
     "output_type": "stream",
     "text": [
      "IvankaTrump\n"
     ]
    },
    {
     "name": "stderr",
     "output_type": "stream",
     "text": [
      "\r",
      "  9%|███▌                                    | 28/317 [09:57<1:30:19, 18.75s/it]"
     ]
    },
    {
     "name": "stdout",
     "output_type": "stream",
     "text": [
      "SenSanders\n"
     ]
    },
    {
     "name": "stderr",
     "output_type": "stream",
     "text": [
      "\r",
      "  9%|███▋                                    | 29/317 [10:16<1:29:50, 18.72s/it]"
     ]
    },
    {
     "name": "stdout",
     "output_type": "stream",
     "text": [
      "BernieSanders\n"
     ]
    },
    {
     "name": "stderr",
     "output_type": "stream",
     "text": [
      "\r",
      "  9%|███▊                                    | 30/317 [10:35<1:29:25, 18.69s/it]"
     ]
    },
    {
     "name": "stdout",
     "output_type": "stream",
     "text": [
      "Booker4KY\n"
     ]
    },
    {
     "name": "stderr",
     "output_type": "stream",
     "text": [
      "\r",
      " 10%|███▉                                    | 31/317 [10:53<1:29:02, 18.68s/it]"
     ]
    },
    {
     "name": "stdout",
     "output_type": "stream",
     "text": [
      "HoodtotheHoller\n"
     ]
    },
    {
     "name": "stderr",
     "output_type": "stream",
     "text": [
      "\r",
      " 10%|████                                    | 32/317 [11:12<1:28:44, 18.68s/it]"
     ]
    },
    {
     "name": "stdout",
     "output_type": "stream",
     "text": [
      "brotherjones_\n"
     ]
    },
    {
     "name": "stderr",
     "output_type": "stream",
     "text": [
      "\r",
      " 10%|████▏                                   | 33/317 [11:31<1:28:24, 18.68s/it]"
     ]
    },
    {
     "name": "stdout",
     "output_type": "stream",
     "text": [
      "JoeBiden\n"
     ]
    },
    {
     "name": "stderr",
     "output_type": "stream",
     "text": [
      "\r",
      " 11%|████▎                                   | 34/317 [11:49<1:28:02, 18.67s/it]"
     ]
    },
    {
     "name": "stdout",
     "output_type": "stream",
     "text": [
      "KamalaHarris\n"
     ]
    },
    {
     "name": "stderr",
     "output_type": "stream",
     "text": [
      "\r",
      " 11%|████▍                                   | 35/317 [12:08<1:27:42, 18.66s/it]"
     ]
    },
    {
     "name": "stdout",
     "output_type": "stream",
     "text": [
      "NPR\n"
     ]
    },
    {
     "name": "stderr",
     "output_type": "stream",
     "text": [
      "\r",
      " 11%|████▌                                   | 36/317 [12:27<1:27:22, 18.66s/it]"
     ]
    },
    {
     "name": "stdout",
     "output_type": "stream",
     "text": [
      "npr\n"
     ]
    },
    {
     "name": "stderr",
     "output_type": "stream",
     "text": [
      "\r",
      " 12%|████▋                                   | 37/317 [12:45<1:27:00, 18.64s/it]"
     ]
    },
    {
     "name": "stdout",
     "output_type": "stream",
     "text": [
      "ABC\n"
     ]
    },
    {
     "name": "stderr",
     "output_type": "stream",
     "text": [
      "\r",
      " 12%|████▊                                   | 38/317 [13:04<1:26:37, 18.63s/it]"
     ]
    },
    {
     "name": "stdout",
     "output_type": "stream",
     "text": [
      "davidhogg111\n"
     ]
    },
    {
     "name": "stderr",
     "output_type": "stream",
     "text": [
      "\r",
      " 12%|████▉                                   | 39/317 [13:59<2:17:22, 29.65s/it]"
     ]
    },
    {
     "name": "stdout",
     "output_type": "stream",
     "text": [
      "Newsweek\n"
     ]
    },
    {
     "name": "stderr",
     "output_type": "stream",
     "text": [
      "\r",
      " 13%|█████                                   | 40/317 [14:18<2:01:39, 26.35s/it]"
     ]
    },
    {
     "name": "stdout",
     "output_type": "stream",
     "text": [
      "msnbc\n"
     ]
    },
    {
     "name": "stderr",
     "output_type": "stream",
     "text": [
      "\r",
      " 13%|█████▏                                  | 41/317 [14:46<2:03:05, 26.76s/it]"
     ]
    },
    {
     "name": "stdout",
     "output_type": "stream",
     "text": [
      "WedgeSquared\n"
     ]
    },
    {
     "name": "stderr",
     "output_type": "stream",
     "text": [
      "\r",
      " 13%|█████▎                                  | 42/317 [15:04<1:51:30, 24.33s/it]"
     ]
    },
    {
     "name": "stdout",
     "output_type": "stream",
     "text": [
      "AOC\n"
     ]
    },
    {
     "name": "stderr",
     "output_type": "stream",
     "text": [
      "\r",
      " 14%|█████▍                                  | 43/317 [15:44<2:12:32, 29.02s/it]"
     ]
    },
    {
     "name": "stdout",
     "output_type": "stream",
     "text": [
      "LifeNewsHQ\n"
     ]
    },
    {
     "name": "stderr",
     "output_type": "stream",
     "text": [
      "\r",
      " 14%|█████▌                                  | 44/317 [16:55<3:09:01, 41.54s/it]"
     ]
    },
    {
     "name": "stdout",
     "output_type": "stream",
     "text": [
      "RandPaul\n"
     ]
    },
    {
     "name": "stderr",
     "output_type": "stream",
     "text": [
      "\r",
      " 14%|█████▋                                  | 45/317 [17:14<2:37:20, 34.71s/it]"
     ]
    },
    {
     "name": "stdout",
     "output_type": "stream",
     "text": [
      "SenTedCruz\n"
     ]
    },
    {
     "name": "stderr",
     "output_type": "stream",
     "text": [
      "\r",
      " 15%|█████▊                                  | 46/317 [17:32<2:15:00, 29.89s/it]"
     ]
    },
    {
     "name": "stdout",
     "output_type": "stream",
     "text": [
      "realDonaldTrump\n"
     ]
    },
    {
     "name": "stderr",
     "output_type": "stream",
     "text": [
      "\r",
      " 15%|█████▉                                  | 47/317 [17:51<1:59:17, 26.51s/it]"
     ]
    },
    {
     "name": "stdout",
     "output_type": "stream",
     "text": [
      "NBCNews\n"
     ]
    },
    {
     "name": "stderr",
     "output_type": "stream",
     "text": [
      "\r",
      " 15%|██████                                  | 48/317 [18:10<1:48:14, 24.14s/it]"
     ]
    },
    {
     "name": "stdout",
     "output_type": "stream",
     "text": [
      "AnnCoulter\n"
     ]
    },
    {
     "name": "stderr",
     "output_type": "stream",
     "text": [
      "\r",
      " 15%|██████▏                                 | 49/317 [18:28<1:40:26, 22.49s/it]"
     ]
    },
    {
     "name": "stdout",
     "output_type": "stream",
     "text": [
      "BillOReilly\n"
     ]
    },
    {
     "name": "stderr",
     "output_type": "stream",
     "text": [
      "\r",
      " 16%|██████▎                                 | 50/317 [18:47<1:34:55, 21.33s/it]"
     ]
    },
    {
     "name": "stdout",
     "output_type": "stream",
     "text": [
      "NoSpinNews\n"
     ]
    },
    {
     "name": "stderr",
     "output_type": "stream",
     "text": [
      "\r",
      " 16%|██████▍                                 | 51/317 [19:06<1:30:59, 20.53s/it]"
     ]
    },
    {
     "name": "stdout",
     "output_type": "stream",
     "text": [
      "TeamTrump\n"
     ]
    },
    {
     "name": "stderr",
     "output_type": "stream",
     "text": [
      "\r",
      " 16%|██████▌                                 | 52/317 [19:24<1:28:07, 19.95s/it]"
     ]
    },
    {
     "name": "stdout",
     "output_type": "stream",
     "text": [
      "EricTrump\n"
     ]
    },
    {
     "name": "stderr",
     "output_type": "stream",
     "text": [
      "\r",
      " 17%|██████▋                                 | 53/317 [19:43<1:26:01, 19.55s/it]"
     ]
    },
    {
     "name": "stdout",
     "output_type": "stream",
     "text": [
      "Trump\n"
     ]
    },
    {
     "name": "stderr",
     "output_type": "stream",
     "text": [
      "\r",
      " 17%|██████▊                                 | 54/317 [20:01<1:24:28, 19.27s/it]"
     ]
    },
    {
     "name": "stdout",
     "output_type": "stream",
     "text": [
      "LaraLeaTrump\n"
     ]
    },
    {
     "name": "stderr",
     "output_type": "stream",
     "text": [
      "\r",
      " 17%|██████▉                                 | 55/317 [20:20<1:23:17, 19.07s/it]"
     ]
    },
    {
     "name": "stdout",
     "output_type": "stream",
     "text": [
      "StJude\n"
     ]
    },
    {
     "name": "stderr",
     "output_type": "stream",
     "text": [
      "\r",
      " 18%|███████                                 | 56/317 [20:39<1:22:22, 18.94s/it]"
     ]
    },
    {
     "name": "stdout",
     "output_type": "stream",
     "text": [
      "TrumpWinery\n"
     ]
    },
    {
     "name": "stderr",
     "output_type": "stream",
     "text": [
      "\r",
      " 18%|███████▏                                | 57/317 [20:57<1:21:40, 18.85s/it]"
     ]
    },
    {
     "name": "stdout",
     "output_type": "stream",
     "text": [
      "DanForTexas\n"
     ]
    },
    {
     "name": "stderr",
     "output_type": "stream",
     "text": [
      "\r",
      " 18%|███████▎                                | 58/317 [21:16<1:21:04, 18.78s/it]"
     ]
    },
    {
     "name": "stdout",
     "output_type": "stream",
     "text": [
      "Jaybefaunt\n"
     ]
    },
    {
     "name": "stderr",
     "output_type": "stream",
     "text": [
      "\r",
      " 19%|███████▍                                | 59/317 [21:35<1:20:35, 18.74s/it]"
     ]
    },
    {
     "name": "stdout",
     "output_type": "stream",
     "text": [
      "RevBlackNetwork\n"
     ]
    },
    {
     "name": "stderr",
     "output_type": "stream",
     "text": [
      "\r",
      " 19%|███████▌                                | 60/317 [21:53<1:20:09, 18.71s/it]"
     ]
    },
    {
     "name": "stdout",
     "output_type": "stream",
     "text": [
      "_Jaybefaunt\n"
     ]
    },
    {
     "name": "stderr",
     "output_type": "stream",
     "text": [
      "\r",
      " 19%|███████▋                                | 61/317 [22:12<1:19:45, 18.69s/it]"
     ]
    },
    {
     "name": "stdout",
     "output_type": "stream",
     "text": [
      "SteveSchmidtSES\n"
     ]
    },
    {
     "name": "stderr",
     "output_type": "stream",
     "text": [
      "\r",
      " 20%|███████▊                                | 62/317 [22:31<1:19:23, 18.68s/it]"
     ]
    },
    {
     "name": "stdout",
     "output_type": "stream",
     "text": [
      "HuffPost\n"
     ]
    },
    {
     "name": "stderr",
     "output_type": "stream",
     "text": [
      "\r",
      " 20%|███████▉                                | 63/317 [22:49<1:19:01, 18.67s/it]"
     ]
    },
    {
     "name": "stdout",
     "output_type": "stream",
     "text": [
      "CPRNews\n"
     ]
    },
    {
     "name": "stderr",
     "output_type": "stream",
     "text": [
      "\r",
      " 20%|████████                                | 64/317 [23:08<1:18:39, 18.65s/it]"
     ]
    },
    {
     "name": "stdout",
     "output_type": "stream",
     "text": [
      "MsLaToshaBrown\n"
     ]
    },
    {
     "name": "stderr",
     "output_type": "stream",
     "text": [
      "\r",
      " 21%|████████▏                               | 65/317 [23:26<1:18:21, 18.66s/it]"
     ]
    },
    {
     "name": "stdout",
     "output_type": "stream",
     "text": [
      "BlackVotersMtr\n"
     ]
    },
    {
     "name": "stderr",
     "output_type": "stream",
     "text": [
      "\r",
      " 21%|████████▎                               | 66/317 [23:45<1:18:02, 18.66s/it]"
     ]
    },
    {
     "name": "stdout",
     "output_type": "stream",
     "text": [
      "nytimes\n"
     ]
    },
    {
     "name": "stderr",
     "output_type": "stream",
     "text": [
      "\r",
      " 21%|████████▍                               | 67/317 [24:04<1:17:43, 18.65s/it]"
     ]
    },
    {
     "name": "stdout",
     "output_type": "stream",
     "text": [
      "washingtonpost\n"
     ]
    },
    {
     "name": "stderr",
     "output_type": "stream",
     "text": [
      "\r",
      " 21%|████████▌                               | 68/317 [24:22<1:17:22, 18.64s/it]"
     ]
    },
    {
     "name": "stdout",
     "output_type": "stream",
     "text": [
      "DailyCaller\n"
     ]
    },
    {
     "name": "stderr",
     "output_type": "stream",
     "text": [
      "\r",
      " 22%|████████▋                               | 69/317 [24:41<1:17:00, 18.63s/it]"
     ]
    },
    {
     "name": "stdout",
     "output_type": "stream",
     "text": [
      "MichelleObama\n"
     ]
    },
    {
     "name": "stderr",
     "output_type": "stream",
     "text": [
      "\r",
      " 22%|████████▊                               | 70/317 [25:00<1:16:42, 18.63s/it]"
     ]
    },
    {
     "name": "stdout",
     "output_type": "stream",
     "text": [
      "HillaryClinton\n"
     ]
    },
    {
     "name": "stderr",
     "output_type": "stream",
     "text": [
      "\r",
      " 22%|████████▉                               | 71/317 [25:18<1:16:24, 18.64s/it]"
     ]
    },
    {
     "name": "stdout",
     "output_type": "stream",
     "text": [
      "Jim_Jordan\n"
     ]
    },
    {
     "name": "stderr",
     "output_type": "stream",
     "text": [
      "\r",
      " 23%|█████████                               | 72/317 [25:37<1:16:06, 18.64s/it]"
     ]
    },
    {
     "name": "stdout",
     "output_type": "stream",
     "text": [
      "JudiciaryGOP\n"
     ]
    },
    {
     "name": "stderr",
     "output_type": "stream",
     "text": [
      "\r",
      " 23%|█████████▏                              | 73/317 [25:56<1:15:48, 18.64s/it]"
     ]
    },
    {
     "name": "stdout",
     "output_type": "stream",
     "text": [
      "Weaponization\n"
     ]
    },
    {
     "name": "stderr",
     "output_type": "stream",
     "text": [
      "\r",
      " 23%|█████████▎                              | 74/317 [26:14<1:15:27, 18.63s/it]"
     ]
    },
    {
     "name": "stdout",
     "output_type": "stream",
     "text": [
      "TuckerCarlson\n"
     ]
    },
    {
     "name": "stderr",
     "output_type": "stream",
     "text": [
      "\r",
      " 24%|█████████▍                              | 75/317 [26:33<1:15:09, 18.63s/it]"
     ]
    },
    {
     "name": "stdout",
     "output_type": "stream",
     "text": [
      "IngrahamAngle\n"
     ]
    },
    {
     "name": "stderr",
     "output_type": "stream",
     "text": [
      "\r",
      " 24%|█████████▌                              | 76/317 [26:51<1:14:50, 18.63s/it]"
     ]
    },
    {
     "name": "stdout",
     "output_type": "stream",
     "text": [
      "wvhouse\n"
     ]
    },
    {
     "name": "stderr",
     "output_type": "stream",
     "text": [
      "\r",
      " 24%|█████████▋                              | 77/317 [27:10<1:14:30, 18.63s/it]"
     ]
    },
    {
     "name": "stdout",
     "output_type": "stream",
     "text": [
      "foxnation\n"
     ]
    },
    {
     "name": "stderr",
     "output_type": "stream",
     "text": [
      "\r",
      " 25%|█████████▊                              | 78/317 [27:29<1:14:09, 18.62s/it]"
     ]
    },
    {
     "name": "stdout",
     "output_type": "stream",
     "text": [
      "PeterGHager\n"
     ]
    },
    {
     "name": "stderr",
     "output_type": "stream",
     "text": [
      "\r",
      " 25%|█████████▉                              | 79/317 [27:47<1:13:53, 18.63s/it]"
     ]
    },
    {
     "name": "stdout",
     "output_type": "stream",
     "text": [
      "UF\n"
     ]
    },
    {
     "name": "stderr",
     "output_type": "stream",
     "text": [
      "\r",
      " 25%|██████████                              | 80/317 [28:06<1:13:32, 18.62s/it]"
     ]
    },
    {
     "name": "stdout",
     "output_type": "stream",
     "text": [
      "ReverendWarnock\n"
     ]
    },
    {
     "name": "stderr",
     "output_type": "stream",
     "text": [
      "\r",
      " 26%|██████████▏                             | 81/317 [29:01<1:56:35, 29.64s/it]"
     ]
    },
    {
     "name": "stdout",
     "output_type": "stream",
     "text": [
      "Morehouse\n"
     ]
    },
    {
     "name": "stderr",
     "output_type": "stream",
     "text": [
      "\r",
      " 26%|██████████▎                             | 82/317 [29:23<1:46:43, 27.25s/it]"
     ]
    },
    {
     "name": "stdout",
     "output_type": "stream",
     "text": [
      "TeamWarnock\n"
     ]
    },
    {
     "name": "stderr",
     "output_type": "stream",
     "text": [
      "\r",
      " 26%|██████████▍                             | 83/317 [29:42<1:36:12, 24.67s/it]"
     ]
    },
    {
     "name": "stdout",
     "output_type": "stream",
     "text": [
      "TheDemocrats\n"
     ]
    },
    {
     "name": "stderr",
     "output_type": "stream",
     "text": [
      "\r",
      " 26%|██████████▌                             | 84/317 [30:06<1:35:49, 24.68s/it]"
     ]
    },
    {
     "name": "stdout",
     "output_type": "stream",
     "text": [
      "staceyabrams\n"
     ]
    },
    {
     "name": "stderr",
     "output_type": "stream",
     "text": [
      "\r",
      " 27%|██████████▋                             | 85/317 [30:31<1:35:29, 24.70s/it]"
     ]
    },
    {
     "name": "stdout",
     "output_type": "stream",
     "text": [
      "RewiringAmerica\n"
     ]
    },
    {
     "name": "stderr",
     "output_type": "stream",
     "text": [
      "\r",
      " 27%|██████████▊                             | 86/317 [30:50<1:28:05, 22.88s/it]"
     ]
    },
    {
     "name": "stdout",
     "output_type": "stream",
     "text": [
      "HouseDemocrats\n"
     ]
    },
    {
     "name": "stderr",
     "output_type": "stream",
     "text": [
      "\r",
      " 27%|██████████▉                             | 87/317 [31:14<1:29:48, 23.43s/it]"
     ]
    },
    {
     "name": "stdout",
     "output_type": "stream",
     "text": [
      "POTUS45\n"
     ]
    },
    {
     "name": "stderr",
     "output_type": "stream",
     "text": [
      "\r",
      " 28%|███████████                             | 88/317 [31:33<1:23:54, 21.99s/it]"
     ]
    },
    {
     "name": "stdout",
     "output_type": "stream",
     "text": [
      "ericswalwell\n"
     ]
    },
    {
     "name": "stderr",
     "output_type": "stream",
     "text": [
      "\r",
      " 28%|███████████▏                            | 89/317 [31:58<1:26:40, 22.81s/it]"
     ]
    },
    {
     "name": "stdout",
     "output_type": "stream",
     "text": [
      "RepSwalwell\n"
     ]
    },
    {
     "name": "stderr",
     "output_type": "stream",
     "text": [
      "\r",
      " 28%|███████████▎                            | 90/317 [32:35<1:42:20, 27.05s/it]"
     ]
    },
    {
     "name": "stdout",
     "output_type": "stream",
     "text": [
      "HouseJudiciary\n"
     ]
    },
    {
     "name": "stderr",
     "output_type": "stream",
     "text": [
      "\r",
      " 29%|███████████▍                            | 91/317 [32:59<1:39:16, 26.36s/it]"
     ]
    },
    {
     "name": "stdout",
     "output_type": "stream",
     "text": [
      "HomelandDems\n"
     ]
    },
    {
     "name": "stderr",
     "output_type": "stream",
     "text": [
      "\r",
      " 29%|███████████▌                            | 92/317 [33:18<1:30:10, 24.05s/it]"
     ]
    },
    {
     "name": "stdout",
     "output_type": "stream",
     "text": [
      "joncoopertweets\n"
     ]
    },
    {
     "name": "stderr",
     "output_type": "stream",
     "text": [
      "\r",
      " 29%|███████████▋                            | 93/317 [33:53<1:41:58, 27.31s/it]"
     ]
    },
    {
     "name": "stdout",
     "output_type": "stream",
     "text": [
      "RepAdamSchiff\n"
     ]
    },
    {
     "name": "stderr",
     "output_type": "stream",
     "text": [
      "\r",
      " 30%|███████████▊                            | 94/317 [34:12<1:31:52, 24.72s/it]"
     ]
    },
    {
     "name": "stdout",
     "output_type": "stream",
     "text": [
      "AdamKinzinger\n"
     ]
    },
    {
     "name": "stderr",
     "output_type": "stream",
     "text": [
      "\r",
      " 30%|███████████▉                            | 95/317 [34:30<1:24:41, 22.89s/it]"
     ]
    },
    {
     "name": "stdout",
     "output_type": "stream",
     "text": [
      "AirNatlGuard\n"
     ]
    },
    {
     "name": "stderr",
     "output_type": "stream",
     "text": [
      "\r",
      " 30%|████████████                            | 96/317 [34:49<1:19:35, 21.61s/it]"
     ]
    },
    {
     "name": "stdout",
     "output_type": "stream",
     "text": [
      "country_f1rst\n"
     ]
    },
    {
     "name": "stderr",
     "output_type": "stream",
     "text": [
      "\r",
      " 31%|████████████▏                           | 97/317 [35:08<1:15:58, 20.72s/it]"
     ]
    },
    {
     "name": "stdout",
     "output_type": "stream",
     "text": [
      "nafo\n"
     ]
    },
    {
     "name": "stderr",
     "output_type": "stream",
     "text": [
      "\r",
      " 31%|████████████▎                           | 98/317 [35:26<1:13:18, 20.08s/it]"
     ]
    },
    {
     "name": "stdout",
     "output_type": "stream",
     "text": [
      "RepJeffries\n"
     ]
    },
    {
     "name": "stderr",
     "output_type": "stream",
     "text": [
      "\r",
      " 31%|████████████▍                           | 99/317 [35:45<1:11:22, 19.64s/it]"
     ]
    },
    {
     "name": "stdout",
     "output_type": "stream",
     "text": [
      "MeidasTouch\n"
     ]
    },
    {
     "name": "stderr",
     "output_type": "stream",
     "text": [
      "\r",
      " 32%|████████████▎                          | 100/317 [36:03<1:09:54, 19.33s/it]"
     ]
    },
    {
     "name": "stdout",
     "output_type": "stream",
     "text": [
      "TheRickWilson\n"
     ]
    },
    {
     "name": "stderr",
     "output_type": "stream",
     "text": [
      "\r",
      " 32%|████████████▍                          | 101/317 [36:22<1:08:48, 19.11s/it]"
     ]
    },
    {
     "name": "stdout",
     "output_type": "stream",
     "text": [
      "tedlieu\n"
     ]
    },
    {
     "name": "stderr",
     "output_type": "stream",
     "text": [
      "\r",
      " 32%|████████████▌                          | 102/317 [36:41<1:07:57, 18.96s/it]"
     ]
    },
    {
     "name": "stdout",
     "output_type": "stream",
     "text": [
      "JoyceWhiteVance\n"
     ]
    },
    {
     "name": "stderr",
     "output_type": "stream",
     "text": [
      "\r",
      " 32%|████████████▋                          | 103/317 [36:59<1:07:17, 18.87s/it]"
     ]
    },
    {
     "name": "stdout",
     "output_type": "stream",
     "text": [
      "UALawSchool\n"
     ]
    },
    {
     "name": "stderr",
     "output_type": "stream",
     "text": [
      "\r",
      " 33%|████████████▊                          | 104/317 [37:18<1:06:44, 18.80s/it]"
     ]
    },
    {
     "name": "stdout",
     "output_type": "stream",
     "text": [
      "marceelias\n"
     ]
    },
    {
     "name": "stderr",
     "output_type": "stream",
     "text": [
      "\r",
      " 33%|████████████▉                          | 105/317 [37:36<1:06:13, 18.74s/it]"
     ]
    },
    {
     "name": "stdout",
     "output_type": "stream",
     "text": [
      "DemocracyDocket\n"
     ]
    },
    {
     "name": "stderr",
     "output_type": "stream",
     "text": [
      "\r",
      " 33%|█████████████                          | 106/317 [37:55<1:05:46, 18.71s/it]"
     ]
    },
    {
     "name": "stdout",
     "output_type": "stream",
     "text": [
      "EliasLawGroup\n"
     ]
    },
    {
     "name": "stderr",
     "output_type": "stream",
     "text": [
      "\r",
      " 34%|█████████████▏                         | 107/317 [38:14<1:05:23, 18.68s/it]"
     ]
    },
    {
     "name": "stdout",
     "output_type": "stream",
     "text": [
      "donwinslow\n"
     ]
    },
    {
     "name": "stderr",
     "output_type": "stream",
     "text": [
      "\r",
      " 34%|█████████████▎                         | 108/317 [38:32<1:05:02, 18.67s/it]"
     ]
    },
    {
     "name": "stdout",
     "output_type": "stream",
     "text": [
      "natsechobbyist\n"
     ]
    },
    {
     "name": "stderr",
     "output_type": "stream",
     "text": [
      "\r",
      " 34%|█████████████▍                         | 109/317 [38:51<1:04:40, 18.66s/it]"
     ]
    },
    {
     "name": "stdout",
     "output_type": "stream",
     "text": [
      "AdamParkhomenko\n"
     ]
    },
    {
     "name": "stderr",
     "output_type": "stream",
     "text": [
      "\r",
      " 35%|█████████████▌                         | 110/317 [39:10<1:04:19, 18.64s/it]"
     ]
    },
    {
     "name": "stdout",
     "output_type": "stream",
     "text": [
      "latimes\n"
     ]
    },
    {
     "name": "stderr",
     "output_type": "stream",
     "text": [
      "\r",
      " 35%|█████████████▋                         | 111/317 [39:28<1:03:57, 18.63s/it]"
     ]
    },
    {
     "name": "stdout",
     "output_type": "stream",
     "text": [
      "mmpadellan\n"
     ]
    },
    {
     "name": "stderr",
     "output_type": "stream",
     "text": [
      "\r",
      " 35%|█████████████▊                         | 112/317 [39:47<1:03:36, 18.62s/it]"
     ]
    },
    {
     "name": "stdout",
     "output_type": "stream",
     "text": [
      "ReallyAmerican1\n"
     ]
    },
    {
     "name": "stderr",
     "output_type": "stream",
     "text": [
      "\r",
      " 36%|█████████████▉                         | 113/317 [40:05<1:03:21, 18.63s/it]"
     ]
    },
    {
     "name": "stdout",
     "output_type": "stream",
     "text": [
      "itsJeffTiedrich\n"
     ]
    },
    {
     "name": "stderr",
     "output_type": "stream",
     "text": [
      "\r",
      " 36%|██████████████                         | 114/317 [40:24<1:03:03, 18.64s/it]"
     ]
    },
    {
     "name": "stdout",
     "output_type": "stream",
     "text": [
      "RBReich\n"
     ]
    },
    {
     "name": "stderr",
     "output_type": "stream",
     "text": [
      "\r",
      " 36%|██████████████▏                        | 115/317 [40:43<1:02:42, 18.63s/it]"
     ]
    },
    {
     "name": "stdout",
     "output_type": "stream",
     "text": [
      "InequalityMedia\n"
     ]
    },
    {
     "name": "stderr",
     "output_type": "stream",
     "text": [
      "\r",
      " 37%|██████████████▎                        | 116/317 [41:01<1:02:26, 18.64s/it]"
     ]
    },
    {
     "name": "stdout",
     "output_type": "stream",
     "text": [
      "rbreich\n"
     ]
    },
    {
     "name": "stderr",
     "output_type": "stream",
     "text": [
      "\r",
      " 37%|██████████████▍                        | 117/317 [41:20<1:02:05, 18.63s/it]"
     ]
    },
    {
     "name": "stdout",
     "output_type": "stream",
     "text": [
      "TristanSnell\n"
     ]
    },
    {
     "name": "stderr",
     "output_type": "stream",
     "text": [
      "\r",
      " 37%|██████████████▌                        | 118/317 [41:39<1:01:47, 18.63s/it]"
     ]
    },
    {
     "name": "stdout",
     "output_type": "stream",
     "text": [
      "fred_guttenberg\n"
     ]
    },
    {
     "name": "stderr",
     "output_type": "stream",
     "text": [
      "\r",
      " 38%|██████████████▋                        | 119/317 [41:57<1:01:29, 18.63s/it]"
     ]
    },
    {
     "name": "stdout",
     "output_type": "stream",
     "text": [
      "JoyAnnReid\n"
     ]
    },
    {
     "name": "stderr",
     "output_type": "stream",
     "text": [
      "\r",
      " 38%|██████████████▊                        | 120/317 [42:16<1:01:19, 18.68s/it]"
     ]
    },
    {
     "name": "stdout",
     "output_type": "stream",
     "text": [
      "PalmerReport\n"
     ]
    },
    {
     "name": "stderr",
     "output_type": "stream",
     "text": [
      "\r",
      " 38%|██████████████▉                        | 121/317 [42:35<1:00:57, 18.66s/it]"
     ]
    },
    {
     "name": "stdout",
     "output_type": "stream",
     "text": [
      "LPCO\n"
     ]
    },
    {
     "name": "stderr",
     "output_type": "stream",
     "text": [
      "\r",
      " 38%|███████████████                        | 122/317 [42:53<1:00:35, 18.65s/it]"
     ]
    },
    {
     "name": "stdout",
     "output_type": "stream",
     "text": [
      "LibertarianPol\n"
     ]
    },
    {
     "name": "stderr",
     "output_type": "stream",
     "text": [
      "\r",
      " 39%|███████████████▏                       | 123/317 [43:12<1:00:16, 18.64s/it]"
     ]
    },
    {
     "name": "stdout",
     "output_type": "stream",
     "text": [
      "ProjectLincoln\n"
     ]
    },
    {
     "name": "stderr",
     "output_type": "stream",
     "text": [
      "\r",
      " 39%|███████████████▎                       | 124/317 [45:12<2:37:58, 49.11s/it]"
     ]
    },
    {
     "name": "stdout",
     "output_type": "stream",
     "text": [
      "kylegriffin1\n"
     ]
    },
    {
     "name": "stderr",
     "output_type": "stream",
     "text": [
      "\r",
      " 39%|███████████████▍                       | 125/317 [45:55<2:31:31, 47.35s/it]"
     ]
    },
    {
     "name": "stdout",
     "output_type": "stream",
     "text": [
      "TheWeekendMSNBC\n"
     ]
    },
    {
     "name": "stderr",
     "output_type": "stream",
     "text": [
      "\r",
      " 40%|███████████████▌                       | 126/317 [46:14<2:03:22, 38.76s/it]"
     ]
    },
    {
     "name": "stdout",
     "output_type": "stream",
     "text": [
      "griffinkyle\n"
     ]
    },
    {
     "name": "stderr",
     "output_type": "stream",
     "text": [
      "\r",
      " 40%|███████████████▌                       | 127/317 [46:33<1:43:35, 32.72s/it]"
     ]
    },
    {
     "name": "stdout",
     "output_type": "stream",
     "text": [
      "gtconway3d\n"
     ]
    },
    {
     "name": "stderr",
     "output_type": "stream",
     "text": [
      "\r",
      " 40%|███████████████▋                       | 128/317 [46:51<1:29:44, 28.49s/it]"
     ]
    },
    {
     "name": "stdout",
     "output_type": "stream",
     "text": [
      "chkbal\n"
     ]
    },
    {
     "name": "stderr",
     "output_type": "stream",
     "text": [
      "\r",
      " 41%|███████████████▊                       | 129/317 [47:10<1:19:58, 25.53s/it]"
     ]
    },
    {
     "name": "stdout",
     "output_type": "stream",
     "text": [
      "ajamubaraka\n"
     ]
    },
    {
     "name": "stderr",
     "output_type": "stream",
     "text": [
      "\r",
      " 41%|███████████████▉                       | 130/317 [47:28<1:13:05, 23.45s/it]"
     ]
    },
    {
     "name": "stdout",
     "output_type": "stream",
     "text": [
      "blacks4peace\n"
     ]
    },
    {
     "name": "stderr",
     "output_type": "stream",
     "text": [
      "\r",
      " 41%|████████████████                       | 131/317 [47:47<1:08:12, 22.00s/it]"
     ]
    },
    {
     "name": "stdout",
     "output_type": "stream",
     "text": [
      "briebriejoy\n"
     ]
    },
    {
     "name": "stderr",
     "output_type": "stream",
     "text": [
      "\r",
      " 42%|████████████████▏                      | 132/317 [48:06<1:04:42, 20.99s/it]"
     ]
    },
    {
     "name": "stdout",
     "output_type": "stream",
     "text": [
      "BadFaithPod\n"
     ]
    },
    {
     "name": "stderr",
     "output_type": "stream",
     "text": [
      "\r",
      " 42%|████████████████▎                      | 133/317 [48:24<1:02:11, 20.28s/it]"
     ]
    },
    {
     "name": "stdout",
     "output_type": "stream",
     "text": [
      "RisingTheHill\n"
     ]
    },
    {
     "name": "stderr",
     "output_type": "stream",
     "text": [
      "\r",
      " 42%|████████████████▍                      | 134/317 [48:43<1:00:20, 19.78s/it]"
     ]
    },
    {
     "name": "stdout",
     "output_type": "stream",
     "text": [
      "theintercept\n"
     ]
    },
    {
     "name": "stderr",
     "output_type": "stream",
     "text": [
      "\r",
      " 43%|█████████████████▍                       | 135/317 [49:02<58:56, 19.43s/it]"
     ]
    },
    {
     "name": "stdout",
     "output_type": "stream",
     "text": [
      "ProudSocialist\n"
     ]
    },
    {
     "name": "stderr",
     "output_type": "stream",
     "text": [
      "\r",
      " 43%|█████████████████▌                       | 136/317 [49:20<57:53, 19.19s/it]"
     ]
    },
    {
     "name": "stdout",
     "output_type": "stream",
     "text": [
      "AmpedUpPodcast\n"
     ]
    },
    {
     "name": "stderr",
     "output_type": "stream",
     "text": [
      "\r",
      " 43%|█████████████████▋                       | 137/317 [49:39<57:03, 19.02s/it]"
     ]
    },
    {
     "name": "stdout",
     "output_type": "stream",
     "text": [
      "carterforva\n"
     ]
    },
    {
     "name": "stderr",
     "output_type": "stream",
     "text": [
      "\r",
      " 44%|█████████████████▊                       | 138/317 [49:57<56:22, 18.89s/it]"
     ]
    },
    {
     "name": "stdout",
     "output_type": "stream",
     "text": [
      "anthonyzenkus\n"
     ]
    },
    {
     "name": "stderr",
     "output_type": "stream",
     "text": [
      "\r",
      " 44%|█████████████████▉                       | 139/317 [50:16<55:49, 18.82s/it]"
     ]
    },
    {
     "name": "stdout",
     "output_type": "stream",
     "text": [
      "DrJillStein\n"
     ]
    },
    {
     "name": "stderr",
     "output_type": "stream",
     "text": [
      "\r",
      " 44%|██████████████████                       | 140/317 [50:35<55:20, 18.76s/it]"
     ]
    },
    {
     "name": "stdout",
     "output_type": "stream",
     "text": [
      "cmkshama\n"
     ]
    },
    {
     "name": "stderr",
     "output_type": "stream",
     "text": [
      "\r",
      " 44%|██████████████████▏                      | 141/317 [50:53<54:53, 18.71s/it]"
     ]
    },
    {
     "name": "stdout",
     "output_type": "stream",
     "text": [
      "OnStrikeShow\n"
     ]
    },
    {
     "name": "stderr",
     "output_type": "stream",
     "text": [
      "\r",
      " 45%|██████████████████▎                      | 142/317 [51:12<54:29, 18.68s/it]"
     ]
    },
    {
     "name": "stdout",
     "output_type": "stream",
     "text": [
      "LeeCamp\n"
     ]
    },
    {
     "name": "stderr",
     "output_type": "stream",
     "text": [
      "\r",
      " 45%|██████████████████▍                      | 143/317 [51:31<54:07, 18.66s/it]"
     ]
    },
    {
     "name": "stdout",
     "output_type": "stream",
     "text": [
      "JordanChariton\n"
     ]
    },
    {
     "name": "stderr",
     "output_type": "stream",
     "text": [
      "\r",
      " 45%|██████████████████▌                      | 144/317 [51:49<53:47, 18.65s/it]"
     ]
    },
    {
     "name": "stdout",
     "output_type": "stream",
     "text": [
      "StatusCoup\n"
     ]
    },
    {
     "name": "stderr",
     "output_type": "stream",
     "text": [
      "\r",
      " 46%|██████████████████▊                      | 145/317 [52:08<53:27, 18.65s/it]"
     ]
    },
    {
     "name": "stdout",
     "output_type": "stream",
     "text": [
      "PeoplesParty_US\n"
     ]
    },
    {
     "name": "stderr",
     "output_type": "stream",
     "text": [
      "\r",
      " 46%|██████████████████▉                      | 146/317 [52:26<53:07, 18.64s/it]"
     ]
    },
    {
     "name": "stdout",
     "output_type": "stream",
     "text": [
      "HumanistReport\n"
     ]
    },
    {
     "name": "stderr",
     "output_type": "stream",
     "text": [
      "\r",
      " 46%|███████████████████                      | 147/317 [52:45<52:48, 18.64s/it]"
     ]
    },
    {
     "name": "stdout",
     "output_type": "stream",
     "text": [
      "OurRevolution\n"
     ]
    },
    {
     "name": "stderr",
     "output_type": "stream",
     "text": [
      "\r",
      " 47%|███████████████████▏                     | 148/317 [53:04<52:29, 18.63s/it]"
     ]
    },
    {
     "name": "stdout",
     "output_type": "stream",
     "text": [
      "RalphNader\n"
     ]
    },
    {
     "name": "stderr",
     "output_type": "stream",
     "text": [
      "\r",
      " 47%|███████████████████▎                     | 149/317 [53:22<52:09, 18.63s/it]"
     ]
    },
    {
     "name": "stdout",
     "output_type": "stream",
     "text": [
      "SarcasmStardust\n"
     ]
    },
    {
     "name": "stderr",
     "output_type": "stream",
     "text": [
      "\r",
      " 47%|███████████████████▍                     | 150/317 [53:41<51:51, 18.63s/it]"
     ]
    },
    {
     "name": "stdout",
     "output_type": "stream",
     "text": [
      "action_4assange\n"
     ]
    },
    {
     "name": "stderr",
     "output_type": "stream",
     "text": [
      "\r",
      " 48%|███████████████████▌                     | 151/317 [54:00<51:32, 18.63s/it]"
     ]
    },
    {
     "name": "stdout",
     "output_type": "stream",
     "text": [
      "SabbySabs2\n"
     ]
    },
    {
     "name": "stderr",
     "output_type": "stream",
     "text": [
      "\r",
      " 48%|███████████████████▋                     | 152/317 [54:18<51:13, 18.63s/it]"
     ]
    },
    {
     "name": "stdout",
     "output_type": "stream",
     "text": [
      "PatTheSocialist\n"
     ]
    },
    {
     "name": "stderr",
     "output_type": "stream",
     "text": [
      "\r",
      " 48%|███████████████████▊                     | 153/317 [54:37<50:54, 18.63s/it]"
     ]
    },
    {
     "name": "stdout",
     "output_type": "stream",
     "text": [
      "PunchUpPod\n"
     ]
    },
    {
     "name": "stderr",
     "output_type": "stream",
     "text": [
      "\r",
      " 49%|███████████████████▉                     | 154/317 [54:55<50:34, 18.62s/it]"
     ]
    },
    {
     "name": "stdout",
     "output_type": "stream",
     "text": [
      "LPMisesCaucus\n"
     ]
    },
    {
     "name": "stderr",
     "output_type": "stream",
     "text": [
      "\r",
      " 49%|████████████████████                     | 155/317 [55:14<50:16, 18.62s/it]"
     ]
    },
    {
     "name": "stdout",
     "output_type": "stream",
     "text": [
      "scotthortonshow\n"
     ]
    },
    {
     "name": "stderr",
     "output_type": "stream",
     "text": [
      "\r",
      " 49%|████████████████████▏                    | 156/317 [55:33<49:58, 18.62s/it]"
     ]
    },
    {
     "name": "stdout",
     "output_type": "stream",
     "text": [
      "FreemansMind96\n"
     ]
    },
    {
     "name": "stderr",
     "output_type": "stream",
     "text": [
      "\r",
      " 50%|████████████████████▎                    | 157/317 [55:51<49:40, 18.63s/it]"
     ]
    },
    {
     "name": "stdout",
     "output_type": "stream",
     "text": [
      "angela4LNCChair\n"
     ]
    },
    {
     "name": "stderr",
     "output_type": "stream",
     "text": [
      "\r",
      " 50%|████████████████████▍                    | 158/317 [56:10<49:22, 18.63s/it]"
     ]
    },
    {
     "name": "stdout",
     "output_type": "stream",
     "text": [
      "lpnational\n"
     ]
    },
    {
     "name": "stderr",
     "output_type": "stream",
     "text": [
      "\r",
      " 50%|████████████████████▌                    | 159/317 [56:29<49:02, 18.62s/it]"
     ]
    },
    {
     "name": "stdout",
     "output_type": "stream",
     "text": [
      "ThomasEWoods\n"
     ]
    },
    {
     "name": "stderr",
     "output_type": "stream",
     "text": [
      "\r",
      " 50%|████████████████████▋                    | 160/317 [56:47<48:44, 18.63s/it]"
     ]
    },
    {
     "name": "stdout",
     "output_type": "stream",
     "text": [
      "BobMurphyEcon\n"
     ]
    },
    {
     "name": "stderr",
     "output_type": "stream",
     "text": [
      "\r",
      " 51%|████████████████████▊                    | 161/317 [57:06<48:26, 18.63s/it]"
     ]
    },
    {
     "name": "stdout",
     "output_type": "stream",
     "text": [
      "infineogroup\n"
     ]
    },
    {
     "name": "stderr",
     "output_type": "stream",
     "text": [
      "\r",
      " 51%|████████████████████▉                    | 162/317 [57:24<48:07, 18.63s/it]"
     ]
    },
    {
     "name": "stdout",
     "output_type": "stream",
     "text": [
      "ToddHagopian\n"
     ]
    },
    {
     "name": "stderr",
     "output_type": "stream",
     "text": [
      "\r",
      " 51%|█████████████████████                    | 163/317 [57:43<47:48, 18.63s/it]"
     ]
    },
    {
     "name": "stdout",
     "output_type": "stream",
     "text": [
      "LPNH\n"
     ]
    },
    {
     "name": "stderr",
     "output_type": "stream",
     "text": [
      "\r",
      " 52%|█████████████████████▏                   | 164/317 [58:02<47:28, 18.62s/it]"
     ]
    },
    {
     "name": "stdout",
     "output_type": "stream",
     "text": [
      "checkmatestate\n"
     ]
    },
    {
     "name": "stderr",
     "output_type": "stream",
     "text": [
      "\r",
      " 52%|█████████████████████▎                   | 165/317 [58:20<47:11, 18.63s/it]"
     ]
    },
    {
     "name": "stdout",
     "output_type": "stream",
     "text": [
      "HannahDCox\n"
     ]
    },
    {
     "name": "stderr",
     "output_type": "stream",
     "text": [
      "\r",
      " 52%|████████████████████▍                  | 166/317 [59:25<1:21:29, 32.38s/it]"
     ]
    },
    {
     "name": "stdout",
     "output_type": "stream",
     "text": [
      "whitecoatwaste\n"
     ]
    },
    {
     "name": "stderr",
     "output_type": "stream",
     "text": [
      "\r",
      " 53%|████████████████████▌                  | 167/317 [59:43<1:10:40, 28.27s/it]"
     ]
    },
    {
     "name": "stdout",
     "output_type": "stream",
     "text": [
      "ShaneTHazel\n"
     ]
    },
    {
     "name": "stderr",
     "output_type": "stream",
     "text": [
      "\r",
      " 53%|███████████████████▌                 | 168/317 [1:00:08<1:07:33, 27.21s/it]"
     ]
    },
    {
     "name": "stdout",
     "output_type": "stream",
     "text": [
      "Swan\n"
     ]
    },
    {
     "name": "stderr",
     "output_type": "stream",
     "text": [
      "\r",
      " 53%|███████████████████▋                 | 169/317 [1:00:27<1:00:45, 24.63s/it]"
     ]
    },
    {
     "name": "stdout",
     "output_type": "stream",
     "text": [
      "LPTN1776\n"
     ]
    },
    {
     "name": "stderr",
     "output_type": "stream",
     "text": [
      "\r",
      " 54%|████████████████████▉                  | 170/317 [1:00:45<55:55, 22.82s/it]"
     ]
    },
    {
     "name": "stdout",
     "output_type": "stream",
     "text": [
      "POTUS\n"
     ]
    },
    {
     "name": "stderr",
     "output_type": "stream",
     "text": [
      "\r",
      " 54%|█████████████████████                  | 171/317 [1:01:10<56:54, 23.39s/it]"
     ]
    },
    {
     "name": "stdout",
     "output_type": "stream",
     "text": [
      "FLOTUS\n"
     ]
    },
    {
     "name": "stderr",
     "output_type": "stream",
     "text": [
      "\r",
      " 54%|█████████████████████▏                 | 172/317 [1:01:32<55:15, 22.87s/it]"
     ]
    },
    {
     "name": "stdout",
     "output_type": "stream",
     "text": [
      "WhiteHouse\n"
     ]
    },
    {
     "name": "stderr",
     "output_type": "stream",
     "text": [
      "\r",
      " 55%|█████████████████████▎                 | 173/317 [1:01:56<56:11, 23.42s/it]"
     ]
    },
    {
     "name": "stdout",
     "output_type": "stream",
     "text": [
      "PeteButtigieg\n"
     ]
    },
    {
     "name": "stderr",
     "output_type": "stream",
     "text": [
      "\r",
      " 55%|████████████████████▎                | 174/317 [1:02:52<1:18:40, 33.01s/it]"
     ]
    },
    {
     "name": "stdout",
     "output_type": "stream",
     "text": [
      "VP\n"
     ]
    },
    {
     "name": "stderr",
     "output_type": "stream",
     "text": [
      "\r",
      " 55%|████████████████████▍                | 175/317 [1:03:32<1:23:10, 35.15s/it]"
     ]
    },
    {
     "name": "stdout",
     "output_type": "stream",
     "text": [
      "DouglasEmhoff\n"
     ]
    },
    {
     "name": "stderr",
     "output_type": "stream",
     "text": [
      "\r",
      " 56%|████████████████████▌                | 176/317 [1:03:51<1:11:00, 30.21s/it]"
     ]
    },
    {
     "name": "stdout",
     "output_type": "stream",
     "text": [
      "SecondGentleman\n"
     ]
    },
    {
     "name": "stderr",
     "output_type": "stream",
     "text": [
      "\r",
      " 56%|████████████████████▋                | 177/317 [1:04:09<1:02:22, 26.73s/it]"
     ]
    },
    {
     "name": "stdout",
     "output_type": "stream",
     "text": [
      "RepThomasMassie\n"
     ]
    },
    {
     "name": "stderr",
     "output_type": "stream",
     "text": [
      "\r",
      " 56%|█████████████████████▉                 | 178/317 [1:04:28<56:18, 24.30s/it]"
     ]
    },
    {
     "name": "stdout",
     "output_type": "stream",
     "text": [
      "justinamash\n"
     ]
    },
    {
     "name": "stderr",
     "output_type": "stream",
     "text": [
      "\r",
      " 56%|██████████████████████                 | 179/317 [1:04:47<51:58, 22.60s/it]"
     ]
    },
    {
     "name": "stdout",
     "output_type": "stream",
     "text": [
      "LPNational\n"
     ]
    },
    {
     "name": "stderr",
     "output_type": "stream",
     "text": [
      "\r",
      " 57%|██████████████████████▏                | 180/317 [1:05:05<48:51, 21.40s/it]"
     ]
    },
    {
     "name": "stdout",
     "output_type": "stream",
     "text": [
      "RealSpikeCohen\n"
     ]
    },
    {
     "name": "stderr",
     "output_type": "stream",
     "text": [
      "\r",
      " 57%|██████████████████████▎                | 181/317 [1:05:24<46:38, 20.57s/it]"
     ]
    },
    {
     "name": "stdout",
     "output_type": "stream",
     "text": [
      "YATPOfficial\n"
     ]
    },
    {
     "name": "stderr",
     "output_type": "stream",
     "text": [
      "\r",
      " 57%|██████████████████████▍                | 182/317 [1:05:42<44:58, 19.99s/it]"
     ]
    },
    {
     "name": "stdout",
     "output_type": "stream",
     "text": [
      "beinlibertarian\n"
     ]
    },
    {
     "name": "stderr",
     "output_type": "stream",
     "text": [
      "\r",
      " 58%|██████████████████████▌                | 183/317 [1:06:01<43:43, 19.58s/it]"
     ]
    },
    {
     "name": "stdout",
     "output_type": "stream",
     "text": [
      "brad_polumbo\n"
     ]
    },
    {
     "name": "stderr",
     "output_type": "stream",
     "text": [
      "\r",
      " 58%|██████████████████████▋                | 184/317 [1:06:20<42:45, 19.29s/it]"
     ]
    },
    {
     "name": "stdout",
     "output_type": "stream",
     "text": [
      "DCExaminer\n"
     ]
    },
    {
     "name": "stderr",
     "output_type": "stream",
     "text": [
      "\r",
      " 58%|██████████████████████▊                | 185/317 [1:06:38<42:00, 19.09s/it]"
     ]
    },
    {
     "name": "stdout",
     "output_type": "stream",
     "text": [
      "NYPost\n"
     ]
    },
    {
     "name": "stderr",
     "output_type": "stream",
     "text": [
      "\r",
      " 59%|██████████████████████▉                | 186/317 [1:06:57<41:21, 18.94s/it]"
     ]
    },
    {
     "name": "stdout",
     "output_type": "stream",
     "text": [
      "ComicDaveSmith\n"
     ]
    },
    {
     "name": "stderr",
     "output_type": "stream",
     "text": [
      "\r",
      " 59%|███████████████████████                | 187/317 [1:07:16<40:50, 18.85s/it]"
     ]
    },
    {
     "name": "stdout",
     "output_type": "stream",
     "text": [
      "AP\n"
     ]
    },
    {
     "name": "stderr",
     "output_type": "stream",
     "text": [
      "\r",
      " 59%|███████████████████████▏               | 188/317 [1:07:34<40:22, 18.78s/it]"
     ]
    },
    {
     "name": "stdout",
     "output_type": "stream",
     "text": [
      "politico\n"
     ]
    },
    {
     "name": "stderr",
     "output_type": "stream",
     "text": [
      "\r",
      " 60%|███████████████████████▎               | 189/317 [1:07:53<39:58, 18.74s/it]"
     ]
    },
    {
     "name": "stdout",
     "output_type": "stream",
     "text": [
      "JohnFetterman\n"
     ]
    },
    {
     "name": "stderr",
     "output_type": "stream",
     "text": [
      "\r",
      " 60%|███████████████████████▍               | 190/317 [1:08:11<39:35, 18.70s/it]"
     ]
    },
    {
     "name": "stdout",
     "output_type": "stream",
     "text": [
      "funder\n"
     ]
    },
    {
     "name": "stderr",
     "output_type": "stream",
     "text": [
      "\r",
      " 60%|███████████████████████▍               | 191/317 [1:08:30<39:12, 18.67s/it]"
     ]
    },
    {
     "name": "stdout",
     "output_type": "stream",
     "text": [
      "TheDemCoalition\n"
     ]
    },
    {
     "name": "stderr",
     "output_type": "stream",
     "text": [
      "\r",
      " 61%|███████████████████████▌               | 192/317 [1:08:49<38:53, 18.67s/it]"
     ]
    },
    {
     "name": "stdout",
     "output_type": "stream",
     "text": [
      "DworkinReport\n"
     ]
    },
    {
     "name": "stderr",
     "output_type": "stream",
     "text": [
      "\r",
      " 61%|███████████████████████▋               | 193/317 [1:09:07<38:34, 18.66s/it]"
     ]
    },
    {
     "name": "stdout",
     "output_type": "stream",
     "text": [
      "DworkinWeekly\n"
     ]
    },
    {
     "name": "stderr",
     "output_type": "stream",
     "text": [
      "\r",
      " 61%|███████████████████████▊               | 194/317 [1:09:26<38:14, 18.65s/it]"
     ]
    },
    {
     "name": "stdout",
     "output_type": "stream",
     "text": [
      "glennkirschner2\n"
     ]
    },
    {
     "name": "stderr",
     "output_type": "stream",
     "text": [
      "\r",
      " 62%|███████████████████████▉               | 195/317 [1:09:45<37:54, 18.65s/it]"
     ]
    },
    {
     "name": "stdout",
     "output_type": "stream",
     "text": [
      "clairecmc\n"
     ]
    },
    {
     "name": "stderr",
     "output_type": "stream",
     "text": [
      "\r",
      " 62%|████████████████████████               | 196/317 [1:10:03<37:38, 18.66s/it]"
     ]
    },
    {
     "name": "stdout",
     "output_type": "stream",
     "text": [
      "SenatorBennet\n"
     ]
    },
    {
     "name": "stderr",
     "output_type": "stream",
     "text": [
      "\r",
      " 62%|████████████████████████▏              | 197/317 [1:10:22<37:20, 18.67s/it]"
     ]
    },
    {
     "name": "stdout",
     "output_type": "stream",
     "text": [
      "KyleClark\n"
     ]
    },
    {
     "name": "stderr",
     "output_type": "stream",
     "text": [
      "\r",
      " 62%|████████████████████████▎              | 198/317 [1:10:41<37:02, 18.67s/it]"
     ]
    },
    {
     "name": "stdout",
     "output_type": "stream",
     "text": [
      "NextOn9NEWS\n"
     ]
    },
    {
     "name": "stderr",
     "output_type": "stream",
     "text": [
      "\r",
      " 63%|████████████████████████▍              | 199/317 [1:10:59<36:43, 18.68s/it]"
     ]
    },
    {
     "name": "stdout",
     "output_type": "stream",
     "text": [
      "jaredpolis\n"
     ]
    },
    {
     "name": "stderr",
     "output_type": "stream",
     "text": [
      "\r",
      " 63%|████████████████████████▌              | 200/317 [1:11:18<36:25, 18.68s/it]"
     ]
    },
    {
     "name": "stdout",
     "output_type": "stream",
     "text": [
      "denverpost\n"
     ]
    },
    {
     "name": "stderr",
     "output_type": "stream",
     "text": [
      "\r",
      " 63%|████████████████████████▋              | 201/317 [1:11:37<36:06, 18.68s/it]"
     ]
    },
    {
     "name": "stdout",
     "output_type": "stream",
     "text": [
      "reason\n"
     ]
    },
    {
     "name": "stderr",
     "output_type": "stream",
     "text": [
      "\r",
      " 64%|████████████████████████▊              | 202/317 [1:11:55<35:47, 18.67s/it]"
     ]
    },
    {
     "name": "stdout",
     "output_type": "stream",
     "text": [
      "ReasonFdn\n"
     ]
    },
    {
     "name": "stderr",
     "output_type": "stream",
     "text": [
      "\r",
      " 64%|████████████████████████▉              | 203/317 [1:12:14<35:28, 18.67s/it]"
     ]
    },
    {
     "name": "stdout",
     "output_type": "stream",
     "text": [
      "JoForLiberty\n"
     ]
    },
    {
     "name": "stderr",
     "output_type": "stream",
     "text": [
      "\r",
      " 64%|█████████████████████████              | 204/317 [1:12:33<35:10, 18.67s/it]"
     ]
    },
    {
     "name": "stdout",
     "output_type": "stream",
     "text": [
      "people4liberty\n"
     ]
    },
    {
     "name": "stderr",
     "output_type": "stream",
     "text": [
      "\r",
      " 65%|█████████████████████████▏             | 205/317 [1:12:51<34:51, 18.67s/it]"
     ]
    },
    {
     "name": "stdout",
     "output_type": "stream",
     "text": [
      "ChaseForLiberty\n"
     ]
    },
    {
     "name": "stderr",
     "output_type": "stream",
     "text": [
      "\r",
      " 65%|█████████████████████████▎             | 206/317 [1:13:10<34:33, 18.68s/it]"
     ]
    },
    {
     "name": "stdout",
     "output_type": "stream",
     "text": [
      "BuenoForMiami\n"
     ]
    },
    {
     "name": "stderr",
     "output_type": "stream",
     "text": [
      "\r",
      " 65%|█████████████████████████▍             | 207/317 [1:13:29<34:14, 18.68s/it]"
     ]
    },
    {
     "name": "stdout",
     "output_type": "stream",
     "text": [
      "mastodon\n"
     ]
    },
    {
     "name": "stderr",
     "output_type": "stream",
     "text": [
      "\r",
      " 66%|█████████████████████████▌             | 208/317 [1:13:47<33:55, 18.68s/it]"
     ]
    },
    {
     "name": "stdout",
     "output_type": "stream",
     "text": [
      "DrBiden\n"
     ]
    },
    {
     "name": "stderr",
     "output_type": "stream",
     "text": [
      "\r",
      " 66%|█████████████████████████▋             | 209/317 [1:14:15<38:38, 21.47s/it]"
     ]
    },
    {
     "name": "stdout",
     "output_type": "stream",
     "text": [
      "SpeakerPelosi\n"
     ]
    },
    {
     "name": "stderr",
     "output_type": "stream",
     "text": [
      "\r",
      " 66%|█████████████████████████▊             | 210/317 [1:14:49<44:58, 25.22s/it]"
     ]
    },
    {
     "name": "stdout",
     "output_type": "stream",
     "text": [
      "UNC\n"
     ]
    },
    {
     "name": "stderr",
     "output_type": "stream",
     "text": [
      "\r",
      " 67%|█████████████████████████▉             | 211/317 [1:15:11<42:40, 24.16s/it]"
     ]
    },
    {
     "name": "stdout",
     "output_type": "stream",
     "text": [
      "RedState\n"
     ]
    },
    {
     "name": "stderr",
     "output_type": "stream",
     "text": [
      "\r",
      " 67%|██████████████████████████             | 212/317 [1:15:30<39:22, 22.50s/it]"
     ]
    },
    {
     "name": "stdout",
     "output_type": "stream",
     "text": [
      "KyleKulinski\n"
     ]
    },
    {
     "name": "stderr",
     "output_type": "stream",
     "text": [
      "\r",
      " 67%|██████████████████████████▏            | 213/317 [1:16:07<46:48, 27.00s/it]"
     ]
    },
    {
     "name": "stdout",
     "output_type": "stream",
     "text": [
      "davidsirota\n"
     ]
    },
    {
     "name": "stderr",
     "output_type": "stream",
     "text": [
      "\r",
      " 68%|██████████████████████████▎            | 214/317 [1:16:26<42:03, 24.50s/it]"
     ]
    },
    {
     "name": "stdout",
     "output_type": "stream",
     "text": [
      "LeverNews\n"
     ]
    },
    {
     "name": "stderr",
     "output_type": "stream",
     "text": [
      "\r",
      " 68%|██████████████████████████▍            | 215/317 [1:16:44<38:39, 22.74s/it]"
     ]
    },
    {
     "name": "stdout",
     "output_type": "stream",
     "text": [
      "EmilyforCO\n"
     ]
    },
    {
     "name": "stderr",
     "output_type": "stream",
     "text": [
      "\r",
      " 68%|██████████████████████████▌            | 216/317 [1:17:06<37:42, 22.40s/it]"
     ]
    },
    {
     "name": "stdout",
     "output_type": "stream",
     "text": [
      "krystalball\n"
     ]
    },
    {
     "name": "stderr",
     "output_type": "stream",
     "text": [
      "\r",
      " 68%|██████████████████████████▋            | 217/317 [1:17:31<38:31, 23.11s/it]"
     ]
    },
    {
     "name": "stdout",
     "output_type": "stream",
     "text": [
      "krystalmball\n"
     ]
    },
    {
     "name": "stderr",
     "output_type": "stream",
     "text": [
      "\r",
      " 69%|██████████████████████████▊            | 218/317 [1:17:50<35:55, 21.78s/it]"
     ]
    },
    {
     "name": "stdout",
     "output_type": "stream",
     "text": [
      "SocialistMMA\n"
     ]
    },
    {
     "name": "stderr",
     "output_type": "stream",
     "text": [
      "\r",
      " 69%|██████████████████████████▉            | 219/317 [1:18:23<41:31, 25.42s/it]"
     ]
    },
    {
     "name": "stdout",
     "output_type": "stream",
     "text": [
      "majorityfm\n"
     ]
    },
    {
     "name": "stderr",
     "output_type": "stream",
     "text": [
      "\r",
      " 69%|███████████████████████████            | 220/317 [1:18:46<39:27, 24.41s/it]"
     ]
    },
    {
     "name": "stdout",
     "output_type": "stream",
     "text": [
      "GunnelsWarren\n"
     ]
    },
    {
     "name": "stderr",
     "output_type": "stream",
     "text": [
      "\r",
      " 70%|███████████████████████████▏           | 221/317 [1:19:10<39:11, 24.50s/it]"
     ]
    },
    {
     "name": "stdout",
     "output_type": "stream",
     "text": [
      "DavidAFrench\n"
     ]
    },
    {
     "name": "stderr",
     "output_type": "stream",
     "text": [
      "\r",
      " 70%|███████████████████████████▎           | 222/317 [1:19:41<41:48, 26.40s/it]"
     ]
    },
    {
     "name": "stdout",
     "output_type": "stream",
     "text": [
      "lipscomb\n"
     ]
    },
    {
     "name": "stderr",
     "output_type": "stream",
     "text": [
      "\r",
      " 70%|███████████████████████████▍           | 223/317 [1:20:00<37:43, 24.08s/it]"
     ]
    },
    {
     "name": "stdout",
     "output_type": "stream",
     "text": [
      "NancyAFrench\n"
     ]
    },
    {
     "name": "stderr",
     "output_type": "stream",
     "text": [
      "\r",
      " 71%|███████████████████████████▌           | 224/317 [1:20:18<34:50, 22.48s/it]"
     ]
    },
    {
     "name": "stdout",
     "output_type": "stream",
     "text": [
      "benshapiro\n"
     ]
    },
    {
     "name": "stderr",
     "output_type": "stream",
     "text": [
      "\r",
      " 71%|███████████████████████████▋           | 225/317 [1:20:37<32:41, 21.32s/it]"
     ]
    },
    {
     "name": "stdout",
     "output_type": "stream",
     "text": [
      "benshapiroshow\n"
     ]
    },
    {
     "name": "stderr",
     "output_type": "stream",
     "text": [
      "\r",
      " 71%|███████████████████████████▊           | 226/317 [1:20:56<31:07, 20.52s/it]"
     ]
    },
    {
     "name": "stdout",
     "output_type": "stream",
     "text": [
      "BarbMcQuade\n"
     ]
    },
    {
     "name": "stderr",
     "output_type": "stream",
     "text": [
      "\r",
      " 72%|███████████████████████████▉           | 227/317 [1:21:14<29:55, 19.95s/it]"
     ]
    },
    {
     "name": "stdout",
     "output_type": "stream",
     "text": [
      "UMichLaw\n"
     ]
    },
    {
     "name": "stderr",
     "output_type": "stream",
     "text": [
      "\r",
      " 72%|████████████████████████████           | 228/317 [1:21:33<29:01, 19.57s/it]"
     ]
    },
    {
     "name": "stdout",
     "output_type": "stream",
     "text": [
      "OccupyDemocrats\n"
     ]
    },
    {
     "name": "stderr",
     "output_type": "stream",
     "text": [
      "\r",
      " 72%|████████████████████████████▏          | 229/317 [1:21:52<28:19, 19.31s/it]"
     ]
    },
    {
     "name": "stdout",
     "output_type": "stream",
     "text": [
      "robreiner\n"
     ]
    },
    {
     "name": "stderr",
     "output_type": "stream",
     "text": [
      "\r",
      " 73%|████████████████████████████▎          | 230/317 [1:22:10<27:43, 19.12s/it]"
     ]
    },
    {
     "name": "stdout",
     "output_type": "stream",
     "text": [
      "bluestein\n"
     ]
    },
    {
     "name": "stderr",
     "output_type": "stream",
     "text": [
      "\r",
      " 73%|████████████████████████████▍          | 231/317 [1:22:29<27:11, 18.98s/it]"
     ]
    },
    {
     "name": "stdout",
     "output_type": "stream",
     "text": [
      "AJC\n"
     ]
    },
    {
     "name": "stderr",
     "output_type": "stream",
     "text": [
      "\r",
      " 73%|████████████████████████████▌          | 232/317 [1:22:48<26:44, 18.88s/it]"
     ]
    },
    {
     "name": "stdout",
     "output_type": "stream",
     "text": [
      "nbcnews\n"
     ]
    },
    {
     "name": "stderr",
     "output_type": "stream",
     "text": [
      "\r",
      " 74%|████████████████████████████▋          | 233/317 [1:23:06<26:21, 18.82s/it]"
     ]
    },
    {
     "name": "stdout",
     "output_type": "stream",
     "text": [
      "politicallyga\n"
     ]
    },
    {
     "name": "stderr",
     "output_type": "stream",
     "text": [
      "\r",
      " 74%|████████████████████████████▊          | 234/317 [1:23:25<26:00, 18.80s/it]"
     ]
    },
    {
     "name": "stdout",
     "output_type": "stream",
     "text": [
      "wabenews\n"
     ]
    },
    {
     "name": "stderr",
     "output_type": "stream",
     "text": [
      "\r",
      " 74%|████████████████████████████▉          | 235/317 [1:23:44<25:37, 18.75s/it]"
     ]
    },
    {
     "name": "stdout",
     "output_type": "stream",
     "text": [
      "ossoff\n"
     ]
    },
    {
     "name": "stderr",
     "output_type": "stream",
     "text": [
      "\r",
      " 74%|█████████████████████████████          | 236/317 [1:24:02<25:16, 18.72s/it]"
     ]
    },
    {
     "name": "stdout",
     "output_type": "stream",
     "text": [
      "nprpolitics\n"
     ]
    },
    {
     "name": "stderr",
     "output_type": "stream",
     "text": [
      "\r",
      " 75%|█████████████████████████████▏         | 237/317 [1:24:21<24:57, 18.72s/it]"
     ]
    },
    {
     "name": "stdout",
     "output_type": "stream",
     "text": [
      "elonmusk\n"
     ]
    },
    {
     "name": "stderr",
     "output_type": "stream",
     "text": [
      "\r",
      " 75%|█████████████████████████████▎         | 238/317 [1:24:40<24:37, 18.70s/it]"
     ]
    },
    {
     "name": "stdout",
     "output_type": "stream",
     "text": [
      "ninaturner\n"
     ]
    },
    {
     "name": "stderr",
     "output_type": "stream",
     "text": [
      "\r",
      " 75%|█████████████████████████████▍         | 239/317 [1:24:58<24:16, 18.68s/it]"
     ]
    },
    {
     "name": "stdout",
     "output_type": "stream",
     "text": [
      "RacePowerPolicy\n"
     ]
    },
    {
     "name": "stderr",
     "output_type": "stream",
     "text": [
      "\r",
      " 76%|█████████████████████████████▌         | 240/317 [1:25:17<23:58, 18.68s/it]"
     ]
    },
    {
     "name": "stdout",
     "output_type": "stream",
     "text": [
      "jimmy_dore\n"
     ]
    },
    {
     "name": "stderr",
     "output_type": "stream",
     "text": [
      "\r",
      " 76%|█████████████████████████████▋         | 241/317 [1:25:36<23:39, 18.68s/it]"
     ]
    },
    {
     "name": "stdout",
     "output_type": "stream",
     "text": [
      "KariLake\n"
     ]
    },
    {
     "name": "stderr",
     "output_type": "stream",
     "text": [
      "\r",
      " 76%|█████████████████████████████▊         | 242/317 [1:25:54<23:20, 18.67s/it]"
     ]
    },
    {
     "name": "stdout",
     "output_type": "stream",
     "text": [
      "RoKhanna\n"
     ]
    },
    {
     "name": "stderr",
     "output_type": "stream",
     "text": [
      "\r",
      " 77%|█████████████████████████████▉         | 243/317 [1:26:13<23:02, 18.68s/it]"
     ]
    },
    {
     "name": "stdout",
     "output_type": "stream",
     "text": [
      "People4Bernie\n"
     ]
    },
    {
     "name": "stderr",
     "output_type": "stream",
     "text": [
      "\r",
      " 77%|██████████████████████████████         | 244/317 [1:26:32<22:43, 18.67s/it]"
     ]
    },
    {
     "name": "stdout",
     "output_type": "stream",
     "text": [
      "RonFilipkowski\n"
     ]
    },
    {
     "name": "stderr",
     "output_type": "stream",
     "text": [
      "\r",
      " 77%|██████████████████████████████▏        | 245/317 [1:26:51<22:26, 18.70s/it]"
     ]
    },
    {
     "name": "stdout",
     "output_type": "stream",
     "text": [
      "TPUSA\n"
     ]
    },
    {
     "name": "stderr",
     "output_type": "stream",
     "text": [
      "\r",
      " 78%|██████████████████████████████▎        | 246/317 [1:27:09<22:06, 18.68s/it]"
     ]
    },
    {
     "name": "stdout",
     "output_type": "stream",
     "text": [
      "charliekirk11\n"
     ]
    },
    {
     "name": "stderr",
     "output_type": "stream",
     "text": [
      "\r",
      " 78%|██████████████████████████████▍        | 247/317 [1:27:28<21:48, 18.69s/it]"
     ]
    },
    {
     "name": "stdout",
     "output_type": "stream",
     "text": [
      "BreitbartNews\n"
     ]
    },
    {
     "name": "stderr",
     "output_type": "stream",
     "text": [
      "\r",
      " 78%|██████████████████████████████▌        | 248/317 [1:27:47<21:29, 18.68s/it]"
     ]
    },
    {
     "name": "stdout",
     "output_type": "stream",
     "text": [
      "RepAndyBiggsAZ\n"
     ]
    },
    {
     "name": "stderr",
     "output_type": "stream",
     "text": [
      "\r",
      " 79%|██████████████████████████████▋        | 249/317 [1:28:05<21:09, 18.67s/it]"
     ]
    },
    {
     "name": "stdout",
     "output_type": "stream",
     "text": [
      "GOPoversight\n"
     ]
    },
    {
     "name": "stderr",
     "output_type": "stream",
     "text": [
      "\r",
      " 79%|██████████████████████████████▊        | 250/317 [1:28:24<20:51, 18.67s/it]"
     ]
    },
    {
     "name": "stdout",
     "output_type": "stream",
     "text": [
      "LouisianaGov\n"
     ]
    },
    {
     "name": "stderr",
     "output_type": "stream",
     "text": [
      "\r",
      " 79%|██████████████████████████████▉        | 251/317 [1:28:43<20:31, 18.66s/it]"
     ]
    },
    {
     "name": "stdout",
     "output_type": "stream",
     "text": [
      "FirstLadyofLA\n"
     ]
    },
    {
     "name": "stderr",
     "output_type": "stream",
     "text": [
      "\r",
      " 79%|███████████████████████████████        | 252/317 [1:29:01<20:12, 18.66s/it]"
     ]
    },
    {
     "name": "stdout",
     "output_type": "stream",
     "text": [
      "theadvocatebr\n"
     ]
    },
    {
     "name": "stderr",
     "output_type": "stream",
     "text": [
      "\r",
      " 80%|███████████████████████████████▏       | 253/317 [1:29:20<19:54, 18.66s/it]"
     ]
    },
    {
     "name": "stdout",
     "output_type": "stream",
     "text": [
      "ajc\n"
     ]
    },
    {
     "name": "stderr",
     "output_type": "stream",
     "text": [
      "\r",
      " 80%|███████████████████████████████▏       | 254/317 [1:29:38<19:34, 18.65s/it]"
     ]
    },
    {
     "name": "stdout",
     "output_type": "stream",
     "text": [
      "evanasmith\n"
     ]
    },
    {
     "name": "stderr",
     "output_type": "stream",
     "text": [
      "\r",
      " 80%|███████████████████████████████▎       | 255/317 [1:30:06<22:06, 21.39s/it]"
     ]
    },
    {
     "name": "stdout",
     "output_type": "stream",
     "text": [
      "emcollective\n"
     ]
    },
    {
     "name": "stderr",
     "output_type": "stream",
     "text": [
      "\r",
      " 81%|███████████████████████████████▍       | 256/317 [1:30:25<20:56, 20.60s/it]"
     ]
    },
    {
     "name": "stdout",
     "output_type": "stream",
     "text": [
      "theatlantic\n"
     ]
    },
    {
     "name": "stderr",
     "output_type": "stream",
     "text": [
      "\r",
      " 81%|███████████████████████████████▌       | 257/317 [1:30:47<20:54, 20.91s/it]"
     ]
    },
    {
     "name": "stdout",
     "output_type": "stream",
     "text": [
      "thelbjschool\n"
     ]
    },
    {
     "name": "stderr",
     "output_type": "stream",
     "text": [
      "\r",
      " 81%|███████████████████████████████▋       | 258/317 [1:31:05<19:52, 20.22s/it]"
     ]
    },
    {
     "name": "stdout",
     "output_type": "stream",
     "text": [
      "overheardpbs\n"
     ]
    },
    {
     "name": "stderr",
     "output_type": "stream",
     "text": [
      "\r",
      " 82%|███████████████████████████████▊       | 259/317 [1:31:24<19:05, 19.75s/it]"
     ]
    },
    {
     "name": "stdout",
     "output_type": "stream",
     "text": [
      "uvademocracy\n"
     ]
    },
    {
     "name": "stderr",
     "output_type": "stream",
     "text": [
      "\r",
      " 82%|███████████████████████████████▉       | 260/317 [1:31:43<18:27, 19.43s/it]"
     ]
    },
    {
     "name": "stdout",
     "output_type": "stream",
     "text": [
      "austinfilm\n"
     ]
    },
    {
     "name": "stderr",
     "output_type": "stream",
     "text": [
      "\r",
      " 82%|████████████████████████████████       | 261/317 [1:32:01<17:55, 19.21s/it]"
     ]
    },
    {
     "name": "stdout",
     "output_type": "stream",
     "text": [
      "lbjfoundation\n"
     ]
    },
    {
     "name": "stderr",
     "output_type": "stream",
     "text": [
      "\r",
      " 83%|████████████████████████████████▏      | 262/317 [1:32:20<17:26, 19.03s/it]"
     ]
    },
    {
     "name": "stdout",
     "output_type": "stream",
     "text": [
      "texastribune\n"
     ]
    },
    {
     "name": "stderr",
     "output_type": "stream",
     "text": [
      "\r",
      " 83%|████████████████████████████████▎      | 263/317 [1:32:41<17:49, 19.80s/it]"
     ]
    },
    {
     "name": "stdout",
     "output_type": "stream",
     "text": [
      "texasmonthly\n"
     ]
    },
    {
     "name": "stderr",
     "output_type": "stream",
     "text": [
      "\r",
      " 83%|████████████████████████████████▍      | 264/317 [1:33:03<17:58, 20.35s/it]"
     ]
    },
    {
     "name": "stdout",
     "output_type": "stream",
     "text": [
      "wilco\n"
     ]
    },
    {
     "name": "stderr",
     "output_type": "stream",
     "text": [
      "\r",
      " 84%|████████████████████████████████▌      | 265/317 [1:33:22<17:10, 19.82s/it]"
     ]
    },
    {
     "name": "stdout",
     "output_type": "stream",
     "text": [
      "PatrickSvitek\n"
     ]
    },
    {
     "name": "stderr",
     "output_type": "stream",
     "text": [
      "\r",
      " 84%|████████████████████████████████▋      | 266/317 [1:33:43<17:18, 20.36s/it]"
     ]
    },
    {
     "name": "stdout",
     "output_type": "stream",
     "text": [
      "WashingtonPost\n"
     ]
    },
    {
     "name": "stderr",
     "output_type": "stream",
     "text": [
      "\r",
      " 84%|████████████████████████████████▊      | 267/317 [1:34:02<16:31, 19.83s/it]"
     ]
    },
    {
     "name": "stdout",
     "output_type": "stream",
     "text": [
      "TexasTribune\n"
     ]
    },
    {
     "name": "stderr",
     "output_type": "stream",
     "text": [
      "\r",
      " 85%|████████████████████████████████▉      | 268/317 [1:34:23<16:37, 20.36s/it]"
     ]
    },
    {
     "name": "stdout",
     "output_type": "stream",
     "text": [
      "HoustonChron\n"
     ]
    },
    {
     "name": "stderr",
     "output_type": "stream",
     "text": [
      "\r",
      " 85%|█████████████████████████████████      | 269/317 [1:34:45<16:35, 20.74s/it]"
     ]
    },
    {
     "name": "stdout",
     "output_type": "stream",
     "text": [
      "washpost\n"
     ]
    },
    {
     "name": "stderr",
     "output_type": "stream",
     "text": [
      "\r",
      " 85%|█████████████████████████████████▏     | 270/317 [1:35:04<15:46, 20.13s/it]"
     ]
    },
    {
     "name": "stdout",
     "output_type": "stream",
     "text": [
      "JasmineForUS\n"
     ]
    },
    {
     "name": "stderr",
     "output_type": "stream",
     "text": [
      "\r",
      " 85%|█████████████████████████████████▎     | 271/317 [1:35:25<15:47, 20.60s/it]"
     ]
    },
    {
     "name": "stdout",
     "output_type": "stream",
     "text": [
      "NebraskaMegan\n"
     ]
    },
    {
     "name": "stderr",
     "output_type": "stream",
     "text": [
      "\r",
      " 86%|█████████████████████████████████▍     | 272/317 [1:35:47<15:40, 20.91s/it]"
     ]
    },
    {
     "name": "stdout",
     "output_type": "stream",
     "text": [
      "NebraskaMJ\n"
     ]
    },
    {
     "name": "stderr",
     "output_type": "stream",
     "text": [
      "\r",
      " 86%|█████████████████████████████████▌     | 273/317 [1:36:06<14:51, 20.25s/it]"
     ]
    },
    {
     "name": "stdout",
     "output_type": "stream",
     "text": [
      "Braves\n"
     ]
    },
    {
     "name": "stderr",
     "output_type": "stream",
     "text": [
      "\r",
      " 86%|█████████████████████████████████▋     | 274/317 [1:36:27<14:48, 20.67s/it]"
     ]
    },
    {
     "name": "stdout",
     "output_type": "stream",
     "text": [
      "ACTforAmerica\n"
     ]
    },
    {
     "name": "stderr",
     "output_type": "stream",
     "text": [
      "\r",
      " 87%|█████████████████████████████████▊     | 275/317 [1:36:49<14:41, 20.99s/it]"
     ]
    },
    {
     "name": "stdout",
     "output_type": "stream",
     "text": [
      "Marvel\n"
     ]
    },
    {
     "name": "stderr",
     "output_type": "stream",
     "text": [
      "\r",
      " 87%|█████████████████████████████████▉     | 276/317 [1:37:11<14:29, 21.21s/it]"
     ]
    },
    {
     "name": "stdout",
     "output_type": "stream",
     "text": [
      "AmyMcGrathKY\n"
     ]
    },
    {
     "name": "stderr",
     "output_type": "stream",
     "text": [
      "\r",
      " 87%|██████████████████████████████████     | 277/317 [1:37:33<14:13, 21.34s/it]"
     ]
    },
    {
     "name": "stdout",
     "output_type": "stream",
     "text": [
      "harrisonjaime\n"
     ]
    },
    {
     "name": "stderr",
     "output_type": "stream",
     "text": [
      "\r",
      " 88%|██████████████████████████████████▏    | 278/317 [1:37:54<13:55, 21.43s/it]"
     ]
    },
    {
     "name": "stdout",
     "output_type": "stream",
     "text": [
      "Lakers\n"
     ]
    },
    {
     "name": "stderr",
     "output_type": "stream",
     "text": [
      "\r",
      " 88%|██████████████████████████████████▎    | 279/317 [1:38:16<13:36, 21.49s/it]"
     ]
    },
    {
     "name": "stdout",
     "output_type": "stream",
     "text": [
      "WWE\n"
     ]
    },
    {
     "name": "stderr",
     "output_type": "stream",
     "text": [
      "\r",
      " 88%|██████████████████████████████████▍    | 280/317 [1:38:37<13:16, 21.53s/it]"
     ]
    },
    {
     "name": "stdout",
     "output_type": "stream",
     "text": [
      "willainsworthAL\n"
     ]
    },
    {
     "name": "stderr",
     "output_type": "stream",
     "text": [
      "\r",
      " 89%|██████████████████████████████████▌    | 281/317 [1:38:59<12:56, 21.56s/it]"
     ]
    },
    {
     "name": "stdout",
     "output_type": "stream",
     "text": [
      "GovernorKayIvey\n"
     ]
    },
    {
     "name": "stderr",
     "output_type": "stream",
     "text": [
      "\r",
      " 89%|██████████████████████████████████▋    | 282/317 [1:39:21<12:35, 21.59s/it]"
     ]
    },
    {
     "name": "stdout",
     "output_type": "stream",
     "text": [
      "toddcstacy\n"
     ]
    },
    {
     "name": "stderr",
     "output_type": "stream",
     "text": [
      "\r",
      " 89%|██████████████████████████████████▊    | 283/317 [1:39:39<11:43, 20.70s/it]"
     ]
    },
    {
     "name": "stdout",
     "output_type": "stream",
     "text": [
      "CapitolJournal\n"
     ]
    },
    {
     "name": "stderr",
     "output_type": "stream",
     "text": [
      "\r",
      " 90%|██████████████████████████████████▉    | 284/317 [1:39:58<11:03, 20.11s/it]"
     ]
    },
    {
     "name": "stdout",
     "output_type": "stream",
     "text": [
      "APTV\n"
     ]
    },
    {
     "name": "stderr",
     "output_type": "stream",
     "text": [
      "\r",
      " 90%|███████████████████████████████████    | 285/317 [1:40:17<10:28, 19.65s/it]"
     ]
    },
    {
     "name": "stdout",
     "output_type": "stream",
     "text": [
      "1819News\n"
     ]
    },
    {
     "name": "stderr",
     "output_type": "stream",
     "text": [
      "\r",
      " 90%|███████████████████████████████████▏   | 286/317 [1:40:35<09:59, 19.33s/it]"
     ]
    },
    {
     "name": "stdout",
     "output_type": "stream",
     "text": [
      "jeff_poor\n"
     ]
    },
    {
     "name": "stderr",
     "output_type": "stream",
     "text": [
      "\r",
      " 91%|███████████████████████████████████▎   | 287/317 [1:40:57<10:00, 20.02s/it]"
     ]
    },
    {
     "name": "stdout",
     "output_type": "stream",
     "text": [
      "fmtalk1065\n"
     ]
    },
    {
     "name": "stderr",
     "output_type": "stream",
     "text": [
      "\r",
      " 91%|███████████████████████████████████▍   | 288/317 [1:41:16<09:29, 19.62s/it]"
     ]
    },
    {
     "name": "stdout",
     "output_type": "stream",
     "text": [
      "LagniappeMobile\n"
     ]
    },
    {
     "name": "stderr",
     "output_type": "stream",
     "text": [
      "\r",
      " 91%|███████████████████████████████████▌   | 289/317 [1:41:34<09:00, 19.32s/it]"
     ]
    },
    {
     "name": "stdout",
     "output_type": "stream",
     "text": [
      "SenShelby\n"
     ]
    },
    {
     "name": "stderr",
     "output_type": "stream",
     "text": [
      "\r",
      " 91%|███████████████████████████████████▋   | 290/317 [1:41:56<09:00, 20.01s/it]"
     ]
    },
    {
     "name": "stdout",
     "output_type": "stream",
     "text": [
      "SenTuberville\n"
     ]
    },
    {
     "name": "stderr",
     "output_type": "stream",
     "text": [
      "\r",
      " 92%|███████████████████████████████████▊   | 291/317 [1:42:17<08:53, 20.50s/it]"
     ]
    },
    {
     "name": "stdout",
     "output_type": "stream",
     "text": [
      "yhn\n"
     ]
    },
    {
     "name": "stderr",
     "output_type": "stream",
     "text": [
      "\r",
      " 92%|███████████████████████████████████▉   | 292/317 [1:42:36<08:18, 19.93s/it]"
     ]
    },
    {
     "name": "stdout",
     "output_type": "stream",
     "text": [
      "MattSimpson\n"
     ]
    },
    {
     "name": "stderr",
     "output_type": "stream",
     "text": [
      "\r",
      " 92%|████████████████████████████████████   | 293/317 [1:42:55<07:49, 19.56s/it]"
     ]
    },
    {
     "name": "stdout",
     "output_type": "stream",
     "text": [
      "spann\n"
     ]
    },
    {
     "name": "stderr",
     "output_type": "stream",
     "text": [
      "\r",
      " 93%|████████████████████████████████████▏  | 294/317 [1:43:16<07:44, 20.19s/it]"
     ]
    },
    {
     "name": "stdout",
     "output_type": "stream",
     "text": [
      "RonPaul\n"
     ]
    },
    {
     "name": "stderr",
     "output_type": "stream",
     "text": [
      "\r",
      " 93%|████████████████████████████████████▎  | 295/317 [1:43:38<07:33, 20.62s/it]"
     ]
    },
    {
     "name": "stdout",
     "output_type": "stream",
     "text": [
      "RepMikeRogersAL\n"
     ]
    },
    {
     "name": "stderr",
     "output_type": "stream",
     "text": [
      "\r",
      " 93%|████████████████████████████████████▍  | 296/317 [1:44:00<07:19, 20.94s/it]"
     ]
    },
    {
     "name": "stdout",
     "output_type": "stream",
     "text": [
      "HouseCommerce\n"
     ]
    },
    {
     "name": "stderr",
     "output_type": "stream",
     "text": [
      "\r",
      " 94%|████████████████████████████████████▌  | 297/317 [1:44:18<06:44, 20.24s/it]"
     ]
    },
    {
     "name": "stdout",
     "output_type": "stream",
     "text": [
      "TomFitton\n"
     ]
    },
    {
     "name": "stderr",
     "output_type": "stream",
     "text": [
      "\r",
      " 94%|████████████████████████████████████▋  | 298/317 [1:44:40<06:32, 20.65s/it]"
     ]
    },
    {
     "name": "stdout",
     "output_type": "stream",
     "text": [
      "SebGorka\n"
     ]
    },
    {
     "name": "stderr",
     "output_type": "stream",
     "text": [
      "\r",
      " 94%|████████████████████████████████████▊  | 299/317 [1:44:59<06:00, 20.05s/it]"
     ]
    },
    {
     "name": "stdout",
     "output_type": "stream",
     "text": [
      "VernonForGA\n"
     ]
    },
    {
     "name": "stderr",
     "output_type": "stream",
     "text": [
      "\r",
      " 95%|████████████████████████████████████▉  | 300/317 [1:45:20<05:49, 20.54s/it]"
     ]
    },
    {
     "name": "stdout",
     "output_type": "stream",
     "text": [
      "AmyKremer\n"
     ]
    },
    {
     "name": "stderr",
     "output_type": "stream",
     "text": [
      "\r",
      " 95%|█████████████████████████████████████  | 301/317 [1:45:42<05:33, 20.86s/it]"
     ]
    },
    {
     "name": "stdout",
     "output_type": "stream",
     "text": [
      "GAGOP\n"
     ]
    },
    {
     "name": "stderr",
     "output_type": "stream",
     "text": [
      "\r",
      " 95%|█████████████████████████████████████▏ | 302/317 [1:46:01<05:02, 20.19s/it]"
     ]
    },
    {
     "name": "stdout",
     "output_type": "stream",
     "text": [
      "america1stwomen\n"
     ]
    },
    {
     "name": "stderr",
     "output_type": "stream",
     "text": [
      "\r",
      " 96%|█████████████████████████████████████▎ | 303/317 [1:46:22<04:48, 20.61s/it]"
     ]
    },
    {
     "name": "stdout",
     "output_type": "stream",
     "text": [
      "womenfortrump\n"
     ]
    },
    {
     "name": "stderr",
     "output_type": "stream",
     "text": [
      "\r",
      " 96%|█████████████████████████████████████▍ | 304/317 [1:46:41<04:20, 20.01s/it]"
     ]
    },
    {
     "name": "stdout",
     "output_type": "stream",
     "text": [
      "BernardKerik\n"
     ]
    },
    {
     "name": "stderr",
     "output_type": "stream",
     "text": [
      "\r",
      " 96%|█████████████████████████████████████▌ | 305/317 [1:47:02<04:06, 20.52s/it]"
     ]
    },
    {
     "name": "stdout",
     "output_type": "stream",
     "text": [
      "RepScottPerry\n"
     ]
    },
    {
     "name": "stderr",
     "output_type": "stream",
     "text": [
      "\r",
      " 97%|█████████████████████████████████████▋ | 306/317 [1:47:24<03:49, 20.86s/it]"
     ]
    },
    {
     "name": "stdout",
     "output_type": "stream",
     "text": [
      "RepJimBanks\n"
     ]
    },
    {
     "name": "stderr",
     "output_type": "stream",
     "text": [
      "\r",
      " 97%|█████████████████████████████████████▊ | 307/317 [1:47:46<03:30, 21.08s/it]"
     ]
    },
    {
     "name": "stdout",
     "output_type": "stream",
     "text": [
      "DougJones\n"
     ]
    },
    {
     "name": "stderr",
     "output_type": "stream",
     "text": [
      "\r",
      " 97%|█████████████████████████████████████▉ | 308/317 [1:48:07<03:11, 21.25s/it]"
     ]
    },
    {
     "name": "stdout",
     "output_type": "stream",
     "text": [
      "randallwoodfin\n"
     ]
    },
    {
     "name": "stderr",
     "output_type": "stream",
     "text": [
      "\r",
      " 97%|██████████████████████████████████████ | 309/317 [1:48:29<02:50, 21.37s/it]"
     ]
    },
    {
     "name": "stdout",
     "output_type": "stream",
     "text": [
      "WarOnDumb\n"
     ]
    },
    {
     "name": "stderr",
     "output_type": "stream",
     "text": [
      "\r",
      " 98%|██████████████████████████████████████▏| 310/317 [1:48:51<02:30, 21.44s/it]"
     ]
    },
    {
     "name": "stdout",
     "output_type": "stream",
     "text": [
      "RepTerriSewell\n"
     ]
    },
    {
     "name": "stderr",
     "output_type": "stream",
     "text": [
      "\r",
      " 98%|██████████████████████████████████████▎| 311/317 [1:49:12<02:09, 21.50s/it]"
     ]
    },
    {
     "name": "stdout",
     "output_type": "stream",
     "text": [
      "bshelburne\n"
     ]
    },
    {
     "name": "stderr",
     "output_type": "stream",
     "text": [
      "\r",
      " 98%|██████████████████████████████████████▍| 312/317 [1:49:34<01:47, 21.54s/it]"
     ]
    },
    {
     "name": "stdout",
     "output_type": "stream",
     "text": [
      "JohnArchibald\n"
     ]
    },
    {
     "name": "stderr",
     "output_type": "stream",
     "text": [
      "\r",
      " 99%|██████████████████████████████████████▌| 313/317 [1:49:56<01:26, 21.61s/it]"
     ]
    },
    {
     "name": "stdout",
     "output_type": "stream",
     "text": [
      "Niemanfdn\n"
     ]
    },
    {
     "name": "stderr",
     "output_type": "stream",
     "text": [
      "\r",
      " 99%|██████████████████████████████████████▋| 314/317 [1:50:14<01:02, 20.74s/it]"
     ]
    },
    {
     "name": "stdout",
     "output_type": "stream",
     "text": [
      "RepEngland70\n"
     ]
    },
    {
     "name": "stderr",
     "output_type": "stream",
     "text": [
      "\r",
      " 99%|██████████████████████████████████████▊| 315/317 [1:50:36<00:42, 21.00s/it]"
     ]
    },
    {
     "name": "stdout",
     "output_type": "stream",
     "text": [
      "Josh_Moon\n"
     ]
    },
    {
     "name": "stderr",
     "output_type": "stream",
     "text": [
      "\r",
      "100%|██████████████████████████████████████▉| 316/317 [1:50:58<00:21, 21.19s/it]"
     ]
    },
    {
     "name": "stdout",
     "output_type": "stream",
     "text": [
      "TabithaK\n"
     ]
    },
    {
     "name": "stderr",
     "output_type": "stream",
     "text": [
      "100%|███████████████████████████████████████| 317/317 [1:51:19<00:00, 21.07s/it]\n"
     ]
    }
   ],
   "source": [
    "for profile in tqdm(followers_US):\n",
    "    \n",
    "    if profile not in tweets_dict.keys():\n",
    "        print(profile)\n",
    "\n",
    "        tweets_dict[profile] = []\n",
    "\n",
    "        ### Begin scrape\n",
    "        time.sleep(3)\n",
    "\n",
    "        # Search\n",
    "        search_button = wait.until(\n",
    "            EC.presence_of_element_located((By.CSS_SELECTOR, '[aria-label=\"Search and explore\"]'))\n",
    "        )\n",
    "        search_button.click()\n",
    "        time.sleep(3)\n",
    "\n",
    "        search_bar = wait.until(\n",
    "            EC.presence_of_element_located((By.CSS_SELECTOR, '[aria-label=\"Search\"]'))\n",
    "        )\n",
    "        search_bar.click()\n",
    "        time.sleep(3)\n",
    "\n",
    "        search_query = wait.until(\n",
    "            EC.presence_of_element_located((By.CSS_SELECTOR, '[aria-label=\"Search query\"]'))\n",
    "        )\n",
    "        # Advanced search query\n",
    "        search_query.send_keys(f'(from:{profile}) min_faves:100 until:2021-01-31 since:2020-06-01 -filter:links -filter:replies')\n",
    "        search_query.send_keys(Keys.RETURN)\n",
    "        time.sleep(6)\n",
    "        \n",
    "        # Scroll until you cannot scroll anymore\n",
    "        reached_page_end = False\n",
    "        last_height = driver.execute_script(\"return document.body.scrollHeight\")\n",
    "\n",
    "        while not reached_page_end:\n",
    "            driver.execute_script(\"window.scrollTo(0, document.body.scrollHeight)\")   \n",
    "            time.sleep(3)\n",
    "            new_height = driver.execute_script(\"return document.body.scrollHeight\")\n",
    "            if last_height == new_height:\n",
    "                reached_page_end = True\n",
    "            else:\n",
    "                last_height = new_height\n",
    "        try:\n",
    "            # Select the home timeline div\n",
    "            search_results = driver.find_element(By.CSS_SELECTOR, '[aria-label=\"Timeline: Search timeline\"]')\n",
    "            # Just get all the HTML, will parse later\n",
    "            tweets_listed = search_results.get_attribute('innerHTML')\n",
    "            time.sleep(3)\n",
    "\n",
    "            # Append to dict\n",
    "            tweets_dict[profile].append(tweets_listed)\n",
    "        except:\n",
    "            pass\n",
    "\n"
   ]
  },
  {
   "cell_type": "code",
   "execution_count": 31,
   "id": "70948d38",
   "metadata": {},
   "outputs": [],
   "source": [
    "driver.quit()"
   ]
  },
  {
   "cell_type": "code",
   "execution_count": 32,
   "id": "97adfdd4",
   "metadata": {},
   "outputs": [],
   "source": [
    "with open(\"US_tweets.json\", 'w') as file:\n",
    "    json.dump(tweets_dict, file)"
   ]
  },
  {
   "cell_type": "code",
   "execution_count": null,
   "id": "862b1fcb",
   "metadata": {},
   "outputs": [],
   "source": []
  }
 ],
 "metadata": {
  "kernelspec": {
   "display_name": "Python 3 (ipykernel)",
   "language": "python",
   "name": "python3"
  },
  "language_info": {
   "codemirror_mode": {
    "name": "ipython",
    "version": 3
   },
   "file_extension": ".py",
   "mimetype": "text/x-python",
   "name": "python",
   "nbconvert_exporter": "python",
   "pygments_lexer": "ipython3",
   "version": "3.10.9"
  }
 },
 "nbformat": 4,
 "nbformat_minor": 5
}
