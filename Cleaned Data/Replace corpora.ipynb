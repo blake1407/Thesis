{
 "cells": [
  {
   "cell_type": "code",
   "execution_count": 3,
   "metadata": {},
   "outputs": [],
   "source": [
    "from dataclasses import dataclass, field  # Import field\n",
    "import csv\n",
    "import os\n",
    "import random\n",
    "import pandas as pd\n",
    "import ast\n",
    "import numpy as np\n",
    "import re"
   ]
  },
  {
   "cell_type": "code",
   "execution_count": 4,
   "metadata": {},
   "outputs": [],
   "source": [
    "status = \"After\"\n",
    "# Load in existing Ledger file\n",
    "ledger = pd.read_csv(f\"{status}_NN_Cleaned_full.csv\") \n",
    "df = pd.read_csv(f\"{status}_NN_Cleaned.csv\") \n",
    "ledger_records = ledger.to_dict(orient='records')\n",
    "\n",
    "ledger_dict = {}\n",
    "\n",
    "for l in ledger_records:\n",
    "    ledger_dict[l['Tweet ID']] = l[f'{status} Corpus']\n",
    "\n",
    "df[f\"{status}_Corpus\"] = df[\"Tweet_ID\"].map(ledger_dict)\n",
    "\n",
    "df.to_csv(f\"{status}_NN_Cleaned.csv\",index=False)\n"
   ]
  }
 ],
 "metadata": {
  "kernelspec": {
   "display_name": "Python 3",
   "language": "python",
   "name": "python3"
  },
  "language_info": {
   "codemirror_mode": {
    "name": "ipython",
    "version": 3
   },
   "file_extension": ".py",
   "mimetype": "text/x-python",
   "name": "python",
   "nbconvert_exporter": "python",
   "pygments_lexer": "ipython3",
   "version": "3.12.1"
  }
 },
 "nbformat": 4,
 "nbformat_minor": 2
}
