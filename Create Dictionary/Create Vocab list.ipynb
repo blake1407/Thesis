{
 "cells": [
  {
   "cell_type": "code",
   "execution_count": 56,
   "metadata": {},
   "outputs": [],
   "source": [
    "#Create Vocabulary dataframe with Category\n",
    "import csv\n",
    "import json\n",
    "import pandas as pd\n",
    "from collections import defaultdict\n"
   ]
  },
  {
   "cell_type": "code",
   "execution_count": 57,
   "metadata": {},
   "outputs": [],
   "source": [
    "vectors = {}\n",
    "with open(\"Create Dictionary/Kurdi, Mann, Charlesworth, & Banaji (2018) Vectors.csv\", \"r\") as f:\n",
    "\ti = 0\n",
    "\tfor database, category, word, vector in csv.reader(f):\n",
    "\t\tif i > 0:\n",
    "\t\t\tif database not in vectors.keys():\n",
    "\t\t\t\tvectors[database] = {}\n",
    "\t\t\tif category not in vectors[database].keys():\n",
    "\t\t\t\tvectors[database][category] = {}\n",
    "\t\t\tvectors[database][category][word] = json.loads(vector)\n",
    "\t\ti += 1"
   ]
  },
  {
   "cell_type": "code",
   "execution_count": null,
   "metadata": {},
   "outputs": [],
   "source": [
    "word_dict = defaultdict(list)\n",
    "\n",
    "# for category in vectors[database]:\n",
    "#     for word in vectors[database][category]:\n",
    "#         word_dict[category].append(word)\n",
    "\n",
    "word_dict = {f\"{category}: {word}\" \n",
    "             for category in vectors[database] \n",
    "             for word in vectors[database][category]}\n",
    "\n",
    "df = pd.DataFrame([entry.split(\": \") for entry in word_dict], \n",
    "                 columns=[\"Category\", \"Word\"])\n",
    "df.head()\n",
    "df.to_csv(\"Create Dictionary/Raw_vocab_dictionary.csv\", index=False)\n"
   ]
  }
 ],
 "metadata": {
  "kernelspec": {
   "display_name": "Python 3",
   "language": "python",
   "name": "python3"
  },
  "language_info": {
   "codemirror_mode": {
    "name": "ipython",
    "version": 3
   },
   "file_extension": ".py",
   "mimetype": "text/x-python",
   "name": "python",
   "nbconvert_exporter": "python",
   "pygments_lexer": "ipython3",
   "version": "3.12.1"
  }
 },
 "nbformat": 4,
 "nbformat_minor": 2
}
