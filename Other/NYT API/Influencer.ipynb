{
 "cells": [
  {
   "cell_type": "code",
   "execution_count": 38,
   "metadata": {},
   "outputs": [],
   "source": [
    "import csv\n",
    "import os"
   ]
  },
  {
   "cell_type": "code",
   "execution_count": 43,
   "metadata": {},
   "outputs": [
    {
     "name": "stdout",
     "output_type": "stream",
     "text": [
      "[\"['Biden, Joseph R Jr']\", \"['Netanyahu, Benjamin']\", \"['Biden, Joseph R Jr', 'Mohammed bin Salman (1985- )']\", \"['Trump, Donald J', 'DeSantis, Ron', 'Biden, Joseph R Jr']\", \"['Biden, Joseph R Jr', 'Blinken, Antony J']\", \"['Netanyahu, Benjamin', 'Biden, Joseph R Jr']\", \"['Jordan, Jim (1964- )', 'McCarthy, Kevin (1965- )', 'Scalise, Steve']\", \"['ABBAS, MAHMOUD']\", \"['Biden, Joseph R Jr', 'Netanyahu, Benjamin', 'Deif, Muhammad']\", \"['Trump, Donald J', 'Ramaswamy, Vivek (1985- )', 'Biden, Joseph R Jr']\", \"['Austin, Lloyd J III', 'Biden, Joseph R Jr', 'Netanyahu, Benjamin']\", \"['Biden, Joseph R Jr', 'Scalise, Steve', 'Jordan, Jim (1964- )', 'Musk, Elon']\", \"['Xi Jinping']\", \"['Booker, Cory A', 'Goldman, Daniel S']\", \"['Trump, Donald J']\", \"['Biden, Joseph R Jr', 'Netanyahu, Benjamin', 'Blinken, Antony J']\", \"['ABDULLAH II, KING OF JORDAN', 'Mohammed bin Salman (1985- )']\", \"['Blinken, Antony J', 'Mohammed bin Salman (1985- )', 'Biden, Joseph R Jr']\", \"['Zelensky, Volodymyr']\", \"['Biden, Joseph R Jr', 'Netanyahu, Benjamin']\", \"['Shalit, Gilad']\", \"['Netanyahu, Benjamin', 'Shalit, Gilad']\", \"['Biden, Joseph R Jr', 'Bush, Cori', 'Gottheimer, Joshua S (1975- )', 'Tlaib, Rashida']\", \"['McCarthy, Kevin (1965- )', 'Trump, Donald J', 'Biden, Joseph R Jr']\", \"['McCarthy, Kevin (1965- )', 'Scalise, Steve', 'Jordan, Jim (1964- )']\", \"['Yellen, Janet L']\"]\n"
     ]
    }
   ],
   "source": [
    "# Path to your file\n",
    "file_path = r\"Political Influencer_NYT_20231007_20231010\"\n",
    "\n",
    "# Open and read the CSV file\n",
    "with open(file_path, mode='r', newline='', encoding='utf-8') as file:\n",
    "    influencers = []\n",
    "    influencers_column = []\n",
    "    reader = csv.reader(file)\n",
    "    \n",
    "    # Loop through and print the rows\n",
    "    for line in reader:\n",
    "        influencers_column.append(line[2])\n",
    "        influencers = influencers_column[1:]\n",
    "\n",
    "# print(influencers)\n",
    "\n",
    "filtered = []\n",
    "\n",
    "for i in influencers:\n",
    "    if i != '[]' and i not in filtered:\n",
    "        filtered.append(i)\n",
    "print(filtered)\n",
    "\n",
    "for "
   ]
  }
 ],
 "metadata": {
  "kernelspec": {
   "display_name": "Python 3",
   "language": "python",
   "name": "python3"
  },
  "language_info": {
   "codemirror_mode": {
    "name": "ipython",
    "version": 3
   },
   "file_extension": ".py",
   "mimetype": "text/x-python",
   "name": "python",
   "nbconvert_exporter": "python",
   "pygments_lexer": "ipython3",
   "version": "3.11.9"
  }
 },
 "nbformat": 4,
 "nbformat_minor": 2
}
