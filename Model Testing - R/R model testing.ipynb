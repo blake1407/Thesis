{
 "cells": [
  {
   "cell_type": "markdown",
   "metadata": {},
   "source": [
    "Sentiment:\n",
    "Model1 = lmer(Sentiment_negative ~ Ethnorace*Political_Influencer*Day + (1+ Ethnorace*Political_Influencer*Day |Handle), data=data)\n",
    "\n",
    "Model2 = lmer(Sentiment_positive ~ Ethnorace*Political_Influencer*Day + (1+ Ethnorace*Political_Influencer*Day |Handle), data=data)\n",
    "\n",
    "Stereotyping:\n",
    "Model3 = lmer(Stereotyping_warm ~ Ethnorace*Political_Influencer*Day + (1+ Ethnorace*Political_Influencer*Day |Handle), data=data)\n",
    "\n",
    "Model4 = lmer(Stereotyping_cold ~ Ethnorace*Political_Influencer*Day + (1+ Ethnorace*Political_Influencer*Day |Handle), data=data)\n",
    "\n",
    "Model5 = lmer(Stereotyping_competent ~ Ethnorace*Political_Influencer*Day + (1+ Ethnorace*Political_Influencer*Day |Handle), data=data)\n",
    "\n",
    "Model6 = lmer(Stereotyping_incompetent ~ Ethnorace*Political_Influencer*Day + (1+ Ethnorace*Political_Influencer*Day |Handle), data=data)\n",
    "\n",
    "Hate Speech:\n",
    "Model7 = lmer(Hate Speech ~ Ethnorace*Political_Influencer*Day + (1+ Ethnorace*Political_Influencer*Day |Handle), data=data)\n",
    "where,"
   ]
  },
  {
   "cell_type": "markdown",
   "metadata": {},
   "source": [
    "mod_negsentiment = lmer(tone_neg ~ Ethnorace*Affiliation_Contrast*Condition_Contrast + (1+ Ethnorace*Affiliation_Contrast*Condition_Contrast |Subject_ID), data=data)"
   ]
  },
  {
   "cell_type": "markdown",
   "metadata": {},
   "source": [
    "stats::lm(formula = tone_neg ~ 1 + Ethnorace + Affiliation_Contrast + \n",
    "    Condition_Contrast + Affiliation_Contrast:Condition_Contrast, \n",
    "    data = data)\n",
    "\n",
    "Coefficients:\n",
    "                            (Intercept)                                Ethnorace                     Affiliation_Contrast  \n",
    "                                4.51310                                  1.36732                                  0.09424  \n",
    "                     Condition_Contrast  Affiliation_Contrast:Condition_Contrast  \n",
    "                               -0.33969                                 -4.42842  "
   ]
  },
  {
   "cell_type": "markdown",
   "metadata": {},
   "source": [
    "mod_possentiment = lmer(tone_pos ~ Ethnorace*Affiliation_Contrast*Condition_Contrast + (1+ Ethnorace*Affiliation_Contrast*Condition_Contrast |Subject_ID), data=data)"
   ]
  },
  {
   "cell_type": "markdown",
   "metadata": {},
   "source": [
    "stats::lm(formula = tone_pos ~ 1 + Ethnorace, data = data)\n",
    "\n",
    "Coefficients:\n",
    "(Intercept)    Ethnorace  \n",
    "     2.1202      -0.1039  "
   ]
  },
  {
   "cell_type": "markdown",
   "metadata": {},
   "source": [
    "mod_warmstereotype = lmer(prop_Warm ~ Ethnorace*Affiliation_Contrast*Condition_Contrast + (1+ Ethnorace*Affiliation_Contrast*Condition_Contrast |Subject_ID), data=data)\n"
   ]
  },
  {
   "cell_type": "markdown",
   "metadata": {},
   "source": [
    "stats::lm(formula = prop_Warm ~ 1 + Affiliation_Contrast + Condition_Contrast + \n",
    "    Affiliation_Contrast:Condition_Contrast, data = data)\n",
    "\n",
    "Coefficients:\n",
    "                            (Intercept)                     Affiliation_Contrast  \n",
    "                              0.0040652                               -0.0033450  \n",
    "                     Condition_Contrast  Affiliation_Contrast:Condition_Contrast  \n",
    "                              0.0007673                               -0.0089043  "
   ]
  },
  {
   "cell_type": "markdown",
   "metadata": {},
   "source": [
    "mod_coldstereotype = lmer(prop_Cold ~ Ethnorace*Affiliation_Contrast*Condition_Contrast + (1+ Ethnorace*Affiliation_Contrast*Condition_Contrast |Subject_ID), data=data)\n"
   ]
  },
  {
   "cell_type": "markdown",
   "metadata": {},
   "source": [
    "stats::lm(formula = prop_Cold ~ 1, data = data)\n",
    "\n",
    "Coefficients:\n",
    "(Intercept)  \n",
    "   0.003252  "
   ]
  },
  {
   "cell_type": "markdown",
   "metadata": {},
   "source": [
    "mod_compstereotype = lmer(prop_Competence ~ Ethnorace*Affiliation_Contrast*Condition_Contrast + (1+ Ethnorace*Affiliation_Contrast*Condition_Contrast |Subject_ID), data=data)\n"
   ]
  },
  {
   "cell_type": "markdown",
   "metadata": {},
   "source": [
    "stats::lm(formula = prop_Competence ~ 1, data = data)\n",
    "\n",
    "Coefficients:\n",
    "(Intercept)  \n",
    "   0.005097  "
   ]
  },
  {
   "cell_type": "markdown",
   "metadata": {},
   "source": [
    "mod_incompstereotype = lmer(prop_Incompetence ~ Ethnorace*Affiliation_Contrast*Condition_Contrast + (1+ Ethnorace*Affiliation_Contrast*Condition_Contrast |Subject_ID), data=data)\n"
   ]
  },
  {
   "cell_type": "markdown",
   "metadata": {},
   "source": [
    "stats::lm(formula = prop_Incompetence ~ 1, data = data)\n",
    "\n",
    "Coefficients:\n",
    "(Intercept)  \n",
    "   0.002995 "
   ]
  }
 ],
 "metadata": {
  "kernelspec": {
   "display_name": "Python 3",
   "language": "python",
   "name": "python3"
  },
  "language_info": {
   "name": "python",
   "version": "3.8.10"
  }
 },
 "nbformat": 4,
 "nbformat_minor": 2
}
