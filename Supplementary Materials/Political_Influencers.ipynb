{
 "cells": [
  {
   "cell_type": "code",
   "execution_count": 23,
   "metadata": {},
   "outputs": [],
   "source": [
    "import csv    "
   ]
  },
  {
   "cell_type": "code",
   "execution_count": 39,
   "metadata": {},
   "outputs": [
    {
     "name": "stdout",
     "output_type": "stream",
     "text": [
      "[25, 16, 14, 13, 12, 11, 10, 9, 8, 7, 6, 5, 4, 3]\n",
      "@RevBlackNetwork\n",
      "@TheDemocrats\n",
      "@msnbc\n",
      "@FoxNews\n",
      "@TheAtlantic\n",
      "@aldotcom\n",
      "@JudiciaryGOP\n",
      "@MSNBC\n",
      "@NBCNews\n",
      "@RandPaul\n",
      "@politico\n",
      "@joncoopertweets\n",
      "@HomelandDems\n",
      "@HouseJudiciary\n",
      "@RepSwalwell\n",
      "@NPR\n",
      "@CNN\n",
      "@LPMisesCaucus\n",
      "@RealSpikeCohen\n",
      "@YATPOfficial\n",
      "@justinamash\n",
      "@tedlieu\n",
      "@LPNational\n",
      "@ToddHagopian\n",
      "@theintercept\n",
      "25\n"
     ]
    }
   ],
   "source": [
    "file_path = '/Users/blakey/Desktop/Reddit-JSON-Parser/followers_following_party_US.csv'\n",
    "account = []\n",
    "followers = []\n",
    "with open(file_path, 'r') as file:\n",
    "    csvFile = csv.reader(file)\n",
    "    header = next(csvFile)\n",
    "    for line in csvFile: \n",
    "        a = line[0]\n",
    "        f = int(line[4])\n",
    "        if a not in account:\n",
    "            account.append(a)\n",
    "            followers.append(f)\n",
    "# print(followers)\n",
    "\n",
    "#Remove duplicates\n",
    "sorted = [] \n",
    "for number in followers:\n",
    "    if number not in sorted:\n",
    "        sorted.append(number)\n",
    "\n",
    "sorted.sort(reverse=True) #Sort number from biggest to smallest\n",
    "print(sorted)\n",
    "\n",
    "count = 0\n",
    "for a, f in zip(account, followers):\n",
    "    if 25 > f > 7:\n",
    "        print(a)\n",
    "        count+=1\n",
    "print(count)\n",
    "\n"
   ]
  },
  {
   "cell_type": "code",
   "execution_count": 49,
   "metadata": {},
   "outputs": [
    {
     "name": "stdout",
     "output_type": "stream",
     "text": [
      "Gaza*\n",
      "OR Israel*\n",
      "OR (West AND Bank)\n",
      "OR (Tel AND Aviv)\n",
      "OR (Tel AND Aviv-Yafo)\n",
      "OR Bedouin*\n",
      "OR Palestin*\n",
      "OR Middle East*\n",
      "OR Middle Eastern\n",
      "OR Jew*\n",
      "OR rabbi\n",
      "OR Muslim*\n",
      "OR Islam*\n",
      "OR Jihad\n",
      "OR Antisemiti*\n",
      "OR Zionis*\n",
      "OR IDF\n",
      "OR IOF\n",
      "OR (Israeli AND Defense AND Forces) OR (Israeli AND Occupation AND Forces)\n",
      "OR Hamas\n",
      "OR Massacre\n",
      "OR Genocide\n",
      "OR Ceasefire\n",
      "OR Terroris*\n",
      "OR Netanyahu\n",
      "OR Histadrut\n",
      "OR Haniyeh\n",
      "OR Yahya Sinwar\n",
      "OR Fatah\n",
      "OR Mohammed DeifOR \n"
     ]
    }
   ],
   "source": [
    "file_path = '/Users/blakey/Desktop/Reddit-JSON-Parser/official_keyword'\n",
    "\n",
    "string = \"\"\n",
    "with open(file_path, 'r') as file:\n",
    "    for line in file:\n",
    "        string = string + line + \"OR \"\n",
    "\n",
    "print(string.strip(f\"\\n\"))"
   ]
  }
 ],
 "metadata": {
  "kernelspec": {
   "display_name": "Python 3",
   "language": "python",
   "name": "python3"
  },
  "language_info": {
   "codemirror_mode": {
    "name": "ipython",
    "version": 3
   },
   "file_extension": ".py",
   "mimetype": "text/x-python",
   "name": "python",
   "nbconvert_exporter": "python",
   "pygments_lexer": "ipython3",
   "version": "3.12.1"
  }
 },
 "nbformat": 4,
 "nbformat_minor": 2
}
