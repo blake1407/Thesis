{
 "cells": [
  {
   "cell_type": "code",
   "execution_count": 44,
   "id": "ff4fd40d",
   "metadata": {},
   "outputs": [],
   "source": [
    "from urllib.request import urlopen  \n",
    "from tqdm import tqdm\n",
    "from lxml import html\n",
    "from datetime import datetime\n",
    "from collections import Counter\n",
    "import json\n",
    "import requests\n",
    "import time\n",
    "import re\n",
    "# from screeninfo import get_monitors\n",
    "import pandas as pd\n",
    "import random\n",
    "import os\n",
    "import ast\n",
    "\n",
    "from selenium import webdriver\n",
    "from selenium.webdriver.common.by import By\n",
    "from selenium.webdriver.support.ui import WebDriverWait\n",
    "from selenium.webdriver.support import expected_conditions as EC\n",
    "from selenium.common.exceptions import TimeoutException, NoSuchElementException\n",
    "from selenium.webdriver.common.keys import Keys\n",
    "from bs4 import BeautifulSoup"
   ]
  },
  {
   "cell_type": "markdown",
   "id": "3cfe0483",
   "metadata": {},
   "source": [
    "# US"
   ]
  },
  {
   "cell_type": "code",
   "execution_count": 45,
   "id": "6cef141a",
   "metadata": {},
   "outputs": [
    {
     "name": "stdout",
     "output_type": "stream",
     "text": [
      "['denverpost', 'action_4assange', 'CapitolJournal', 'politicallyga', 'fred_guttenberg', 'AmpedUpPodcast', 'LeeCamp', 'JordanChariton', 'TheDemCoalition', 'DworkinReport', 'WarOnDumb', 'NPR', 'TPUSA', 'mmpadellan', 'charliekirk11', 'robreiner', 'davidsirota', 'blacks4peace', 'people4liberty', 'HouseDemocrats', 'TeamWarnock', 'BadFaithPod', 'kylegriffin1', 'PalmerReport', 'StatusCoup', 'POLITICO', 'marceelias', 'TuckerCarlson', 'DworkinWeekly', 'elonmusk', 'EliasLawGroup', 'JoyAnnReid', '1819News', 'itsJeffTiedrich', 'RacePowerPolicy', 'chkbal', 'wabenews', 'bluestein', 'UALawSchool', 'OccupyDemocrats', 'toddcstacy', 'krystalball', 'SarcasmStardust', 'GunnelsWarren', 'ABC', 'LeverNews', 'AnnCoulter', 'TexasTribune', 'RedState', 'DemocracyDocket', 'SteveSchmidtSES', 'TheWeekendMSNBC', 'SocialistMMA', 'ajamubaraka', 'AJC', 'gtconway3d']\n",
      "Number of followers to process: 56\n"
     ]
    }
   ],
   "source": [
    "#replace as needed\n",
    "folder_name = \"Supplementary Materials\"\n",
    "followers_path = os.path.join(folder_name, \"followers_US.txt\")\n",
    "completed_path = os.path.join(folder_name, \"completed_accounts\")\n",
    "\n",
    "followers_US = []\n",
    "# with open(r'''X\\followers_US.txt''', 'r') as f: # PC\n",
    "with open(followers_path,'r') as f: #List of accounts from raw followers list\n",
    "    for line in f:\n",
    "        if \"@\" in line:\n",
    "            follower = line.strip()[1:]\n",
    "            if follower not in followers_US:\n",
    "                # print(follower)\n",
    "                followers_US.append(follower)\n",
    "f.close()\n",
    "\n",
    "with open(completed_path, 'r') as f: #Get list of accounts that are completed\n",
    "    for line in f:\n",
    "        if line.startswith('total'):\n",
    "            completed_list = ast.literal_eval(line[8:])\n",
    "\n",
    "#Filter out the ones that are completed\n",
    "followers_US_set = set(followers_US)\n",
    "followers_US = [f for f in followers_US_set if f not in completed_list]\n",
    "\n",
    "print(followers_US)\n",
    "\n",
    "print(f\"Number of followers to process: {len(followers_US)}\")"
   ]
  },
  {
   "cell_type": "code",
   "execution_count": 46,
   "id": "3565ce3b",
   "metadata": {},
   "outputs": [],
   "source": [
    "tweets_dict_US = {}\n",
    "\n",
    "# Function to check if the Fetch More button is present\n",
    "def is_element_present(driver, xpath):\n",
    "    try:\n",
    "        element = driver.find_element(By.XPATH, xpath)\n",
    "        return element.is_displayed()\n",
    "    except NoSuchElementException:\n",
    "        return False"
   ]
  },
  {
   "cell_type": "code",
   "execution_count": 47,
   "id": "1c11ae3f",
   "metadata": {},
   "outputs": [
    {
     "name": "stderr",
     "output_type": "stream",
     "text": [
      "The chromedriver version (128.0.6613.137) detected in PATH at /usr/local/bin/chromedriver might not be compatible with the detected chrome version (129.0.6668.70); currently, chromedriver 129.0.6668.70 is recommended for chrome 129.*, so it is advised to delete the driver in PATH and retry\n"
     ]
    }
   ],
   "source": [
    "driver = webdriver.Chrome()\n",
    "driver.get('https://twitter.com/i/flow/login')\n",
    "wait = WebDriverWait(driver, 10)\n"
   ]
  },
  {
   "cell_type": "code",
   "execution_count": 48,
   "id": "6f177a2f",
   "metadata": {},
   "outputs": [],
   "source": [
    "### Log in\n",
    "\n",
    "# Username\n",
    "username = wait.until(\n",
    "    EC.presence_of_element_located((By.CSS_SELECTOR, 'input[autocomplete=username]'))\n",
    ")\n",
    "username.send_keys(\"rigautam@udel.edu\")\n",
    "time.sleep(3)\n",
    "login_button = wait.until(\n",
    "    EC.presence_of_element_located((By.CSS_SELECTOR, '[role=button].r-13qz1uu'))\n",
    ")\n",
    "login_button.click()\n",
    "time.sleep(3)\n",
    "\n",
    "try: \n",
    "    # Password\n",
    "    password = wait.until(\n",
    "        EC.presence_of_element_located((By.CSS_SELECTOR, '[type=password]'))\n",
    "    )\n",
    "    password.send_keys(\"Sus1234!\")\n",
    "    time.sleep(3)\n",
    "    login_button = wait.until(\n",
    "        EC.presence_of_element_located((By.CSS_SELECTOR, '[data-testid*=Login_Button]'))\n",
    "    )\n",
    "    login_button.click()\n",
    "    time.sleep(3)\n",
    "    \n",
    "except: # if we get an error\n",
    "    username = wait.until(\n",
    "        EC.presence_of_element_located((By.CSS_SELECTOR, \"[data-testid*=ocfEnterTextTextInput]\"))\n",
    "    )\n",
    "    username.send_keys(\"RichaGotem\")\n",
    "    time.sleep(3)\n",
    "    \n",
    "    next_button = wait.until(\n",
    "        EC.presence_of_element_located((By.CSS_SELECTOR, \"[data-testid*=ocfEnterTextNextButton]\"))\n",
    "    )\n",
    "    next_button.click()\n",
    "    time.sleep(3)\n",
    "    \n",
    "    password = wait.until(\n",
    "        EC.presence_of_element_located((By.CSS_SELECTOR, \"[name*=password]\"))\n",
    "    )\n",
    "    password.send_keys(\"Sus1234!\")\n",
    "    time.sleep(3)\n",
    "    \n",
    "    login_button = wait.until(\n",
    "        EC.presence_of_element_located((By.CSS_SELECTOR, \"[data-testid*=LoginForm_Login_Button]\"))\n",
    "    )\n",
    "    login_button.click()\n",
    "    time.sleep(3)\n",
    "    "
   ]
  },
  {
   "cell_type": "code",
   "execution_count": 49,
   "id": "70948d38",
   "metadata": {},
   "outputs": [
    {
     "name": "stderr",
     "output_type": "stream",
     "text": [
      "  0%|          | 0/56 [00:00<?, ?it/s]"
     ]
    },
    {
     "name": "stdout",
     "output_type": "stream",
     "text": [
      "denverpost\n"
     ]
    },
    {
     "name": "stderr",
     "output_type": "stream",
     "text": [
      "  2%|▏         | 1/56 [00:54<49:42, 54.24s/it]"
     ]
    },
    {
     "name": "stdout",
     "output_type": "stream",
     "text": [
      "action_4assange\n"
     ]
    },
    {
     "name": "stderr",
     "output_type": "stream",
     "text": [
      "  4%|▎         | 2/56 [01:38<43:37, 48.47s/it]"
     ]
    },
    {
     "name": "stdout",
     "output_type": "stream",
     "text": [
      "CapitolJournal\n"
     ]
    },
    {
     "name": "stderr",
     "output_type": "stream",
     "text": [
      "  5%|▌         | 3/56 [02:25<42:16, 47.85s/it]"
     ]
    },
    {
     "name": "stdout",
     "output_type": "stream",
     "text": [
      "politicallyga\n"
     ]
    },
    {
     "name": "stderr",
     "output_type": "stream",
     "text": [
      "  7%|▋         | 4/56 [03:10<40:14, 46.43s/it]"
     ]
    },
    {
     "name": "stdout",
     "output_type": "stream",
     "text": [
      "5 Accounts passed, sleeping for 7 minutes.\n",
      "fred_guttenberg\n"
     ]
    },
    {
     "name": "stderr",
     "output_type": "stream",
     "text": [
      "  9%|▉         | 5/56 [11:12<2:53:07, 203.67s/it]"
     ]
    },
    {
     "name": "stdout",
     "output_type": "stream",
     "text": [
      "AmpedUpPodcast\n"
     ]
    },
    {
     "name": "stderr",
     "output_type": "stream",
     "text": [
      " 11%|█         | 6/56 [12:05<2:07:08, 152.57s/it]"
     ]
    },
    {
     "name": "stdout",
     "output_type": "stream",
     "text": [
      "LeeCamp\n"
     ]
    },
    {
     "name": "stderr",
     "output_type": "stream",
     "text": [
      " 12%|█▎        | 7/56 [13:05<1:39:49, 122.23s/it]"
     ]
    },
    {
     "name": "stdout",
     "output_type": "stream",
     "text": [
      "JordanChariton\n"
     ]
    },
    {
     "name": "stderr",
     "output_type": "stream",
     "text": [
      " 14%|█▍        | 8/56 [14:05<1:21:55, 102.41s/it]"
     ]
    },
    {
     "name": "stdout",
     "output_type": "stream",
     "text": [
      "TheDemCoalition\n"
     ]
    },
    {
     "name": "stderr",
     "output_type": "stream",
     "text": [
      " 16%|█▌        | 9/56 [15:05<1:09:42, 88.99s/it] "
     ]
    },
    {
     "name": "stdout",
     "output_type": "stream",
     "text": [
      "5 Accounts passed, sleeping for 7 minutes.\n",
      "DworkinReport\n"
     ]
    },
    {
     "name": "stderr",
     "output_type": "stream",
     "text": [
      " 18%|█▊        | 10/56 [23:01<2:39:53, 208.56s/it]"
     ]
    },
    {
     "name": "stdout",
     "output_type": "stream",
     "text": [
      "WarOnDumb\n"
     ]
    },
    {
     "name": "stderr",
     "output_type": "stream",
     "text": [
      " 20%|█▉        | 11/56 [24:01<2:02:19, 163.10s/it]"
     ]
    },
    {
     "name": "stdout",
     "output_type": "stream",
     "text": [
      "NPR\n"
     ]
    },
    {
     "name": "stderr",
     "output_type": "stream",
     "text": [
      " 21%|██▏       | 12/56 [24:49<1:33:57, 128.12s/it]"
     ]
    },
    {
     "name": "stdout",
     "output_type": "stream",
     "text": [
      "TPUSA\n"
     ]
    },
    {
     "name": "stderr",
     "output_type": "stream",
     "text": [
      " 23%|██▎       | 13/56 [25:59<1:19:07, 110.41s/it]"
     ]
    },
    {
     "name": "stdout",
     "output_type": "stream",
     "text": [
      "mmpadellan\n"
     ]
    },
    {
     "name": "stderr",
     "output_type": "stream",
     "text": [
      " 25%|██▌       | 14/56 [27:06<1:08:07, 97.32s/it] "
     ]
    },
    {
     "name": "stdout",
     "output_type": "stream",
     "text": [
      "5 Accounts passed, sleeping for 7 minutes.\n",
      "charliekirk11\n"
     ]
    },
    {
     "name": "stderr",
     "output_type": "stream",
     "text": [
      " 27%|██▋       | 15/56 [35:06<2:25:17, 212.63s/it]"
     ]
    },
    {
     "name": "stdout",
     "output_type": "stream",
     "text": [
      "robreiner\n"
     ]
    },
    {
     "name": "stderr",
     "output_type": "stream",
     "text": [
      " 29%|██▊       | 16/56 [36:06<1:51:08, 166.72s/it]"
     ]
    },
    {
     "name": "stdout",
     "output_type": "stream",
     "text": [
      "davidsirota\n"
     ]
    },
    {
     "name": "stderr",
     "output_type": "stream",
     "text": [
      " 30%|███       | 17/56 [37:05<1:27:19, 134.35s/it]"
     ]
    },
    {
     "name": "stdout",
     "output_type": "stream",
     "text": [
      "blacks4peace\n"
     ]
    },
    {
     "name": "stderr",
     "output_type": "stream",
     "text": [
      " 32%|███▏      | 18/56 [38:05<1:10:56, 112.01s/it]"
     ]
    },
    {
     "name": "stdout",
     "output_type": "stream",
     "text": [
      "people4liberty\n"
     ]
    },
    {
     "name": "stderr",
     "output_type": "stream",
     "text": [
      " 34%|███▍      | 19/56 [38:56<57:52, 93.85s/it]   "
     ]
    },
    {
     "name": "stdout",
     "output_type": "stream",
     "text": [
      "5 Accounts passed, sleeping for 7 minutes.\n",
      "HouseDemocrats\n"
     ]
    },
    {
     "name": "stderr",
     "output_type": "stream",
     "text": [
      " 36%|███▌      | 20/56 [46:57<2:05:59, 209.98s/it]"
     ]
    },
    {
     "name": "stdout",
     "output_type": "stream",
     "text": [
      "TeamWarnock\n"
     ]
    },
    {
     "name": "stderr",
     "output_type": "stream",
     "text": [
      " 38%|███▊      | 21/56 [47:49<1:34:49, 162.55s/it]"
     ]
    },
    {
     "name": "stdout",
     "output_type": "stream",
     "text": [
      "BadFaithPod\n"
     ]
    },
    {
     "name": "stderr",
     "output_type": "stream",
     "text": [
      " 39%|███▉      | 22/56 [48:42<1:13:32, 129.77s/it]"
     ]
    },
    {
     "name": "stdout",
     "output_type": "stream",
     "text": [
      "kylegriffin1\n"
     ]
    },
    {
     "name": "stderr",
     "output_type": "stream",
     "text": [
      " 41%|████      | 23/56 [49:47<1:00:38, 110.27s/it]"
     ]
    },
    {
     "name": "stdout",
     "output_type": "stream",
     "text": [
      "PalmerReport\n"
     ]
    },
    {
     "name": "stderr",
     "output_type": "stream",
     "text": [
      " 43%|████▎     | 24/56 [50:45<50:24, 94.51s/it]   "
     ]
    },
    {
     "name": "stdout",
     "output_type": "stream",
     "text": [
      "5 Accounts passed, sleeping for 7 minutes.\n",
      "StatusCoup\n"
     ]
    },
    {
     "name": "stderr",
     "output_type": "stream",
     "text": [
      " 45%|████▍     | 25/56 [58:47<1:48:55, 210.83s/it]"
     ]
    },
    {
     "name": "stdout",
     "output_type": "stream",
     "text": [
      "POLITICO\n"
     ]
    },
    {
     "name": "stderr",
     "output_type": "stream",
     "text": [
      " 46%|████▋     | 26/56 [59:49<1:23:03, 166.12s/it]"
     ]
    },
    {
     "name": "stdout",
     "output_type": "stream",
     "text": [
      "marceelias\n"
     ]
    },
    {
     "name": "stderr",
     "output_type": "stream",
     "text": [
      " 48%|████▊     | 27/56 [1:01:03<1:07:00, 138.62s/it]"
     ]
    },
    {
     "name": "stdout",
     "output_type": "stream",
     "text": [
      "TuckerCarlson\n"
     ]
    },
    {
     "name": "stderr",
     "output_type": "stream",
     "text": [
      " 50%|█████     | 28/56 [1:02:25<56:44, 121.60s/it]  "
     ]
    },
    {
     "name": "stdout",
     "output_type": "stream",
     "text": [
      "DworkinWeekly\n"
     ]
    },
    {
     "name": "stderr",
     "output_type": "stream",
     "text": [
      " 52%|█████▏    | 29/56 [1:03:25<46:23, 103.10s/it]"
     ]
    },
    {
     "name": "stdout",
     "output_type": "stream",
     "text": [
      "5 Accounts passed, sleeping for 7 minutes.\n",
      "elonmusk\n"
     ]
    },
    {
     "name": "stderr",
     "output_type": "stream",
     "text": [
      " 54%|█████▎    | 30/56 [1:11:27<1:33:54, 216.73s/it]"
     ]
    },
    {
     "name": "stdout",
     "output_type": "stream",
     "text": [
      "EliasLawGroup\n"
     ]
    },
    {
     "name": "stderr",
     "output_type": "stream",
     "text": [
      " 55%|█████▌    | 31/56 [1:12:23<1:10:15, 168.63s/it]"
     ]
    },
    {
     "name": "stdout",
     "output_type": "stream",
     "text": [
      "JoyAnnReid\n"
     ]
    },
    {
     "name": "stderr",
     "output_type": "stream",
     "text": [
      " 57%|█████▋    | 32/56 [1:13:19<53:54, 134.75s/it]  "
     ]
    },
    {
     "name": "stdout",
     "output_type": "stream",
     "text": [
      "1819News\n"
     ]
    },
    {
     "name": "stderr",
     "output_type": "stream",
     "text": [
      " 59%|█████▉    | 33/56 [1:14:20<43:11, 112.66s/it]"
     ]
    },
    {
     "name": "stdout",
     "output_type": "stream",
     "text": [
      "itsJeffTiedrich\n"
     ]
    },
    {
     "name": "stderr",
     "output_type": "stream",
     "text": [
      " 61%|██████    | 34/56 [1:15:23<35:47, 97.60s/it] "
     ]
    },
    {
     "name": "stdout",
     "output_type": "stream",
     "text": [
      "5 Accounts passed, sleeping for 7 minutes.\n",
      "RacePowerPolicy\n"
     ]
    },
    {
     "name": "stderr",
     "output_type": "stream",
     "text": [
      " 62%|██████▎   | 35/56 [1:23:20<1:13:59, 211.40s/it]"
     ]
    },
    {
     "name": "stdout",
     "output_type": "stream",
     "text": [
      "chkbal\n"
     ]
    },
    {
     "name": "stderr",
     "output_type": "stream",
     "text": [
      " 64%|██████▍   | 36/56 [1:24:22<55:31, 166.58s/it]  "
     ]
    },
    {
     "name": "stdout",
     "output_type": "stream",
     "text": [
      "wabenews\n"
     ]
    },
    {
     "name": "stderr",
     "output_type": "stream",
     "text": [
      " 66%|██████▌   | 37/56 [1:25:25<42:54, 135.49s/it]"
     ]
    },
    {
     "name": "stdout",
     "output_type": "stream",
     "text": [
      "bluestein\n"
     ]
    },
    {
     "name": "stderr",
     "output_type": "stream",
     "text": [
      " 68%|██████▊   | 38/56 [1:26:28<34:07, 113.75s/it]"
     ]
    },
    {
     "name": "stdout",
     "output_type": "stream",
     "text": [
      "UALawSchool\n"
     ]
    },
    {
     "name": "stderr",
     "output_type": "stream",
     "text": [
      " 70%|██████▉   | 39/56 [1:27:31<27:58, 98.75s/it] "
     ]
    },
    {
     "name": "stdout",
     "output_type": "stream",
     "text": [
      "5 Accounts passed, sleeping for 7 minutes.\n",
      "OccupyDemocrats\n"
     ]
    },
    {
     "name": "stderr",
     "output_type": "stream",
     "text": [
      " 71%|███████▏  | 40/56 [1:35:31<56:49, 213.09s/it]"
     ]
    },
    {
     "name": "stdout",
     "output_type": "stream",
     "text": [
      "toddcstacy\n"
     ]
    },
    {
     "name": "stderr",
     "output_type": "stream",
     "text": [
      " 73%|███████▎  | 41/56 [1:36:31<41:45, 167.01s/it]"
     ]
    },
    {
     "name": "stdout",
     "output_type": "stream",
     "text": [
      "krystalball\n"
     ]
    },
    {
     "name": "stderr",
     "output_type": "stream",
     "text": [
      " 75%|███████▌  | 42/56 [1:37:30<31:25, 134.71s/it]"
     ]
    },
    {
     "name": "stdout",
     "output_type": "stream",
     "text": [
      "SarcasmStardust\n"
     ]
    },
    {
     "name": "stderr",
     "output_type": "stream",
     "text": [
      " 77%|███████▋  | 43/56 [1:38:32<24:28, 112.94s/it]"
     ]
    },
    {
     "name": "stdout",
     "output_type": "stream",
     "text": [
      "GunnelsWarren\n"
     ]
    },
    {
     "name": "stderr",
     "output_type": "stream",
     "text": [
      " 79%|███████▊  | 44/56 [1:39:33<19:27, 97.25s/it] "
     ]
    },
    {
     "name": "stdout",
     "output_type": "stream",
     "text": [
      "5 Accounts passed, sleeping for 7 minutes.\n",
      "ABC\n"
     ]
    },
    {
     "name": "stderr",
     "output_type": "stream",
     "text": [
      " 80%|████████  | 45/56 [1:47:36<39:03, 213.05s/it]"
     ]
    },
    {
     "name": "stdout",
     "output_type": "stream",
     "text": [
      "LeverNews\n"
     ]
    },
    {
     "name": "stderr",
     "output_type": "stream",
     "text": [
      " 82%|████████▏ | 46/56 [1:48:40<28:02, 168.21s/it]"
     ]
    },
    {
     "name": "stdout",
     "output_type": "stream",
     "text": [
      "AnnCoulter\n"
     ]
    },
    {
     "name": "stderr",
     "output_type": "stream",
     "text": [
      " 84%|████████▍ | 47/56 [1:49:43<20:31, 136.80s/it]"
     ]
    },
    {
     "name": "stdout",
     "output_type": "stream",
     "text": [
      "TexasTribune\n"
     ]
    },
    {
     "name": "stderr",
     "output_type": "stream",
     "text": [
      " 86%|████████▌ | 48/56 [1:50:47<15:18, 114.77s/it]"
     ]
    },
    {
     "name": "stdout",
     "output_type": "stream",
     "text": [
      "RedState\n"
     ]
    },
    {
     "name": "stderr",
     "output_type": "stream",
     "text": [
      " 88%|████████▊ | 49/56 [1:51:50<11:36, 99.51s/it] "
     ]
    },
    {
     "name": "stdout",
     "output_type": "stream",
     "text": [
      "5 Accounts passed, sleeping for 7 minutes.\n",
      "DemocracyDocket\n"
     ]
    },
    {
     "name": "stderr",
     "output_type": "stream",
     "text": [
      " 89%|████████▉ | 50/56 [1:59:51<21:23, 213.97s/it]"
     ]
    },
    {
     "name": "stdout",
     "output_type": "stream",
     "text": [
      "SteveSchmidtSES\n"
     ]
    },
    {
     "name": "stderr",
     "output_type": "stream",
     "text": [
      " 91%|█████████ | 51/56 [2:00:57<14:07, 169.43s/it]"
     ]
    },
    {
     "name": "stdout",
     "output_type": "stream",
     "text": [
      "TheWeekendMSNBC\n"
     ]
    },
    {
     "name": "stderr",
     "output_type": "stream",
     "text": [
      " 93%|█████████▎| 52/56 [2:02:00<09:10, 137.57s/it]"
     ]
    },
    {
     "name": "stdout",
     "output_type": "stream",
     "text": [
      "SocialistMMA\n"
     ]
    },
    {
     "name": "stderr",
     "output_type": "stream",
     "text": [
      " 95%|█████████▍| 53/56 [2:03:01<05:43, 114.64s/it]"
     ]
    },
    {
     "name": "stdout",
     "output_type": "stream",
     "text": [
      "ajamubaraka\n"
     ]
    },
    {
     "name": "stderr",
     "output_type": "stream",
     "text": [
      " 96%|█████████▋| 54/56 [2:04:03<03:17, 98.79s/it] "
     ]
    },
    {
     "name": "stdout",
     "output_type": "stream",
     "text": [
      "5 Accounts passed, sleeping for 7 minutes.\n",
      "AJC\n"
     ]
    },
    {
     "name": "stderr",
     "output_type": "stream",
     "text": [
      " 98%|█████████▊| 55/56 [2:12:05<03:33, 213.73s/it]"
     ]
    },
    {
     "name": "stdout",
     "output_type": "stream",
     "text": [
      "gtconway3d\n"
     ]
    },
    {
     "name": "stderr",
     "output_type": "stream",
     "text": [
      "100%|██████████| 56/56 [2:13:07<00:00, 142.63s/it]"
     ]
    },
    {
     "name": "stdout",
     "output_type": "stream",
     "text": [
      "Unprocessed accounts for this run:\n"
     ]
    },
    {
     "name": "stderr",
     "output_type": "stream",
     "text": [
      "\n"
     ]
    }
   ],
   "source": [
    "count = 1\n",
    "\n",
    "keyword1 = \"(Gaza* OR Israel* OR (West OR AND OR Bank) OR (Tel OR AND OR Aviv) OR (Tel OR AND OR Aviv-Yafo) OR Bedouin* OR Palestin* OR Middle OR East* OR Middle OR Eastern OR Jew* OR rabbi OR Muslim* OR Islam* OR Jihad OR Antisemiti* OR Zionis* OR IDF)\"\n",
    "keyword2 = \"(IOF OR Hamas OR Massacre OR Genocide OR Ceasefire OR Terroris* OR Netanyahu OR Histadrut OR Haniyeh OR Yahya OR Sinwar OR Fatah OR Mohammed OR Deif)\"\n",
    "hashtags = \"(# OR #IsraelPalestineWar OR #IsraelGazaWar OR #Gazabombing OR #CeasefireNOW OR #FreePalestine OR #StrikeForGaza OR #Gazagenocide)\"\n",
    "until = \"2024-09-22\"\n",
    "since = \"2023-10-07\"\n",
    "\n",
    "unprocessed = []\n",
    "\n",
    "for profile in tqdm(followers_US):\n",
    "    if count%5 == 0:\n",
    "        print(\"5 Accounts passed, sleeping for 7 minutes.\")\n",
    "        time.sleep(420)\n",
    "    \n",
    "    if profile not in tweets_dict_US.keys():\n",
    "        print(profile)\n",
    "\n",
    "        tweets_dict_US[profile] = []\n",
    "\n",
    "        ### Begin scrape\n",
    "        time.sleep(3)\n",
    "\n",
    "        # Search\n",
    "        search_button = wait.until(\n",
    "            EC.presence_of_element_located((By.CSS_SELECTOR, '[aria-label=\"Search and explore\"]'))\n",
    "        )\n",
    "        search_button.click()\n",
    "        time.sleep(3)\n",
    "\n",
    "        search_bar = wait.until(\n",
    "            EC.presence_of_element_located((By.CSS_SELECTOR, '[aria-label=\"Search\"]'))\n",
    "        )\n",
    "        search_bar.click()\n",
    "        time.sleep(3)\n",
    "\n",
    "        for i in range(2): \n",
    "            search_query = wait.until(\n",
    "            EC.presence_of_element_located((By.CSS_SELECTOR, '[aria-label=\"Search query\"]')))\n",
    "\n",
    "            # Advanced search query\n",
    "            if i == 0:\n",
    "                search_query.send_keys(f'{keyword1} {hashtags} (from:{profile}) min_faves:1000 until:{until} since:{since} -filter:links -filter:replies')\n",
    "            if i == 1:\n",
    "                search_query.send_keys([Keys.BACKSPACE]*1000)\n",
    "                search_query.send_keys(f'{keyword2} {hashtags} (from:{profile}) min_faves:1000 until:{until} since:{since} -filter:links -filter:replies')\n",
    "\n",
    "            search_query.send_keys(Keys.RETURN)\n",
    "            time.sleep(6)\n",
    "            \n",
    "            # Scroll until you cannot scroll anymore\n",
    "            reached_page_end = False\n",
    "            last_height = driver.execute_script(\"return document.body.scrollHeight\")\n",
    "\n",
    "            retry_xpath = \"//button[@role='button' and @type='button']//span[text()='Retry']\"\n",
    "            # random.randrange(10, 15)\n",
    "            if (is_element_present(driver, retry_xpath)):\n",
    "                try:\n",
    "                    print(f'{profile} - {count} - Retry button appeared.')\n",
    "                    unprocessed.append(profile)\n",
    "                    for i in range(5):\n",
    "                        search_button = wait.until(EC.element_to_be_clickable((By.XPATH, retry_xpath)))\n",
    "                        search_button.click()\n",
    "                    time.sleep(100) \n",
    "                except:\n",
    "                    print(f\"{profile} - Failed to click Retry\")\n",
    "\n",
    "            while not reached_page_end:\n",
    "                driver.execute_script(\"window.scrollTo(0, document.body.scrollHeight)\")   \n",
    "                time.sleep(3)\n",
    "                new_height = driver.execute_script(\"return document.body.scrollHeight\")\n",
    "                if last_height == new_height:\n",
    "                    reached_page_end = True\n",
    "                else:\n",
    "                    last_height = new_height\n",
    "            try:\n",
    "                # Select the home timeline div\n",
    "                search_results = driver.find_element(By.CSS_SELECTOR, '[aria-label=\"Timeline: Search timeline\"]')\n",
    "                # Just get all the HTML, will parse later\n",
    "                tweets_listed = search_results.get_attribute('innerHTML')\n",
    "                time.sleep(3)\n",
    "\n",
    "                # Append to dict\n",
    "                tweets_dict_US[profile].append(tweets_listed)\n",
    "\n",
    "            except:\n",
    "                pass\n",
    "\n",
    "    count+=1\n",
    "\n",
    "print(\"Unprocessed accounts for this run:\")\n",
    "for profile in unprocessed:\n",
    "    print(f\"@{profile}\\n\")\n"
   ]
  },
  {
   "cell_type": "code",
   "execution_count": 50,
   "id": "97adfdd4",
   "metadata": {},
   "outputs": [],
   "source": [
    "driver.quit()"
   ]
  },
  {
   "cell_type": "code",
   "execution_count": 51,
   "id": "7de5e024",
   "metadata": {},
   "outputs": [
    {
     "data": {
      "text/plain": [
       "dict_keys(['denverpost', 'action_4assange', 'CapitolJournal', 'politicallyga', 'fred_guttenberg', 'AmpedUpPodcast', 'LeeCamp', 'JordanChariton', 'TheDemCoalition', 'DworkinReport', 'WarOnDumb', 'NPR', 'TPUSA', 'mmpadellan', 'charliekirk11', 'robreiner', 'davidsirota', 'blacks4peace', 'people4liberty', 'HouseDemocrats', 'TeamWarnock', 'BadFaithPod', 'kylegriffin1', 'PalmerReport', 'StatusCoup', 'POLITICO', 'marceelias', 'TuckerCarlson', 'DworkinWeekly', 'elonmusk', 'EliasLawGroup', 'JoyAnnReid', '1819News', 'itsJeffTiedrich', 'RacePowerPolicy', 'chkbal', 'wabenews', 'bluestein', 'UALawSchool', 'OccupyDemocrats', 'toddcstacy', 'krystalball', 'SarcasmStardust', 'GunnelsWarren', 'ABC', 'LeverNews', 'AnnCoulter', 'TexasTribune', 'RedState', 'DemocracyDocket', 'SteveSchmidtSES', 'TheWeekendMSNBC', 'SocialistMMA', 'ajamubaraka', 'AJC', 'gtconway3d'])"
      ]
     },
     "execution_count": 51,
     "metadata": {},
     "output_type": "execute_result"
    }
   ],
   "source": [
    "tweets_dict_US.keys()"
   ]
  },
  {
   "cell_type": "code",
   "execution_count": 52,
   "id": "a3d896ea",
   "metadata": {},
   "outputs": [
    {
     "data": {
      "text/plain": [
       "dict_keys(['denverpost', 'action_4assange', 'CapitolJournal', 'politicallyga', 'fred_guttenberg', 'AmpedUpPodcast', 'LeeCamp', 'JordanChariton', 'TheDemCoalition', 'DworkinReport', 'WarOnDumb', 'NPR', 'TPUSA', 'mmpadellan', 'charliekirk11', 'robreiner', 'davidsirota', 'blacks4peace', 'people4liberty', 'HouseDemocrats', 'TeamWarnock', 'BadFaithPod', 'kylegriffin1', 'PalmerReport', 'StatusCoup', 'POLITICO', 'marceelias', 'TuckerCarlson', 'DworkinWeekly', 'elonmusk', 'EliasLawGroup', 'JoyAnnReid', '1819News', 'itsJeffTiedrich', 'RacePowerPolicy', 'chkbal', 'wabenews', 'bluestein', 'UALawSchool', 'OccupyDemocrats', 'toddcstacy', 'krystalball', 'SarcasmStardust', 'GunnelsWarren', 'ABC', 'LeverNews', 'AnnCoulter', 'TexasTribune', 'RedState', 'DemocracyDocket', 'SteveSchmidtSES', 'TheWeekendMSNBC', 'SocialistMMA', 'ajamubaraka', 'AJC', 'gtconway3d'])"
      ]
     },
     "execution_count": 52,
     "metadata": {},
     "output_type": "execute_result"
    }
   ],
   "source": [
    "tweets_dict_US_cleaned = {}\n",
    "    \n",
    "for key, value in tweets_dict_US.items():\n",
    "    if key not in tweets_dict_US_cleaned.keys():\n",
    "        tweets_dict_US_cleaned[key] = []\n",
    "        for v in value:\n",
    "            soup = BeautifulSoup(v, 'html.parser')\n",
    "            tweets = soup.find_all(attrs={\"data-testid\": \"tweetText\"})\n",
    "            for tweet in tweets:\n",
    "                tweet_text = tweet.get_text(strip=True)\n",
    "                tweets_dict_US_cleaned[key].append(tweet_text)\n",
    "\n",
    "tweets_dict_US_cleaned.keys()"
   ]
  },
  {
   "cell_type": "code",
   "execution_count": 53,
   "id": "8a959259",
   "metadata": {},
   "outputs": [],
   "source": [
    "raw_data_folder = \"Raw Data\"\n",
    "raw_json = os.path.join(raw_data_folder, f\"US_tweets_{until}_{since}.json\")\n",
    "cleaned_json = os.path.join(raw_data_folder, f\"US_tweets_cleaned_{until}_{since}.json\")"
   ]
  },
  {
   "cell_type": "code",
   "execution_count": 54,
   "id": "862b1fcb",
   "metadata": {},
   "outputs": [],
   "source": [
    "with open(raw_json, 'w') as file:\n",
    "    json.dump(tweets_dict_US, file)"
   ]
  },
  {
   "cell_type": "code",
   "execution_count": 55,
   "id": "5c5ac73d",
   "metadata": {},
   "outputs": [],
   "source": [
    "with open(cleaned_json, 'w') as file:\n",
    "    json.dump(tweets_dict_US_cleaned, file)"
   ]
  }
 ],
 "metadata": {
  "kernelspec": {
   "display_name": "Python 3 (ipykernel)",
   "language": "python",
   "name": "python3"
  },
  "language_info": {
   "codemirror_mode": {
    "name": "ipython",
    "version": 3
   },
   "file_extension": ".py",
   "mimetype": "text/x-python",
   "name": "python",
   "nbconvert_exporter": "python",
   "pygments_lexer": "ipython3",
   "version": "3.12.1"
  }
 },
 "nbformat": 4,
 "nbformat_minor": 5
}
