{
 "cells": [
  {
   "cell_type": "code",
   "execution_count": 6,
   "metadata": {},
   "outputs": [],
   "source": [
    "#Create Vocabulary dataframe with Category\n",
    "import csv\n",
    "import json\n",
    "import pandas as pd\n",
    "from collections import defaultdict\n"
   ]
  },
  {
   "cell_type": "code",
   "execution_count": 7,
   "metadata": {},
   "outputs": [],
   "source": [
    "vectors = {}\n",
    "with open(\"Kurdi, Mann, Charlesworth, & Banaji (2018) Vectors.csv\", \"r\") as f:\n",
    "\ti = 0\n",
    "\tfor database, category, word, vector in csv.reader(f):\n",
    "\t\tif i > 0:\n",
    "\t\t\tif database not in vectors.keys():\n",
    "\t\t\t\tvectors[database] = {}\n",
    "\t\t\tif category not in vectors[database].keys():\n",
    "\t\t\t\tvectors[database][category] = {}\n",
    "\t\t\tvectors[database][category][word] = json.loads(vector)\n",
    "\t\ti += 1"
   ]
  },
  {
   "cell_type": "code",
   "execution_count": 8,
   "metadata": {},
   "outputs": [],
   "source": [
    "word_dict = defaultdict(list)\n",
    "\n",
    "# for category in vectors[database]:\n",
    "#     for word in vectors[database][category]:\n",
    "#         word_dict[category].append(word)\n",
    "\n",
    "word_dict = {f\"{category}: {word}\" \n",
    "             for category in vectors[database] \n",
    "             for word in vectors[database][category]}\n",
    "\n",
    "category = [\"Warm\", \"Cold\", \"Competence\", \"Incompetence\", \"Jews\", \"Christians\"]\n",
    "\n",
    "df = pd.DataFrame([entry.split(\": \") for entry in word_dict if entry.split(\": \")[0] in category], \n",
    "                 columns=[\"Category\", \"Word\"])\n",
    "df.head()\n",
    "df.to_csv(\"Raw_vocab_dictionary.csv\", index=False)\n"
   ]
  },
  {
   "cell_type": "code",
   "execution_count": null,
   "metadata": {},
   "outputs": [
    {
     "name": "stdout",
     "output_type": "stream",
     "text": [
      "Warm: 150\n",
      "Cold: 174\n",
      "Competence: 119\n",
      "Incompetence: 153\n",
      "Jewish: 3\n",
      "Christina: 8\n"
     ]
    }
   ],
   "source": [
    "# import json\n",
    "# import ast\n",
    "\n",
    "\n",
    "# # Open and read the JSON file\n",
    "# with open('Stereotype_Dictionary.json', 'r') as file:\n",
    "#     data = json.load(file)\n",
    "\n",
    "# words = []\n",
    "# count = 0\n",
    "# for i in data.values():\n",
    "#     i = eval(str(i))\n",
    "#     for word in i:\n",
    "#         words.append(word)\n",
    "    \n",
    "# # for index, value in enumerate(words):\n",
    "# #     if value == \"unreliable\":\n",
    "# #         print(index)\n",
    "# #     if value ==\"absurd\":\n",
    "# #         print(index)\n",
    "\n",
    "# print(f\"Warm: {277-127}\")\n",
    "# print(f\"Cold: {452-278}\")\n",
    "# print(f\"Competence: {572-453}\")\n",
    "# print(f\"Incompetence: {279-126}\")\n",
    "# print(f\"Jewish: {3}\")\n",
    "# print(f\"Christian: {8}\")\n",
    "\n",
    "\n",
    "\n",
    "\n",
    "\n",
    "\n",
    "# # print(count)\n",
    "# # print(words)"
   ]
  }
 ],
 "metadata": {
  "kernelspec": {
   "display_name": "Python 3",
   "language": "python",
   "name": "python3"
  },
  "language_info": {
   "codemirror_mode": {
    "name": "ipython",
    "version": 3
   },
   "file_extension": ".py",
   "mimetype": "text/x-python",
   "name": "python",
   "nbconvert_exporter": "python",
   "pygments_lexer": "ipython3",
   "version": "3.12.1"
  }
 },
 "nbformat": 4,
 "nbformat_minor": 2
}
