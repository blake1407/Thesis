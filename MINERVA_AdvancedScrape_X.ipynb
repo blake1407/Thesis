{
 "cells": [
  {
   "cell_type": "code",
   "execution_count": 39,
   "id": "ff4fd40d",
   "metadata": {},
   "outputs": [],
   "source": [
    "from urllib.request import urlopen  \n",
    "from tqdm import tqdm\n",
    "from lxml import html\n",
    "from datetime import datetime\n",
    "from collections import Counter\n",
    "import json\n",
    "import requests\n",
    "import time\n",
    "import re\n",
    "# from screeninfo import get_monitors\n",
    "import pandas as pd\n",
    "import random\n",
    "\n",
    "from selenium import webdriver\n",
    "from selenium.webdriver.common.by import By\n",
    "from selenium.webdriver.support.ui import WebDriverWait\n",
    "from selenium.webdriver.support import expected_conditions as EC\n",
    "from selenium.common.exceptions import TimeoutException, NoSuchElementException\n",
    "from selenium.webdriver.common.keys import Keys\n",
    "from bs4 import BeautifulSoup"
   ]
  },
  {
   "cell_type": "markdown",
   "id": "3cfe0483",
   "metadata": {},
   "source": [
    "# US"
   ]
  },
  {
   "cell_type": "code",
   "execution_count": 40,
   "id": "1150ec91",
   "metadata": {},
   "outputs": [
    {
     "name": "stdout",
     "output_type": "stream",
     "text": [
      "RevBlackNetwork\n",
      "TheDemocrats\n",
      "msnbc\n",
      "FoxNews\n",
      "TheAtlantic\n",
      "aldotcom\n",
      "JudiciaryGOP\n",
      "MSNBC\n",
      "NBCNews\n",
      "RandPaul\n",
      "politico\n",
      "joncoopertweets\n",
      "HomelandDems\n",
      "HouseJudiciary\n",
      "RepSwalwell\n",
      "NPR\n",
      "CNN\n",
      "LPMisesCaucus\n",
      "RealSpikeCohen\n",
      "YATPOfficial\n",
      "justinamash\n",
      "tedlieu\n",
      "LPNational\n",
      "ToddHagopian\n",
      "theintercept\n"
     ]
    },
    {
     "data": {
      "text/plain": [
       "['RevBlackNetwork',\n",
       " 'TheDemocrats',\n",
       " 'msnbc',\n",
       " 'FoxNews',\n",
       " 'TheAtlantic',\n",
       " 'aldotcom',\n",
       " 'JudiciaryGOP',\n",
       " 'MSNBC',\n",
       " 'NBCNews',\n",
       " 'RandPaul',\n",
       " 'politico',\n",
       " 'joncoopertweets',\n",
       " 'HomelandDems',\n",
       " 'HouseJudiciary',\n",
       " 'RepSwalwell',\n",
       " 'NPR',\n",
       " 'CNN',\n",
       " 'LPMisesCaucus',\n",
       " 'RealSpikeCohen',\n",
       " 'YATPOfficial',\n",
       " 'justinamash',\n",
       " 'tedlieu',\n",
       " 'LPNational',\n",
       " 'ToddHagopian',\n",
       " 'theintercept']"
      ]
     },
     "execution_count": 40,
     "metadata": {},
     "output_type": "execute_result"
    }
   ],
   "source": [
    "# followers_US = pd.read_csv('Influencers_US_final.csv')\n",
    "# followers_US.head()\n",
    "\n",
    "followers_US = []\n",
    "with open('followers_US.txt', 'r') as f:\n",
    "    for line in f:\n",
    "        if \"@\" in line:\n",
    "            follower = line.strip()[1:]\n",
    "            print(follower)\n",
    "            followers_US.append(follower)\n",
    "f.close()\n",
    "\n",
    "followers_US\n"
   ]
  },
  {
   "cell_type": "code",
   "execution_count": 41,
   "id": "f51ae072",
   "metadata": {},
   "outputs": [],
   "source": [
    "# followers_US_list = followers_US.Influencer_Xhandle.tolist()\n",
    "\n",
    "# count = Counter(followers_US)\n",
    "\n",
    "# followers_US = []\n",
    "\n",
    "# for key, value in count.items():\n",
    "#     if value > 2:\n",
    "#         followers_US.append(key)\n",
    "        \n",
    "# followers_US"
   ]
  },
  {
   "cell_type": "code",
   "execution_count": 42,
   "id": "3565ce3b",
   "metadata": {},
   "outputs": [],
   "source": [
    "tweets_dict_US = {}"
   ]
  },
  {
   "cell_type": "code",
   "execution_count": 43,
   "id": "1c11ae3f",
   "metadata": {},
   "outputs": [],
   "source": [
    "driver = webdriver.Chrome()\n",
    "driver.get('https://twitter.com/i/flow/login')\n",
    "wait = WebDriverWait(driver, 10)\n"
   ]
  },
  {
   "cell_type": "code",
   "execution_count": 44,
   "id": "6f177a2f",
   "metadata": {},
   "outputs": [],
   "source": [
    "### Log in\n",
    "\n",
    "# Username\n",
    "username = wait.until(\n",
    "    EC.presence_of_element_located((By.CSS_SELECTOR, 'input[autocomplete=username]'))\n",
    ")\n",
    "username.send_keys(\"rigautam@udel.edu\")\n",
    "time.sleep(3)\n",
    "login_button = wait.until(\n",
    "    EC.presence_of_element_located((By.CSS_SELECTOR, '[role=button].r-13qz1uu'))\n",
    ")\n",
    "login_button.click()\n",
    "time.sleep(3)\n",
    "\n",
    "try: \n",
    "    # Password\n",
    "    password = wait.until(\n",
    "        EC.presence_of_element_located((By.CSS_SELECTOR, '[type=password]'))\n",
    "    )\n",
    "    password.send_keys(\"Sus1234!\")\n",
    "    time.sleep(3)\n",
    "    login_button = wait.until(\n",
    "        EC.presence_of_element_located((By.CSS_SELECTOR, '[data-testid*=Login_Button]'))\n",
    "    )\n",
    "    login_button.click()\n",
    "    time.sleep(3)\n",
    "    \n",
    "except: # if we get an error\n",
    "    username = wait.until(\n",
    "        EC.presence_of_element_located((By.CSS_SELECTOR, \"[data-testid*=ocfEnterTextTextInput]\"))\n",
    "    )\n",
    "    username.send_keys(\"RichaGotem\")\n",
    "    time.sleep(3)\n",
    "    \n",
    "    next_button = wait.until(\n",
    "        EC.presence_of_element_located((By.CSS_SELECTOR, \"[data-testid*=ocfEnterTextNextButton]\"))\n",
    "    )\n",
    "    next_button.click()\n",
    "    time.sleep(3)\n",
    "    \n",
    "    password = wait.until(\n",
    "        EC.presence_of_element_located((By.CSS_SELECTOR, \"[name*=password]\"))\n",
    "    )\n",
    "    password.send_keys(\"Sus1234!\")\n",
    "    time.sleep(3)\n",
    "    \n",
    "    login_button = wait.until(\n",
    "        EC.presence_of_element_located((By.CSS_SELECTOR, \"[data-testid*=LoginForm_Login_Button]\"))\n",
    "    )\n",
    "    login_button.click()\n",
    "    time.sleep(3)\n",
    "    "
   ]
  },
  {
   "cell_type": "code",
   "execution_count": 45,
   "id": "70948d38",
   "metadata": {},
   "outputs": [
    {
     "name": "stderr",
     "output_type": "stream",
     "text": [
      "  0%|          | 0/25 [00:00<?, ?it/s]"
     ]
    },
    {
     "name": "stdout",
     "output_type": "stream",
     "text": [
      "RevBlackNetwork\n"
     ]
    },
    {
     "name": "stderr",
     "output_type": "stream",
     "text": [
      "  4%|▍         | 1/25 [02:22<57:04, 142.67s/it]"
     ]
    },
    {
     "name": "stdout",
     "output_type": "stream",
     "text": [
      "TheDemocrats\n",
      "TheDemocrats - 1 - Retry button appeared.\n"
     ]
    },
    {
     "name": "stderr",
     "output_type": "stream",
     "text": [
      "  4%|▍         | 1/25 [02:42<1:05:07, 162.83s/it]\n"
     ]
    },
    {
     "ename": "StaleElementReferenceException",
     "evalue": "Message: stale element reference: stale element not found in the current frame\n  (Session info: chrome=128.0.6613.139); For documentation on this error, please visit: https://www.selenium.dev/documentation/webdriver/troubleshooting/errors#stale-element-reference-exception\nStacktrace:\n0   chromedriver                        0x00000001072ba338 chromedriver + 5096248\n1   chromedriver                        0x00000001072b1b6a chromedriver + 5061482\n2   chromedriver                        0x0000000106e3cfd0 chromedriver + 389072\n3   chromedriver                        0x0000000106e43189 chromedriver + 414089\n4   chromedriver                        0x0000000106e44b1f chromedriver + 420639\n5   chromedriver                        0x0000000106e44bcc chromedriver + 420812\n6   chromedriver                        0x0000000106e8b4fa chromedriver + 709882\n7   chromedriver                        0x0000000106e8a72a chromedriver + 706346\n8   chromedriver                        0x0000000106e7e8c6 chromedriver + 657606\n9   chromedriver                        0x0000000106eadef2 chromedriver + 851698\n10  chromedriver                        0x0000000106e7e288 chromedriver + 656008\n11  chromedriver                        0x0000000106eae0ae chromedriver + 852142\n12  chromedriver                        0x0000000106ecb250 chromedriver + 971344\n13  chromedriver                        0x0000000106eadc93 chromedriver + 851091\n14  chromedriver                        0x0000000106e7cc79 chromedriver + 650361\n15  chromedriver                        0x0000000106e7d49e chromedriver + 652446\n16  chromedriver                        0x000000010727d0b0 chromedriver + 4845744\n17  chromedriver                        0x0000000107281fc8 chromedriver + 4865992\n18  chromedriver                        0x0000000107282695 chromedriver + 4867733\n19  chromedriver                        0x000000010725fce9 chromedriver + 4725993\n20  chromedriver                        0x0000000107282989 chromedriver + 4868489\n21  chromedriver                        0x0000000107251c04 chromedriver + 4668420\n22  chromedriver                        0x00000001072a1e68 chromedriver + 4996712\n23  chromedriver                        0x00000001072a2067 chromedriver + 4997223\n24  chromedriver                        0x00000001072b176e chromedriver + 5060462\n25  libsystem_pthread.dylib             0x00007fff204028fc _pthread_start + 224\n26  libsystem_pthread.dylib             0x00007fff203fe443 thread_start + 15\n",
     "output_type": "error",
     "traceback": [
      "\u001b[0;31m---------------------------------------------------------------------------\u001b[0m",
      "\u001b[0;31mStaleElementReferenceException\u001b[0m            Traceback (most recent call last)",
      "Cell \u001b[0;32mIn[45], line 52\u001b[0m\n\u001b[1;32m     50\u001b[0m \u001b[38;5;28;01mfor\u001b[39;00m i \u001b[38;5;129;01min\u001b[39;00m \u001b[38;5;28mrange\u001b[39m(\u001b[38;5;241m5\u001b[39m):\n\u001b[1;32m     51\u001b[0m     search_button \u001b[38;5;241m=\u001b[39m wait\u001b[38;5;241m.\u001b[39muntil(EC\u001b[38;5;241m.\u001b[39melement_to_be_clickable((By\u001b[38;5;241m.\u001b[39mXPATH, retry_xpath)))\n\u001b[0;32m---> 52\u001b[0m     \u001b[43msearch_button\u001b[49m\u001b[38;5;241;43m.\u001b[39;49m\u001b[43mclick\u001b[49m\u001b[43m(\u001b[49m\u001b[43m)\u001b[49m\n\u001b[1;32m     53\u001b[0m     \u001b[38;5;28mprint\u001b[39m(\u001b[38;5;124mf\u001b[39m\u001b[38;5;124m'\u001b[39m\u001b[38;5;132;01m{\u001b[39;00mprofile\u001b[38;5;132;01m}\u001b[39;00m\u001b[38;5;124m - \u001b[39m\u001b[38;5;132;01m{\u001b[39;00mcount\u001b[38;5;132;01m}\u001b[39;00m\u001b[38;5;124m - Retry button appeared.\u001b[39m\u001b[38;5;124m'\u001b[39m)\n\u001b[1;32m     54\u001b[0m time\u001b[38;5;241m.\u001b[39msleep(\u001b[38;5;241m10\u001b[39m) \n",
      "File \u001b[0;32m/Library/Frameworks/Python.framework/Versions/3.12/lib/python3.12/site-packages/selenium/webdriver/remote/webelement.py:94\u001b[0m, in \u001b[0;36mWebElement.click\u001b[0;34m(self)\u001b[0m\n\u001b[1;32m     92\u001b[0m \u001b[38;5;28;01mdef\u001b[39;00m \u001b[38;5;21mclick\u001b[39m(\u001b[38;5;28mself\u001b[39m) \u001b[38;5;241m-\u001b[39m\u001b[38;5;241m>\u001b[39m \u001b[38;5;28;01mNone\u001b[39;00m:\n\u001b[1;32m     93\u001b[0m \u001b[38;5;250m    \u001b[39m\u001b[38;5;124;03m\"\"\"Clicks the element.\"\"\"\u001b[39;00m\n\u001b[0;32m---> 94\u001b[0m     \u001b[38;5;28;43mself\u001b[39;49m\u001b[38;5;241;43m.\u001b[39;49m\u001b[43m_execute\u001b[49m\u001b[43m(\u001b[49m\u001b[43mCommand\u001b[49m\u001b[38;5;241;43m.\u001b[39;49m\u001b[43mCLICK_ELEMENT\u001b[49m\u001b[43m)\u001b[49m\n",
      "File \u001b[0;32m/Library/Frameworks/Python.framework/Versions/3.12/lib/python3.12/site-packages/selenium/webdriver/remote/webelement.py:395\u001b[0m, in \u001b[0;36mWebElement._execute\u001b[0;34m(self, command, params)\u001b[0m\n\u001b[1;32m    393\u001b[0m     params \u001b[38;5;241m=\u001b[39m {}\n\u001b[1;32m    394\u001b[0m params[\u001b[38;5;124m\"\u001b[39m\u001b[38;5;124mid\u001b[39m\u001b[38;5;124m\"\u001b[39m] \u001b[38;5;241m=\u001b[39m \u001b[38;5;28mself\u001b[39m\u001b[38;5;241m.\u001b[39m_id\n\u001b[0;32m--> 395\u001b[0m \u001b[38;5;28;01mreturn\u001b[39;00m \u001b[38;5;28;43mself\u001b[39;49m\u001b[38;5;241;43m.\u001b[39;49m\u001b[43m_parent\u001b[49m\u001b[38;5;241;43m.\u001b[39;49m\u001b[43mexecute\u001b[49m\u001b[43m(\u001b[49m\u001b[43mcommand\u001b[49m\u001b[43m,\u001b[49m\u001b[43m \u001b[49m\u001b[43mparams\u001b[49m\u001b[43m)\u001b[49m\n",
      "File \u001b[0;32m/Library/Frameworks/Python.framework/Versions/3.12/lib/python3.12/site-packages/selenium/webdriver/remote/webdriver.py:347\u001b[0m, in \u001b[0;36mWebDriver.execute\u001b[0;34m(self, driver_command, params)\u001b[0m\n\u001b[1;32m    345\u001b[0m response \u001b[38;5;241m=\u001b[39m \u001b[38;5;28mself\u001b[39m\u001b[38;5;241m.\u001b[39mcommand_executor\u001b[38;5;241m.\u001b[39mexecute(driver_command, params)\n\u001b[1;32m    346\u001b[0m \u001b[38;5;28;01mif\u001b[39;00m response:\n\u001b[0;32m--> 347\u001b[0m     \u001b[38;5;28;43mself\u001b[39;49m\u001b[38;5;241;43m.\u001b[39;49m\u001b[43merror_handler\u001b[49m\u001b[38;5;241;43m.\u001b[39;49m\u001b[43mcheck_response\u001b[49m\u001b[43m(\u001b[49m\u001b[43mresponse\u001b[49m\u001b[43m)\u001b[49m\n\u001b[1;32m    348\u001b[0m     response[\u001b[38;5;124m\"\u001b[39m\u001b[38;5;124mvalue\u001b[39m\u001b[38;5;124m\"\u001b[39m] \u001b[38;5;241m=\u001b[39m \u001b[38;5;28mself\u001b[39m\u001b[38;5;241m.\u001b[39m_unwrap_value(response\u001b[38;5;241m.\u001b[39mget(\u001b[38;5;124m\"\u001b[39m\u001b[38;5;124mvalue\u001b[39m\u001b[38;5;124m\"\u001b[39m, \u001b[38;5;28;01mNone\u001b[39;00m))\n\u001b[1;32m    349\u001b[0m     \u001b[38;5;28;01mreturn\u001b[39;00m response\n",
      "File \u001b[0;32m/Library/Frameworks/Python.framework/Versions/3.12/lib/python3.12/site-packages/selenium/webdriver/remote/errorhandler.py:229\u001b[0m, in \u001b[0;36mErrorHandler.check_response\u001b[0;34m(self, response)\u001b[0m\n\u001b[1;32m    227\u001b[0m         alert_text \u001b[38;5;241m=\u001b[39m value[\u001b[38;5;124m\"\u001b[39m\u001b[38;5;124malert\u001b[39m\u001b[38;5;124m\"\u001b[39m]\u001b[38;5;241m.\u001b[39mget(\u001b[38;5;124m\"\u001b[39m\u001b[38;5;124mtext\u001b[39m\u001b[38;5;124m\"\u001b[39m)\n\u001b[1;32m    228\u001b[0m     \u001b[38;5;28;01mraise\u001b[39;00m exception_class(message, screen, stacktrace, alert_text)  \u001b[38;5;66;03m# type: ignore[call-arg]  # mypy is not smart enough here\u001b[39;00m\n\u001b[0;32m--> 229\u001b[0m \u001b[38;5;28;01mraise\u001b[39;00m exception_class(message, screen, stacktrace)\n",
      "\u001b[0;31mStaleElementReferenceException\u001b[0m: Message: stale element reference: stale element not found in the current frame\n  (Session info: chrome=128.0.6613.139); For documentation on this error, please visit: https://www.selenium.dev/documentation/webdriver/troubleshooting/errors#stale-element-reference-exception\nStacktrace:\n0   chromedriver                        0x00000001072ba338 chromedriver + 5096248\n1   chromedriver                        0x00000001072b1b6a chromedriver + 5061482\n2   chromedriver                        0x0000000106e3cfd0 chromedriver + 389072\n3   chromedriver                        0x0000000106e43189 chromedriver + 414089\n4   chromedriver                        0x0000000106e44b1f chromedriver + 420639\n5   chromedriver                        0x0000000106e44bcc chromedriver + 420812\n6   chromedriver                        0x0000000106e8b4fa chromedriver + 709882\n7   chromedriver                        0x0000000106e8a72a chromedriver + 706346\n8   chromedriver                        0x0000000106e7e8c6 chromedriver + 657606\n9   chromedriver                        0x0000000106eadef2 chromedriver + 851698\n10  chromedriver                        0x0000000106e7e288 chromedriver + 656008\n11  chromedriver                        0x0000000106eae0ae chromedriver + 852142\n12  chromedriver                        0x0000000106ecb250 chromedriver + 971344\n13  chromedriver                        0x0000000106eadc93 chromedriver + 851091\n14  chromedriver                        0x0000000106e7cc79 chromedriver + 650361\n15  chromedriver                        0x0000000106e7d49e chromedriver + 652446\n16  chromedriver                        0x000000010727d0b0 chromedriver + 4845744\n17  chromedriver                        0x0000000107281fc8 chromedriver + 4865992\n18  chromedriver                        0x0000000107282695 chromedriver + 4867733\n19  chromedriver                        0x000000010725fce9 chromedriver + 4725993\n20  chromedriver                        0x0000000107282989 chromedriver + 4868489\n21  chromedriver                        0x0000000107251c04 chromedriver + 4668420\n22  chromedriver                        0x00000001072a1e68 chromedriver + 4996712\n23  chromedriver                        0x00000001072a2067 chromedriver + 4997223\n24  chromedriver                        0x00000001072b176e chromedriver + 5060462\n25  libsystem_pthread.dylib             0x00007fff204028fc _pthread_start + 224\n26  libsystem_pthread.dylib             0x00007fff203fe443 thread_start + 15\n"
     ]
    }
   ],
   "source": [
    "# Function to check if the Fetch More button is present\n",
    "def is_element_present(driver, xpath):\n",
    "    try:\n",
    "        element = driver.find_element(By.XPATH, xpath)\n",
    "        return element.is_displayed()\n",
    "    except NoSuchElementException:\n",
    "        return False\n",
    "\n",
    "count = 0\n",
    "\n",
    "for profile in tqdm(followers_US):\n",
    "    \n",
    "    if profile not in tweets_dict_US.keys():\n",
    "        print(profile)\n",
    "\n",
    "        tweets_dict_US[profile] = []\n",
    "\n",
    "        ### Begin scrape\n",
    "        time.sleep(3)\n",
    "\n",
    "        # Search\n",
    "        search_button = wait.until(\n",
    "            EC.presence_of_element_located((By.CSS_SELECTOR, '[aria-label=\"Search and explore\"]'))\n",
    "        )\n",
    "        search_button.click()\n",
    "        time.sleep(3)\n",
    "\n",
    "        search_bar = wait.until(\n",
    "            EC.presence_of_element_located((By.CSS_SELECTOR, '[aria-label=\"Search\"]'))\n",
    "        )\n",
    "        search_bar.click()\n",
    "        time.sleep(3)\n",
    "\n",
    "        search_query = wait.until(\n",
    "            EC.presence_of_element_located((By.CSS_SELECTOR, '[aria-label=\"Search query\"]'))\n",
    "        )\n",
    "        # Advanced search query\n",
    "        search_query.send_keys(f'(Gaza* OR Israel* OR (West AND Bank) OR (Tel AND Aviv) OR (Tel AND Aviv-Yafo) OR Bedouin* OR Palestin* OR Middle East* OR Middle Eastern OR Jew* OR rabbi OR Muslim* OR Islam* OR Jihad OR Antisemiti* OR Zionis* OR IDF OR IOF OR (Israeli AND Defense AND Forces) OR (Israeli AND Occupation AND Forces) OR Hamas OR Massacre OR Genocide OR Ceasefire OR Terroris* OR Netanyahu OR Histadrut OR Haniyeh OR Yahya Sinwar OR Fatah OR Mohammed Deif) (# OR #IsraelPalestineWar OR #IsraelGazaWar OR #Gazabombing OR #CeasefireNOW OR #FreePalestine OR #StrikeForGaza OR #Gazagenocide) (from:{profile}) min_faves:1000 until:2024-09-14 since:2023-10-07 -filter:links -filter:replies')\n",
    "\n",
    "\n",
    "        search_query.send_keys(Keys.RETURN)\n",
    "        time.sleep(6)\n",
    "        \n",
    "        # Scroll until you cannot scroll anymore\n",
    "        reached_page_end = False\n",
    "        last_height = driver.execute_script(\"return document.body.scrollHeight\")\n",
    "\n",
    "        retry_xpath = \"//button[@role='button' and @type='button']//span[text()='Retry']\"\n",
    "        # random.randrange(10, 15)\n",
    "        if (is_element_present(driver, retry_xpath)):\n",
    "            for i in range(5):\n",
    "                search_button = wait.until(EC.element_to_be_clickable((By.XPATH, retry_xpath)))\n",
    "                search_button.click()\n",
    "                print(f'{profile} - {count} - Retry button appeared.')\n",
    "            time.sleep(10) \n",
    "\n",
    "        while not reached_page_end:\n",
    "            driver.execute_script(\"window.scrollTo(0, document.body.scrollHeight)\")   \n",
    "            time.sleep(3)\n",
    "            new_height = driver.execute_script(\"return document.body.scrollHeight\")\n",
    "            if last_height == new_height:\n",
    "                reached_page_end = True\n",
    "            else:\n",
    "                last_height = new_height\n",
    "        try:\n",
    "            # Select the home timeline div\n",
    "            search_results = driver.find_element(By.CSS_SELECTOR, '[aria-label=\"Timeline: Search timeline\"]')\n",
    "            # Just get all the HTML, will parse later\n",
    "            tweets_listed = search_results.get_attribute('innerHTML')\n",
    "            time.sleep(3)\n",
    "\n",
    "            # Append to dict\n",
    "            tweets_dict_US[profile].append(tweets_listed)\n",
    "        except:\n",
    "            pass\n",
    "\n",
    "        count+=1\n",
    "\n"
   ]
  },
  {
   "cell_type": "code",
   "execution_count": 34,
   "id": "97adfdd4",
   "metadata": {},
   "outputs": [],
   "source": [
    "driver.quit()"
   ]
  },
  {
   "cell_type": "code",
   "execution_count": 35,
   "id": "7de5e024",
   "metadata": {},
   "outputs": [
    {
     "data": {
      "text/plain": [
       "dict_keys([])"
      ]
     },
     "execution_count": 35,
     "metadata": {},
     "output_type": "execute_result"
    }
   ],
   "source": [
    "tweets_dict_US.keys()"
   ]
  },
  {
   "cell_type": "code",
   "execution_count": 36,
   "id": "a3d896ea",
   "metadata": {},
   "outputs": [
    {
     "data": {
      "text/plain": [
       "dict_keys([])"
      ]
     },
     "execution_count": 36,
     "metadata": {},
     "output_type": "execute_result"
    }
   ],
   "source": [
    "tweets_dict_US_cleaned = {}\n",
    "    \n",
    "for key, value in tweets_dict_US.items():\n",
    "    if key not in tweets_dict_US_cleaned.keys():\n",
    "        tweets_dict_US_cleaned[key] = []\n",
    "        for v in value:\n",
    "            soup = BeautifulSoup(v, 'html.parser')\n",
    "            tweets = soup.find_all(attrs={\"data-testid\": \"tweetText\"})\n",
    "            for tweet in tweets:\n",
    "                tweet_text = tweet.get_text(strip=True)\n",
    "                tweets_dict_US_cleaned[key].append(tweet_text)\n",
    "\n",
    "tweets_dict_US_cleaned.keys()"
   ]
  },
  {
   "cell_type": "code",
   "execution_count": 37,
   "id": "862b1fcb",
   "metadata": {},
   "outputs": [],
   "source": [
    "with open(\"US_tweets.json\", 'w') as file:\n",
    "    json.dump(tweets_dict_US, file)"
   ]
  },
  {
   "cell_type": "code",
   "execution_count": 38,
   "id": "5c5ac73d",
   "metadata": {},
   "outputs": [],
   "source": [
    "with open(\"US_tweets_cleaned.json\", 'w') as file:\n",
    "    json.dump(tweets_dict_US_cleaned, file)"
   ]
  }
 ],
 "metadata": {
  "kernelspec": {
   "display_name": "Python 3 (ipykernel)",
   "language": "python",
   "name": "python3"
  },
  "language_info": {
   "codemirror_mode": {
    "name": "ipython",
    "version": 3
   },
   "file_extension": ".py",
   "mimetype": "text/x-python",
   "name": "python",
   "nbconvert_exporter": "python",
   "pygments_lexer": "ipython3",
   "version": "3.12.1"
  }
 },
 "nbformat": 4,
 "nbformat_minor": 5
}
