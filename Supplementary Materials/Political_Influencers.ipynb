{
 "cells": [
  {
   "cell_type": "code",
   "execution_count": 14,
   "metadata": {},
   "outputs": [],
   "source": [
    "import csv    "
   ]
  },
  {
   "cell_type": "code",
   "execution_count": 17,
   "metadata": {},
   "outputs": [
    {
     "name": "stdout",
     "output_type": "stream",
     "text": [
      "[25, 16, 14, 13, 12, 11, 10, 9, 8, 7, 6, 5, 4, 3]\n",
      "@SarcasmStardust\n",
      "@action_4assange\n",
      "@AdamParkhomenko\n",
      "@DworkinReport\n",
      "@DworkinWeekly\n",
      "@PalmerReport\n",
      "@TabithaK\n",
      "@TheDemCoalition\n",
      "@RedState\n",
      "@POLITICO\n",
      "@ajamubaraka\n",
      "@blacks4peace\n",
      "@1819News\n",
      "@APTV\n",
      "@Braves\n",
      "@CapitolJournal\n",
      "@toddcstacy\n",
      "@KariLake\n",
      "@ABC\n",
      "@AnnCoulter\n",
      "@POTUS45\n",
      "@OccupyDemocrats\n",
      "@mmpadellan\n",
      "@denverpost\n",
      "@Booker4KY\n",
      "@JoyAnnReid\n",
      "@fred_guttenberg\n",
      "@itsJeffTiedrich\n",
      "@GunnelsWarren\n",
      "@WarOnDumb\n",
      "@PeteButtigieg\n",
      "@TexasTribune\n",
      "@TPUSA\n",
      "@charliekirk11\n",
      "@krystalball\n",
      "@krystalmball\n",
      "@AJC\n",
      "@bluestein\n",
      "@ossoff\n",
      "@politicallyga\n",
      "@wabenews\n",
      "@Lakers\n",
      "@WWE\n",
      "@elonmusk\n",
      "@AOC\n",
      "@TheWeekendMSNBC\n",
      "@griffinkyle\n",
      "@kylegriffin1\n",
      "@DrJillStein\n",
      "@ChaseForLiberty\n",
      "@RepRaskin\n",
      "@DemocracyDocket\n",
      "@EliasLawGroup\n",
      "@HouseDemocrats\n",
      "@RepAdamSchiff\n",
      "@marceelias\n",
      "@LeeCamp\n",
      "@SocialistMMA\n",
      "@SteveSchmidtSES\n",
      "@chkbal\n",
      "@gtconway3d\n",
      "@robreiner\n",
      "@EmilyforCO\n",
      "@JordanChariton\n",
      "@LeverNews\n",
      "@StatusCoup\n",
      "@davidsirota\n",
      "@TuckerCarlson\n",
      "68\n"
     ]
    }
   ],
   "source": [
    "file_path = '/Users/blakey/Desktop/Reddit-JSON-Parser/Supplementary Materials/followers_following_party_US.csv'\n",
    "account = []\n",
    "followers = []\n",
    "with open(file_path, 'r') as file:\n",
    "    csvFile = csv.reader(file)\n",
    "    header = next(csvFile)\n",
    "    for line in csvFile: \n",
    "        a = line[0]\n",
    "        f = int(line[4])\n",
    "        if a not in account:\n",
    "            account.append(a)\n",
    "            followers.append(f)\n",
    "# print(followers)\n",
    "\n",
    "#Remove duplicates\n",
    "sorted = [] \n",
    "for number in followers:\n",
    "    if number not in sorted:\n",
    "        sorted.append(number)\n",
    "\n",
    "sorted.sort(reverse=True) #Sort number from biggest to smallest\n",
    "print(sorted)\n",
    "\n",
    "count = 0\n",
    "for a, f in zip(account, followers):\n",
    "    # if 25 >= f >= 7:\n",
    "    #     print(a)\n",
    "    #     count+=1\n",
    "    if 5 > f >=4:\n",
    "        print(a)\n",
    "        count+=1\n",
    "print(count)\n",
    "\n",
    "#Total 317 people"
   ]
  },
  {
   "cell_type": "code",
   "execution_count": 16,
   "metadata": {},
   "outputs": [
    {
     "ename": "FileNotFoundError",
     "evalue": "[Errno 2] No such file or directory: '/Users/blakey/Desktop/Reddit-JSON-Parser/official_keyword'",
     "output_type": "error",
     "traceback": [
      "\u001b[0;31m---------------------------------------------------------------------------\u001b[0m",
      "\u001b[0;31mFileNotFoundError\u001b[0m                         Traceback (most recent call last)",
      "Cell \u001b[0;32mIn[16], line 4\u001b[0m\n\u001b[1;32m      1\u001b[0m file_path \u001b[38;5;241m=\u001b[39m \u001b[38;5;124m'\u001b[39m\u001b[38;5;124m/Users/blakey/Desktop/Reddit-JSON-Parser/official_keyword\u001b[39m\u001b[38;5;124m'\u001b[39m\n\u001b[1;32m      3\u001b[0m string \u001b[38;5;241m=\u001b[39m \u001b[38;5;124m\"\u001b[39m\u001b[38;5;124m\"\u001b[39m\n\u001b[0;32m----> 4\u001b[0m \u001b[38;5;28;01mwith\u001b[39;00m \u001b[38;5;28;43mopen\u001b[39;49m\u001b[43m(\u001b[49m\u001b[43mfile_path\u001b[49m\u001b[43m,\u001b[49m\u001b[43m \u001b[49m\u001b[38;5;124;43m'\u001b[39;49m\u001b[38;5;124;43mr\u001b[39;49m\u001b[38;5;124;43m'\u001b[39;49m\u001b[43m)\u001b[49m \u001b[38;5;28;01mas\u001b[39;00m file:\n\u001b[1;32m      5\u001b[0m     \u001b[38;5;28;01mfor\u001b[39;00m line \u001b[38;5;129;01min\u001b[39;00m file:\n\u001b[1;32m      6\u001b[0m         string \u001b[38;5;241m=\u001b[39m string \u001b[38;5;241m+\u001b[39m line \u001b[38;5;241m+\u001b[39m \u001b[38;5;124m\"\u001b[39m\u001b[38;5;124mOR \u001b[39m\u001b[38;5;124m\"\u001b[39m\n",
      "File \u001b[0;32m~/Library/Python/3.12/lib/python/site-packages/IPython/core/interactiveshell.py:310\u001b[0m, in \u001b[0;36m_modified_open\u001b[0;34m(file, *args, **kwargs)\u001b[0m\n\u001b[1;32m    303\u001b[0m \u001b[38;5;28;01mif\u001b[39;00m file \u001b[38;5;129;01min\u001b[39;00m {\u001b[38;5;241m0\u001b[39m, \u001b[38;5;241m1\u001b[39m, \u001b[38;5;241m2\u001b[39m}:\n\u001b[1;32m    304\u001b[0m     \u001b[38;5;28;01mraise\u001b[39;00m \u001b[38;5;167;01mValueError\u001b[39;00m(\n\u001b[1;32m    305\u001b[0m         \u001b[38;5;124mf\u001b[39m\u001b[38;5;124m\"\u001b[39m\u001b[38;5;124mIPython won\u001b[39m\u001b[38;5;124m'\u001b[39m\u001b[38;5;124mt let you open fd=\u001b[39m\u001b[38;5;132;01m{\u001b[39;00mfile\u001b[38;5;132;01m}\u001b[39;00m\u001b[38;5;124m by default \u001b[39m\u001b[38;5;124m\"\u001b[39m\n\u001b[1;32m    306\u001b[0m         \u001b[38;5;124m\"\u001b[39m\u001b[38;5;124mas it is likely to crash IPython. If you know what you are doing, \u001b[39m\u001b[38;5;124m\"\u001b[39m\n\u001b[1;32m    307\u001b[0m         \u001b[38;5;124m\"\u001b[39m\u001b[38;5;124myou can use builtins\u001b[39m\u001b[38;5;124m'\u001b[39m\u001b[38;5;124m open.\u001b[39m\u001b[38;5;124m\"\u001b[39m\n\u001b[1;32m    308\u001b[0m     )\n\u001b[0;32m--> 310\u001b[0m \u001b[38;5;28;01mreturn\u001b[39;00m \u001b[43mio_open\u001b[49m\u001b[43m(\u001b[49m\u001b[43mfile\u001b[49m\u001b[43m,\u001b[49m\u001b[43m \u001b[49m\u001b[38;5;241;43m*\u001b[39;49m\u001b[43margs\u001b[49m\u001b[43m,\u001b[49m\u001b[43m \u001b[49m\u001b[38;5;241;43m*\u001b[39;49m\u001b[38;5;241;43m*\u001b[39;49m\u001b[43mkwargs\u001b[49m\u001b[43m)\u001b[49m\n",
      "\u001b[0;31mFileNotFoundError\u001b[0m: [Errno 2] No such file or directory: '/Users/blakey/Desktop/Reddit-JSON-Parser/official_keyword'"
     ]
    }
   ],
   "source": [
    "file_path = '/Users/blakey/Desktop/Reddit-JSON-Parser/official_keyword'\n",
    "\n",
    "string = \"\"\n",
    "with open(file_path, 'r') as file:\n",
    "    for line in file:\n",
    "        string = string + line + \"OR \"\n",
    "\n",
    "print(string.strip(f\"\\n\"))"
   ]
  }
 ],
 "metadata": {
  "kernelspec": {
   "display_name": "Python 3",
   "language": "python",
   "name": "python3"
  },
  "language_info": {
   "codemirror_mode": {
    "name": "ipython",
    "version": 3
   },
   "file_extension": ".py",
   "mimetype": "text/x-python",
   "name": "python",
   "nbconvert_exporter": "python",
   "pygments_lexer": "ipython3",
   "version": "3.12.1"
  }
 },
 "nbformat": 4,
 "nbformat_minor": 2
}
