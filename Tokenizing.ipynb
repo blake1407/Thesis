{
 "cells": [
  {
   "cell_type": "code",
   "execution_count": 31,
   "metadata": {},
   "outputs": [],
   "source": [
    "import pandas as pd\n",
    "import string\n",
    "import re\n",
    "import matplotlib.pyplot as plt\n",
    "import sklearn\n",
    "from sklearn.model_selection import train_test_split\n",
    "import numpy as np\n",
    "import nltk\n",
    "import csv\n",
    "from nltk.corpus import stopwords\n",
    "# nltk.download('stopwords')\n",
    "from nltk.stem.porter import PorterStemmer \n",
    "ps=PorterStemmer()\n",
    "\n",
    "import tensorflow as tf"
   ]
  },
  {
   "cell_type": "code",
   "execution_count": 32,
   "metadata": {},
   "outputs": [],
   "source": [
    "def remove_stop_words(text: string):\n",
    "    return ' '.join([item for item in text.split() if item not in stopwords.words('english')])\n",
    "\n",
    "def remove_punctuations(text: string):\n",
    "    return \"\".join([char for char in text if char not in string.punctuation])\n",
    "\n",
    "def stem_text(text: string):\n",
    "    return [ps.stem(word) for word in text]\n",
    "\n",
    "def delete_usernames(text: str) -> str:\n",
    "    pattern = r'@\\w+'\n",
    "    return re.sub(pattern, '@user', text)"
   ]
  },
  {
   "cell_type": "code",
   "execution_count": 33,
   "metadata": {},
   "outputs": [
    {
     "name": "stdout",
     "output_type": "stream",
     "text": [
      "Just over a month ago, the train derailment in East Palestine, Ohio caused metric tons of toxic chemicals to spew into the air and water.   Many locals are already suffering health issues as a result, and tens of thousands pets and wildlife have been reported dead.I am infinitely more concerned with the raging chemical fire in East Palestine OH then I am with NORAD playing whack-a-mole with balloons.Jew here.  Words mean things.  When everything is called antisemitic, it helps provide cover for actual antisemitism.If you were on a mission to create more antisemitism in this country, you couldn’t do a better job than the ADL.Isn’t it crazy that almost no one in the political or media class talk about radical Islamic terrorism anymore. There’s no concern about it, and yet every emergency power that the government took in the name of terrorism, DHL, TSA, Patriot act, is just part of America now.You cannot possibly compare NATOs interventions to Russias invasions. It requires both a deliberate ignorance of the scale and to deliberately ignore the history of Russian genocide in Ukraine.  Dont deliberately ignore the history of Russian genocide in Ukraine.Every resident in East Palestine, OH should receive Medicare For All. Libby, Montana, was able to do this due to asbestos. Their property value has also decreased and theyve experienced pain and suffering.  FYI, Norfolk Southern donates to BOTH parties!.Dershowitz said Trump asked him at dinner why only 27% of Jews voted for him when he strongly supported Israel. Dersh said he told Trump Jews also care about gay rights, abortion, climate change, gun control and separation of church and state, and he was terrible on those.For every Repub trying to blame the Admin for E. Palestine, I continue to cite Steve Bannon, who again today placed the blame every step of the way on DeWine & Norfolk Southern. Says the RR and DeWine did release & burn of chems because they wanted to clear tracks ASAP to get. Rep. Troy Nehls is in E. Palestine and assures everyone that the city’s water is safe to drink, then demonstrates it by drinking a cup of tap water from the China Cafe. “The Fire Chief, everybody says the water is clean to drink.”. Right-wing “independent journalist” who flew in to Maui (he also went into E. Palestine) after the fire is confronted by angry residents while live on Steve Bannon’s show, who said he is exploiting them for politics and using up precious resources.Even Fox News knows that the deregulation by the trump admin were the cause of the disaster in East Palestine, OH. And Elaine Chao never visited train derailment sites, even when there were fatalities.OOPS! Looks like Fox News allowed a bit of truth to slip into their coverage of the train derailment story in East Palestine, OH — theyre blaming trump!!!  Be a real shame if everyone retweeted this.CNN had a literal lobbyist for Norfolk Southern on their panel to talk about East Palestine and didnt disclose it.A provision in Obamacare allows residents in areas deemed a public health disaster to be covered by Medicare for life. At the very least, East Palestine residents deserve this universal coverage after being exposed to a known carcinogen.Great work on this @user. Thanks to @user for giving him this platform and not forgetting about East Palestine!.On The Warning podcast this week, I spoke with @user, the executive director of the @user, about the alarming rise of extremism, and antisemitism specifically, in the United States.  Catch our full conversation here:. 4. Hatred, Lies and scapegoating are on the ballot as is a growing and dangerous menace of antisemitism.   The American experiment has been under a growing assault for seven years. It is not abating and it has become a frontal assault that is occurring in broad daylight.CONGRATULATIONS INDIANA !   The ATTORNEY GENERAL of INDIANA embraces ANTISEMITISM and KANYE WEST who promised to attack the JEWS.  THE MAGA MOVEMENT IS AMERICAN CANCER.The U.S. is doing what it always does, terrorize the world for corporate profits.   Here Seymour Hersh explains EXACTLY how the United States blew up The Nord Stream pipeline so US companies could sell more Natural Gas to Europe.    Were The Terrorists.  ….I know a few people in Israel right now wondering something.  Ill just say this: WE FUCKING WARNED YOU.The purpose of terrorism is to terrorize.A month ago, @user broke open the story of governmental decisions that deregulated the rail industry before the East Palestine disaster.  Today, @user spotlighted some of those revelations in the Senate hearing with Norfolk Southerns CEO.Corporate media has been lying about the East Palestine disaster by pretending Trump is the only perpetrator of rail deregulation.  The actual truth: The Obama, Trump and Biden administrations all played pivotal roles in that dereg.Imagine if wealthy investors had spoken out as forcefully for rail regulation as they spoke out for special depositor insurance.  Imagine if the government responded as quickly & forcefully to help East Palestine residents as it responded to help rich VCs.The company that made the toxic chemical that exploded in East Palestine funneled $2 million to Senate Republicans super PAC, and now the bill is stalled in the Senate: …. Literally everyone in Congress in February: “We must pass rail safety legislation.”  Six months later, after $2 million was funneled to the GOP from the maker of the toxic chemical that exploded in East Palestine.Im sorry but the Democrats you voted for are the reason for the Crime Bill.  The Dems You voted for are the reason for the funding for more cops.  The Dems you voted for are funding the Palestinian genocide. The GOP doesnt care and funded it, too. None of them care.Jimmy Dore calling out @user on his refusal to stand up to Israel:  “Why is it that you can stand up to the military industrial complex, you can stand up to Big Pharma, you can stand up to your own party, but you cant stand up to Israel?\".#NeverForget #NeverForgive   No plea deals for 9/11 terrorists!.Leftists in Israel trying to destroy conservative government through \"protests\" for daring to slightly constrain radical left judiciary power grabs.Biden gang walks back claim drone strike killed senior al-Qaeda leader  \"U.S. military officials are walking back claims that a recent strike in Syria killed an influential al-Qaeda figure, following assertions by the dead man’s family that he had no ties to terrorists but was a. Bush admin allowed 9/11-connected terrorist to speak at Pentagon!  … …. Leftist-run NY Times and WaPo Continue Smear Campaign Against Orthodox Jews As Antisemitic Hate Crimes Surge.Harmeet laid out the possible legal options for the residents of East Palestine, OH, who were sickened due to possible negligence of Norfolk Southern and gov’t officials.Angle: East Palestine residents are still begging for answers while being forced to live in a cloud of uncertainty and fear.East Palestine Mayor Trent Conaway: I really feel for our residents. Pothole Pete finally says he will travel to East Palestine. Hannity Grills Ramaswamy Denying He Said Aid to Israel Would Stop in 2028: ‘You Want Me to Read It?’.MUST WATCH: Senator JD Vance visits a creek flowing near the East Palestine train derailment and chemical burn. See what happens when he drags a stick along the creek bed.An East Palestine womans chickens all die following the controlled burn and train derailment.   Whats going on?. East Palestine, Ohio’s latest tourism video. Everything is fine!. Joy Behar says the residents of East Palestine got what they deserved because they voted for Trump.   For the record, this is 1000x worse than anything Don Lemon said. Will she be kicked off her show and forced to undergo sensitivy training?.Fox News just threw Trump under the bus (or in this case, train) — pinning him with responsibility for the East Palestine disaster.Republican leaders are telling 2 big lies about East Palestine — here’s the truth:.#HeyNext Commentary: Its not fair to expect law enforcement to be perfect - or to predict the future. It is fair to expect law enforcement to use the tools at their disposal to keep people from getting predictably massacred.Ramadan Mubarak to all of our Muslim friends and neighbors.Happy Passover to all of our Jewish friends and neighbors.Get this: They found dioxin far above safe levels in East Palestine water and the federal gov wont clean it up because Obama killed EPA proposal requiring the gov to lower the threshold for cleanup.  Democrats ignored the science and people will die because of it.You cannot say you care about women in Iran if you dont speak out for women in Palestine.There was nothing \"controlled\" about @user un-controlled burn in East Palestine. That was a chemical weapons attack.When the Biden administration sided with rail companies to prevent the workers from striking, they were siding with companies like Norfolk Southern, whose train derailment in East Palestine, Ohio sent plumes of poison gas into the air for days, putting all residents at risk.I mean look at this vile shit from the NYT. Israels military killed TERRORISTS. Palestinian terrorists killed SYNAGOGUE ATTENDEES. To the NYT, its all just a cycle of violence:. This is all part of a broader Leftist narrative that its the new right-wing Israeli government \"raising risk of escalation\" when 13-year-old terrorists shoot people going to synagogue, Hamas cheers, and the PA cuts off security cooperation. Look at this pathetic NYT headline:. I met this Israeli soldier while taking a tour of the Western Wall tunnels. It turns out he turns weapons of war into meaningful art.A Palestinian Arab murders seven Jews going to synagogue in Jerusalem, the historic capital of the Jewish people.  Many Palestinians celebrate. Hamas takes credit.   Media response: This is a cycle of violence. After all, Jews WERE going to shul in Jerusalem.The juxtaposition of rabid anti-Semite Rashida Tlaib attempting to perform a \"Nakba Day\" lamenting the existence of the State of Israel while Hamas fires missiles into the heart of Tel Aviv is pretty clarifying.Youre telling me -- not Bernie Sanders, who is making kissy-face with Rashida Tlaib over an event declaring Israels creation a disaster WHILE ROCKETS FALL ON TEL AVIV -- that its antisemitic to call out Bernies anti-Jewish garbage? GFY.RFK Jr: \"If you live in any of these other countries & youre gay, for example, you can be kiled for that. Israel is the only place where you have freedom. If youre a transvestite, if you have any other disident views, youd much rather be in Isreal. Isreal is going into the. Imperialists often raise the example of WWII & accusations of genocide to justify war. (E.g. incubator babies in Kuwait). But does the left have a response to the question of how to identify a Hitler-level threat, & what to do about it? Must it?  …. Watch my full exchange with RFK Jr. in which I challenge his “unconditional” support of Israel in light of the international consensus that Israel is an apartheid state.\n"
     ]
    }
   ],
   "source": [
    "before_corpus = \"\"\n",
    "after_corpus = \"\"\n",
    "\n",
    "with open(\"Pre-processing.csv\", 'r', newline='') as csvFile:\n",
    "    reader = csv.reader(csvFile)\n",
    "    next(reader) #skip header\n",
    "    for line in reader:\n",
    "        before_corpus+=line[3].strip()\n",
    "        after_corpus+=line[4].strip()\n",
    "\n",
    "before_corpus = delete_usernames(before_corpus)\n",
    "print(before_corpus)"
   ]
  }
 ],
 "metadata": {
  "kernelspec": {
   "display_name": "Python 3",
   "language": "python",
   "name": "python3"
  },
  "language_info": {
   "codemirror_mode": {
    "name": "ipython",
    "version": 3
   },
   "file_extension": ".py",
   "mimetype": "text/x-python",
   "name": "python",
   "nbconvert_exporter": "python",
   "pygments_lexer": "ipython3",
   "version": "3.12.1"
  }
 },
 "nbformat": 4,
 "nbformat_minor": 2
}
