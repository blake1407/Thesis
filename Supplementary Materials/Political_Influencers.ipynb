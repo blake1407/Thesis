{
 "cells": [
  {
   "cell_type": "code",
   "execution_count": 2,
   "metadata": {},
   "outputs": [],
   "source": [
    "import csv    "
   ]
  },
  {
   "cell_type": "code",
   "execution_count": 7,
   "metadata": {},
   "outputs": [
    {
     "name": "stdout",
     "output_type": "stream",
     "text": [
      "317\n",
      "317\n"
     ]
    }
   ],
   "source": [
    "file_path = '/Users/blakey/Desktop/Reddit-JSON-Parser/Supplementary Materials/followers_following_party_US.csv'\n",
    "account = []\n",
    "followers = []\n",
    "with open(file_path, 'r') as file:\n",
    "    csvFile = csv.reader(file)\n",
    "    header = next(csvFile)\n",
    "    for line in csvFile: \n",
    "        a = line[0]\n",
    "        f = int(line[4])\n",
    "        if a not in account:\n",
    "            account.append(a)\n",
    "            followers.append(f)\n",
    "print(len(account))\n",
    "\n",
    "\n",
    "#Remove duplicates\n",
    "sorted = [] \n",
    "for number in followers:\n",
    "    if number not in sorted:\n",
    "        sorted.append(number)\n",
    "\n",
    "sorted.sort(reverse=True) #Sort number from biggest to smallest\n",
    "# print(sorted)\n",
    "\n",
    "count = 0\n",
    "for a, f in zip(account, followers):\n",
    "    # if 25 >= f >= 7:\n",
    "    #     print(a)\n",
    "    #     count+=1\n",
    "    # if 4 > f >=3:\n",
    "    #     # print(a)\n",
    "    #     count+=1\n",
    "    if f >=3:\n",
    "        # print(a)\n",
    "        count+=1\n",
    "print(count)\n",
    "\n",
    "#Total 317 people"
   ]
  },
  {
   "cell_type": "code",
   "execution_count": 4,
   "metadata": {},
   "outputs": [
    {
     "name": "stdout",
     "output_type": "stream",
     "text": [
      "['washpost', 'america1stwomen', 'WedgeSquared', 'theadvocatebr', 'wvhouse', 'womenfortrump', 'PunchUpPod', 'ReasonFdn', 'nprpolitics', 'emcollective', 'EliasLawGroup', 'overheardpbs', 'OnStrikeShow', 'HoodtotheHoller', 'LibertarianPol']\n",
      "['CapitolJournal', 'politicallyga', 'BadFaithPod', 'JoyAnnReid']\n"
     ]
    }
   ],
   "source": [
    "total = ['CapitolJournal', 'politicallyga', 'washpost', 'america1stwomen', 'BadFaithPod', 'JoyAnnReid', 'WedgeSquared', 'theadvocatebr', 'wvhouse', 'womenfortrump', 'PunchUpPod', 'ReasonFdn', 'nprpolitics', 'emcollective', 'EliasLawGroup', 'overheardpbs', 'OnStrikeShow', 'HoodtotheHoller', 'LibertarianPol']\n",
    "file_path = '/Users/blakey/Desktop/Reddit-JSON-Parser/Supplementary Materials/Accounts Kept'\n",
    "accounts_kept = []\n",
    "error = []\n",
    "count = 0\n",
    "with open(file_path, 'r') as file:\n",
    "    for line in file:\n",
    "        account = line[1:].strip()\n",
    "        accounts_kept.append(account)\n",
    "\n",
    "correct = []\n",
    "for a in total: \n",
    "    if a in accounts_kept:\n",
    "        correct.append(a)\n",
    "    else: \n",
    "        error.append(a)\n",
    "        \n",
    "\n",
    "print(correct)\n",
    "print(error)"
   ]
  }
 ],
 "metadata": {
  "kernelspec": {
   "display_name": "Python 3",
   "language": "python",
   "name": "python3"
  },
  "language_info": {
   "codemirror_mode": {
    "name": "ipython",
    "version": 3
   },
   "file_extension": ".py",
   "mimetype": "text/x-python",
   "name": "python",
   "nbconvert_exporter": "python",
   "pygments_lexer": "ipython3",
   "version": "3.12.1"
  }
 },
 "nbformat": 4,
 "nbformat_minor": 2
}
