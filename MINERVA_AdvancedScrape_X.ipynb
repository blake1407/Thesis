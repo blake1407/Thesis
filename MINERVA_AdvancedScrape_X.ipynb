{
 "cells": [
  {
   "cell_type": "code",
   "execution_count": 21,
   "id": "ff4fd40d",
   "metadata": {},
   "outputs": [],
   "source": [
    "from urllib.request import urlopen  \n",
    "from tqdm import tqdm\n",
    "from lxml import html\n",
    "from datetime import datetime\n",
    "from collections import Counter\n",
    "import json\n",
    "import requests\n",
    "import time\n",
    "import re\n",
    "# from screeninfo import get_monitors\n",
    "import pandas as pd\n",
    "import random\n",
    "import os\n",
    "import ast\n",
    "\n",
    "from selenium import webdriver\n",
    "from selenium.webdriver.common.by import By\n",
    "from selenium.webdriver.support.ui import WebDriverWait\n",
    "from selenium.webdriver.support import expected_conditions as EC\n",
    "from selenium.common.exceptions import TimeoutException, NoSuchElementException\n",
    "from selenium.webdriver.chrome.service import Service as ChromeService\n",
    "from webdriver_manager.chrome import ChromeDriverManager\n",
    "from selenium.webdriver.common.keys import Keys\n",
    "from bs4 import BeautifulSoup"
   ]
  },
  {
   "cell_type": "markdown",
   "id": "3cfe0483",
   "metadata": {},
   "source": [
    "# US"
   ]
  },
  {
   "cell_type": "code",
   "execution_count": 22,
   "id": "6cef141a",
   "metadata": {},
   "outputs": [
    {
     "name": "stdout",
     "output_type": "stream",
     "text": [
      "['ThomasEWoods', 'RealSpikeCohen', 'ComicDaveSmith', 'FreemansMind96', 'HannahDCox', 'checkmatestate', 'SabbySabs2', 'MsLaToshaBrown', 'RonFilipkowski', 'KyleKulinski', 'funder', 'mmpadellan', 'krystalball', 'SteveSchmidtSES', 'robreiner', 'marceelias', 'DavidAFrench', 'BillOReilly', 'jimmy_dore', 'TheRickWilson', 'davidsirota', 'gtconway3d', 'spann', 'Jaybefaunt', 'ProudSocialist', 'BernardKerik', 'jeff_poor', 'TomFitton', 'brad_polumbo', 'IngrahamAngle', 'seanhannity', 'charliekirk11', 'TuckerCarlson', 'AnnCoulter', 'EricTrump', 'LaraLeaTrump', 'PatTheSocialist', 'TristanSnell', 'NancyAFrench', 'donwinslow', 'KyleClark', 'BobMurphyEcon', 'bshelburne', 'PatrickSvitek', 'evanasmith', 'BarbMcQuade', 'JohnArchibald', 'natsechobbyist', 'davidhogg111', 'anthonyzenkus', 'benshapiro', 'briebriejoy', 'fred_guttenberg', 'LeeCamp', 'JordanChariton', 'kylegriffin1', 'elonmusk', 'itsJeffTiedrich', 'bluestein', 'SarcasmStardust', 'SocialistMMA', 'Josh_Moon', 'WarOnDumb', 'toddcstacy', 'maryltrump', 'JoJoFromJerz', 'DineshDSouza', 'dbongino', 'TheLeoTerrell', 'donaldjtrumpjr', 'diamondandsilk', 'spiritofho', 'MollyJongFast', 'FiorellaIsabelM', 'aaronjmate']\n",
      "Number of followers to process: 75\n"
     ]
    }
   ],
   "source": [
    "#replace as needed\n",
    "folder_name = \"Supplementary Materials\"\n",
    "followers_path = os.path.join(folder_name, \"followers_US.txt\")\n",
    "completed_path = os.path.join(folder_name, \"completed_accounts\")\n",
    "\n",
    "followers_US = []\n",
    "# with open(r'''X\\followers_US.txt''', 'r') as f: # PC\n",
    "with open(followers_path,'r') as f: #List of accounts from raw followers list\n",
    "    for line in f:\n",
    "        if \"@\" in line:\n",
    "            follower = line.strip()[1:]\n",
    "            if follower not in followers_US:\n",
    "                # print(follower)\n",
    "                followers_US.append(follower)\n",
    "f.close()\n",
    "\n",
    "# with open(completed_path, 'r') as f: #Get list of accounts that are completed\n",
    "#     for line in f:\n",
    "#         if line.startswith('total'):\n",
    "#             completed_list = ast.literal_eval(line[8:])\n",
    "\n",
    "#Filter out the ones that are completed\n",
    "# followers_US_set = set(followers_US)\n",
    "# followers_US = [f for f in followers_US_set if f not in completed_list]\n",
    "\n",
    "print(followers_US)\n",
    "\n",
    "print(f\"Number of followers to process: {len(followers_US)}\")"
   ]
  },
  {
   "cell_type": "code",
   "execution_count": 23,
   "id": "3565ce3b",
   "metadata": {},
   "outputs": [],
   "source": [
    "tweets_dict_US = {}\n",
    "\n",
    "# Function to check if the Fetch More button is present\n",
    "def is_element_present(driver, xpath):\n",
    "    try:\n",
    "        element = driver.find_element(By.XPATH, xpath)\n",
    "        return element.is_displayed()\n",
    "    except NoSuchElementException:\n",
    "        return False"
   ]
  },
  {
   "cell_type": "code",
   "execution_count": 24,
   "id": "1c11ae3f",
   "metadata": {},
   "outputs": [],
   "source": [
    "# driver = webdriver.Chrome()\n",
    "driver = webdriver.Chrome(service=ChromeService(ChromeDriverManager().install()))\n",
    "driver.get('https://twitter.com/i/flow/login')\n",
    "wait = WebDriverWait(driver, 10)\n"
   ]
  },
  {
   "cell_type": "code",
   "execution_count": 25,
   "id": "6f177a2f",
   "metadata": {},
   "outputs": [],
   "source": [
    "### Log in\n",
    "\n",
    "# Username\n",
    "username = wait.until(\n",
    "    EC.presence_of_element_located((By.CSS_SELECTOR, 'input[autocomplete=username]'))\n",
    ")\n",
    "username.send_keys(\"blaketrn@udel.edu\")\n",
    "time.sleep(3)\n",
    "login_button = wait.until(\n",
    "    EC.presence_of_element_located((By.CSS_SELECTOR, '[role=button].r-13qz1uu'))\n",
    ")\n",
    "login_button.click()\n",
    "time.sleep(3)\n",
    "\n",
    "try: \n",
    "    # Password\n",
    "    password = wait.until(\n",
    "        EC.presence_of_element_located((By.CSS_SELECTOR, '[type=password]'))\n",
    "    )\n",
    "    password.send_keys(\"Idontevenknow1!\")\n",
    "    time.sleep(3)\n",
    "    login_button = wait.until(\n",
    "        EC.presence_of_element_located((By.CSS_SELECTOR, '[data-testid*=Login_Button]'))\n",
    "    )\n",
    "    login_button.click()\n",
    "    time.sleep(3)\n",
    "    \n",
    "except: # if we get an error\n",
    "    username = wait.until(\n",
    "        EC.presence_of_element_located((By.CSS_SELECTOR, \"[data-testid*=ocfEnterTextTextInput]\"))\n",
    "    )\n",
    "    username.send_keys(\"HaHoangNha55719\")\n",
    "    time.sleep(3)\n",
    "    \n",
    "    next_button = wait.until(\n",
    "        EC.presence_of_element_located((By.CSS_SELECTOR, \"[data-testid*=ocfEnterTextNextButton]\"))\n",
    "    )\n",
    "    next_button.click()\n",
    "    time.sleep(3)\n",
    "    \n",
    "    password = wait.until(\n",
    "        EC.presence_of_element_located((By.CSS_SELECTOR, \"[name*=password]\"))\n",
    "    )\n",
    "    password.send_keys(\"Idontevenknow1!\")\n",
    "    time.sleep(3)\n",
    "    \n",
    "    login_button = wait.until(\n",
    "        EC.presence_of_element_located((By.CSS_SELECTOR, \"[data-testid*=LoginForm_Login_Button]\"))\n",
    "    )\n",
    "    login_button.click()\n",
    "    time.sleep(3)\n",
    "    "
   ]
  },
  {
   "cell_type": "code",
   "execution_count": 26,
   "id": "70948d38",
   "metadata": {},
   "outputs": [
    {
     "name": "stderr",
     "output_type": "stream",
     "text": [
      "  0%|          | 0/75 [00:00<?, ?it/s]"
     ]
    },
    {
     "name": "stdout",
     "output_type": "stream",
     "text": [
      "ThomasEWoods\n"
     ]
    },
    {
     "name": "stderr",
     "output_type": "stream",
     "text": [
      "  1%|▏         | 1/75 [01:22<1:41:23, 82.21s/it]"
     ]
    },
    {
     "name": "stdout",
     "output_type": "stream",
     "text": [
      "RealSpikeCohen\n"
     ]
    },
    {
     "name": "stderr",
     "output_type": "stream",
     "text": [
      "  3%|▎         | 2/75 [02:44<1:40:03, 82.24s/it]"
     ]
    },
    {
     "name": "stdout",
     "output_type": "stream",
     "text": [
      "ComicDaveSmith\n"
     ]
    },
    {
     "name": "stderr",
     "output_type": "stream",
     "text": [
      "  4%|▍         | 3/75 [04:06<1:38:36, 82.18s/it]"
     ]
    },
    {
     "name": "stdout",
     "output_type": "stream",
     "text": [
      "FreemansMind96\n"
     ]
    },
    {
     "name": "stderr",
     "output_type": "stream",
     "text": [
      "  5%|▌         | 4/75 [04:48<1:18:30, 66.34s/it]"
     ]
    },
    {
     "name": "stdout",
     "output_type": "stream",
     "text": [
      "5 Accounts passed, sleeping for 5 minutes.\n",
      "HannahDCox\n"
     ]
    },
    {
     "name": "stderr",
     "output_type": "stream",
     "text": [
      "  7%|▋         | 5/75 [10:44<3:19:13, 170.76s/it]"
     ]
    },
    {
     "name": "stdout",
     "output_type": "stream",
     "text": [
      "checkmatestate\n"
     ]
    },
    {
     "name": "stderr",
     "output_type": "stream",
     "text": [
      "  8%|▊         | 6/75 [11:28<2:26:40, 127.54s/it]"
     ]
    },
    {
     "name": "stdout",
     "output_type": "stream",
     "text": [
      "SabbySabs2\n",
      "SabbySabs2 - 7 - Retry button appeared.\n",
      "SabbySabs2 - 7 - Retry button appeared.\n"
     ]
    },
    {
     "name": "stderr",
     "output_type": "stream",
     "text": [
      "  9%|▉         | 7/75 [15:30<3:07:12, 165.18s/it]"
     ]
    },
    {
     "name": "stdout",
     "output_type": "stream",
     "text": [
      "MsLaToshaBrown\n"
     ]
    },
    {
     "name": "stderr",
     "output_type": "stream",
     "text": [
      " 11%|█         | 8/75 [16:19<2:23:00, 128.07s/it]"
     ]
    },
    {
     "name": "stdout",
     "output_type": "stream",
     "text": [
      "RonFilipkowski\n"
     ]
    },
    {
     "name": "stderr",
     "output_type": "stream",
     "text": [
      " 12%|█▏        | 9/75 [17:09<1:54:11, 103.80s/it]"
     ]
    },
    {
     "name": "stdout",
     "output_type": "stream",
     "text": [
      "5 Accounts passed, sleeping for 5 minutes.\n",
      "KyleKulinski\n"
     ]
    },
    {
     "name": "stderr",
     "output_type": "stream",
     "text": [
      " 13%|█▎        | 10/75 [22:54<3:13:05, 178.24s/it]"
     ]
    },
    {
     "name": "stdout",
     "output_type": "stream",
     "text": [
      "funder\n"
     ]
    },
    {
     "name": "stderr",
     "output_type": "stream",
     "text": [
      " 15%|█▍        | 11/75 [23:39<2:26:23, 137.23s/it]"
     ]
    },
    {
     "name": "stdout",
     "output_type": "stream",
     "text": [
      "mmpadellan\n"
     ]
    },
    {
     "name": "stderr",
     "output_type": "stream",
     "text": [
      " 16%|█▌        | 12/75 [24:23<1:54:18, 108.87s/it]"
     ]
    },
    {
     "name": "stdout",
     "output_type": "stream",
     "text": [
      "krystalball\n"
     ]
    },
    {
     "name": "stderr",
     "output_type": "stream",
     "text": [
      " 17%|█▋        | 13/75 [25:07<1:32:19, 89.35s/it] "
     ]
    },
    {
     "name": "stdout",
     "output_type": "stream",
     "text": [
      "SteveSchmidtSES\n"
     ]
    },
    {
     "name": "stderr",
     "output_type": "stream",
     "text": [
      " 19%|█▊        | 14/75 [25:53<1:17:30, 76.24s/it]"
     ]
    },
    {
     "name": "stdout",
     "output_type": "stream",
     "text": [
      "5 Accounts passed, sleeping for 5 minutes.\n",
      "robreiner\n"
     ]
    },
    {
     "name": "stderr",
     "output_type": "stream",
     "text": [
      " 20%|██        | 15/75 [31:40<2:37:58, 157.98s/it]"
     ]
    },
    {
     "name": "stdout",
     "output_type": "stream",
     "text": [
      "marceelias\n"
     ]
    },
    {
     "name": "stderr",
     "output_type": "stream",
     "text": [
      " 21%|██▏       | 16/75 [32:20<2:00:11, 122.23s/it]"
     ]
    },
    {
     "name": "stdout",
     "output_type": "stream",
     "text": [
      "DavidAFrench\n"
     ]
    },
    {
     "name": "stderr",
     "output_type": "stream",
     "text": [
      " 23%|██▎       | 17/75 [33:07<1:36:23, 99.72s/it] "
     ]
    },
    {
     "name": "stdout",
     "output_type": "stream",
     "text": [
      "BillOReilly\n"
     ]
    },
    {
     "name": "stderr",
     "output_type": "stream",
     "text": [
      " 24%|██▍       | 18/75 [33:52<1:19:10, 83.35s/it]"
     ]
    },
    {
     "name": "stdout",
     "output_type": "stream",
     "text": [
      "jimmy_dore\n"
     ]
    },
    {
     "name": "stderr",
     "output_type": "stream",
     "text": [
      " 25%|██▌       | 19/75 [34:38<1:07:09, 71.95s/it]"
     ]
    },
    {
     "name": "stdout",
     "output_type": "stream",
     "text": [
      "5 Accounts passed, sleeping for 5 minutes.\n",
      "TheRickWilson\n"
     ]
    },
    {
     "name": "stderr",
     "output_type": "stream",
     "text": [
      " 27%|██▋       | 20/75 [40:30<2:23:03, 156.07s/it]"
     ]
    },
    {
     "name": "stdout",
     "output_type": "stream",
     "text": [
      "davidsirota\n"
     ]
    },
    {
     "name": "stderr",
     "output_type": "stream",
     "text": [
      " 28%|██▊       | 21/75 [41:18<1:51:25, 123.81s/it]"
     ]
    },
    {
     "name": "stdout",
     "output_type": "stream",
     "text": [
      "gtconway3d\n"
     ]
    },
    {
     "name": "stderr",
     "output_type": "stream",
     "text": [
      " 29%|██▉       | 22/75 [42:06<1:29:06, 100.88s/it]"
     ]
    },
    {
     "name": "stdout",
     "output_type": "stream",
     "text": [
      "spann\n"
     ]
    },
    {
     "name": "stderr",
     "output_type": "stream",
     "text": [
      " 31%|███       | 23/75 [43:06<1:16:49, 88.65s/it] "
     ]
    },
    {
     "name": "stdout",
     "output_type": "stream",
     "text": [
      "Jaybefaunt\n"
     ]
    },
    {
     "name": "stderr",
     "output_type": "stream",
     "text": [
      " 32%|███▏      | 24/75 [43:59<1:06:22, 78.10s/it]"
     ]
    },
    {
     "name": "stdout",
     "output_type": "stream",
     "text": [
      "5 Accounts passed, sleeping for 5 minutes.\n",
      "ProudSocialist\n"
     ]
    },
    {
     "name": "stderr",
     "output_type": "stream",
     "text": [
      " 33%|███▎      | 25/75 [49:46<2:12:17, 158.75s/it]"
     ]
    },
    {
     "name": "stdout",
     "output_type": "stream",
     "text": [
      "BernardKerik\n"
     ]
    },
    {
     "name": "stderr",
     "output_type": "stream",
     "text": [
      " 35%|███▍      | 26/75 [50:34<1:42:22, 125.36s/it]"
     ]
    },
    {
     "name": "stdout",
     "output_type": "stream",
     "text": [
      "jeff_poor\n"
     ]
    },
    {
     "name": "stderr",
     "output_type": "stream",
     "text": [
      " 36%|███▌      | 27/75 [51:19<1:21:05, 101.36s/it]"
     ]
    },
    {
     "name": "stdout",
     "output_type": "stream",
     "text": [
      "TomFitton\n"
     ]
    },
    {
     "name": "stderr",
     "output_type": "stream",
     "text": [
      " 37%|███▋      | 28/75 [52:04<1:06:11, 84.49s/it] "
     ]
    },
    {
     "name": "stdout",
     "output_type": "stream",
     "text": [
      "brad_polumbo\n"
     ]
    },
    {
     "name": "stderr",
     "output_type": "stream",
     "text": [
      " 39%|███▊      | 29/75 [52:50<55:55, 72.94s/it]  "
     ]
    },
    {
     "name": "stdout",
     "output_type": "stream",
     "text": [
      "5 Accounts passed, sleeping for 5 minutes.\n",
      "IngrahamAngle\n"
     ]
    },
    {
     "name": "stderr",
     "output_type": "stream",
     "text": [
      " 40%|████      | 30/75 [58:36<1:56:12, 154.94s/it]"
     ]
    },
    {
     "name": "stdout",
     "output_type": "stream",
     "text": [
      "seanhannity\n"
     ]
    },
    {
     "name": "stderr",
     "output_type": "stream",
     "text": [
      " 41%|████▏     | 31/75 [59:21<1:29:26, 121.96s/it]"
     ]
    },
    {
     "name": "stdout",
     "output_type": "stream",
     "text": [
      "charliekirk11\n"
     ]
    },
    {
     "name": "stderr",
     "output_type": "stream",
     "text": [
      " 43%|████▎     | 32/75 [1:00:07<1:10:52, 98.89s/it]"
     ]
    },
    {
     "name": "stdout",
     "output_type": "stream",
     "text": [
      "TuckerCarlson\n"
     ]
    },
    {
     "name": "stderr",
     "output_type": "stream",
     "text": [
      " 44%|████▍     | 33/75 [1:00:52<58:00, 82.87s/it]  "
     ]
    },
    {
     "name": "stdout",
     "output_type": "stream",
     "text": [
      "AnnCoulter\n"
     ]
    },
    {
     "name": "stderr",
     "output_type": "stream",
     "text": [
      " 45%|████▌     | 34/75 [1:01:53<52:09, 76.32s/it]"
     ]
    },
    {
     "name": "stdout",
     "output_type": "stream",
     "text": [
      "5 Accounts passed, sleeping for 5 minutes.\n",
      "EricTrump\n"
     ]
    },
    {
     "name": "stderr",
     "output_type": "stream",
     "text": [
      " 47%|████▋     | 35/75 [1:07:39<1:44:49, 157.24s/it]"
     ]
    },
    {
     "name": "stdout",
     "output_type": "stream",
     "text": [
      "LaraLeaTrump\n"
     ]
    },
    {
     "name": "stderr",
     "output_type": "stream",
     "text": [
      " 48%|████▊     | 36/75 [1:08:25<1:20:26, 123.76s/it]"
     ]
    },
    {
     "name": "stdout",
     "output_type": "stream",
     "text": [
      "PatTheSocialist\n"
     ]
    },
    {
     "name": "stderr",
     "output_type": "stream",
     "text": [
      " 49%|████▉     | 37/75 [1:09:11<1:03:43, 100.61s/it]"
     ]
    },
    {
     "name": "stdout",
     "output_type": "stream",
     "text": [
      "TristanSnell\n"
     ]
    },
    {
     "name": "stderr",
     "output_type": "stream",
     "text": [
      " 51%|█████     | 38/75 [1:09:56<51:45, 83.94s/it]   "
     ]
    },
    {
     "name": "stdout",
     "output_type": "stream",
     "text": [
      "NancyAFrench\n"
     ]
    },
    {
     "name": "stderr",
     "output_type": "stream",
     "text": [
      " 52%|█████▏    | 39/75 [1:10:42<43:30, 72.52s/it]"
     ]
    },
    {
     "name": "stdout",
     "output_type": "stream",
     "text": [
      "5 Accounts passed, sleeping for 5 minutes.\n",
      "donwinslow\n"
     ]
    },
    {
     "name": "stderr",
     "output_type": "stream",
     "text": [
      " 53%|█████▎    | 40/75 [1:16:29<1:30:13, 154.67s/it]"
     ]
    },
    {
     "name": "stdout",
     "output_type": "stream",
     "text": [
      "KyleClark\n"
     ]
    },
    {
     "name": "stderr",
     "output_type": "stream",
     "text": [
      " 55%|█████▍    | 41/75 [1:17:24<1:10:48, 124.96s/it]"
     ]
    },
    {
     "name": "stdout",
     "output_type": "stream",
     "text": [
      "BobMurphyEcon\n"
     ]
    },
    {
     "name": "stderr",
     "output_type": "stream",
     "text": [
      " 56%|█████▌    | 42/75 [1:18:10<55:36, 101.09s/it]  "
     ]
    },
    {
     "name": "stdout",
     "output_type": "stream",
     "text": [
      "bshelburne\n"
     ]
    },
    {
     "name": "stderr",
     "output_type": "stream",
     "text": [
      " 57%|█████▋    | 43/75 [1:18:56<45:06, 84.58s/it] "
     ]
    },
    {
     "name": "stdout",
     "output_type": "stream",
     "text": [
      "PatrickSvitek\n"
     ]
    },
    {
     "name": "stderr",
     "output_type": "stream",
     "text": [
      " 59%|█████▊    | 44/75 [1:19:42<37:43, 73.02s/it]"
     ]
    },
    {
     "name": "stdout",
     "output_type": "stream",
     "text": [
      "5 Accounts passed, sleeping for 5 minutes.\n",
      "evanasmith\n"
     ]
    },
    {
     "name": "stderr",
     "output_type": "stream",
     "text": [
      " 60%|██████    | 45/75 [1:25:28<1:17:33, 155.12s/it]"
     ]
    },
    {
     "name": "stdout",
     "output_type": "stream",
     "text": [
      "BarbMcQuade\n"
     ]
    },
    {
     "name": "stderr",
     "output_type": "stream",
     "text": [
      " 61%|██████▏   | 46/75 [1:26:15<59:10, 122.43s/it]  "
     ]
    },
    {
     "name": "stdout",
     "output_type": "stream",
     "text": [
      "JohnArchibald\n"
     ]
    },
    {
     "name": "stderr",
     "output_type": "stream",
     "text": [
      " 63%|██████▎   | 47/75 [1:27:02<46:37, 99.92s/it] "
     ]
    },
    {
     "name": "stdout",
     "output_type": "stream",
     "text": [
      "natsechobbyist\n"
     ]
    },
    {
     "name": "stderr",
     "output_type": "stream",
     "text": [
      " 64%|██████▍   | 48/75 [1:27:51<38:02, 84.55s/it]"
     ]
    },
    {
     "name": "stdout",
     "output_type": "stream",
     "text": [
      "davidhogg111\n"
     ]
    },
    {
     "name": "stderr",
     "output_type": "stream",
     "text": [
      " 65%|██████▌   | 49/75 [1:28:36<31:36, 72.93s/it]"
     ]
    },
    {
     "name": "stdout",
     "output_type": "stream",
     "text": [
      "5 Accounts passed, sleeping for 5 minutes.\n",
      "anthonyzenkus\n"
     ]
    },
    {
     "name": "stderr",
     "output_type": "stream",
     "text": [
      " 67%|██████▋   | 50/75 [1:34:22<1:04:26, 154.66s/it]"
     ]
    },
    {
     "name": "stdout",
     "output_type": "stream",
     "text": [
      "benshapiro\n"
     ]
    },
    {
     "name": "stderr",
     "output_type": "stream",
     "text": [
      " 68%|██████▊   | 51/75 [1:35:07<48:40, 121.67s/it]  "
     ]
    },
    {
     "name": "stdout",
     "output_type": "stream",
     "text": [
      "briebriejoy\n"
     ]
    },
    {
     "name": "stderr",
     "output_type": "stream",
     "text": [
      " 69%|██████▉   | 52/75 [1:35:52<37:52, 98.80s/it] "
     ]
    },
    {
     "name": "stdout",
     "output_type": "stream",
     "text": [
      "fred_guttenberg\n"
     ]
    },
    {
     "name": "stderr",
     "output_type": "stream",
     "text": [
      " 71%|███████   | 53/75 [1:36:39<30:32, 83.32s/it]"
     ]
    },
    {
     "name": "stdout",
     "output_type": "stream",
     "text": [
      "LeeCamp\n"
     ]
    },
    {
     "name": "stderr",
     "output_type": "stream",
     "text": [
      " 72%|███████▏  | 54/75 [1:37:29<25:39, 73.32s/it]"
     ]
    },
    {
     "name": "stdout",
     "output_type": "stream",
     "text": [
      "5 Accounts passed, sleeping for 5 minutes.\n",
      "JordanChariton\n"
     ]
    },
    {
     "name": "stderr",
     "output_type": "stream",
     "text": [
      " 73%|███████▎  | 55/75 [1:43:16<51:49, 155.48s/it]"
     ]
    },
    {
     "name": "stdout",
     "output_type": "stream",
     "text": [
      "kylegriffin1\n"
     ]
    },
    {
     "name": "stderr",
     "output_type": "stream",
     "text": [
      " 75%|███████▍  | 56/75 [1:44:04<38:58, 123.07s/it]"
     ]
    },
    {
     "name": "stdout",
     "output_type": "stream",
     "text": [
      "elonmusk\n"
     ]
    },
    {
     "name": "stderr",
     "output_type": "stream",
     "text": [
      " 76%|███████▌  | 57/75 [1:44:51<30:03, 100.17s/it]"
     ]
    },
    {
     "name": "stdout",
     "output_type": "stream",
     "text": [
      "itsJeffTiedrich\n"
     ]
    },
    {
     "name": "stderr",
     "output_type": "stream",
     "text": [
      " 77%|███████▋  | 58/75 [1:45:38<23:52, 84.27s/it] "
     ]
    },
    {
     "name": "stdout",
     "output_type": "stream",
     "text": [
      "bluestein\n"
     ]
    },
    {
     "name": "stderr",
     "output_type": "stream",
     "text": [
      " 79%|███████▊  | 59/75 [1:46:28<19:43, 73.96s/it]"
     ]
    },
    {
     "name": "stdout",
     "output_type": "stream",
     "text": [
      "5 Accounts passed, sleeping for 5 minutes.\n",
      "SarcasmStardust\n"
     ]
    },
    {
     "name": "stderr",
     "output_type": "stream",
     "text": [
      " 80%|████████  | 60/75 [1:52:14<38:53, 155.59s/it]"
     ]
    },
    {
     "name": "stdout",
     "output_type": "stream",
     "text": [
      "SocialistMMA\n"
     ]
    },
    {
     "name": "stderr",
     "output_type": "stream",
     "text": [
      " 81%|████████▏ | 61/75 [1:53:01<28:43, 123.10s/it]"
     ]
    },
    {
     "name": "stdout",
     "output_type": "stream",
     "text": [
      "Josh_Moon\n"
     ]
    },
    {
     "name": "stderr",
     "output_type": "stream",
     "text": [
      " 83%|████████▎ | 62/75 [1:53:47<21:39, 99.94s/it] "
     ]
    },
    {
     "name": "stdout",
     "output_type": "stream",
     "text": [
      "WarOnDumb\n"
     ]
    },
    {
     "name": "stderr",
     "output_type": "stream",
     "text": [
      " 84%|████████▍ | 63/75 [1:54:38<17:02, 85.22s/it]"
     ]
    },
    {
     "name": "stdout",
     "output_type": "stream",
     "text": [
      "toddcstacy\n"
     ]
    },
    {
     "name": "stderr",
     "output_type": "stream",
     "text": [
      " 85%|████████▌ | 64/75 [1:55:29<13:44, 74.92s/it]"
     ]
    },
    {
     "name": "stdout",
     "output_type": "stream",
     "text": [
      "5 Accounts passed, sleeping for 5 minutes.\n",
      "maryltrump\n"
     ]
    },
    {
     "name": "stderr",
     "output_type": "stream",
     "text": [
      " 87%|████████▋ | 65/75 [2:01:16<26:07, 156.75s/it]"
     ]
    },
    {
     "name": "stdout",
     "output_type": "stream",
     "text": [
      "JoJoFromJerz\n"
     ]
    },
    {
     "name": "stderr",
     "output_type": "stream",
     "text": [
      " 88%|████████▊ | 66/75 [2:02:06<18:41, 124.66s/it]"
     ]
    },
    {
     "name": "stdout",
     "output_type": "stream",
     "text": [
      "DineshDSouza\n"
     ]
    },
    {
     "name": "stderr",
     "output_type": "stream",
     "text": [
      " 89%|████████▉ | 67/75 [2:02:58<13:43, 102.97s/it]"
     ]
    },
    {
     "name": "stdout",
     "output_type": "stream",
     "text": [
      "dbongino\n"
     ]
    },
    {
     "name": "stderr",
     "output_type": "stream",
     "text": [
      " 91%|█████████ | 68/75 [2:03:38<09:48, 84.04s/it] "
     ]
    },
    {
     "name": "stdout",
     "output_type": "stream",
     "text": [
      "TheLeoTerrell\n"
     ]
    },
    {
     "name": "stderr",
     "output_type": "stream",
     "text": [
      " 92%|█████████▏| 69/75 [2:04:25<07:17, 72.87s/it]"
     ]
    },
    {
     "name": "stdout",
     "output_type": "stream",
     "text": [
      "5 Accounts passed, sleeping for 5 minutes.\n",
      "donaldjtrumpjr\n"
     ]
    },
    {
     "name": "stderr",
     "output_type": "stream",
     "text": [
      " 93%|█████████▎| 70/75 [2:10:18<13:04, 156.84s/it]"
     ]
    },
    {
     "name": "stdout",
     "output_type": "stream",
     "text": [
      "diamondandsilk\n"
     ]
    },
    {
     "name": "stderr",
     "output_type": "stream",
     "text": [
      " 95%|█████████▍| 71/75 [2:11:09<08:20, 125.05s/it]"
     ]
    },
    {
     "name": "stdout",
     "output_type": "stream",
     "text": [
      "spiritofho\n"
     ]
    },
    {
     "name": "stderr",
     "output_type": "stream",
     "text": [
      " 96%|█████████▌| 72/75 [2:12:00<05:08, 102.97s/it]"
     ]
    },
    {
     "name": "stdout",
     "output_type": "stream",
     "text": [
      "MollyJongFast\n"
     ]
    },
    {
     "name": "stderr",
     "output_type": "stream",
     "text": [
      " 97%|█████████▋| 73/75 [2:12:52<02:55, 87.64s/it] "
     ]
    },
    {
     "name": "stdout",
     "output_type": "stream",
     "text": [
      "FiorellaIsabelM\n"
     ]
    },
    {
     "name": "stderr",
     "output_type": "stream",
     "text": [
      " 99%|█████████▊| 74/75 [2:13:41<01:15, 75.89s/it]"
     ]
    },
    {
     "name": "stdout",
     "output_type": "stream",
     "text": [
      "5 Accounts passed, sleeping for 5 minutes.\n",
      "aaronjmate\n"
     ]
    },
    {
     "name": "stderr",
     "output_type": "stream",
     "text": [
      "100%|██████████| 75/75 [2:19:29<00:00, 111.59s/it]"
     ]
    },
    {
     "name": "stdout",
     "output_type": "stream",
     "text": [
      "Unprocessed accounts for this run:\n",
      "@SabbySabs2\n",
      "\n",
      "@SabbySabs2\n",
      "\n"
     ]
    },
    {
     "name": "stderr",
     "output_type": "stream",
     "text": [
      "\n"
     ]
    }
   ],
   "source": [
    "count = 1\n",
    "\n",
    "keyword1 = \"(Gaza* OR Israel* OR (West Bank) OR (Tel Aviv) OR (Tel Aviv-Yafo) OR Bedouin* OR Palestin* OR Middle OR East* OR Middle OR Eastern OR Jew* OR rabbi OR Muslim* OR Islam* OR Jihad OR Antisemiti* OR Zionis* OR IDF)\"\n",
    "keyword2 = \"(IOF OR Hamas OR Massacre OR Genocide OR Ceasefire OR Terroris* OR Netanyahu OR Histadrut OR Haniyeh OR Yahya OR Sinwar OR Fatah OR Mohammed OR Deif OR Rafah OR Khan OR Younis OR Ben-Gvir OR Abbas OR Gallant)\"\n",
    "hashtags = \"(# OR #IsraelPalestineWar OR #IsraelGazaWar OR #Gazabombing OR #CeasefireNOW OR #FreePalestine OR #StrikeForGaza OR #Gazagenocide)\"\n",
    "until = \"2024-10-07\"\n",
    "since = \"2023-10-07\"\n",
    "\n",
    "unprocessed = []\n",
    "\n",
    "for profile in tqdm(followers_US):\n",
    "    if count%5 == 0:\n",
    "        print(\"5 Accounts passed, sleeping for 5 minutes.\")\n",
    "        time.sleep(300)\n",
    "    \n",
    "    if profile not in tweets_dict_US.keys():\n",
    "        print(profile)\n",
    "\n",
    "        tweets_dict_US[profile] = []\n",
    "\n",
    "        ### Begin scrape\n",
    "        time.sleep(3)\n",
    "\n",
    "        # Search\n",
    "        search_button = wait.until(\n",
    "            EC.presence_of_element_located((By.CSS_SELECTOR, '[aria-label=\"Search and explore\"]'))\n",
    "        )\n",
    "        search_button.click()\n",
    "        time.sleep(3)\n",
    "\n",
    "        search_bar = wait.until(\n",
    "            EC.presence_of_element_located((By.CSS_SELECTOR, '[aria-label=\"Search\"]'))\n",
    "        )\n",
    "        search_bar.click()\n",
    "        time.sleep(3)\n",
    "\n",
    "        for i in range(2): \n",
    "            search_query = wait.until(\n",
    "            EC.presence_of_element_located((By.CSS_SELECTOR, '[aria-label=\"Search query\"]')))\n",
    "\n",
    "            # Advanced search query\n",
    "            if i == 0:\n",
    "                search_query.send_keys(f'{keyword1} {hashtags} (from:{profile}) min_faves:1000 until:{until} since:{since} -filter:links -filter:replies')\n",
    "            if i == 1:\n",
    "                search_query.send_keys([Keys.BACKSPACE]*1000)\n",
    "                search_query.send_keys(f'{keyword2} {hashtags} (from:{profile}) min_faves:1000 until:{until} since:{since} -filter:links -filter:replies')\n",
    "\n",
    "            search_query.send_keys(Keys.RETURN)\n",
    "            time.sleep(6)\n",
    "            \n",
    "            # Scroll until you cannot scroll anymore\n",
    "            reached_page_end = False\n",
    "            last_height = driver.execute_script(\"return document.body.scrollHeight\")\n",
    "\n",
    "            retry_xpath = \"//button[@role='button' and @type='button']//span[text()='Retry']\"\n",
    "            # random.randrange(10, 15)\n",
    "            if (is_element_present(driver, retry_xpath)):\n",
    "                try:\n",
    "                    print(f'{profile} - {count} - Retry button appeared.')\n",
    "                    unprocessed.append(profile)\n",
    "                    for i in range(5):\n",
    "                        search_button = wait.until(EC.element_to_be_clickable((By.XPATH, retry_xpath)))\n",
    "                        search_button.click()\n",
    "                    time.sleep(100) \n",
    "                except:\n",
    "                    print(f\"{profile} - Failed to click Retry\")\n",
    "\n",
    "            while not reached_page_end:\n",
    "                driver.execute_script(\"window.scrollTo(0, document.body.scrollHeight)\")   \n",
    "                time.sleep(4)\n",
    "                new_height = driver.execute_script(\"return document.body.scrollHeight\")\n",
    "                if last_height == new_height:\n",
    "                    reached_page_end = True\n",
    "                else:\n",
    "                    last_height = new_height\n",
    "            try:\n",
    "                # Select the home timeline div\n",
    "                search_results = driver.find_element(By.CSS_SELECTOR, '[aria-label=\"Timeline: Search timeline\"]')\n",
    "                # Just get all the HTML, will parse later\n",
    "                tweets_listed = search_results.get_attribute('innerHTML')\n",
    "                time.sleep(3)\n",
    "\n",
    "                # Append to dict\n",
    "                tweets_dict_US[profile].append(tweets_listed)\n",
    "\n",
    "            except:\n",
    "                pass\n",
    "\n",
    "    count+=1\n",
    "\n",
    "print(\"Unprocessed accounts for this run:\")\n",
    "for profile in unprocessed:\n",
    "    print(f\"@{profile}\\n\")\n"
   ]
  },
  {
   "cell_type": "code",
   "execution_count": 27,
   "id": "97adfdd4",
   "metadata": {},
   "outputs": [],
   "source": [
    "# driver.quit()"
   ]
  },
  {
   "cell_type": "code",
   "execution_count": 28,
   "id": "7de5e024",
   "metadata": {},
   "outputs": [
    {
     "data": {
      "text/plain": [
       "dict_keys(['ThomasEWoods', 'RealSpikeCohen', 'ComicDaveSmith', 'FreemansMind96', 'HannahDCox', 'checkmatestate', 'SabbySabs2', 'MsLaToshaBrown', 'RonFilipkowski', 'KyleKulinski', 'funder', 'mmpadellan', 'krystalball', 'SteveSchmidtSES', 'robreiner', 'marceelias', 'DavidAFrench', 'BillOReilly', 'jimmy_dore', 'TheRickWilson', 'davidsirota', 'gtconway3d', 'spann', 'Jaybefaunt', 'ProudSocialist', 'BernardKerik', 'jeff_poor', 'TomFitton', 'brad_polumbo', 'IngrahamAngle', 'seanhannity', 'charliekirk11', 'TuckerCarlson', 'AnnCoulter', 'EricTrump', 'LaraLeaTrump', 'PatTheSocialist', 'TristanSnell', 'NancyAFrench', 'donwinslow', 'KyleClark', 'BobMurphyEcon', 'bshelburne', 'PatrickSvitek', 'evanasmith', 'BarbMcQuade', 'JohnArchibald', 'natsechobbyist', 'davidhogg111', 'anthonyzenkus', 'benshapiro', 'briebriejoy', 'fred_guttenberg', 'LeeCamp', 'JordanChariton', 'kylegriffin1', 'elonmusk', 'itsJeffTiedrich', 'bluestein', 'SarcasmStardust', 'SocialistMMA', 'Josh_Moon', 'WarOnDumb', 'toddcstacy', 'maryltrump', 'JoJoFromJerz', 'DineshDSouza', 'dbongino', 'TheLeoTerrell', 'donaldjtrumpjr', 'diamondandsilk', 'spiritofho', 'MollyJongFast', 'FiorellaIsabelM', 'aaronjmate'])"
      ]
     },
     "execution_count": 28,
     "metadata": {},
     "output_type": "execute_result"
    }
   ],
   "source": [
    "tweets_dict_US.keys()"
   ]
  },
  {
   "cell_type": "code",
   "execution_count": 29,
   "id": "a3d896ea",
   "metadata": {},
   "outputs": [
    {
     "data": {
      "text/plain": [
       "dict_keys(['ThomasEWoods', 'RealSpikeCohen', 'ComicDaveSmith', 'FreemansMind96', 'HannahDCox', 'checkmatestate', 'SabbySabs2', 'MsLaToshaBrown', 'RonFilipkowski', 'KyleKulinski', 'funder', 'mmpadellan', 'krystalball', 'SteveSchmidtSES', 'robreiner', 'marceelias', 'DavidAFrench', 'BillOReilly', 'jimmy_dore', 'TheRickWilson', 'davidsirota', 'gtconway3d', 'spann', 'Jaybefaunt', 'ProudSocialist', 'BernardKerik', 'jeff_poor', 'TomFitton', 'brad_polumbo', 'IngrahamAngle', 'seanhannity', 'charliekirk11', 'TuckerCarlson', 'AnnCoulter', 'EricTrump', 'LaraLeaTrump', 'PatTheSocialist', 'TristanSnell', 'NancyAFrench', 'donwinslow', 'KyleClark', 'BobMurphyEcon', 'bshelburne', 'PatrickSvitek', 'evanasmith', 'BarbMcQuade', 'JohnArchibald', 'natsechobbyist', 'davidhogg111', 'anthonyzenkus', 'benshapiro', 'briebriejoy', 'fred_guttenberg', 'LeeCamp', 'JordanChariton', 'kylegriffin1', 'elonmusk', 'itsJeffTiedrich', 'bluestein', 'SarcasmStardust', 'SocialistMMA', 'Josh_Moon', 'WarOnDumb', 'toddcstacy', 'maryltrump', 'JoJoFromJerz', 'DineshDSouza', 'dbongino', 'TheLeoTerrell', 'donaldjtrumpjr', 'diamondandsilk', 'spiritofho', 'MollyJongFast', 'FiorellaIsabelM', 'aaronjmate'])"
      ]
     },
     "execution_count": 29,
     "metadata": {},
     "output_type": "execute_result"
    }
   ],
   "source": [
    "tweets_dict_US_cleaned = {}\n",
    "    \n",
    "for key, value in tweets_dict_US.items():\n",
    "    if key not in tweets_dict_US_cleaned.keys():\n",
    "        tweets_dict_US_cleaned[key] = []\n",
    "        for v in value:\n",
    "            soup = BeautifulSoup(v, 'html.parser')\n",
    "            tweets = soup.find_all(attrs={\"data-testid\": \"tweetText\"})\n",
    "            for tweet in tweets:\n",
    "                tweet_text = tweet.get_text(strip=True)\n",
    "                tweets_dict_US_cleaned[key].append(tweet_text)\n",
    "\n",
    "tweets_dict_US_cleaned.keys()"
   ]
  },
  {
   "cell_type": "code",
   "execution_count": 30,
   "id": "8a959259",
   "metadata": {},
   "outputs": [],
   "source": [
    "raw_data_folder = os.path.join(\"Raw Data\", \"Before\")\n",
    "raw_json = os.path.join(raw_data_folder, f\"US_tweets_{until}_{since}.json\")\n",
    "cleaned_json = os.path.join(raw_data_folder, f\"US_tweets_cleaned_{until}_{since}.json\")"
   ]
  },
  {
   "cell_type": "code",
   "execution_count": 31,
   "id": "862b1fcb",
   "metadata": {},
   "outputs": [],
   "source": [
    "with open(raw_json, 'w') as file:\n",
    "    json.dump(tweets_dict_US, file)"
   ]
  },
  {
   "cell_type": "code",
   "execution_count": 32,
   "id": "5c5ac73d",
   "metadata": {},
   "outputs": [],
   "source": [
    "with open(cleaned_json, 'w') as file:\n",
    "    json.dump(tweets_dict_US_cleaned, file)"
   ]
  }
 ],
 "metadata": {
  "kernelspec": {
   "display_name": "Python 3",
   "language": "python",
   "name": "python3"
  },
  "language_info": {
   "codemirror_mode": {
    "name": "ipython",
    "version": 3
   },
   "file_extension": ".py",
   "mimetype": "text/x-python",
   "name": "python",
   "nbconvert_exporter": "python",
   "pygments_lexer": "ipython3",
   "version": "3.12.1"
  }
 },
 "nbformat": 4,
 "nbformat_minor": 5
}
