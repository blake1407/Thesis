{
 "cells": [
  {
   "cell_type": "code",
   "execution_count": null,
   "id": "ff4fd40d",
   "metadata": {},
   "outputs": [],
   "source": [
    "from urllib.request import urlopen  \n",
    "from tqdm import tqdm\n",
    "from lxml import html\n",
    "from datetime import datetime\n",
    "from collections import Counter\n",
    "import json\n",
    "import requests\n",
    "import time\n",
    "import re\n",
    "# from screeninfo import get_monitors\n",
    "import pandas as pd\n",
    "\n",
    "from selenium import webdriver\n",
    "from selenium.webdriver.common.by import By\n",
    "from selenium.webdriver.support.ui import WebDriverWait\n",
    "from selenium.webdriver.support import expected_conditions as EC\n",
    "from selenium.webdriver.common.keys import Keys\n",
    "from bs4 import BeautifulSoup"
   ]
  },
  {
   "cell_type": "markdown",
   "id": "3cfe0483",
   "metadata": {},
   "source": [
    "# US"
   ]
  },
  {
   "cell_type": "code",
   "execution_count": null,
   "id": "1150ec91",
   "metadata": {},
   "outputs": [],
   "source": [
    "followers_US = pd.read_csv('Influencers_US_final.csv')\n",
    "followers_US.head()\n"
   ]
  },
  {
   "cell_type": "code",
   "execution_count": null,
   "id": "f51ae072",
   "metadata": {},
   "outputs": [],
   "source": [
    "followers_US_list = followers_US.Influencer_Xhandle.tolist()"
   ]
  },
  {
   "cell_type": "code",
   "execution_count": null,
   "id": "3565ce3b",
   "metadata": {},
   "outputs": [],
   "source": [
    "tweets_dict_US = {}"
   ]
  },
  {
   "cell_type": "code",
   "execution_count": null,
   "id": "1c11ae3f",
   "metadata": {},
   "outputs": [],
   "source": [
    "driver = webdriver.Chrome()\n",
    "driver.get('https://twitter.com/i/flow/login')\n",
    "wait = WebDriverWait(driver, 10)\n"
   ]
  },
  {
   "cell_type": "code",
   "execution_count": null,
   "id": "6f177a2f",
   "metadata": {},
   "outputs": [],
   "source": [
    "### Log in\n",
    "\n",
    "# Username\n",
    "username = wait.until(\n",
    "    EC.presence_of_element_located((By.CSS_SELECTOR, 'input[autocomplete=username]'))\n",
    ")\n",
    "username.send_keys(\"rigautam@udel.edu\")\n",
    "time.sleep(3)\n",
    "login_button = wait.until(\n",
    "    EC.presence_of_element_located((By.CSS_SELECTOR, '[role=button].r-13qz1uu'))\n",
    ")\n",
    "login_button.click()\n",
    "time.sleep(3)\n",
    "\n",
    "try: \n",
    "    # Password\n",
    "    password = wait.until(\n",
    "        EC.presence_of_element_located((By.CSS_SELECTOR, '[type=password]'))\n",
    "    )\n",
    "    password.send_keys(\"Sus1234!\")\n",
    "    time.sleep(3)\n",
    "    login_button = wait.until(\n",
    "        EC.presence_of_element_located((By.CSS_SELECTOR, '[data-testid*=Login_Button]'))\n",
    "    )\n",
    "    login_button.click()\n",
    "    time.sleep(3)\n",
    "    \n",
    "except: # if we get an error\n",
    "    username = wait.until(\n",
    "        EC.presence_of_element_located((By.CSS_SELECTOR, \"[data-testid*=ocfEnterTextTextInput]\"))\n",
    "    )\n",
    "    username.send_keys(\"RichaGotem\")\n",
    "    time.sleep(3)\n",
    "    \n",
    "    next_button = wait.until(\n",
    "        EC.presence_of_element_located((By.CSS_SELECTOR, \"[data-testid*=ocfEnterTextNextButton]\"))\n",
    "    )\n",
    "    next_button.click()\n",
    "    time.sleep(3)\n",
    "    \n",
    "    password = wait.until(\n",
    "        EC.presence_of_element_located((By.CSS_SELECTOR, \"[name*=password]\"))\n",
    "    )\n",
    "    password.send_keys(\"Sus1234!\")\n",
    "    time.sleep(3)\n",
    "    \n",
    "    login_button = wait.until(\n",
    "        EC.presence_of_element_located((By.CSS_SELECTOR, \"[data-testid*=LoginForm_Login_Button]\"))\n",
    "    )\n",
    "    login_button.click()\n",
    "    time.sleep(3)\n",
    "    "
   ]
  },
  {
   "cell_type": "code",
   "execution_count": null,
   "id": "70948d38",
   "metadata": {},
   "outputs": [],
   "source": [
    "for profile in tqdm(followers_US):\n",
    "    \n",
    "    if profile not in tweets_dict.keys():\n",
    "        print(profile)\n",
    "\n",
    "        tweets_dict_US[profile] = []\n",
    "\n",
    "        ### Begin scrape\n",
    "        time.sleep(3)\n",
    "\n",
    "        # Search\n",
    "        search_button = wait.until(\n",
    "            EC.presence_of_element_located((By.CSS_SELECTOR, '[aria-label=\"Search and explore\"]'))\n",
    "        )\n",
    "        search_button.click()\n",
    "        time.sleep(3)\n",
    "\n",
    "        search_bar = wait.until(\n",
    "            EC.presence_of_element_located((By.CSS_SELECTOR, '[aria-label=\"Search\"]'))\n",
    "        )\n",
    "        search_bar.click()\n",
    "        time.sleep(3)\n",
    "\n",
    "        search_query = wait.until(\n",
    "            EC.presence_of_element_located((By.CSS_SELECTOR, '[aria-label=\"Search query\"]'))\n",
    "        )\n",
    "        # Advanced search query\n",
    "        search_query.send_keys(f'(from:{profile}) min_faves:100 until:2021-01-31 since:2020-06-01 -filter:links -filter:replies')\n",
    "        search_query.send_keys(Keys.RETURN)\n",
    "        time.sleep(6)\n",
    "        \n",
    "        # Scroll until you cannot scroll anymore\n",
    "        reached_page_end = False\n",
    "        last_height = driver.execute_script(\"return document.body.scrollHeight\")\n",
    "\n",
    "        while not reached_page_end:\n",
    "            driver.execute_script(\"window.scrollTo(0, document.body.scrollHeight)\")   \n",
    "            time.sleep(3)\n",
    "            new_height = driver.execute_script(\"return document.body.scrollHeight\")\n",
    "            if last_height == new_height:\n",
    "                reached_page_end = True\n",
    "            else:\n",
    "                last_height = new_height\n",
    "        try:\n",
    "            # Select the home timeline div\n",
    "            search_results = driver.find_element(By.CSS_SELECTOR, '[aria-label=\"Timeline: Search timeline\"]')\n",
    "            # Just get all the HTML, will parse later\n",
    "            tweets_listed = search_results.get_attribute('innerHTML')\n",
    "            time.sleep(3)\n",
    "\n",
    "            # Append to dict\n",
    "            tweets_dict_US[profile].append(tweets_listed)\n",
    "        except:\n",
    "            pass\n",
    "\n"
   ]
  },
  {
   "cell_type": "code",
   "execution_count": null,
   "id": "97adfdd4",
   "metadata": {},
   "outputs": [],
   "source": [
    "driver.quit()"
   ]
  },
  {
   "cell_type": "code",
   "execution_count": null,
   "id": "862b1fcb",
   "metadata": {},
   "outputs": [],
   "source": [
    "with open(\"US_tweets.json\", 'w') as file:\n",
    "    json.dump(tweets_dict_US, file)"
   ]
  }
 ],
 "metadata": {
  "kernelspec": {
   "display_name": "Python 3 (ipykernel)",
   "language": "python",
   "name": "python3"
  },
  "language_info": {
   "codemirror_mode": {
    "name": "ipython",
    "version": 3
   },
   "file_extension": ".py",
   "mimetype": "text/x-python",
   "name": "python",
   "nbconvert_exporter": "python",
   "pygments_lexer": "ipython3",
   "version": "3.12.1"
  }
 },
 "nbformat": 4,
 "nbformat_minor": 5
}
