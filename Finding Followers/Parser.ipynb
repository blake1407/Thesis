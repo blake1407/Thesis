{
 "cells": [
  {
   "cell_type": "code",
   "execution_count": 21,
   "metadata": {},
   "outputs": [
    {
     "name": "stdout",
     "output_type": "stream",
     "text": [
      "@nextroundlive\n",
      "@disruptthemedia\n",
      "@ampeduppodcast\n",
      "@calltoactivism\n",
      "@maryltrump\n",
      "@9news\n",
      "@scotthortonshow\n",
      "@libertylockpod\n",
      "@mises\n",
      "@dineshdsouza\n",
      "@dbongino\n",
      "@theleoterrell\n",
      "@mattgaetz\n",
      "@tribelaw\n",
      "@psychopac24\n",
      "@muellershewrote\n",
      "@duty2warn\n",
      "@aaronjmate\n",
      "@thegrayzonenews\n",
      "@usefulidiotpod\n",
      "@protonmail\n",
      "@jojofromjerz\n",
      "@thecountryfirst\n",
      "@spiritofho\n",
      "@geopoliticsha\n",
      "@donaldjtrumpjr\n",
      "@diamondandsilk\n",
      "@mollyjongfast\n",
      "@vanityfair\n",
      "@fiorellaisabelm\n"
     ]
    }
   ],
   "source": [
    "from dataclasses import dataclass\n",
    "\n",
    "new_influencers = []\n",
    "account_only = []\n",
    "discarded_accounts = []\n",
    "accepted_accounts = []\n",
    "\n",
    "@dataclass\n",
    "class Influencer:\n",
    "    account: str\n",
    "    count: int\n",
    "\n",
    "#Creating a list of already discarded influencers\n",
    "discarded_path = \"/Users/blakey/Desktop/Reddit-JSON-Parser/Supplementary Materials/account_discarded.txt\"\n",
    "with open(discarded_path, 'r') as f:\n",
    "    for line in f:\n",
    "        discarded_accounts.append(line.strip().lower())\n",
    "\n",
    "#Creating a list of already accepted influencers\n",
    "accepted_path = \"/Users/blakey/Desktop/Reddit-JSON-Parser/Supplementary Materials/Accounts Kept\"\n",
    "with open(accepted_path, 'r') as f:\n",
    "    for line in f:\n",
    "        accepted_accounts.append(line.strip().lower())\n",
    "\n",
    "#Creating a list of newly gathered influencers with their counts of occurence\n",
    "with open('followers_US.txt', 'r') as f: \n",
    "    for line in f:\n",
    "        if \"@\" in line:\n",
    "            line = line.strip().lower()\n",
    "            if line not in account_only and line not in discarded_accounts and line not in accepted_accounts:\n",
    "                account_only.append(line)\n",
    "                new_influencers.append(Influencer(line.strip(), 0))\n",
    "            if line in account_only:\n",
    "                for i in new_influencers:\n",
    "                    if i.account == line.strip():\n",
    "                        i.count +=1\n",
    "\n",
    "for i in new_influencers:\n",
    "    if i.count >=3:\n",
    "        print(i.account)\n",
    "\n",
    "\n",
    "\n",
    "        "
   ]
  },
  {
   "cell_type": "code",
   "execution_count": null,
   "metadata": {},
   "outputs": [],
   "source": []
  }
 ],
 "metadata": {
  "kernelspec": {
   "display_name": "Python 3",
   "language": "python",
   "name": "python3"
  },
  "language_info": {
   "codemirror_mode": {
    "name": "ipython",
    "version": 3
   },
   "file_extension": ".py",
   "mimetype": "text/x-python",
   "name": "python",
   "nbconvert_exporter": "python",
   "pygments_lexer": "ipython3",
   "version": "3.12.1"
  }
 },
 "nbformat": 4,
 "nbformat_minor": 2
}
